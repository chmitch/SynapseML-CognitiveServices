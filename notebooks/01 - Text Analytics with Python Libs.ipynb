{
  "cells": [
    {
      "cell_type": "markdown",
      "metadata": {
        "nteract": {
          "transient": {
            "deleting": false
          }
        }
      },
      "source": [
        "# Setup requirements\n",
        "\n",
        "This pip install command loads the textanalytics python packages and all the necessary dependencies."
      ]
    },
    {
      "cell_type": "code",
      "execution_count": 6,
      "metadata": {
        "jupyter": {
          "outputs_hidden": false,
          "source_hidden": false
        },
        "nteract": {
          "transient": {
            "deleting": false
          }
        }
      },
      "outputs": [],
      "source": [
        "pip install azure-ai-textanalytics==5.2.0"
      ]
    },
    {
      "cell_type": "markdown",
      "metadata": {
        "nteract": {
          "transient": {
            "deleting": false
          }
        }
      },
      "source": [
        "# Basic Call to the TextAnalyticsClient\n",
        "\n",
        "This example is a designed to show basic python calls to cognitive services without any of the Syapse ML benefits."
      ]
    },
    {
      "cell_type": "code",
      "execution_count": 7,
      "metadata": {
        "jupyter": {
          "outputs_hidden": false,
          "source_hidden": false
        },
        "nteract": {
          "transient": {
            "deleting": false
          }
        }
      },
      "outputs": [],
      "source": [
        "key = \"<insert your key here>\"\n",
        "endpoint = \"https://<insert endpoint here>.cognitiveservices.azure.com/\"\n",
        "\n",
        "from azure.ai.textanalytics import TextAnalyticsClient\n",
        "from azure.core.credentials import AzureKeyCredential\n",
        "\n",
        "# Authenticate the client using your key and endpoint \n",
        "credential = AzureKeyCredential(key)\n",
        "client = TextAnalyticsClient(endpoint=endpoint, credential=credential)\n",
        "\n",
        "documents = [\"Ce document est rédigé en Français.\"]\n",
        "response = client.detect_language(documents = documents, country_hint = 'us')[0]\n",
        "\n",
        "print(\"Language: \", response.primary_language.name)"
      ]
    }
  ],
  "metadata": {
    "description": null,
    "kernelspec": {
      "display_name": "Synapse PySpark",
      "name": "synapse_pyspark"
    },
    "language_info": {
      "name": "python"
    },
    "save_output": true
  },
  "nbformat": 4,
  "nbformat_minor": 2
}
