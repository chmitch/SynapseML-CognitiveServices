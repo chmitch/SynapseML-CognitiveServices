{
  "cells": [
    {
      "cell_type": "markdown",
      "metadata": {
        "nteract": {
          "transient": {
            "deleting": false
          }
        }
      },
      "source": [
        "# ** Multi-Service Pipeline **\n",
        "\n",
        "This example is a bit more advanced as it shows you you can use the notion of a \"Pipeline\" to string together multiple congnitive serices API calls.\n",
        "\n",
        "In this example we take a combination of the Sentiment and Translate API calls but wrap them in the PipelineModel (https://spark.apache.org/docs/latest/api/python/reference/api/pyspark.ml.PipelineModel.html).  The same result could be acheived by calling these APIs sesquentially, but this is a more elegant and efficient way to wrap all the necessary API calls into a single operation on the data frame.\n",
        "\n",
        "# *** Prerequisites: *** \n",
        "\n",
        "1. A provisioned Synapse Workspace with a Spark 3.1 pool to run this notbook on.\n",
        "1. A keyvault to store the secrets necessary for connecting to the anomaly detector api and blob storage.\n",
        "1. A provisioined cognitive services multi-endpont api instance."
      ]
    },
    {
      "cell_type": "markdown",
      "metadata": {
        "nteract": {
          "transient": {
            "deleting": false
          }
        }
      },
      "source": [
        "To start we'll import a bunch of necessary modules and setup values for some resoruces like storage accounts, container, and keyvault that we'll use throughout the rest of the example."
      ]
    },
    {
      "cell_type": "code",
      "execution_count": 1,
      "metadata": {
        "collapsed": false,
        "jupyter": {
          "outputs_hidden": false,
          "source_hidden": false
        },
        "nteract": {
          "transient": {
            "deleting": false
          }
        }
      },
      "outputs": [
        {
          "data": {
            "application/vnd.livy.statement-meta+json": {
              "execution_finish_time": null,
              "execution_start_time": "2023-04-13T18:16:56.7316131Z",
              "livy_statement_state": "running",
              "parent_msg_id": "b10fc421-5187-4741-9eba-a3fc333b6d04",
              "queued_time": "2023-04-13T18:13:45.781025Z",
              "session_id": "5",
              "session_start_time": "2023-04-13T18:13:45.8450375Z",
              "spark_jobs": null,
              "spark_pool": "cgmsparkml",
              "state": "submitted",
              "statement_id": 1
            },
            "text/plain": [
              "StatementMeta(cgmsparkml, 5, 1, Submitted, Running)"
            ]
          },
          "metadata": {},
          "output_type": "display_data"
        }
      ],
      "source": [
        "import numpy as np\n",
        "import pandas as pd\n",
        "\n",
        "import pyspark\n",
        "from pyspark.sql.functions import col\n",
        "from pyspark.sql.functions import lit\n",
        "from pyspark.ml import PipelineModel\n",
        "\n",
        "from notebookutils import mssparkutils\n",
        "import synapse.ml\n",
        "from synapse.ml.cognitive import *\n",
        "from synapse.ml.stages import FixedMiniBatchTransformer, FlattenBatch, DropColumns\n",
        "\n",
        "#Specify the name of the storage account that is associated with Synapse\n",
        "storageAccountName = \"<insert storage account name>\"\n",
        "#Specify the container you created in Storage account, you could also initialize a new name here, and Synapse will help you create that container automatically.\n",
        "containerName = \"<insert container name>\"\n",
        "#set the name of your key vault\n",
        "keyVaultName = \"<insert keyvault name>\"\n",
        "#set the region where you cognitive service is deployed\n",
        "serviceLocation = \"eastus\"\n"
      ]
    },
    {
      "cell_type": "markdown",
      "metadata": {
        "nteract": {
          "transient": {
            "deleting": false
          }
        }
      },
      "source": [
        "Now that we have libraries and variables set, load the sample csv file and ensure the columns are of the appropriate data types.\n",
        "\n",
        "The file we're using has multiple columns, but the column we're most intersted in is TweetText.  We'll be using the sentiment API to detect the general sentiment of this text."
      ]
    },
    {
      "cell_type": "code",
      "execution_count": 2,
      "metadata": {
        "collapsed": false,
        "jupyter": {
          "outputs_hidden": false,
          "source_hidden": false
        },
        "nteract": {
          "transient": {
            "deleting": false
          }
        }
      },
      "outputs": [
        {
          "data": {
            "application/vnd.livy.statement-meta+json": {
              "execution_finish_time": null,
              "execution_start_time": null,
              "livy_statement_state": null,
              "parent_msg_id": "acbc5074-4299-49c4-9f74-2ba9f731deb1",
              "queued_time": "2023-04-13T18:13:45.7817443Z",
              "session_id": null,
              "session_start_time": null,
              "spark_jobs": null,
              "spark_pool": null,
              "state": "waiting",
              "statement_id": null
            },
            "text/plain": [
              "StatementMeta(, , , Waiting, )"
            ]
          },
          "metadata": {},
          "output_type": "display_data"
        },
        {
          "data": {
            "application/vnd.synapse.widget-view+json": {
              "widget_id": "49f853ee-5d98-4067-8e1b-a4bdefacc324",
              "widget_type": "Synapse.DataFrame"
            },
            "text/plain": [
              "SynapseWidget(Synapse.DataFrame, 49f853ee-5d98-4067-8e1b-a4bdefacc324)"
            ]
          },
          "metadata": {},
          "output_type": "display_data"
        }
      ],
      "source": [
        "filePath = \"abfss://\" + containerName + \"@\" + storageAccountName + \".dfs.core.windows.net/bike reviews.csv\"\n",
        "#Load the sample data CSV file, assuming this is in the storage account that was provisioned with the cluster no keys are necessary.\n",
        "df = spark.read.format(\"csv\").option(\"header\", \"true\").option(\"quote\",'\"').load(filePath)\n",
        "\n",
        "# Let's inspect the dataframe:\n",
        "display(df.limit(10))"
      ]
    },
    {
      "cell_type": "markdown",
      "metadata": {
        "nteract": {
          "transient": {
            "deleting": false
          }
        }
      },
      "source": [
        "To use the cognitive services apis we must first give some configuration information about the format of the data, and locations and keys of our dependent resources.\n",
        "\n",
        "This code assumes you've stored your endpoint key for cognitive services in keyVault.  If you want to take a short cut you can always hardcode those values here, but its not a best practice to leave keys inline in code."
      ]
    },
    {
      "cell_type": "code",
      "execution_count": 3,
      "metadata": {
        "collapsed": false,
        "jupyter": {
          "outputs_hidden": false,
          "source_hidden": false
        },
        "nteract": {
          "transient": {
            "deleting": false
          }
        }
      },
      "outputs": [
        {
          "data": {
            "application/vnd.livy.statement-meta+json": {
              "execution_finish_time": null,
              "execution_start_time": null,
              "livy_statement_state": null,
              "parent_msg_id": "cb7506ce-8965-41bb-826e-72924317c793",
              "queued_time": "2023-04-13T18:13:45.7825325Z",
              "session_id": null,
              "session_start_time": null,
              "spark_jobs": null,
              "spark_pool": null,
              "state": "waiting",
              "statement_id": null
            },
            "text/plain": [
              "StatementMeta(, , , Waiting, )"
            ]
          },
          "metadata": {},
          "output_type": "display_data"
        },
        {
          "data": {
            "application/vnd.synapse.widget-view+json": {
              "widget_id": "920a807e-6cb0-4740-a1de-7fa24b1b2556",
              "widget_type": "Synapse.DataFrame"
            },
            "text/plain": [
              "SynapseWidget(Synapse.DataFrame, 920a807e-6cb0-4740-a1de-7fa24b1b2556)"
            ]
          },
          "metadata": {},
          "output_type": "display_data"
        }
      ],
      "source": [
        "\n",
        "#Input your key vault information.  The secret we need is for the cognitive services multi-service resource.\n",
        "cogServicesKey = mssparkutils.credentials.getSecret(keyVaultName, \"cogsvcskey\")\n",
        "\n",
        "pipe = PipelineModel(stages=[\n",
        "  FixedMiniBatchTransformer().setBatchSize(10),\n",
        "  TextSentiment()\n",
        "    .setSubscriptionKey(cogServicesKey)\n",
        "    .setLocation(serviceLocation)   #use lowercase letter like: southcentralus\n",
        "    .setOutputCol(\"sentimentResult\")\n",
        "    .setErrorCol(\"error1\")\n",
        "    .setLanguage(\"en\")\n",
        "    .setTextCol(\"Review\"),\n",
        "  Translate()\n",
        "    .setLocation(serviceLocation)\n",
        "    .setSubscriptionKey(cogServicesKey)\n",
        "    .setToLanguage([\"en\"])\n",
        "    .setProfanityAction(\"Marked\")\n",
        "    .setOutputCol(\"translation\")\n",
        "    .setErrorCol(\"error2\")\n",
        "    .setTextCol(\"Review\"),\n",
        "  DropColumns().setCols([\"error1\",\"error2\"]),\n",
        "  FlattenBatch()])\n",
        "\n",
        "results = pipe.transform(df.na.fill(\"\",[\"Review\"]))\n",
        "\n",
        "display(results)"
      ]
    },
    {
      "cell_type": "markdown",
      "metadata": {
        "nteract": {
          "transient": {
            "deleting": false
          }
        }
      },
      "source": [
        "The prior cell results shows us that the api returns a json response.   This response has a top level element that gives us the overall sentiment and confidence for the tweet.  It also includes an array of each sentence and confidence results for each sentence.  In addition the translate API can translate to multiple target languages, so the API returns an array of translated text.\n",
        "\n",
        "For our purposes we only translated to one language, and we only care about the overall sentiment. Therefpre we only care aobut the first result of translate and the top level attributes of the sentiment response.   To make this easier to consume we'll make the results easier to read by doing some post processing to beautify the response.\n",
        "\n",
        "In this case we'll overwrite the original TweetText column because the intent of calling the translate API was to serve as a profanity filter.  You can see the sanitized text denoted as *** in the results.  Also the sentiment attributes will be \"promoted\" to columns in the dataframe.\n"
      ]
    },
    {
      "cell_type": "code",
      "execution_count": 4,
      "metadata": {
        "collapsed": false,
        "jupyter": {
          "outputs_hidden": false,
          "source_hidden": false
        },
        "nteract": {
          "transient": {
            "deleting": false
          }
        }
      },
      "outputs": [
        {
          "data": {
            "application/vnd.livy.statement-meta+json": {
              "execution_finish_time": null,
              "execution_start_time": null,
              "livy_statement_state": null,
              "parent_msg_id": "cf6064da-5e6a-47f1-b5e9-68a796c78999",
              "queued_time": "2023-04-13T18:13:45.7832253Z",
              "session_id": null,
              "session_start_time": null,
              "spark_jobs": null,
              "spark_pool": null,
              "state": "waiting",
              "statement_id": null
            },
            "text/plain": [
              "StatementMeta(, , , Waiting, )"
            ]
          },
          "metadata": {},
          "output_type": "display_data"
        },
        {
          "data": {
            "application/vnd.synapse.widget-view+json": {
              "widget_id": "f1641d3e-1bdf-4022-b0f0-5cc878c58bd4",
              "widget_type": "Synapse.DataFrame"
            },
            "text/plain": [
              "SynapseWidget(Synapse.DataFrame, f1641d3e-1bdf-4022-b0f0-5cc878c58bd4)"
            ]
          },
          "metadata": {},
          "output_type": "display_data"
        }
      ],
      "source": [
        "from pyspark.sql.functions import col\n",
        "\n",
        "results = (results\n",
        "      .withColumn(\"sentiment\", col(\"sentimentResult.document.sentiment\"))\n",
        "      .withColumn(\"positive\", col(\"sentimentResult.document.confidenceScores.positive\"))\n",
        "      .withColumn(\"neutral\", col(\"sentimentResult.document.confidenceScores.neutral\"))\n",
        "      .withColumn(\"negative\", col(\"sentimentResult.document.confidenceScores.negative\"))\n",
        "      .withColumn(\"Review\", col(\"translation.translations\").getField(\"text\")[0])\n",
        ")\n",
        "\n",
        "display(results)"
      ]
    },
    {
      "cell_type": "code",
      "execution_count": null,
      "metadata": {
        "jupyter": {
          "outputs_hidden": false,
          "source_hidden": false
        },
        "nteract": {
          "transient": {
            "deleting": false
          }
        }
      },
      "outputs": [],
      "source": []
    }
  ],
  "metadata": {
    "description": null,
    "kernel_info": {
      "name": "synapse_pyspark"
    },
    "kernelspec": {
      "display_name": "Synapse PySpark",
      "language": "Python",
      "name": "synapse_pyspark"
    },
    "language_info": {
      "name": "python"
    },
    "save_output": true,
    "synapse_widget": {
      "state": {
        "49f853ee-5d98-4067-8e1b-a4bdefacc324": {
          "persist_state": {
            "view": {
              "chartOptions": {
                "aggregationType": "count",
                "categoryFieldKeys": [
                  "0"
                ],
                "chartType": "bar",
                "isStacked": false,
                "seriesFieldKeys": [
                  "0"
                ]
              },
              "tableOptions": {},
              "type": "details"
            }
          },
          "sync_state": {
            "isSummary": false,
            "language": "scala",
            "table": {
              "rows": [
                {
                  "0": "Road-150",
                  "1": "5",
                  "2": "Great bike",
                  "3": "On the flats I avg 14.5 to 16mph, small uphill intervals I push up to 20mph. I don't need to go 35mph down hill anymore so I don't need big front chain rings. My Knee's need that 36 rear cog, would love it even more if it were 40-24 or even 40-22 front chain rings, Or put on an 11spd 11-40 rear cassette. May have bought the option if available in 700c x 35 to 40mm tire. I feel more comfortable hitting speed bumps at 20+mph downhill with 650b x 50mm. Would have loved 10spd brake/shifter, but after 400 mi I am comfortable with the bar end shifters. I love this bike!!!"
                },
                {
                  "0": "Road-150",
                  "1": "5",
                  "2": "Perfect blend of high quality build and value",
                  "3": "I picked up this bicycle after my bike packing trip this fall through WV. I rode my rigid carbon hardtail for the trip and it was great but the lack of mounts left me looking for a secondary bicycle. The sale price Of this bicycle Made this purchase a no brainer. The mix of components, precision of the bar end shifters and the weight make is fun on the road, loaded up with Relevate Bags or riding single track. I picked a large frame as I’m 5’10” with a 32in inseam and it was a bit more upright and tight when in a saddle for my preference. Putting a Thompson setback seatpost fixed that minor issue. It’s perfect now. I was looking to buy a Kona Sutra LTD or Specialized gravel bike but for the money the ADV 3.2 was the way to go."
                },
                {
                  "0": "Road-150",
                  "1": "5",
                  "2": "Great value for adventure touring bike",
                  "3": "I toured with this bike using full packs in the Kootenai Lake region of British Columbia, and have ridden it extensively for bike commuting purposes. For the price point, I think it's a great value. It has taken quite a pounding over gravel road tours, and no mechanical issues. The steel frame handles weight well, and offers shock absorbency on long rides. I did swap out the tires for Schwalbe Marathons, which are heavier - but I've never had a flat on them and they hold pressure extremely well."
                },
                {
                  "0": "Road-150",
                  "1": "5",
                  "2": "Disclaimer: I've owned this bike less than a week",
                  "3": "I've owned this bike less than a week. I was searching for a decent gravel bike and had narrowed my choices to this bike and a Surly Midnight Special. I took this bike for a test ride at the Denver Flagship store and didn't bother to test ride the Surly (which REI doesn't carry). This bike was $500 cheaper and had default gearing more suited to my 62 year old knees. I'm planning to climb some hills (I'm working up to climbing Lookout Mountain west of Denver) and so far have had no issues with the bike. It rides as smoothly as my previous ride, a Jamis Coda Comp with 700c x 28mm tires. This bike with it's 650b x 50mm tires absorbs the bumps of pavement and gravel and dare I say, seems to ride just as smoothly on pavement as my old Jamis. Well done, REI designers!"
                },
                {
                  "0": "Road-250",
                  "1": "5",
                  "2": "Great bike, great value",
                  "3": "Everything you could want in a do-it-all bike. Shifters were easy to get used to. Switched to WTB Horizon tires since I'm on the road more often than I'm not."
                },
                {
                  "0": "Road-250",
                  "1": "4",
                  "2": "It's a touring adventure bike",
                  "3": "The shifters and drive train is a real touring set up, it's at the same level of yoga, surly, salsa and many other brands in the touring category"
                },
                {
                  "0": "Road-250",
                  "1": "4",
                  "2": "Stabile, comfortable, great value",
                  "3": "Bought this bike 2 weeks ago and have put 340 miles (dirt, non-technical single track) on it. Very comfortable and stabile, both climbing and descending. Will be taking it bikepacking soon. Have 6,600 miles on the CO-OP ARD 1.4 (dirt and asphalt) and very happy with it. Although it's 6 lbs heavier than the ARD it doesn't feel much more sluggish."
                },
                {
                  "0": "Road-250",
                  "1": "4",
                  "2": "Excellent built, but...",
                  "3": "I loved everything about the bike except the gear shifters. Riding around town, especial in NYC, was a accident waiting to happen. Always reaching down to change gears and not having your hands on the break made me rethink the bike. Those shifts are OK, if you grew up using them, but me no, not my type."
                },
                {
                  "0": "Road-450",
                  "1": "5",
                  "2": "Fast Bike",
                  "3": "I had tried Quick 7 ,Quick 5 and now the Quick 3 . This bike is the best among all three. Light ,good stopping power and fast on speed. Near perfect to me ."
                },
                {
                  "0": "Road-450",
                  "1": "5",
                  "2": "lightweight, great design",
                  "3": "Love my Cannondale Women's Synapse AL Disc Tiagra bike! Makes me want to ride even in the hot temperatures here. Get compliments on it from different people nearly every time."
                }
              ],
              "schema": [
                {
                  "key": "0",
                  "name": "Model",
                  "type": "string"
                },
                {
                  "key": "1",
                  "name": "Stars",
                  "type": "string"
                },
                {
                  "key": "2",
                  "name": "Title",
                  "type": "string"
                },
                {
                  "key": "3",
                  "name": "Review",
                  "type": "string"
                }
              ],
              "truncated": false
            }
          },
          "type": "Synapse.DataFrame"
        },
        "920a807e-6cb0-4740-a1de-7fa24b1b2556": {
          "persist_state": {
            "view": {
              "chartOptions": {
                "aggregationType": "count",
                "categoryFieldKeys": [
                  "0"
                ],
                "chartType": "bar",
                "isStacked": false,
                "seriesFieldKeys": [
                  "0"
                ]
              },
              "tableOptions": {},
              "type": "details"
            }
          },
          "sync_state": {
            "isSummary": false,
            "language": "scala",
            "table": {
              "rows": [
                {
                  "0": "Road-150",
                  "1": "5",
                  "2": "Great bike",
                  "3": "On the flats I avg 14.5 to 16mph, small uphill intervals I push up to 20mph. I don't need to go 35mph down hill anymore so I don't need big front chain rings. My Knee's need that 36 rear cog, would love it even more if it were 40-24 or even 40-22 front chain rings, Or put on an 11spd 11-40 rear cassette. May have bought the option if available in 700c x 35 to 40mm tire. I feel more comfortable hitting speed bumps at 20+mph downhill with 650b x 50mm. Would have loved 10spd brake/shifter, but after 400 mi I am comfortable with the bar end shifters. I love this bike!!!",
                  "4": {
                    "document": {
                      "confidenceScores": {
                        "negative": 0,
                        "neutral": 0.01,
                        "positive": 0.99
                      },
                      "id": "0",
                      "sentences": [
                        {
                          "confidenceScores": {
                            "negative": 0,
                            "neutral": 1,
                            "positive": 0
                          },
                          "length": 77,
                          "offset": 0,
                          "sentiment": "neutral",
                          "text": "On the flats I avg 14.5 to 16mph, small uphill intervals I push up to 20mph. "
                        },
                        {
                          "confidenceScores": {
                            "negative": 0,
                            "neutral": 1,
                            "positive": 0
                          },
                          "length": 82,
                          "offset": 77,
                          "sentiment": "neutral",
                          "text": "I don't need to go 35mph down hill anymore so I don't need big front chain rings. "
                        },
                        {
                          "confidenceScores": {
                            "negative": 0,
                            "neutral": 0,
                            "positive": 1
                          },
                          "length": 147,
                          "offset": 159,
                          "sentiment": "positive",
                          "text": "My Knee's need that 36 rear cog, would love it even more if it were 40-24 or even 40-22 front chain rings, Or put on an 11spd 11-40 rear cassette. "
                        },
                        {
                          "confidenceScores": {
                            "negative": 0,
                            "neutral": 1,
                            "positive": 0
                          },
                          "length": 67,
                          "offset": 306,
                          "sentiment": "neutral",
                          "text": "May have bought the option if available in 700c x 35 to 40mm tire. "
                        },
                        {
                          "confidenceScores": {
                            "negative": 0,
                            "neutral": 0.05,
                            "positive": 0.95
                          },
                          "length": 81,
                          "offset": 373,
                          "sentiment": "positive",
                          "text": "I feel more comfortable hitting speed bumps at 20+mph downhill with 650b x 50mm. "
                        },
                        {
                          "confidenceScores": {
                            "negative": 0,
                            "neutral": 0,
                            "positive": 1
                          },
                          "length": 99,
                          "offset": 454,
                          "sentiment": "positive",
                          "text": "Would have loved 10spd brake/shifter, but after 400 mi I am comfortable with the bar end shifters. "
                        },
                        {
                          "confidenceScores": {
                            "negative": 0,
                            "neutral": 0,
                            "positive": 1
                          },
                          "length": 19,
                          "offset": 553,
                          "sentiment": "positive",
                          "text": "I love this bike!!!"
                        }
                      ],
                      "sentiment": "positive",
                      "warnings": []
                    },
                    "modelVersion": "2022-11-01"
                  },
                  "5": {
                    "detectedLanguage": {
                      "language": "en",
                      "score": 1
                    },
                    "translations": [
                      {
                        "text": "On the flats I avg 14.5 to 16mph, small uphill intervals I push up to 20mph. I don't need to go 35mph down hill anymore so I don't need big front chain rings. My Knee's need that 36 rear cog, would love it even more if it were 40-24 or even 40-22 front chain rings, Or put on an 11spd 11-40 rear cassette. May have bought the option if available in 700c x 35 to 40mm tire. I feel more comfortable hitting speed bumps at 20+mph downhill with 650b x 50mm. Would have loved 10spd brake/shifter, but after 400 mi I am comfortable with the bar end shifters. I love this bike!!!",
                        "to": "en"
                      }
                    ]
                  }
                },
                {
                  "0": "Road-150",
                  "1": "5",
                  "2": "Perfect blend of high quality build and value",
                  "3": "I picked up this bicycle after my bike packing trip this fall through WV. I rode my rigid carbon hardtail for the trip and it was great but the lack of mounts left me looking for a secondary bicycle. The sale price Of this bicycle Made this purchase a no brainer. The mix of components, precision of the bar end shifters and the weight make is fun on the road, loaded up with Relevate Bags or riding single track. I picked a large frame as I’m 5’10” with a 32in inseam and it was a bit more upright and tight when in a saddle for my preference. Putting a Thompson setback seatpost fixed that minor issue. It’s perfect now. I was looking to buy a Kona Sutra LTD or Specialized gravel bike but for the money the ADV 3.2 was the way to go.",
                  "4": {
                    "document": {
                      "confidenceScores": {
                        "negative": 0.37,
                        "neutral": 0.06,
                        "positive": 0.57
                      },
                      "id": "1",
                      "sentences": [
                        {
                          "confidenceScores": {
                            "negative": 0.01,
                            "neutral": 0.86,
                            "positive": 0.13
                          },
                          "length": 74,
                          "offset": 0,
                          "sentiment": "neutral",
                          "text": "I picked up this bicycle after my bike packing trip this fall through WV. "
                        },
                        {
                          "confidenceScores": {
                            "negative": 0.41,
                            "neutral": 0,
                            "positive": 0.58
                          },
                          "length": 126,
                          "offset": 74,
                          "sentiment": "positive",
                          "text": "I rode my rigid carbon hardtail for the trip and it was great but the lack of mounts left me looking for a secondary bicycle. "
                        },
                        {
                          "confidenceScores": {
                            "negative": 0.56,
                            "neutral": 0.15,
                            "positive": 0.29
                          },
                          "length": 64,
                          "offset": 200,
                          "sentiment": "negative",
                          "text": "The sale price Of this bicycle Made this purchase a no brainer. "
                        },
                        {
                          "confidenceScores": {
                            "negative": 0,
                            "neutral": 0.03,
                            "positive": 0.97
                          },
                          "length": 150,
                          "offset": 264,
                          "sentiment": "positive",
                          "text": "The mix of components, precision of the bar end shifters and the weight make is fun on the road, loaded up with Relevate Bags or riding single track. "
                        },
                        {
                          "confidenceScores": {
                            "negative": 0.01,
                            "neutral": 0.93,
                            "positive": 0.07
                          },
                          "length": 131,
                          "offset": 414,
                          "sentiment": "neutral",
                          "text": "I picked a large frame as I’m 5’10” with a 32in inseam and it was a bit more upright and tight when in a saddle for my preference. "
                        },
                        {
                          "confidenceScores": {
                            "negative": 0.86,
                            "neutral": 0.11,
                            "positive": 0.03
                          },
                          "length": 60,
                          "offset": 545,
                          "sentiment": "negative",
                          "text": "Putting a Thompson setback seatpost fixed that minor issue. "
                        },
                        {
                          "confidenceScores": {
                            "negative": 0,
                            "neutral": 0,
                            "positive": 1
                          },
                          "length": 18,
                          "offset": 605,
                          "sentiment": "positive",
                          "text": "It’s perfect now. "
                        },
                        {
                          "confidenceScores": {
                            "negative": 0.01,
                            "neutral": 0.96,
                            "positive": 0.03
                          },
                          "length": 113,
                          "offset": 623,
                          "sentiment": "neutral",
                          "text": "I was looking to buy a Kona Sutra LTD or Specialized gravel bike but for the money the ADV 3.2 was the way to go."
                        }
                      ],
                      "sentiment": "mixed",
                      "warnings": []
                    },
                    "modelVersion": "2022-11-01"
                  },
                  "5": {
                    "detectedLanguage": {
                      "language": "en",
                      "score": 0.99
                    },
                    "translations": [
                      {
                        "text": "I picked up this bicycle after my bike packing trip this fall through WV. I rode my rigid carbon hardtail for the trip and it was great but the lack of mounts left me looking for a secondary bicycle. The sale price Of this bicycle Made this purchase a no brainer. The mix of components, precision of the bar end shifters and the weight make is fun on the road, loaded up with Relevate Bags or riding single track. I picked a large frame as I’m 5’10” with a 32in inseam and it was a bit more upright and tight when in a saddle for my preference. Putting a Thompson setback seatpost fixed that minor issue. It’s perfect now. I was looking to buy a Kona Sutra LTD or Specialized gravel bike but for the money the ADV 3.2 was the way to go.",
                        "to": "en"
                      }
                    ]
                  }
                },
                {
                  "0": "Road-150",
                  "1": "5",
                  "2": "Great value for adventure touring bike",
                  "3": "I toured with this bike using full packs in the Kootenai Lake region of British Columbia, and have ridden it extensively for bike commuting purposes. For the price point, I think it's a great value. It has taken quite a pounding over gravel road tours, and no mechanical issues. The steel frame handles weight well, and offers shock absorbency on long rides. I did swap out the tires for Schwalbe Marathons, which are heavier - but I've never had a flat on them and they hold pressure extremely well.",
                  "4": {
                    "document": {
                      "confidenceScores": {
                        "negative": 0,
                        "neutral": 0.01,
                        "positive": 0.99
                      },
                      "id": "2",
                      "sentences": [
                        {
                          "confidenceScores": {
                            "negative": 0.01,
                            "neutral": 0.91,
                            "positive": 0.09
                          },
                          "length": 150,
                          "offset": 0,
                          "sentiment": "neutral",
                          "text": "I toured with this bike using full packs in the Kootenai Lake region of British Columbia, and have ridden it extensively for bike commuting purposes. "
                        },
                        {
                          "confidenceScores": {
                            "negative": 0,
                            "neutral": 0.01,
                            "positive": 0.99
                          },
                          "length": 49,
                          "offset": 150,
                          "sentiment": "positive",
                          "text": "For the price point, I think it's a great value. "
                        },
                        {
                          "confidenceScores": {
                            "negative": 0.18,
                            "neutral": 0.75,
                            "positive": 0.07
                          },
                          "length": 80,
                          "offset": 199,
                          "sentiment": "neutral",
                          "text": "It has taken quite a pounding over gravel road tours, and no mechanical issues. "
                        },
                        {
                          "confidenceScores": {
                            "negative": 0.01,
                            "neutral": 0.68,
                            "positive": 0.31
                          },
                          "length": 80,
                          "offset": 279,
                          "sentiment": "neutral",
                          "text": "The steel frame handles weight well, and offers shock absorbency on long rides. "
                        },
                        {
                          "confidenceScores": {
                            "negative": 0.01,
                            "neutral": 0.87,
                            "positive": 0.13
                          },
                          "length": 141,
                          "offset": 359,
                          "sentiment": "neutral",
                          "text": "I did swap out the tires for Schwalbe Marathons, which are heavier - but I've never had a flat on them and they hold pressure extremely well."
                        }
                      ],
                      "sentiment": "positive",
                      "warnings": []
                    },
                    "modelVersion": "2022-11-01"
                  },
                  "5": {
                    "detectedLanguage": {
                      "language": "en",
                      "score": 1
                    },
                    "translations": [
                      {
                        "text": "I toured with this bike using full packs in the Kootenai Lake region of British Columbia, and have ridden it extensively for bike commuting purposes. For the price point, I think it's a great value. It has taken quite a pounding over gravel road tours, and no mechanical issues. The steel frame handles weight well, and offers shock absorbency on long rides. I did swap out the tires for Schwalbe Marathons, which are heavier - but I've never had a flat on them and they hold pressure extremely well.",
                        "to": "en"
                      }
                    ]
                  }
                },
                {
                  "0": "Road-150",
                  "1": "5",
                  "2": "Disclaimer: I've owned this bike less than a week",
                  "3": "I've owned this bike less than a week. I was searching for a decent gravel bike and had narrowed my choices to this bike and a Surly Midnight Special. I took this bike for a test ride at the Denver Flagship store and didn't bother to test ride the Surly (which REI doesn't carry). This bike was $500 cheaper and had default gearing more suited to my 62 year old knees. I'm planning to climb some hills (I'm working up to climbing Lookout Mountain west of Denver) and so far have had no issues with the bike. It rides as smoothly as my previous ride, a Jamis Coda Comp with 700c x 28mm tires. This bike with it's 650b x 50mm tires absorbs the bumps of pavement and gravel and dare I say, seems to ride just as smoothly on pavement as my old Jamis. Well done, REI designers!",
                  "4": {
                    "document": {
                      "confidenceScores": {
                        "negative": 0.01,
                        "neutral": 0.1,
                        "positive": 0.89
                      },
                      "id": "3",
                      "sentences": [
                        {
                          "confidenceScores": {
                            "negative": 0,
                            "neutral": 0.99,
                            "positive": 0
                          },
                          "length": 39,
                          "offset": 0,
                          "sentiment": "neutral",
                          "text": "I've owned this bike less than a week. "
                        },
                        {
                          "confidenceScores": {
                            "negative": 0.02,
                            "neutral": 0.09,
                            "positive": 0.9
                          },
                          "length": 112,
                          "offset": 39,
                          "sentiment": "positive",
                          "text": "I was searching for a decent gravel bike and had narrowed my choices to this bike and a Surly Midnight Special. "
                        },
                        {
                          "confidenceScores": {
                            "negative": 0.09,
                            "neutral": 0.62,
                            "positive": 0.29
                          },
                          "length": 130,
                          "offset": 151,
                          "sentiment": "neutral",
                          "text": "I took this bike for a test ride at the Denver Flagship store and didn't bother to test ride the Surly (which REI doesn't carry). "
                        },
                        {
                          "confidenceScores": {
                            "negative": 0.02,
                            "neutral": 0.22,
                            "positive": 0.76
                          },
                          "length": 88,
                          "offset": 281,
                          "sentiment": "positive",
                          "text": "This bike was $500 cheaper and had default gearing more suited to my 62 year old knees. "
                        },
                        {
                          "confidenceScores": {
                            "negative": 0.01,
                            "neutral": 0.92,
                            "positive": 0.06
                          },
                          "length": 139,
                          "offset": 369,
                          "sentiment": "neutral",
                          "text": "I'm planning to climb some hills (I'm working up to climbing Lookout Mountain west of Denver) and so far have had no issues with the bike. "
                        },
                        {
                          "confidenceScores": {
                            "negative": 0,
                            "neutral": 0.85,
                            "positive": 0.14
                          },
                          "length": 84,
                          "offset": 508,
                          "sentiment": "neutral",
                          "text": "It rides as smoothly as my previous ride, a Jamis Coda Comp with 700c x 28mm tires. "
                        },
                        {
                          "confidenceScores": {
                            "negative": 0.01,
                            "neutral": 0.68,
                            "positive": 0.32
                          },
                          "length": 155,
                          "offset": 592,
                          "sentiment": "neutral",
                          "text": "This bike with it's 650b x 50mm tires absorbs the bumps of pavement and gravel and dare I say, seems to ride just as smoothly on pavement as my old Jamis. "
                        },
                        {
                          "confidenceScores": {
                            "negative": 0,
                            "neutral": 0,
                            "positive": 1
                          },
                          "length": 25,
                          "offset": 747,
                          "sentiment": "positive",
                          "text": "Well done, REI designers!"
                        }
                      ],
                      "sentiment": "positive",
                      "warnings": []
                    },
                    "modelVersion": "2022-11-01"
                  },
                  "5": {
                    "detectedLanguage": {
                      "language": "en",
                      "score": 0.99
                    },
                    "translations": [
                      {
                        "text": "I've owned this bike less than a week. I was searching for a decent gravel bike and had narrowed my choices to this bike and a Surly Midnight Special. I took this bike for a test ride at the Denver Flagship store and didn't bother to test ride the Surly (which REI doesn't carry). This bike was $500 cheaper and had default gearing more suited to my 62 year old knees. I'm planning to climb some hills (I'm working up to climbing Lookout Mountain west of Denver) and so far have had no issues with the bike. It rides as smoothly as my previous ride, a Jamis Coda Comp with 700c x 28mm tires. This bike with it's 650b x 50mm tires absorbs the bumps of pavement and gravel and dare I say, seems to ride just as smoothly on pavement as my old Jamis. Well done, REI designers!",
                        "to": "en"
                      }
                    ]
                  }
                },
                {
                  "0": "Road-250",
                  "1": "5",
                  "2": "Great bike, great value",
                  "3": "Everything you could want in a do-it-all bike. Shifters were easy to get used to. Switched to WTB Horizon tires since I'm on the road more often than I'm not.",
                  "4": {
                    "document": {
                      "confidenceScores": {
                        "negative": 0,
                        "neutral": 0.03,
                        "positive": 0.96
                      },
                      "id": "4",
                      "sentences": [
                        {
                          "confidenceScores": {
                            "negative": 0,
                            "neutral": 0.07,
                            "positive": 0.93
                          },
                          "length": 47,
                          "offset": 0,
                          "sentiment": "positive",
                          "text": "Everything you could want in a do-it-all bike. "
                        },
                        {
                          "confidenceScores": {
                            "negative": 0,
                            "neutral": 0,
                            "positive": 1
                          },
                          "length": 35,
                          "offset": 47,
                          "sentiment": "positive",
                          "text": "Shifters were easy to get used to. "
                        },
                        {
                          "confidenceScores": {
                            "negative": 0,
                            "neutral": 0.99,
                            "positive": 0
                          },
                          "length": 76,
                          "offset": 82,
                          "sentiment": "neutral",
                          "text": "Switched to WTB Horizon tires since I'm on the road more often than I'm not."
                        }
                      ],
                      "sentiment": "positive",
                      "warnings": []
                    },
                    "modelVersion": "2022-11-01"
                  },
                  "5": {
                    "detectedLanguage": {
                      "language": "en",
                      "score": 1
                    },
                    "translations": [
                      {
                        "text": "Everything you could want in a do-it-all bike. Shifters were easy to get used to. Switched to WTB Horizon tires since I'm on the road more often than I'm not.",
                        "to": "en"
                      }
                    ]
                  }
                },
                {
                  "0": "Road-250",
                  "1": "4",
                  "2": "It's a touring adventure bike",
                  "3": "The shifters and drive train is a real touring set up, it's at the same level of yoga, surly, salsa and many other brands in the touring category",
                  "4": {
                    "document": {
                      "confidenceScores": {
                        "negative": 0,
                        "neutral": 0.99,
                        "positive": 0.01
                      },
                      "id": "5",
                      "sentences": [
                        {
                          "confidenceScores": {
                            "negative": 0,
                            "neutral": 0.99,
                            "positive": 0.01
                          },
                          "length": 145,
                          "offset": 0,
                          "sentiment": "neutral",
                          "text": "The shifters and drive train is a real touring set up, it's at the same level of yoga, surly, salsa and many other brands in the touring category"
                        }
                      ],
                      "sentiment": "neutral",
                      "warnings": []
                    },
                    "modelVersion": "2022-11-01"
                  },
                  "5": {
                    "detectedLanguage": {
                      "language": "en",
                      "score": 1
                    },
                    "translations": [
                      {
                        "text": "The shifters and drive train is a real touring set up, it's at the same level of yoga, surly, salsa and many other brands in the touring category",
                        "to": "en"
                      }
                    ]
                  }
                },
                {
                  "0": "Road-250",
                  "1": "4",
                  "2": "Stabile, comfortable, great value",
                  "3": "Bought this bike 2 weeks ago and have put 340 miles (dirt, non-technical single track) on it. Very comfortable and stabile, both climbing and descending. Will be taking it bikepacking soon. Have 6,600 miles on the CO-OP ARD 1.4 (dirt and asphalt) and very happy with it. Although it's 6 lbs heavier than the ARD it doesn't feel much more sluggish.",
                  "4": {
                    "document": {
                      "confidenceScores": {
                        "negative": 0,
                        "neutral": 0,
                        "positive": 1
                      },
                      "id": "6",
                      "sentences": [
                        {
                          "confidenceScores": {
                            "negative": 0.17,
                            "neutral": 0.79,
                            "positive": 0.03
                          },
                          "length": 94,
                          "offset": 0,
                          "sentiment": "neutral",
                          "text": "Bought this bike 2 weeks ago and have put 340 miles (dirt, non-technical single track) on it. "
                        },
                        {
                          "confidenceScores": {
                            "negative": 0,
                            "neutral": 0,
                            "positive": 1
                          },
                          "length": 60,
                          "offset": 94,
                          "sentiment": "positive",
                          "text": "Very comfortable and stabile, both climbing and descending. "
                        },
                        {
                          "confidenceScores": {
                            "negative": 0.01,
                            "neutral": 0.72,
                            "positive": 0.27
                          },
                          "length": 36,
                          "offset": 154,
                          "sentiment": "neutral",
                          "text": "Will be taking it bikepacking soon. "
                        },
                        {
                          "confidenceScores": {
                            "negative": 0,
                            "neutral": 0,
                            "positive": 1
                          },
                          "length": 81,
                          "offset": 190,
                          "sentiment": "positive",
                          "text": "Have 6,600 miles on the CO-OP ARD 1.4 (dirt and asphalt) and very happy with it. "
                        },
                        {
                          "confidenceScores": {
                            "negative": 0.21,
                            "neutral": 0.78,
                            "positive": 0.01
                          },
                          "length": 76,
                          "offset": 271,
                          "sentiment": "neutral",
                          "text": "Although it's 6 lbs heavier than the ARD it doesn't feel much more sluggish."
                        }
                      ],
                      "sentiment": "positive",
                      "warnings": []
                    },
                    "modelVersion": "2022-11-01"
                  },
                  "5": {
                    "detectedLanguage": {
                      "language": "en",
                      "score": 1
                    },
                    "translations": [
                      {
                        "text": "Bought this bike 2 weeks ago and have put 340 miles (dirt, non-technical single track) on it. Very comfortable and stabile, both climbing and descending. Will be taking it bikepacking soon. Have 6,600 miles on the CO-OP ARD 1.4 (dirt and asphalt) and very happy with it. Although it's 6 lbs heavier than the ARD it doesn't feel much more sluggish.",
                        "to": "en"
                      }
                    ]
                  }
                },
                {
                  "0": "Road-250",
                  "1": "4",
                  "2": "Excellent built, but...",
                  "3": "I loved everything about the bike except the gear shifters. Riding around town, especial in NYC, was a accident waiting to happen. Always reaching down to change gears and not having your hands on the break made me rethink the bike. Those shifts are OK, if you grew up using them, but me no, not my type.",
                  "4": {
                    "document": {
                      "confidenceScores": {
                        "negative": 0.5,
                        "neutral": 0,
                        "positive": 0.5
                      },
                      "id": "7",
                      "sentences": [
                        {
                          "confidenceScores": {
                            "negative": 0,
                            "neutral": 0,
                            "positive": 1
                          },
                          "length": 60,
                          "offset": 0,
                          "sentiment": "positive",
                          "text": "I loved everything about the bike except the gear shifters. "
                        },
                        {
                          "confidenceScores": {
                            "negative": 1,
                            "neutral": 0,
                            "positive": 0
                          },
                          "length": 71,
                          "offset": 60,
                          "sentiment": "negative",
                          "text": "Riding around town, especial in NYC, was a accident waiting to happen. "
                        },
                        {
                          "confidenceScores": {
                            "negative": 0.13,
                            "neutral": 0.83,
                            "positive": 0.04
                          },
                          "length": 102,
                          "offset": 131,
                          "sentiment": "neutral",
                          "text": "Always reaching down to change gears and not having your hands on the break made me rethink the bike. "
                        },
                        {
                          "confidenceScores": {
                            "negative": 0.03,
                            "neutral": 0.96,
                            "positive": 0.01
                          },
                          "length": 71,
                          "offset": 233,
                          "sentiment": "neutral",
                          "text": "Those shifts are OK, if you grew up using them, but me no, not my type."
                        }
                      ],
                      "sentiment": "mixed",
                      "warnings": []
                    },
                    "modelVersion": "2022-11-01"
                  },
                  "5": {
                    "detectedLanguage": {
                      "language": "en",
                      "score": 1
                    },
                    "translations": [
                      {
                        "text": "I loved everything about the bike except the gear shifters. Riding around town, especial in NYC, was a accident waiting to happen. Always reaching down to change gears and not having your hands on the break made me rethink the bike. Those shifts are OK, if you grew up using them, but me no, not my type.",
                        "to": "en"
                      }
                    ]
                  }
                },
                {
                  "0": "Road-450",
                  "1": "5",
                  "2": "Fast Bike",
                  "3": "I had tried Quick 7 ,Quick 5 and now the Quick 3 . This bike is the best among all three. Light ,good stopping power and fast on speed. Near perfect to me .",
                  "4": {
                    "document": {
                      "confidenceScores": {
                        "negative": 0,
                        "neutral": 0,
                        "positive": 1
                      },
                      "id": "8",
                      "sentences": [
                        {
                          "confidenceScores": {
                            "negative": 0.02,
                            "neutral": 0.89,
                            "positive": 0.1
                          },
                          "length": 51,
                          "offset": 0,
                          "sentiment": "neutral",
                          "text": "I had tried Quick 7 ,Quick 5 and now the Quick 3 . "
                        },
                        {
                          "confidenceScores": {
                            "negative": 0,
                            "neutral": 0,
                            "positive": 0.99
                          },
                          "length": 39,
                          "offset": 51,
                          "sentiment": "positive",
                          "text": "This bike is the best among all three. "
                        },
                        {
                          "confidenceScores": {
                            "negative": 0,
                            "neutral": 0,
                            "positive": 1
                          },
                          "length": 46,
                          "offset": 90,
                          "sentiment": "positive",
                          "text": "Light ,good stopping power and fast on speed. "
                        },
                        {
                          "confidenceScores": {
                            "negative": 0,
                            "neutral": 0,
                            "positive": 1
                          },
                          "length": 20,
                          "offset": 136,
                          "sentiment": "positive",
                          "text": "Near perfect to me ."
                        }
                      ],
                      "sentiment": "positive",
                      "warnings": []
                    },
                    "modelVersion": "2022-11-01"
                  },
                  "5": {
                    "detectedLanguage": {
                      "language": "en",
                      "score": 1
                    },
                    "translations": [
                      {
                        "text": "I had tried Quick 7 ,Quick 5 and now the Quick 3 . This bike is the best among all three. Light ,good stopping power and fast on speed. Near perfect to me .",
                        "to": "en"
                      }
                    ]
                  }
                },
                {
                  "0": "Road-450",
                  "1": "5",
                  "2": "lightweight, great design",
                  "3": "Love my Cannondale Women's Synapse AL Disc Tiagra bike! Makes me want to ride even in the hot temperatures here. Get compliments on it from different people nearly every time.",
                  "4": {
                    "document": {
                      "confidenceScores": {
                        "negative": 0,
                        "neutral": 0.07,
                        "positive": 0.93
                      },
                      "id": "9",
                      "sentences": [
                        {
                          "confidenceScores": {
                            "negative": 0,
                            "neutral": 0.01,
                            "positive": 0.99
                          },
                          "length": 56,
                          "offset": 0,
                          "sentiment": "positive",
                          "text": "Love my Cannondale Women's Synapse AL Disc Tiagra bike! "
                        },
                        {
                          "confidenceScores": {
                            "negative": 0,
                            "neutral": 0.9,
                            "positive": 0.09
                          },
                          "length": 57,
                          "offset": 56,
                          "sentiment": "neutral",
                          "text": "Makes me want to ride even in the hot temperatures here. "
                        },
                        {
                          "confidenceScores": {
                            "negative": 0.01,
                            "neutral": 0.13,
                            "positive": 0.86
                          },
                          "length": 62,
                          "offset": 113,
                          "sentiment": "positive",
                          "text": "Get compliments on it from different people nearly every time."
                        }
                      ],
                      "sentiment": "positive",
                      "warnings": []
                    },
                    "modelVersion": "2022-11-01"
                  },
                  "5": {
                    "detectedLanguage": {
                      "language": "en",
                      "score": 0.97
                    },
                    "translations": [
                      {
                        "text": "Love my Cannondale Women's Synapse AL Disc Tiagra bike! Makes me want to ride even in the hot temperatures here. Get compliments on it from different people nearly every time.",
                        "to": "en"
                      }
                    ]
                  }
                },
                {
                  "0": "Road-550-W",
                  "1": "5",
                  "2": "Great Bike!",
                  "3": "Completed 60 mils on this bike, great bike. Gear shifting is smooth and good pace.",
                  "4": {
                    "document": {
                      "confidenceScores": {
                        "negative": 0,
                        "neutral": 0.01,
                        "positive": 0.99
                      },
                      "id": "0",
                      "sentences": [
                        {
                          "confidenceScores": {
                            "negative": 0,
                            "neutral": 0,
                            "positive": 1
                          },
                          "length": 44,
                          "offset": 0,
                          "sentiment": "positive",
                          "text": "Completed 60 mils on this bike, great bike. "
                        },
                        {
                          "confidenceScores": {
                            "negative": 0,
                            "neutral": 0.01,
                            "positive": 0.99
                          },
                          "length": 38,
                          "offset": 44,
                          "sentiment": "positive",
                          "text": "Gear shifting is smooth and good pace."
                        }
                      ],
                      "sentiment": "positive",
                      "warnings": []
                    },
                    "modelVersion": "2022-11-01"
                  },
                  "5": {
                    "detectedLanguage": {
                      "language": "en",
                      "score": 1
                    },
                    "translations": [
                      {
                        "text": "Completed 60 mils on this bike, great bike. Gear shifting is smooth and good pace.",
                        "to": "en"
                      }
                    ]
                  }
                },
                {
                  "0": "Road-650",
                  "1": "5",
                  "2": "Great ride!",
                  "3": "Just bought this bike. Tested it out for and hour before purchase and then a short 16 mile ride once home. Handled excellent!! Smooth ride and quick. A good distance ride planned for tomorrow. Totally recommended!!",
                  "4": {
                    "document": {
                      "confidenceScores": {
                        "negative": 0,
                        "neutral": 0,
                        "positive": 1
                      },
                      "id": "1",
                      "sentences": [
                        {
                          "confidenceScores": {
                            "negative": 0.01,
                            "neutral": 0.88,
                            "positive": 0.11
                          },
                          "length": 23,
                          "offset": 0,
                          "sentiment": "neutral",
                          "text": "Just bought this bike. "
                        },
                        {
                          "confidenceScores": {
                            "negative": 0.01,
                            "neutral": 0.98,
                            "positive": 0.01
                          },
                          "length": 84,
                          "offset": 23,
                          "sentiment": "neutral",
                          "text": "Tested it out for and hour before purchase and then a short 16 mile ride once home. "
                        },
                        {
                          "confidenceScores": {
                            "negative": 0,
                            "neutral": 0,
                            "positive": 1
                          },
                          "length": 20,
                          "offset": 107,
                          "sentiment": "positive",
                          "text": "Handled excellent!! "
                        },
                        {
                          "confidenceScores": {
                            "negative": 0,
                            "neutral": 0,
                            "positive": 1
                          },
                          "length": 23,
                          "offset": 127,
                          "sentiment": "positive",
                          "text": "Smooth ride and quick. "
                        },
                        {
                          "confidenceScores": {
                            "negative": 0,
                            "neutral": 0.01,
                            "positive": 0.99
                          },
                          "length": 43,
                          "offset": 150,
                          "sentiment": "positive",
                          "text": "A good distance ride planned for tomorrow. "
                        },
                        {
                          "confidenceScores": {
                            "negative": 0,
                            "neutral": 0,
                            "positive": 1
                          },
                          "length": 21,
                          "offset": 193,
                          "sentiment": "positive",
                          "text": "Totally recommended!!"
                        }
                      ],
                      "sentiment": "positive",
                      "warnings": []
                    },
                    "modelVersion": "2022-11-01"
                  },
                  "5": {
                    "detectedLanguage": {
                      "language": "en",
                      "score": 1
                    },
                    "translations": [
                      {
                        "text": "Just bought this bike. Tested it out for and hour before purchase and then a short 16 mile ride once home. Handled excellent!! Smooth ride and quick. A good distance ride planned for tomorrow. Totally recommended!!",
                        "to": "en"
                      }
                    ]
                  }
                },
                {
                  "0": "Road-650",
                  "1": "5",
                  "2": "Best light weight commuter road bike under 21 lbs",
                  "3": "I searched for a while for a road bike that was around 20 lbs, with rack and fender mounts, disc brakes, Shimano 105s, 30cm or wider road tires, under $1,500. This is it! Great ride, reputable Cannondale name & build, fantastic ~$1,100 November prior-season price tag, and free rack and fender install with the purchase. This bike is the perfect commuter bike for someone who pushes it hard on long commutes in varying weather and bags full of clothing and laptop.",
                  "4": {
                    "document": {
                      "confidenceScores": {
                        "negative": 0,
                        "neutral": 0,
                        "positive": 1
                      },
                      "id": "2",
                      "sentences": [
                        {
                          "confidenceScores": {
                            "negative": 0,
                            "neutral": 1,
                            "positive": 0
                          },
                          "length": 159,
                          "offset": 0,
                          "sentiment": "neutral",
                          "text": "I searched for a while for a road bike that was around 20 lbs, with rack and fender mounts, disc brakes, Shimano 105s, 30cm or wider road tires, under $1,500. "
                        },
                        {
                          "confidenceScores": {
                            "negative": 0.02,
                            "neutral": 0.74,
                            "positive": 0.24
                          },
                          "length": 12,
                          "offset": 159,
                          "sentiment": "neutral",
                          "text": "This is it! "
                        },
                        {
                          "confidenceScores": {
                            "negative": 0,
                            "neutral": 0,
                            "positive": 1
                          },
                          "length": 150,
                          "offset": 171,
                          "sentiment": "positive",
                          "text": "Great ride, reputable Cannondale name & build, fantastic ~$1,100 November prior-season price tag, and free rack and fender install with the purchase. "
                        },
                        {
                          "confidenceScores": {
                            "negative": 0,
                            "neutral": 0,
                            "positive": 1
                          },
                          "length": 143,
                          "offset": 321,
                          "sentiment": "positive",
                          "text": "This bike is the perfect commuter bike for someone who pushes it hard on long commutes in varying weather and bags full of clothing and laptop."
                        }
                      ],
                      "sentiment": "positive",
                      "warnings": []
                    },
                    "modelVersion": "2022-11-01"
                  },
                  "5": {
                    "detectedLanguage": {
                      "language": "en",
                      "score": 1
                    },
                    "translations": [
                      {
                        "text": "I searched for a while for a road bike that was around 20 lbs, with rack and fender mounts, disc brakes, Shimano 105s, 30cm or wider road tires, under $1,500. This is it! Great ride, reputable Cannondale name & build, fantastic ~$1,100 November prior-season price tag, and free rack and fender install with the purchase. This bike is the perfect commuter bike for someone who pushes it *** long commutes in varying weather and bags full of clothing and laptop.",
                        "to": "en"
                      }
                    ]
                  }
                },
                {
                  "0": "Road-650",
                  "1": "5",
                  "2": "great bike for the city and more",
                  "3": "This is my first route bike so it may not be the best review. All I can say is that it’s a very comfortable bike for the city and other roads. The shifts and breaks are awesome and overall feeling is quite good. I would definitely recommend it!",
                  "4": {
                    "document": {
                      "confidenceScores": {
                        "negative": 0.25,
                        "neutral": 0,
                        "positive": 0.74
                      },
                      "id": "3",
                      "sentences": [
                        {
                          "confidenceScores": {
                            "negative": 1,
                            "neutral": 0,
                            "positive": 0
                          },
                          "length": 62,
                          "offset": 0,
                          "sentiment": "negative",
                          "text": "This is my first route bike so it may not be the best review. "
                        },
                        {
                          "confidenceScores": {
                            "negative": 0,
                            "neutral": 0.01,
                            "positive": 0.99
                          },
                          "length": 81,
                          "offset": 62,
                          "sentiment": "positive",
                          "text": "All I can say is that it’s a very comfortable bike for the city and other roads. "
                        },
                        {
                          "confidenceScores": {
                            "negative": 0,
                            "neutral": 0,
                            "positive": 1
                          },
                          "length": 69,
                          "offset": 143,
                          "sentiment": "positive",
                          "text": "The shifts and breaks are awesome and overall feeling is quite good. "
                        },
                        {
                          "confidenceScores": {
                            "negative": 0,
                            "neutral": 0.01,
                            "positive": 0.99
                          },
                          "length": 32,
                          "offset": 212,
                          "sentiment": "positive",
                          "text": "I would definitely recommend it!"
                        }
                      ],
                      "sentiment": "mixed",
                      "warnings": []
                    },
                    "modelVersion": "2022-11-01"
                  },
                  "5": {
                    "detectedLanguage": {
                      "language": "en",
                      "score": 1
                    },
                    "translations": [
                      {
                        "text": "This is my first route bike so it may not be the best review. All I can say is that it’s a very comfortable bike for the city and other roads. The shifts and breaks are awesome and overall feeling is quite good. I would definitely recommend it!",
                        "to": "en"
                      }
                    ]
                  }
                },
                {
                  "0": "Touring-1000",
                  "1": "1",
                  "2": "Poor Component Spec",
                  "3": "I've been riding this bike for about a year. The issues I've experienced so far: * Multiple spokes broken on the rear wheel, which was warranty replaced but with a larger rim size, so they're mismatched and few tire widths will fit both rims. Both brake calipers have now failed, and the flat mount spec limits replacement options (post mount adapter does not fit in rear triangle) Front derailleur mounts in between seat tube water bottle bosses, rendering the bottle mount useless. The bike overall handles and rides fine, but I wish I would've spent a bit more up front because I'm paying for it now!",
                  "4": {
                    "document": {
                      "confidenceScores": {
                        "negative": 0.68,
                        "neutral": 0.02,
                        "positive": 0.3
                      },
                      "id": "4",
                      "sentences": [
                        {
                          "confidenceScores": {
                            "negative": 0,
                            "neutral": 0.99,
                            "positive": 0.01
                          },
                          "length": 45,
                          "offset": 0,
                          "sentiment": "neutral",
                          "text": "I've been riding this bike for about a year. "
                        },
                        {
                          "confidenceScores": {
                            "negative": 1,
                            "neutral": 0,
                            "positive": 0
                          },
                          "length": 198,
                          "offset": 45,
                          "sentiment": "negative",
                          "text": "The issues I've experienced so far: * Multiple spokes broken on the rear wheel, which was warranty replaced but with a larger rim size, so they're mismatched and few tire widths will fit both rims. "
                        },
                        {
                          "confidenceScores": {
                            "negative": 1,
                            "neutral": 0,
                            "positive": 0
                          },
                          "length": 241,
                          "offset": 243,
                          "sentiment": "negative",
                          "text": "Both brake calipers have now failed, and the flat mount spec limits replacement options (post mount adapter does not fit in rear triangle) Front derailleur mounts in between seat tube water bottle bosses, rendering the bottle mount useless. "
                        },
                        {
                          "confidenceScores": {
                            "negative": 0.03,
                            "neutral": 0.07,
                            "positive": 0.9
                          },
                          "length": 119,
                          "offset": 484,
                          "sentiment": "positive",
                          "text": "The bike overall handles and rides fine, but I wish I would've spent a bit more up front because I'm paying for it now!"
                        }
                      ],
                      "sentiment": "mixed",
                      "warnings": []
                    },
                    "modelVersion": "2022-11-01"
                  },
                  "5": {
                    "detectedLanguage": {
                      "language": "en",
                      "score": 1
                    },
                    "translations": [
                      {
                        "text": "I've been riding this bike for about a year. The issues I've experienced so far: * Multiple spokes broken on the rear wheel, which was warranty replaced but with a larger rim size, so they're mismatched and few tire widths will fit both rims. Both brake calipers have now failed, and the flat mount spec limits replacement options (post mount adapter does not fit in rear triangle) Front derailleur mounts in between seat tube water bottle bosses, rendering the bottle mount useless. The bike overall handles and rides fine, but I wish I would've spent a bit more up front because I'm paying for it now!",
                        "to": "en"
                      }
                    ]
                  }
                },
                {
                  "0": "Touring-1000",
                  "1": "5",
                  "2": "LOVE this bike!",
                  "3": "I bought this bike back in September of 2018 with the intent of my first big ride on it being the length of the VA Creeper Trail (other bike is strictly a road bike). This bike has excelled on paved greenway paths, gravel paths, and somewhat rocky terrain. We went full speed down the mountain and it handled it like a champ. Only one flat tire and no actual issues with the bike itself. The only upgrades I’ve done so far is pedals and a Brooks saddle. I added a rack to the back for a bag and it didn’t throw off the balance too much. No complaints at all!!",
                  "4": {
                    "document": {
                      "confidenceScores": {
                        "negative": 0.26,
                        "neutral": 0.22,
                        "positive": 0.52
                      },
                      "id": "5",
                      "sentences": [
                        {
                          "confidenceScores": {
                            "negative": 0.01,
                            "neutral": 0.82,
                            "positive": 0.17
                          },
                          "length": 167,
                          "offset": 0,
                          "sentiment": "neutral",
                          "text": "I bought this bike back in September of 2018 with the intent of my first big ride on it being the length of the VA Creeper Trail (other bike is strictly a road bike). "
                        },
                        {
                          "confidenceScores": {
                            "negative": 0.04,
                            "neutral": 0.12,
                            "positive": 0.84
                          },
                          "length": 90,
                          "offset": 167,
                          "sentiment": "positive",
                          "text": "This bike has excelled on paved greenway paths, gravel paths, and somewhat rocky terrain. "
                        },
                        {
                          "confidenceScores": {
                            "negative": 0.01,
                            "neutral": 0.28,
                            "positive": 0.7
                          },
                          "length": 69,
                          "offset": 257,
                          "sentiment": "positive",
                          "text": "We went full speed down the mountain and it handled it like a champ. "
                        },
                        {
                          "confidenceScores": {
                            "negative": 0.71,
                            "neutral": 0.28,
                            "positive": 0
                          },
                          "length": 62,
                          "offset": 326,
                          "sentiment": "negative",
                          "text": "Only one flat tire and no actual issues with the bike itself. "
                        },
                        {
                          "confidenceScores": {
                            "negative": 0.03,
                            "neutral": 0.96,
                            "positive": 0.01
                          },
                          "length": 66,
                          "offset": 388,
                          "sentiment": "neutral",
                          "text": "The only upgrades I’ve done so far is pedals and a Brooks saddle. "
                        },
                        {
                          "confidenceScores": {
                            "negative": 0.53,
                            "neutral": 0.4,
                            "positive": 0.07
                          },
                          "length": 83,
                          "offset": 454,
                          "sentiment": "negative",
                          "text": "I added a rack to the back for a bag and it didn’t throw off the balance too much. "
                        },
                        {
                          "confidenceScores": {
                            "negative": 0.02,
                            "neutral": 0.01,
                            "positive": 0.96
                          },
                          "length": 22,
                          "offset": 537,
                          "sentiment": "positive",
                          "text": "No complaints at all!!"
                        }
                      ],
                      "sentiment": "mixed",
                      "warnings": []
                    },
                    "modelVersion": "2022-11-01"
                  },
                  "5": {
                    "detectedLanguage": {
                      "language": "en",
                      "score": 1
                    },
                    "translations": [
                      {
                        "text": "I bought this bike back in September of 2018 with the intent of my first big ride on it being the length of the VA Creeper Trail (other bike is strictly a road bike). This bike has excelled on paved greenway paths, gravel paths, and somewhat rocky terrain. We went full speed down the mountain and it handled it like a champ. Only one flat tire and no actual issues with the bike itself. The only upgrades I’ve done so far is pedals and a Brooks saddle. I added a rack to the back for a bag and it didn’t throw off the balance too much. No complaints at all!!",
                        "to": "en"
                      }
                    ]
                  }
                },
                {
                  "0": "Touring-1000",
                  "1": "5",
                  "2": "Best bike ever?",
                  "3": "Super fast on road. Aggressive off road. Plenty of gears in just the wright places. Descends like a god. Rides the flat like a beast. Climbs like a goat. Carries anything you ask it to. 1,000 miles on every terrain type with all kinds of loads in 2 months since purchase no problems.",
                  "4": {
                    "document": {
                      "confidenceScores": {
                        "negative": 0.25,
                        "neutral": 0.11,
                        "positive": 0.63
                      },
                      "id": "6",
                      "sentences": [
                        {
                          "confidenceScores": {
                            "negative": 0,
                            "neutral": 0,
                            "positive": 1
                          },
                          "length": 20,
                          "offset": 0,
                          "sentiment": "positive",
                          "text": "Super fast on road. "
                        },
                        {
                          "confidenceScores": {
                            "negative": 0.99,
                            "neutral": 0.01,
                            "positive": 0
                          },
                          "length": 21,
                          "offset": 20,
                          "sentiment": "negative",
                          "text": "Aggressive off road. "
                        },
                        {
                          "confidenceScores": {
                            "negative": 0.01,
                            "neutral": 0.93,
                            "positive": 0.06
                          },
                          "length": 43,
                          "offset": 41,
                          "sentiment": "neutral",
                          "text": "Plenty of gears in just the wright places. "
                        },
                        {
                          "confidenceScores": {
                            "negative": 0.01,
                            "neutral": 0.43,
                            "positive": 0.56
                          },
                          "length": 21,
                          "offset": 84,
                          "sentiment": "positive",
                          "text": "Descends like a god. "
                        },
                        {
                          "confidenceScores": {
                            "negative": 0.03,
                            "neutral": 0.86,
                            "positive": 0.11
                          },
                          "length": 29,
                          "offset": 105,
                          "sentiment": "neutral",
                          "text": "Rides the flat like a beast. "
                        },
                        {
                          "confidenceScores": {
                            "negative": 0.01,
                            "neutral": 0.91,
                            "positive": 0.08
                          },
                          "length": 20,
                          "offset": 134,
                          "sentiment": "neutral",
                          "text": "Climbs like a goat. "
                        },
                        {
                          "confidenceScores": {
                            "negative": 0.01,
                            "neutral": 0.75,
                            "positive": 0.24
                          },
                          "length": 32,
                          "offset": 154,
                          "sentiment": "neutral",
                          "text": "Carries anything you ask it to. "
                        },
                        {
                          "confidenceScores": {
                            "negative": 0,
                            "neutral": 0.02,
                            "positive": 0.98
                          },
                          "length": 97,
                          "offset": 186,
                          "sentiment": "positive",
                          "text": "1,000 miles on every terrain type with all kinds of loads in 2 months since purchase no problems."
                        }
                      ],
                      "sentiment": "mixed",
                      "warnings": []
                    },
                    "modelVersion": "2022-11-01"
                  },
                  "5": {
                    "detectedLanguage": {
                      "language": "en",
                      "score": 1
                    },
                    "translations": [
                      {
                        "text": "Super fast on road. Aggressive off road. Plenty of gears in just the wright places. Descends like a god. Rides the flat like a beast. Climbs like a goat. Carries anything you ask it to. 1,000 miles on every terrain type with all kinds of loads in 2 months since purchase no problems.",
                        "to": "en"
                      }
                    ]
                  }
                },
                {
                  "0": "Touring-1000",
                  "1": "1",
                  "2": "Not usable for touring due to wheels.",
                  "3": "I bought the bike about a month ago for my 6000 mile long bike trip from Colombia to Argentina. I rode for 3 weeks so far, about 1200 miles. During that time I had 7 broken spokes in the back and 2 in the front. I eventually decided to replace all spokes. So far no more broken spokes. My load is considerably small compared to other people I've met on the road. Without food and water about 30-35 pounds. Also it's the second bike I got from REI, since one of the threads to attach the bike rack in the back broke right at the beginning. They aren't welded in, just riveted. So the thread just started to turn in its own spot. REI told me to bring the bike in, but since I'm actually using it for bike touring and I'm in South America, that's impossible. So I can just hope it won't make any more problems on the way.",
                  "4": {
                    "document": {
                      "confidenceScores": {
                        "negative": 0.95,
                        "neutral": 0.02,
                        "positive": 0.04
                      },
                      "id": "7",
                      "sentences": [
                        {
                          "confidenceScores": {
                            "negative": 0,
                            "neutral": 0.99,
                            "positive": 0.01
                          },
                          "length": 96,
                          "offset": 0,
                          "sentiment": "neutral",
                          "text": "I bought the bike about a month ago for my 6000 mile long bike trip from Colombia to Argentina. "
                        },
                        {
                          "confidenceScores": {
                            "negative": 0,
                            "neutral": 1,
                            "positive": 0
                          },
                          "length": 45,
                          "offset": 96,
                          "sentiment": "neutral",
                          "text": "I rode for 3 weeks so far, about 1200 miles. "
                        },
                        {
                          "confidenceScores": {
                            "negative": 0.99,
                            "neutral": 0.01,
                            "positive": 0
                          },
                          "length": 71,
                          "offset": 141,
                          "sentiment": "negative",
                          "text": "During that time I had 7 broken spokes in the back and 2 in the front. "
                        },
                        {
                          "confidenceScores": {
                            "negative": 0,
                            "neutral": 1,
                            "positive": 0
                          },
                          "length": 44,
                          "offset": 212,
                          "sentiment": "neutral",
                          "text": "I eventually decided to replace all spokes. "
                        },
                        {
                          "confidenceScores": {
                            "negative": 0.98,
                            "neutral": 0.02,
                            "positive": 0.01
                          },
                          "length": 30,
                          "offset": 256,
                          "sentiment": "negative",
                          "text": "So far no more broken spokes. "
                        },
                        {
                          "confidenceScores": {
                            "negative": 0,
                            "neutral": 1,
                            "positive": 0
                          },
                          "length": 77,
                          "offset": 286,
                          "sentiment": "neutral",
                          "text": "My load is considerably small compared to other people I've met on the road. "
                        },
                        {
                          "confidenceScores": {
                            "negative": 0.02,
                            "neutral": 0.98,
                            "positive": 0
                          },
                          "length": 43,
                          "offset": 363,
                          "sentiment": "neutral",
                          "text": "Without food and water about 30-35 pounds. "
                        },
                        {
                          "confidenceScores": {
                            "negative": 1,
                            "neutral": 0,
                            "positive": 0
                          },
                          "length": 133,
                          "offset": 406,
                          "sentiment": "negative",
                          "text": "Also it's the second bike I got from REI, since one of the threads to attach the bike rack in the back broke right at the beginning. "
                        },
                        {
                          "confidenceScores": {
                            "negative": 0.01,
                            "neutral": 0.99,
                            "positive": 0.01
                          },
                          "length": 37,
                          "offset": 539,
                          "sentiment": "neutral",
                          "text": "They aren't welded in, just riveted. "
                        },
                        {
                          "confidenceScores": {
                            "negative": 0,
                            "neutral": 1,
                            "positive": 0
                          },
                          "length": 52,
                          "offset": 576,
                          "sentiment": "neutral",
                          "text": "So the thread just started to turn in its own spot. "
                        },
                        {
                          "confidenceScores": {
                            "negative": 0.97,
                            "neutral": 0.03,
                            "positive": 0
                          },
                          "length": 128,
                          "offset": 628,
                          "sentiment": "negative",
                          "text": "REI told me to bring the bike in, but since I'm actually using it for bike touring and I'm in South America, that's impossible. "
                        },
                        {
                          "confidenceScores": {
                            "negative": 0.81,
                            "neutral": 0.02,
                            "positive": 0.17
                          },
                          "length": 62,
                          "offset": 756,
                          "sentiment": "negative",
                          "text": "So I can just hope it won't make any more problems on the way."
                        }
                      ],
                      "sentiment": "negative",
                      "warnings": []
                    },
                    "modelVersion": "2022-11-01"
                  },
                  "5": {
                    "detectedLanguage": {
                      "language": "en",
                      "score": 1
                    },
                    "translations": [
                      {
                        "text": "I bought the bike about a month ago for my 6000 mile long bike trip from Colombia to Argentina. I rode for 3 weeks so far, about 1200 miles. During that time I had 7 broken spokes in the back and 2 in the front. I eventually decided to replace all spokes. So far no more broken spokes. My load is considerably small compared to other people I've met on the road. Without food and water about 30-35 pounds. Also it's the second bike I got from REI, since one of the threads to attach the bike rack in the back broke right at the beginning. They aren't welded in, just riveted. So the thread just started to turn in its own spot. REI told me to bring the bike in, but since I'm actually using it for bike touring and I'm in South America, that's impossible. So I can just hope it won't make any more problems on the way.",
                        "to": "en"
                      }
                    ]
                  }
                },
                {
                  "0": "Touring-1000",
                  "1": "1",
                  "2": "Spend more money on a better bike",
                  "3": "Do not buy this bike... I use it as a commuter and have had multiple broken spokes. I ride 95% on the rode and very tame dirt trail for a 1/4 of a mile. I now have to buy a new wheel 250.00 dollars later. Also broke derail. All this with 3 months of use. Tried e-mail and calling company no response. Bummed out I bought this bike",
                  "4": {
                    "document": {
                      "confidenceScores": {
                        "negative": 0.96,
                        "neutral": 0.03,
                        "positive": 0.01
                      },
                      "id": "8",
                      "sentences": [
                        {
                          "confidenceScores": {
                            "negative": 0.99,
                            "neutral": 0.01,
                            "positive": 0
                          },
                          "length": 24,
                          "offset": 0,
                          "sentiment": "negative",
                          "text": "Do not buy this bike... "
                        },
                        {
                          "confidenceScores": {
                            "negative": 0.97,
                            "neutral": 0.03,
                            "positive": 0
                          },
                          "length": 60,
                          "offset": 24,
                          "sentiment": "negative",
                          "text": "I use it as a commuter and have had multiple broken spokes. "
                        },
                        {
                          "confidenceScores": {
                            "negative": 0.03,
                            "neutral": 0.95,
                            "positive": 0.02
                          },
                          "length": 69,
                          "offset": 84,
                          "sentiment": "neutral",
                          "text": "I ride 95% on the rode and very tame dirt trail for a 1/4 of a mile. "
                        },
                        {
                          "confidenceScores": {
                            "negative": 0,
                            "neutral": 1,
                            "positive": 0
                          },
                          "length": 52,
                          "offset": 153,
                          "sentiment": "neutral",
                          "text": "I now have to buy a new wheel 250.00 dollars later. "
                        },
                        {
                          "confidenceScores": {
                            "negative": 1,
                            "neutral": 0,
                            "positive": 0
                          },
                          "length": 19,
                          "offset": 205,
                          "sentiment": "negative",
                          "text": "Also broke derail. "
                        },
                        {
                          "confidenceScores": {
                            "negative": 0,
                            "neutral": 0.99,
                            "positive": 0.01
                          },
                          "length": 31,
                          "offset": 224,
                          "sentiment": "neutral",
                          "text": "All this with 3 months of use. "
                        },
                        {
                          "confidenceScores": {
                            "negative": 0.92,
                            "neutral": 0.08,
                            "positive": 0
                          },
                          "length": 46,
                          "offset": 255,
                          "sentiment": "negative",
                          "text": "Tried e-mail and calling company no response. "
                        },
                        {
                          "confidenceScores": {
                            "negative": 0.93,
                            "neutral": 0.01,
                            "positive": 0.06
                          },
                          "length": 29,
                          "offset": 301,
                          "sentiment": "negative",
                          "text": "Bummed out I bought this bike"
                        }
                      ],
                      "sentiment": "negative",
                      "warnings": []
                    },
                    "modelVersion": "2022-11-01"
                  },
                  "5": {
                    "detectedLanguage": {
                      "language": "en",
                      "score": 1
                    },
                    "translations": [
                      {
                        "text": "Do not buy this bike... I use it as a commuter and have had multiple broken spokes. I ride 95% on the rode and very tame dirt trail for a 1/4 of a mile. I now have to buy a new wheel 250.00 dollars later. Also broke derail. All this with 3 months of use. Tried e-mail and calling company no response. Bummed out I bought this bike",
                        "to": "en"
                      }
                    ]
                  }
                },
                {
                  "0": "Touring-1000",
                  "1": "3",
                  "2": "Too slow for the road",
                  "3": "I really wanted to like this bike, but I just couldn't get there. I've been cycling both as a means of commuting and recreation/fitness for many years and while the majority of my miles were done on a downtube-shifter road bike from the 80s and a couple mountain bike frames with slick tires, I've also spent several hundred miles on my dad's Cannondale CAAD8, which is a more modern aluminum road bike. I bought this Journeyman as a commuter / possible touring bike and to replace my current day-to-day bike, a cheap Giant Defy 3 hybrid frame (with 700c tires) -- but unfortunately the Journeyman was much heavier and considerably slower. My daily commutes (about 18 miles each way on very flat Orange County bike paths) averaged several minutes slower each way on this bike than my Giant (which I picked up used for only $150) and there really was no contest when compared to my friend's budget ~$500 Fuji road bike. This was quite a disappointment given that as a gravel bike the Journeyman is touted as being equally-capable on the road. It's possible that swapping the tires for something slicker / less knobby would improve it's speed, but obviously this takes away from its off-road capabilities (unless you own a second wheelset for quick changes) and I didn't really see this as any guarantee that the bike would improve to meet my needs, as the frame itself is rather heavy. I ended up returning the bike after a few weeks (thanks to REI's generous return policy) -- it was hard to justify keeping it when it didn't perform as well as what I already had. Instead of a nice 'all-in-one' bike I think I may pick up a dedicated road bike for commuting and fitness rides and a cheaper mountain bike for playing around on the trails on the weekends.",
                  "4": {
                    "document": {
                      "confidenceScores": {
                        "negative": 0.66,
                        "neutral": 0.06,
                        "positive": 0.28
                      },
                      "id": "9",
                      "sentences": [
                        {
                          "confidenceScores": {
                            "negative": 0.58,
                            "neutral": 0.13,
                            "positive": 0.29
                          },
                          "length": 66,
                          "offset": 0,
                          "sentiment": "negative",
                          "text": "I really wanted to like this bike, but I just couldn't get there. "
                        },
                        {
                          "confidenceScores": {
                            "negative": 0.01,
                            "neutral": 0.64,
                            "positive": 0.35
                          },
                          "length": 338,
                          "offset": 66,
                          "sentiment": "neutral",
                          "text": "I've been cycling both as a means of commuting and recreation/fitness for many years and while the majority of my miles were done on a downtube-shifter road bike from the 80s and a couple mountain bike frames with slick tires, I've also spent several hundred miles on my dad's Cannondale CAAD8, which is a more modern aluminum road bike. "
                        },
                        {
                          "confidenceScores": {
                            "negative": 0.99,
                            "neutral": 0,
                            "positive": 0
                          },
                          "length": 236,
                          "offset": 404,
                          "sentiment": "negative",
                          "text": "I bought this Journeyman as a commuter / possible touring bike and to replace my current day-to-day bike, a cheap Giant Defy 3 hybrid frame (with 700c tires) -- but unfortunately the Journeyman was much heavier and considerably slower. "
                        },
                        {
                          "confidenceScores": {
                            "negative": 0.43,
                            "neutral": 0.17,
                            "positive": 0.4
                          },
                          "length": 279,
                          "offset": 640,
                          "sentiment": "negative",
                          "text": "My daily commutes (about 18 miles each way on very flat Orange County bike paths) averaged several minutes slower each way on this bike than my Giant (which I picked up used for only $150) and there really was no contest when compared to my friend's budget ~$500 Fuji road bike. "
                        },
                        {
                          "confidenceScores": {
                            "negative": 1,
                            "neutral": 0,
                            "positive": 0
                          },
                          "length": 123,
                          "offset": 919,
                          "sentiment": "negative",
                          "text": "This was quite a disappointment given that as a gravel bike the Journeyman is touted as being equally-capable on the road. "
                        },
                        {
                          "confidenceScores": {
                            "negative": 0.59,
                            "neutral": 0.04,
                            "positive": 0.37
                          },
                          "length": 343,
                          "offset": 1042,
                          "sentiment": "negative",
                          "text": "It's possible that swapping the tires for something slicker / less knobby would improve it's speed, but obviously this takes away from its off-road capabilities (unless you own a second wheelset for quick changes) and I didn't really see this as any guarantee that the bike would improve to meet my needs, as the frame itself is rather heavy. "
                        },
                        {
                          "confidenceScores": {
                            "negative": 1,
                            "neutral": 0,
                            "positive": 0
                          },
                          "length": 180,
                          "offset": 1385,
                          "sentiment": "negative",
                          "text": "I ended up returning the bike after a few weeks (thanks to REI's generous return policy) -- it was hard to justify keeping it when it didn't perform as well as what I already had. "
                        },
                        {
                          "confidenceScores": {
                            "negative": 0.02,
                            "neutral": 0.11,
                            "positive": 0.87
                          },
                          "length": 189,
                          "offset": 1565,
                          "sentiment": "positive",
                          "text": "Instead of a nice 'all-in-one' bike I think I may pick up a dedicated road bike for commuting and fitness rides and a cheaper mountain bike for playing around on the trails on the weekends."
                        }
                      ],
                      "sentiment": "mixed",
                      "warnings": []
                    },
                    "modelVersion": "2022-11-01"
                  },
                  "5": {
                    "detectedLanguage": {
                      "language": "en",
                      "score": 1
                    },
                    "translations": [
                      {
                        "text": "I really wanted to like this bike, but I just couldn't get there. I've been cycling both as a means of commuting and recreation/fitness for many years and while the majority of my miles were done on a downtube-shifter road bike from the 80s and a couple mountain bike frames with slick tires, I've also spent several hundred miles on my dad's Cannondale CAAD8, which is a more modern aluminum road bike. I bought this Journeyman as a commuter / possible touring bike and to replace my current day-to-day bike, a cheap Giant Defy 3 hybrid frame (with 700c tires) -- but unfortunately the Journeyman was much heavier and considerably slower. My daily commutes (about 18 miles each way on very flat Orange County bike paths) averaged several minutes slower each way on this bike than my Giant (which I picked up used for only $150) and there really was no contest when compared to my friend's budget ~$500 Fuji road bike. This was quite a disappointment given that as a gravel bike the Journeyman is touted as being equally-capable on the road. It's possible that swapping the tires for something slicker / less knobby would improve it's speed, but obviously this takes away from its off-road capabilities (unless you own a second wheelset for quick changes) and I didn't really see this as any guarantee that the bike would improve to meet my needs, as the frame itself is rather heavy. I ended up returning the bike after a few weeks (thanks to REI's generous return policy) -- it was hard to justify keeping it when it didn't perform as well as what I already had. Instead of a nice 'all-in-one' bike I think I may pick up a dedicated road bike for commuting and fitness rides and a cheaper mountain bike for playing around on the trails on the weekends.",
                        "to": "en"
                      }
                    ]
                  }
                },
                {
                  "0": "Touring-1000",
                  "1": "5",
                  "2": "Lovely bike",
                  "3": "Madly in love with this bike, using for commute, so good",
                  "4": {
                    "document": {
                      "confidenceScores": {
                        "negative": 0,
                        "neutral": 0,
                        "positive": 1
                      },
                      "id": "0",
                      "sentences": [
                        {
                          "confidenceScores": {
                            "negative": 0,
                            "neutral": 0,
                            "positive": 1
                          },
                          "length": 56,
                          "offset": 0,
                          "sentiment": "positive",
                          "text": "Madly in love with this bike, using for commute, so good"
                        }
                      ],
                      "sentiment": "positive",
                      "warnings": []
                    },
                    "modelVersion": "2022-11-01"
                  },
                  "5": {
                    "detectedLanguage": {
                      "language": "en",
                      "score": 1
                    },
                    "translations": [
                      {
                        "text": "Madly in love with this bike, using for commute, so good",
                        "to": "en"
                      }
                    ]
                  }
                },
                {
                  "0": "Touring-2000",
                  "1": "5",
                  "2": "Perfect for Varied Surfaces",
                  "3": "\"After a lot of research and test rides, I settled on the Salsa Journeyman 650B. I have ridden light trails, Forbidden Drive (gravel) and road surfaces thus far and love it. The geometry of the frame (52CM) with the 650B wheels is perfect for my size (5'5\"\" with long legs and short waist). The bike is responsive",
                  "4": {
                    "document": {
                      "confidenceScores": {
                        "negative": 0,
                        "neutral": 0,
                        "positive": 1
                      },
                      "id": "1",
                      "sentences": [
                        {
                          "confidenceScores": {
                            "negative": 0,
                            "neutral": 0.98,
                            "positive": 0.01
                          },
                          "length": 81,
                          "offset": 0,
                          "sentiment": "neutral",
                          "text": "\"After a lot of research and test rides, I settled on the Salsa Journeyman 650B. "
                        },
                        {
                          "confidenceScores": {
                            "negative": 0,
                            "neutral": 0,
                            "positive": 1
                          },
                          "length": 93,
                          "offset": 81,
                          "sentiment": "positive",
                          "text": "I have ridden light trails, Forbidden Drive (gravel) and road surfaces thus far and love it. "
                        },
                        {
                          "confidenceScores": {
                            "negative": 0,
                            "neutral": 0,
                            "positive": 1
                          },
                          "length": 117,
                          "offset": 174,
                          "sentiment": "positive",
                          "text": "The geometry of the frame (52CM) with the 650B wheels is perfect for my size (5'5\"\" with long legs and short waist). "
                        },
                        {
                          "confidenceScores": {
                            "negative": 0,
                            "neutral": 0.98,
                            "positive": 0.02
                          },
                          "length": 22,
                          "offset": 291,
                          "sentiment": "neutral",
                          "text": "The bike is responsive"
                        }
                      ],
                      "sentiment": "positive",
                      "warnings": []
                    },
                    "modelVersion": "2022-11-01"
                  },
                  "5": {
                    "detectedLanguage": {
                      "language": "en",
                      "score": 1
                    },
                    "translations": [
                      {
                        "text": "\"After a lot of research and test rides, I settled on the Salsa Journeyman 650B. I have ridden light trails, Forbidden Drive (gravel) and road surfaces thus far and love it. The geometry of the frame (52CM) with the 650B wheels is perfect for my size (5'5\"\" with long legs and short waist). The bike is responsive",
                        "to": "en"
                      }
                    ]
                  }
                },
                {
                  "0": "Touring-2000",
                  "1": "5",
                  "2": "good all around bike",
                  "3": "Super fun bike that handles great on the road and off. Tons of frame mounts to attach racks, fenders, bottle cages, or whatever you feel like bolting to your bike. Comfortable geometry for long rides, and a carbon fork to absorb the shock and reduce fatigue. I love this bike!",
                  "4": {
                    "document": {
                      "confidenceScores": {
                        "negative": 0.01,
                        "neutral": 0,
                        "positive": 0.99
                      },
                      "id": "2",
                      "sentences": [
                        {
                          "confidenceScores": {
                            "negative": 0,
                            "neutral": 0,
                            "positive": 1
                          },
                          "length": 55,
                          "offset": 0,
                          "sentiment": "positive",
                          "text": "Super fun bike that handles great on the road and off. "
                        },
                        {
                          "confidenceScores": {
                            "negative": 0,
                            "neutral": 0.98,
                            "positive": 0.02
                          },
                          "length": 109,
                          "offset": 55,
                          "sentiment": "neutral",
                          "text": "Tons of frame mounts to attach racks, fenders, bottle cages, or whatever you feel like bolting to your bike. "
                        },
                        {
                          "confidenceScores": {
                            "negative": 0.02,
                            "neutral": 0,
                            "positive": 0.98
                          },
                          "length": 95,
                          "offset": 164,
                          "sentiment": "positive",
                          "text": "Comfortable geometry for long rides, and a carbon fork to absorb the shock and reduce fatigue. "
                        },
                        {
                          "confidenceScores": {
                            "negative": 0,
                            "neutral": 0,
                            "positive": 1
                          },
                          "length": 17,
                          "offset": 259,
                          "sentiment": "positive",
                          "text": "I love this bike!"
                        }
                      ],
                      "sentiment": "positive",
                      "warnings": []
                    },
                    "modelVersion": "2022-11-01"
                  },
                  "5": {
                    "detectedLanguage": {
                      "language": "en",
                      "score": 1
                    },
                    "translations": [
                      {
                        "text": "Super fun bike that handles great on the road and off. Tons of frame mounts to attach racks, fenders, bottle cages, or whatever you feel like bolting to your bike. Comfortable geometry for long rides, and a carbon fork to absorb the shock and reduce fatigue. I love this bike!",
                        "to": "en"
                      }
                    ]
                  }
                },
                {
                  "0": "Touring-2000",
                  "1": "4",
                  "2": "best bang for the price!",
                  "3": "Bought this on back order in October. Took forever to get shipped but finally picked it up last week! My wife loves the versatility. Both a great gravel and commuter bike! Just don’t prefer the quick release wheels. Totally worth the price though! Olympic National Park here we come!",
                  "4": {
                    "document": {
                      "confidenceScores": {
                        "negative": 0.19,
                        "neutral": 0.16,
                        "positive": 0.65
                      },
                      "id": "3",
                      "sentences": [
                        {
                          "confidenceScores": {
                            "negative": 0,
                            "neutral": 0.92,
                            "positive": 0.07
                          },
                          "length": 38,
                          "offset": 0,
                          "sentiment": "neutral",
                          "text": "Bought this on back order in October. "
                        },
                        {
                          "confidenceScores": {
                            "negative": 0.05,
                            "neutral": 0.35,
                            "positive": 0.6
                          },
                          "length": 64,
                          "offset": 38,
                          "sentiment": "positive",
                          "text": "Took forever to get shipped but finally picked it up last week! "
                        },
                        {
                          "confidenceScores": {
                            "negative": 0,
                            "neutral": 0,
                            "positive": 1
                          },
                          "length": 31,
                          "offset": 102,
                          "sentiment": "positive",
                          "text": "My wife loves the versatility. "
                        },
                        {
                          "confidenceScores": {
                            "negative": 0,
                            "neutral": 0,
                            "positive": 1
                          },
                          "length": 39,
                          "offset": 133,
                          "sentiment": "positive",
                          "text": "Both a great gravel and commuter bike! "
                        },
                        {
                          "confidenceScores": {
                            "negative": 0.85,
                            "neutral": 0.05,
                            "positive": 0.1
                          },
                          "length": 44,
                          "offset": 172,
                          "sentiment": "negative",
                          "text": "Just don’t prefer the quick release wheels. "
                        },
                        {
                          "confidenceScores": {
                            "negative": 0.04,
                            "neutral": 0.4,
                            "positive": 0.56
                          },
                          "length": 32,
                          "offset": 216,
                          "sentiment": "positive",
                          "text": "Totally worth the price though! "
                        },
                        {
                          "confidenceScores": {
                            "negative": 0,
                            "neutral": 0.87,
                            "positive": 0.12
                          },
                          "length": 35,
                          "offset": 248,
                          "sentiment": "neutral",
                          "text": "Olympic National Park here we come!"
                        }
                      ],
                      "sentiment": "mixed",
                      "warnings": []
                    },
                    "modelVersion": "2022-11-01"
                  },
                  "5": {
                    "detectedLanguage": {
                      "language": "en",
                      "score": 1
                    },
                    "translations": [
                      {
                        "text": "Bought this on back order in October. Took forever to get shipped but finally picked it up last week! My wife loves the versatility. Both a great gravel and commuter bike! Just don’t prefer the quick release wheels. Totally worth the price though! Olympic National Park here we come!",
                        "to": "en"
                      }
                    ]
                  }
                },
                {
                  "0": "Touring-2000",
                  "1": "5",
                  "2": "this is the right bike for me",
                  "3": "I’ve had this bike for about a week and I love it. I’m a large guy for cycling/riding bikes 6’5,280lbs but on this bike I have been able to ride on the road and gravel section in Sacramento, Ca without any issues. Best road/Gravel/Adventure bike I’ve owned.",
                  "4": {
                    "document": {
                      "confidenceScores": {
                        "negative": 0,
                        "neutral": 0.12,
                        "positive": 0.87
                      },
                      "id": "4",
                      "sentences": [
                        {
                          "confidenceScores": {
                            "negative": 0,
                            "neutral": 0,
                            "positive": 1
                          },
                          "length": 51,
                          "offset": 0,
                          "sentiment": "positive",
                          "text": "I’ve had this bike for about a week and I love it. "
                        },
                        {
                          "confidenceScores": {
                            "negative": 0,
                            "neutral": 0.37,
                            "positive": 0.62
                          },
                          "length": 163,
                          "offset": 51,
                          "sentiment": "positive",
                          "text": "I’m a large guy for cycling/riding bikes 6’5,280lbs but on this bike I have been able to ride on the road and gravel section in Sacramento, Ca without any issues. "
                        },
                        {
                          "confidenceScores": {
                            "negative": 0,
                            "neutral": 0,
                            "positive": 1
                          },
                          "length": 43,
                          "offset": 214,
                          "sentiment": "positive",
                          "text": "Best road/Gravel/Adventure bike I’ve owned."
                        }
                      ],
                      "sentiment": "positive",
                      "warnings": []
                    },
                    "modelVersion": "2022-11-01"
                  },
                  "5": {
                    "detectedLanguage": {
                      "language": "en",
                      "score": 1
                    },
                    "translations": [
                      {
                        "text": "I’ve had this bike for about a week and I love it. I’m a large guy for cycling/riding bikes 6’5,280lbs but on this bike I have been able to ride on the road and gravel section in Sacramento, Ca without any issues. Best road/Gravel/Adventure bike I’ve owned.",
                        "to": "en"
                      }
                    ]
                  }
                },
                {
                  "0": "Touring-2000",
                  "1": "4",
                  "2": "A Nice Ride",
                  "3": "This will just be my initial impression of the bike because I've only put about 28 miles on the bike so far. This has to be the most comfortable Road Bike that I've ridden by far. I'm still not accustomed to riding Road Bikes but the Journeyman does allow me to go the distance without experience too much lower back pain. I didn't used to be a fan of riding in the drops - mainly because of lower back pain - but on this bike, I did not feel any discomfort riding in the drops and it certainly makes riding into the wind much less taxing. It is not the fastest bike in my stable. The wider tires certainly creates more rolling resistance, however riding over the rough road surfaces of the Greater Cleveland Area with these wider tires creates an almost plush ride. I will gladly take the tradeoff in speed for the added comfort. I purchased this bike to use a winter commuter. It has all the braze-ons you could ever need for mounting accessories. I specifically like the braze-ons on the top tube. I mounted an anything carrier to the top tube to carry my JBL Charge 3 speaker. Perhaps my favorite thing about this bike will be the 650b tires. Because of my long legs I tend to put the seat up fairly high to allow me more power when I peddle. The smaller wheel diameter means I can comfortably pant my foot on the ground when I'm stopped at lights and not feel like I'm going to tip over.",
                  "4": {
                    "document": {
                      "confidenceScores": {
                        "negative": 0.47,
                        "neutral": 0.1,
                        "positive": 0.43
                      },
                      "id": "5",
                      "sentences": [
                        {
                          "confidenceScores": {
                            "negative": 0,
                            "neutral": 1,
                            "positive": 0
                          },
                          "length": 109,
                          "offset": 0,
                          "sentiment": "neutral",
                          "text": "This will just be my initial impression of the bike because I've only put about 28 miles on the bike so far. "
                        },
                        {
                          "confidenceScores": {
                            "negative": 0,
                            "neutral": 0.05,
                            "positive": 0.95
                          },
                          "length": 71,
                          "offset": 109,
                          "sentiment": "positive",
                          "text": "This has to be the most comfortable Road Bike that I've ridden by far. "
                        },
                        {
                          "confidenceScores": {
                            "negative": 0.94,
                            "neutral": 0.06,
                            "positive": 0
                          },
                          "length": 143,
                          "offset": 180,
                          "sentiment": "negative",
                          "text": "I'm still not accustomed to riding Road Bikes but the Journeyman does allow me to go the distance without experience too much lower back pain. "
                        },
                        {
                          "confidenceScores": {
                            "negative": 0.99,
                            "neutral": 0.01,
                            "positive": 0.01
                          },
                          "length": 217,
                          "offset": 323,
                          "sentiment": "negative",
                          "text": "I didn't used to be a fan of riding in the drops - mainly because of lower back pain - but on this bike, I did not feel any discomfort riding in the drops and it certainly makes riding into the wind much less taxing. "
                        },
                        {
                          "confidenceScores": {
                            "negative": 0.97,
                            "neutral": 0.03,
                            "positive": 0
                          },
                          "length": 41,
                          "offset": 540,
                          "sentiment": "negative",
                          "text": "It is not the fastest bike in my stable. "
                        },
                        {
                          "confidenceScores": {
                            "negative": 0.82,
                            "neutral": 0.17,
                            "positive": 0.01
                          },
                          "length": 186,
                          "offset": 581,
                          "sentiment": "negative",
                          "text": "The wider tires certainly creates more rolling resistance, however riding over the rough road surfaces of the Greater Cleveland Area with these wider tires creates an almost plush ride. "
                        },
                        {
                          "confidenceScores": {
                            "negative": 0,
                            "neutral": 0,
                            "positive": 0.99
                          },
                          "length": 64,
                          "offset": 767,
                          "sentiment": "positive",
                          "text": "I will gladly take the tradeoff in speed for the added comfort. "
                        },
                        {
                          "confidenceScores": {
                            "negative": 0.01,
                            "neutral": 0.89,
                            "positive": 0.1
                          },
                          "length": 48,
                          "offset": 831,
                          "sentiment": "neutral",
                          "text": "I purchased this bike to use a winter commuter. "
                        },
                        {
                          "confidenceScores": {
                            "negative": 0,
                            "neutral": 0.94,
                            "positive": 0.06
                          },
                          "length": 71,
                          "offset": 879,
                          "sentiment": "neutral",
                          "text": "It has all the braze-ons you could ever need for mounting accessories. "
                        },
                        {
                          "confidenceScores": {
                            "negative": 0,
                            "neutral": 0.98,
                            "positive": 0.02
                          },
                          "length": 51,
                          "offset": 950,
                          "sentiment": "neutral",
                          "text": "I specifically like the braze-ons on the top tube. "
                        },
                        {
                          "confidenceScores": {
                            "negative": 0,
                            "neutral": 1,
                            "positive": 0
                          },
                          "length": 80,
                          "offset": 1001,
                          "sentiment": "neutral",
                          "text": "I mounted an anything carrier to the top tube to carry my JBL Charge 3 speaker. "
                        },
                        {
                          "confidenceScores": {
                            "negative": 0,
                            "neutral": 0.02,
                            "positive": 0.98
                          },
                          "length": 66,
                          "offset": 1081,
                          "sentiment": "positive",
                          "text": "Perhaps my favorite thing about this bike will be the 650b tires. "
                        },
                        {
                          "confidenceScores": {
                            "negative": 0,
                            "neutral": 0.99,
                            "positive": 0.01
                          },
                          "length": 100,
                          "offset": 1147,
                          "sentiment": "neutral",
                          "text": "Because of my long legs I tend to put the seat up fairly high to allow me more power when I peddle. "
                        },
                        {
                          "confidenceScores": {
                            "negative": 0.01,
                            "neutral": 0.47,
                            "positive": 0.52
                          },
                          "length": 145,
                          "offset": 1247,
                          "sentiment": "positive",
                          "text": "The smaller wheel diameter means I can comfortably pant my foot on the ground when I'm stopped at lights and not feel like I'm going to tip over."
                        }
                      ],
                      "sentiment": "mixed",
                      "warnings": []
                    },
                    "modelVersion": "2022-11-01"
                  },
                  "5": {
                    "detectedLanguage": {
                      "language": "en",
                      "score": 1
                    },
                    "translations": [
                      {
                        "text": "This will just be my initial impression of the bike because I've only put about 28 miles on the bike so far. This has to be the most comfortable Road Bike that I've ridden by far. I'm still not accustomed to riding Road Bikes but the Journeyman does allow me to go the distance without experience too much lower back pain. I didn't used to be a fan of riding in the drops - mainly because of lower back pain - but on this bike, I did not feel any discomfort riding in the drops and it certainly makes riding into the wind much less taxing. It is not the fastest bike in my stable. The wider tires certainly creates more rolling resistance, however riding over the rough road surfaces of the Greater Cleveland Area with these wider tires creates an almost plush ride. I will gladly take the tradeoff in speed for the added comfort. I purchased this bike to use a winter commuter. It has all the braze-ons you could ever need for mounting accessories. I specifically like the braze-ons on the top tube. I mounted an anything carrier to the top tube to carry my JBL Charge 3 speaker. Perhaps my favorite thing about this bike will be the 650b tires. Because of my long legs I tend to put the seat up fairly high to allow me more power when I peddle. The smaller wheel diameter means I can comfortably pant my foot on the ground when I'm stopped at lights and not feel like I'm going to tip over.",
                        "to": "en"
                      }
                    ]
                  }
                },
                {
                  "0": "Touring-2000",
                  "1": "4",
                  "2": "Smooth ride",
                  "3": "\"1 week in and I'm so far liking this bike very much. I've been riding an early 70s Panasonic road/racing bike for the last 15 years and was ready to add a less \"\"aggressive\"\" postured gravel/road bike. I commute daily and put about 10-15 miles a day on it. The ride is super smooth and the Apex shifters/derailleurs are great! I don't feel like I've lost that much speed with only having a single chainring. Very solid",
                  "4": {
                    "document": {
                      "confidenceScores": {
                        "negative": 0.21,
                        "neutral": 0.04,
                        "positive": 0.75
                      },
                      "id": "6",
                      "sentences": [
                        {
                          "confidenceScores": {
                            "negative": 0,
                            "neutral": 0.01,
                            "positive": 0.99
                          },
                          "length": 54,
                          "offset": 0,
                          "sentiment": "positive",
                          "text": "\"1 week in and I'm so far liking this bike very much. "
                        },
                        {
                          "confidenceScores": {
                            "negative": 0.01,
                            "neutral": 0.99,
                            "positive": 0.01
                          },
                          "length": 149,
                          "offset": 54,
                          "sentiment": "neutral",
                          "text": "I've been riding an early 70s Panasonic road/racing bike for the last 15 years and was ready to add a less \"\"aggressive\"\" postured gravel/road bike. "
                        },
                        {
                          "confidenceScores": {
                            "negative": 0,
                            "neutral": 1,
                            "positive": 0
                          },
                          "length": 55,
                          "offset": 203,
                          "sentiment": "neutral",
                          "text": "I commute daily and put about 10-15 miles a day on it. "
                        },
                        {
                          "confidenceScores": {
                            "negative": 0,
                            "neutral": 0,
                            "positive": 1
                          },
                          "length": 70,
                          "offset": 258,
                          "sentiment": "positive",
                          "text": "The ride is super smooth and the Apex shifters/derailleurs are great! "
                        },
                        {
                          "confidenceScores": {
                            "negative": 0.84,
                            "neutral": 0.15,
                            "positive": 0.01
                          },
                          "length": 81,
                          "offset": 328,
                          "sentiment": "negative",
                          "text": "I don't feel like I've lost that much speed with only having a single chainring. "
                        },
                        {
                          "confidenceScores": {
                            "negative": 0,
                            "neutral": 0.01,
                            "positive": 0.99
                          },
                          "length": 10,
                          "offset": 409,
                          "sentiment": "positive",
                          "text": "Very solid"
                        }
                      ],
                      "sentiment": "mixed",
                      "warnings": []
                    },
                    "modelVersion": "2022-11-01"
                  },
                  "5": {
                    "detectedLanguage": {
                      "language": "en",
                      "score": 1
                    },
                    "translations": [
                      {
                        "text": "\"1 week in and I'm so far liking this bike very much. I've been riding an early 70s Panasonic road/racing bike for the last 15 years and was ready to add a less \"\"aggressive\"\" postured gravel/road bike. I commute daily and put about 10-15 miles a day on it. The ride is super smooth and the Apex shifters/derailleurs are great! I don't feel like I've lost that much speed with only having a single chainring. Very solid",
                        "to": "en"
                      }
                    ]
                  }
                },
                {
                  "0": "Touring-2000",
                  "1": "3",
                  "2": "Initial thoughts",
                  "3": "I picked the bike up last night and noticed a difference from the specs: the front fork uses a thru axle, while the back is QR. I was planning on running my favorite set of wheels on this (both QR), but now can only use one. This was the reason I chose this bike because I'm a big guy and had stronger wheels built. I guess I will be pricing out at least one more wheel. I'll will update this after I've ridden it a while, but beware.",
                  "4": {
                    "document": {
                      "confidenceScores": {
                        "negative": 0.01,
                        "neutral": 0.05,
                        "positive": 0.95
                      },
                      "id": "7",
                      "sentences": [
                        {
                          "confidenceScores": {
                            "negative": 0,
                            "neutral": 1,
                            "positive": 0
                          },
                          "length": 128,
                          "offset": 0,
                          "sentiment": "neutral",
                          "text": "I picked the bike up last night and noticed a difference from the specs: the front fork uses a thru axle, while the back is QR. "
                        },
                        {
                          "confidenceScores": {
                            "negative": 0.01,
                            "neutral": 0.05,
                            "positive": 0.95
                          },
                          "length": 97,
                          "offset": 128,
                          "sentiment": "positive",
                          "text": "I was planning on running my favorite set of wheels on this (both QR), but now can only use one. "
                        },
                        {
                          "confidenceScores": {
                            "negative": 0.01,
                            "neutral": 0.76,
                            "positive": 0.23
                          },
                          "length": 91,
                          "offset": 225,
                          "sentiment": "neutral",
                          "text": "This was the reason I chose this bike because I'm a big guy and had stronger wheels built. "
                        },
                        {
                          "confidenceScores": {
                            "negative": 0,
                            "neutral": 1,
                            "positive": 0
                          },
                          "length": 55,
                          "offset": 316,
                          "sentiment": "neutral",
                          "text": "I guess I will be pricing out at least one more wheel. "
                        },
                        {
                          "confidenceScores": {
                            "negative": 0.07,
                            "neutral": 0.93,
                            "positive": 0.01
                          },
                          "length": 63,
                          "offset": 371,
                          "sentiment": "neutral",
                          "text": "I'll will update this after I've ridden it a while, but beware."
                        }
                      ],
                      "sentiment": "positive",
                      "warnings": []
                    },
                    "modelVersion": "2022-11-01"
                  },
                  "5": {
                    "detectedLanguage": {
                      "language": "en",
                      "score": 1
                    },
                    "translations": [
                      {
                        "text": "I picked the bike up last night and noticed a difference from the specs: the front fork uses a thru axle, while the back is QR. I was planning on running my favorite set of wheels on this (both QR), but now can only use one. This was the reason I chose this bike because I'm a big guy and had stronger wheels built. I guess I will be pricing out at least one more wheel. I'll will update this after I've ridden it a while, but beware.",
                        "to": "en"
                      }
                    ]
                  }
                },
                {
                  "0": "Touring-3000",
                  "1": "5",
                  "2": "Tough touring bike",
                  "3": "Took this little number on it's first ride down the Central Coast of California. I picked it up a few weeks before riding 300 plus miles and took it on single track, road and various dirt terrain. The way it handles with and without bags is amazing. Even without suspension and flat bars, I was able to rock and roll up and down some nasty gravel and dirt. The 650b set up is super soft and cruises well on all surfaces. I was curious if I would lag behind the pack on a long tour (mostly on pavement) but no complaints. The tires and drop bars make for a great ride with little to no drag.",
                  "4": {
                    "document": {
                      "confidenceScores": {
                        "negative": 0.26,
                        "neutral": 0.01,
                        "positive": 0.73
                      },
                      "id": "8",
                      "sentences": [
                        {
                          "confidenceScores": {
                            "negative": 0.14,
                            "neutral": 0.79,
                            "positive": 0.07
                          },
                          "length": 81,
                          "offset": 0,
                          "sentiment": "neutral",
                          "text": "Took this little number on it's first ride down the Central Coast of California. "
                        },
                        {
                          "confidenceScores": {
                            "negative": 0,
                            "neutral": 0.99,
                            "positive": 0
                          },
                          "length": 116,
                          "offset": 81,
                          "sentiment": "neutral",
                          "text": "I picked it up a few weeks before riding 300 plus miles and took it on single track, road and various dirt terrain. "
                        },
                        {
                          "confidenceScores": {
                            "negative": 0,
                            "neutral": 0.01,
                            "positive": 0.99
                          },
                          "length": 53,
                          "offset": 197,
                          "sentiment": "positive",
                          "text": "The way it handles with and without bags is amazing. "
                        },
                        {
                          "confidenceScores": {
                            "negative": 1,
                            "neutral": 0,
                            "positive": 0
                          },
                          "length": 107,
                          "offset": 250,
                          "sentiment": "negative",
                          "text": "Even without suspension and flat bars, I was able to rock and roll up and down some nasty gravel and dirt. "
                        },
                        {
                          "confidenceScores": {
                            "negative": 0,
                            "neutral": 0.63,
                            "positive": 0.37
                          },
                          "length": 64,
                          "offset": 357,
                          "sentiment": "neutral",
                          "text": "The 650b set up is super soft and cruises well on all surfaces. "
                        },
                        {
                          "confidenceScores": {
                            "negative": 0.05,
                            "neutral": 0.03,
                            "positive": 0.92
                          },
                          "length": 100,
                          "offset": 421,
                          "sentiment": "positive",
                          "text": "I was curious if I would lag behind the pack on a long tour (mostly on pavement) but no complaints. "
                        },
                        {
                          "confidenceScores": {
                            "negative": 0,
                            "neutral": 0,
                            "positive": 1
                          },
                          "length": 69,
                          "offset": 521,
                          "sentiment": "positive",
                          "text": "The tires and drop bars make for a great ride with little to no drag."
                        }
                      ],
                      "sentiment": "mixed",
                      "warnings": []
                    },
                    "modelVersion": "2022-11-01"
                  },
                  "5": {
                    "detectedLanguage": {
                      "language": "en",
                      "score": 1
                    },
                    "translations": [
                      {
                        "text": "Took this little number on it's first ride down the Central Coast of California. I picked it up a few weeks before riding 300 plus miles and took it on single track, road and various dirt terrain. The way it handles with and without bags is amazing. Even without suspension and flat bars, I was able to rock and roll up and down some nasty gravel and dirt. The 650b set up is super soft and cruises well on all surfaces. I was curious if I would lag behind the pack on a long tour (mostly on pavement) but no complaints. The tires and drop bars make for a great ride with little to no drag.",
                        "to": "en"
                      }
                    ]
                  }
                },
                {
                  "0": "Touring-3000",
                  "1": "1",
                  "2": "Bottom bracket broke",
                  "3": "Bought this bike for a pacific coast bike tour. Shipped to Seattle, seatpost binder bolt snapped at the airport. Jerry rigged a fix to get to a bike shop. Got a replacement bolt, mechanic suspended the bolt wasn’t made from hardened steel. 1200+ miles later in Gorda, Ca I discover the bottom bracket has come loose and I limp along to Cambria to stay the night. Pretty disappointing. I can’t finish my trip to LA. I haven’t ridden this bike more than 2500 total. Difficult to get tires off rim for flat repair. I can’t say this is an REI problem, but more a tubeless rim/tire combo. I tried three types before I could find a combo that worked.",
                  "4": {
                    "document": {
                      "confidenceScores": {
                        "negative": 0.98,
                        "neutral": 0.02,
                        "positive": 0.01
                      },
                      "id": "9",
                      "sentences": [
                        {
                          "confidenceScores": {
                            "negative": 0.02,
                            "neutral": 0.5,
                            "positive": 0.48
                          },
                          "length": 48,
                          "offset": 0,
                          "sentiment": "neutral",
                          "text": "Bought this bike for a pacific coast bike tour. "
                        },
                        {
                          "confidenceScores": {
                            "negative": 0.96,
                            "neutral": 0.03,
                            "positive": 0.01
                          },
                          "length": 65,
                          "offset": 48,
                          "sentiment": "negative",
                          "text": "Shipped to Seattle, seatpost binder bolt snapped at the airport. "
                        },
                        {
                          "confidenceScores": {
                            "negative": 0.19,
                            "neutral": 0.71,
                            "positive": 0.09
                          },
                          "length": 42,
                          "offset": 113,
                          "sentiment": "neutral",
                          "text": "Jerry rigged a fix to get to a bike shop. "
                        },
                        {
                          "confidenceScores": {
                            "negative": 0.97,
                            "neutral": 0.02,
                            "positive": 0.01
                          },
                          "length": 85,
                          "offset": 155,
                          "sentiment": "negative",
                          "text": "Got a replacement bolt, mechanic suspended the bolt wasn’t made from hardened steel. "
                        },
                        {
                          "confidenceScores": {
                            "negative": 0.99,
                            "neutral": 0.01,
                            "positive": 0
                          },
                          "length": 123,
                          "offset": 240,
                          "sentiment": "negative",
                          "text": "1200+ miles later in Gorda, Ca I discover the bottom bracket has come loose and I limp along to Cambria to stay the night. "
                        },
                        {
                          "confidenceScores": {
                            "negative": 1,
                            "neutral": 0,
                            "positive": 0
                          },
                          "length": 22,
                          "offset": 363,
                          "sentiment": "negative",
                          "text": "Pretty disappointing. "
                        },
                        {
                          "confidenceScores": {
                            "negative": 0.94,
                            "neutral": 0.05,
                            "positive": 0.01
                          },
                          "length": 30,
                          "offset": 385,
                          "sentiment": "negative",
                          "text": "I can’t finish my trip to LA. "
                        },
                        {
                          "confidenceScores": {
                            "negative": 0.18,
                            "neutral": 0.81,
                            "positive": 0
                          },
                          "length": 49,
                          "offset": 415,
                          "sentiment": "neutral",
                          "text": "I haven’t ridden this bike more than 2500 total. "
                        },
                        {
                          "confidenceScores": {
                            "negative": 0.99,
                            "neutral": 0.01,
                            "positive": 0
                          },
                          "length": 48,
                          "offset": 464,
                          "sentiment": "negative",
                          "text": "Difficult to get tires off rim for flat repair. "
                        },
                        {
                          "confidenceScores": {
                            "negative": 0.99,
                            "neutral": 0.01,
                            "positive": 0
                          },
                          "length": 72,
                          "offset": 512,
                          "sentiment": "negative",
                          "text": "I can’t say this is an REI problem, but more a tubeless rim/tire combo. "
                        },
                        {
                          "confidenceScores": {
                            "negative": 0,
                            "neutral": 0.99,
                            "positive": 0.01
                          },
                          "length": 60,
                          "offset": 584,
                          "sentiment": "neutral",
                          "text": "I tried three types before I could find a combo that worked."
                        }
                      ],
                      "sentiment": "negative",
                      "warnings": []
                    },
                    "modelVersion": "2022-11-01"
                  },
                  "5": {
                    "detectedLanguage": {
                      "language": "en",
                      "score": 1
                    },
                    "translations": [
                      {
                        "text": "Bought this bike for a pacific coast bike tour. Shipped to Seattle, seatpost binder bolt snapped at the airport. Jerry rigged a fix to get to a bike shop. Got a replacement bolt, mechanic suspended the bolt wasn’t made from hardened steel. 1200+ miles later in Gorda, Ca I discover the bottom bracket has come loose and I limp along to Cambria to stay the night. Pretty disappointing. I can’t finish my trip to LA. I haven’t ridden this bike more than 2500 total. Difficult to get tires off rim for flat repair. I can’t say this is an REI problem, but more a tubeless rim/tire combo. I tried three types before I could find a combo that worked.",
                        "to": "en"
                      }
                    ]
                  }
                },
                {
                  "0": "Touring-3000",
                  "1": "2",
                  "2": "No hydraulics brakes and more",
                  "3": "No hydraulics brakes. a little under equipped for backpacking. hydraulics brakes is a must. plus its a little pricey for what you are getting. nice handle bar. not to flared out which makes it a all around bike. nice zero offset seat post. no need to buy a zero offset deore is ok. not xt but ok for the purpose. cassette does not have good gearing. the cranks are a bit small. it would be good if they had a 40/30 with higher cassette. The prices a a little high for what you are getting.",
                  "4": {
                    "document": {
                      "confidenceScores": {
                        "negative": 0.42,
                        "neutral": 0.1,
                        "positive": 0.48
                      },
                      "id": "0",
                      "sentences": [
                        {
                          "confidenceScores": {
                            "negative": 0.52,
                            "neutral": 0.48,
                            "positive": 0
                          },
                          "length": 22,
                          "offset": 0,
                          "sentiment": "negative",
                          "text": "No hydraulics brakes. "
                        },
                        {
                          "confidenceScores": {
                            "negative": 0.04,
                            "neutral": 0.91,
                            "positive": 0.05
                          },
                          "length": 41,
                          "offset": 22,
                          "sentiment": "neutral",
                          "text": "a little under equipped for backpacking. "
                        },
                        {
                          "confidenceScores": {
                            "negative": 0,
                            "neutral": 0.78,
                            "positive": 0.21
                          },
                          "length": 29,
                          "offset": 63,
                          "sentiment": "neutral",
                          "text": "hydraulics brakes is a must. "
                        },
                        {
                          "confidenceScores": {
                            "negative": 0.96,
                            "neutral": 0.04,
                            "positive": 0
                          },
                          "length": 51,
                          "offset": 92,
                          "sentiment": "negative",
                          "text": "plus its a little pricey for what you are getting. "
                        },
                        {
                          "confidenceScores": {
                            "negative": 0,
                            "neutral": 0,
                            "positive": 1
                          },
                          "length": 17,
                          "offset": 143,
                          "sentiment": "positive",
                          "text": "nice handle bar. "
                        },
                        {
                          "confidenceScores": {
                            "negative": 0,
                            "neutral": 1,
                            "positive": 0
                          },
                          "length": 52,
                          "offset": 160,
                          "sentiment": "neutral",
                          "text": "not to flared out which makes it a all around bike. "
                        },
                        {
                          "confidenceScores": {
                            "negative": 0.01,
                            "neutral": 0.01,
                            "positive": 0.98
                          },
                          "length": 70,
                          "offset": 212,
                          "sentiment": "positive",
                          "text": "nice zero offset seat post. no need to buy a zero offset deore is ok. "
                        },
                        {
                          "confidenceScores": {
                            "negative": 0.03,
                            "neutral": 0.93,
                            "positive": 0.04
                          },
                          "length": 31,
                          "offset": 282,
                          "sentiment": "neutral",
                          "text": "not xt but ok for the purpose. "
                        },
                        {
                          "confidenceScores": {
                            "negative": 1,
                            "neutral": 0,
                            "positive": 0
                          },
                          "length": 37,
                          "offset": 313,
                          "sentiment": "negative",
                          "text": "cassette does not have good gearing. "
                        },
                        {
                          "confidenceScores": {
                            "negative": 0.15,
                            "neutral": 0.85,
                            "positive": 0
                          },
                          "length": 28,
                          "offset": 350,
                          "sentiment": "neutral",
                          "text": "the cranks are a bit small. "
                        },
                        {
                          "confidenceScores": {
                            "negative": 0.01,
                            "neutral": 0.09,
                            "positive": 0.9
                          },
                          "length": 59,
                          "offset": 378,
                          "sentiment": "positive",
                          "text": "it would be good if they had a 40/30 with higher cassette. "
                        },
                        {
                          "confidenceScores": {
                            "negative": 0.1,
                            "neutral": 0.89,
                            "positive": 0.01
                          },
                          "length": 52,
                          "offset": 437,
                          "sentiment": "neutral",
                          "text": "The prices a a little high for what you are getting."
                        }
                      ],
                      "sentiment": "mixed",
                      "warnings": []
                    },
                    "modelVersion": "2022-11-01"
                  },
                  "5": {
                    "detectedLanguage": {
                      "language": "en",
                      "score": 0.99
                    },
                    "translations": [
                      {
                        "text": "No hydraulics brakes. a little under equipped for backpacking. hydraulics brakes is a must. plus its a little pricey for what you are getting. nice handle bar. not to flared out which makes it a all around bike. nice zero offset seat post. no need to buy a zero offset deore is ok. not xt but ok for the purpose. cassette does not have good gearing. the cranks are a bit small. it would be good if they had a 40/30 with higher cassette. The prices a a little high for what you are getting.",
                        "to": "en"
                      }
                    ]
                  }
                },
                {
                  "0": "Mountain-100",
                  "1": "3",
                  "2": "Nice bike but...",
                  "3": "Just purchased this bike. It’s my first full suspension. Feels very comfortable, it’s fun, and definitely increased my confidence. For the price it has more than a lot of other FS out there. However, I have only gone on two rides with this bike and I experienced the same issue. The SRAM Eagle SX derailleur keeps failing. I think they could have provided an upgraded component. Maybe a GX? I noticed that the 2019 game with a Shimano derailleur, and everyone seems to like that bike. Anyways, I took the bike back to my local REI and they fixed it the first time, tightened everything up, but still failed the next day in the middle of the trail. The guys at my local REI are awesome and are replacing it with a SRAM NX. Hopefully this works better. Kinda bummed I have to wait about a week for the part to arrive, so I haven’t got much time to enjoy the bike.",
                  "4": {
                    "document": {
                      "confidenceScores": {
                        "negative": 0.44,
                        "neutral": 0.08,
                        "positive": 0.48
                      },
                      "id": "1",
                      "sentences": [
                        {
                          "confidenceScores": {
                            "negative": 0.01,
                            "neutral": 0.82,
                            "positive": 0.17
                          },
                          "length": 26,
                          "offset": 0,
                          "sentiment": "neutral",
                          "text": "Just purchased this bike. "
                        },
                        {
                          "confidenceScores": {
                            "negative": 0.02,
                            "neutral": 0.64,
                            "positive": 0.34
                          },
                          "length": 31,
                          "offset": 26,
                          "sentiment": "neutral",
                          "text": "It’s my first full suspension. "
                        },
                        {
                          "confidenceScores": {
                            "negative": 0,
                            "neutral": 0,
                            "positive": 1
                          },
                          "length": 74,
                          "offset": 57,
                          "sentiment": "positive",
                          "text": "Feels very comfortable, it’s fun, and definitely increased my confidence. "
                        },
                        {
                          "confidenceScores": {
                            "negative": 0,
                            "neutral": 1,
                            "positive": 0
                          },
                          "length": 60,
                          "offset": 131,
                          "sentiment": "neutral",
                          "text": "For the price it has more than a lot of other FS out there. "
                        },
                        {
                          "confidenceScores": {
                            "negative": 0.56,
                            "neutral": 0.44,
                            "positive": 0
                          },
                          "length": 88,
                          "offset": 191,
                          "sentiment": "negative",
                          "text": "However, I have only gone on two rides with this bike and I experienced the same issue. "
                        },
                        {
                          "confidenceScores": {
                            "negative": 0.99,
                            "neutral": 0.01,
                            "positive": 0
                          },
                          "length": 44,
                          "offset": 279,
                          "sentiment": "negative",
                          "text": "The SRAM Eagle SX derailleur keeps failing. "
                        },
                        {
                          "confidenceScores": {
                            "negative": 0,
                            "neutral": 0.99,
                            "positive": 0.01
                          },
                          "length": 56,
                          "offset": 323,
                          "sentiment": "neutral",
                          "text": "I think they could have provided an upgraded component. "
                        },
                        {
                          "confidenceScores": {
                            "negative": 0,
                            "neutral": 0.99,
                            "positive": 0
                          },
                          "length": 12,
                          "offset": 379,
                          "sentiment": "neutral",
                          "text": "Maybe a GX? "
                        },
                        {
                          "confidenceScores": {
                            "negative": 0.01,
                            "neutral": 0.15,
                            "positive": 0.84
                          },
                          "length": 94,
                          "offset": 391,
                          "sentiment": "positive",
                          "text": "I noticed that the 2019 game with a Shimano derailleur, and everyone seems to like that bike. "
                        },
                        {
                          "confidenceScores": {
                            "negative": 1,
                            "neutral": 0,
                            "positive": 0
                          },
                          "length": 163,
                          "offset": 485,
                          "sentiment": "negative",
                          "text": "Anyways, I took the bike back to my local REI and they fixed it the first time, tightened everything up, but still failed the next day in the middle of the trail. "
                        },
                        {
                          "confidenceScores": {
                            "negative": 0,
                            "neutral": 0,
                            "positive": 0.99
                          },
                          "length": 74,
                          "offset": 648,
                          "sentiment": "positive",
                          "text": "The guys at my local REI are awesome and are replacing it with a SRAM NX. "
                        },
                        {
                          "confidenceScores": {
                            "negative": 0,
                            "neutral": 0,
                            "positive": 0.99
                          },
                          "length": 29,
                          "offset": 722,
                          "sentiment": "positive",
                          "text": "Hopefully this works better. "
                        },
                        {
                          "confidenceScores": {
                            "negative": 1,
                            "neutral": 0,
                            "positive": 0
                          },
                          "length": 110,
                          "offset": 751,
                          "sentiment": "negative",
                          "text": "Kinda bummed I have to wait about a week for the part to arrive, so I haven’t got much time to enjoy the bike."
                        }
                      ],
                      "sentiment": "mixed",
                      "warnings": []
                    },
                    "modelVersion": "2022-11-01"
                  },
                  "5": {
                    "detectedLanguage": {
                      "language": "en",
                      "score": 1
                    },
                    "translations": [
                      {
                        "text": "Just purchased this bike. It’s my first full suspension. Feels very comfortable, it’s fun, and definitely increased my confidence. For the price it has more than a lot of other FS out there. However, I have only gone on two rides with this bike and I experienced the same issue. The SRAM Eagle SX derailleur keeps failing. I think they could have provided an upgraded component. Maybe a GX? I noticed that the 2019 game with a Shimano derailleur, and everyone seems to like that bike. Anyways, I took the bike back to my local REI and they fixed it the first time, tightened everything up, but still failed the next day in the middle of the trail. The guys at my local REI are awesome and are replacing it with a SRAM NX. Hopefully this works better. Kinda bummed I have to wait about a week for the part to arrive, so I haven’t got much time to enjoy the bike.",
                        "to": "en"
                      }
                    ]
                  }
                },
                {
                  "0": "Mountain-100",
                  "1": "5",
                  "2": "Perfect for beginners!",
                  "3": "I bought this bike as I was just getting into single track trail riding this summer for the first time and I am so happy this is the one I chose. The bike has fantastic brakes and suspension. The gears shift effortlessly. Even the tires that came with were an added bonus. I feel like I have so much control with this bike. Highly recommended!",
                  "4": {
                    "document": {
                      "confidenceScores": {
                        "negative": 0,
                        "neutral": 0,
                        "positive": 1
                      },
                      "id": "2",
                      "sentences": [
                        {
                          "confidenceScores": {
                            "negative": 0,
                            "neutral": 0,
                            "positive": 1
                          },
                          "length": 146,
                          "offset": 0,
                          "sentiment": "positive",
                          "text": "I bought this bike as I was just getting into single track trail riding this summer for the first time and I am so happy this is the one I chose. "
                        },
                        {
                          "confidenceScores": {
                            "negative": 0,
                            "neutral": 0,
                            "positive": 1
                          },
                          "length": 46,
                          "offset": 146,
                          "sentiment": "positive",
                          "text": "The bike has fantastic brakes and suspension. "
                        },
                        {
                          "confidenceScores": {
                            "negative": 0.01,
                            "neutral": 0.82,
                            "positive": 0.17
                          },
                          "length": 30,
                          "offset": 192,
                          "sentiment": "neutral",
                          "text": "The gears shift effortlessly. "
                        },
                        {
                          "confidenceScores": {
                            "negative": 0.01,
                            "neutral": 0.58,
                            "positive": 0.4
                          },
                          "length": 51,
                          "offset": 222,
                          "sentiment": "neutral",
                          "text": "Even the tires that came with were an added bonus. "
                        },
                        {
                          "confidenceScores": {
                            "negative": 0,
                            "neutral": 0.97,
                            "positive": 0.03
                          },
                          "length": 51,
                          "offset": 273,
                          "sentiment": "neutral",
                          "text": "I feel like I have so much control with this bike. "
                        },
                        {
                          "confidenceScores": {
                            "negative": 0,
                            "neutral": 0,
                            "positive": 1
                          },
                          "length": 19,
                          "offset": 324,
                          "sentiment": "positive",
                          "text": "Highly recommended!"
                        }
                      ],
                      "sentiment": "positive",
                      "warnings": []
                    },
                    "modelVersion": "2022-11-01"
                  },
                  "5": {
                    "detectedLanguage": {
                      "language": "en",
                      "score": 1
                    },
                    "translations": [
                      {
                        "text": "I bought this bike as I was just getting into single track trail riding this summer for the first time and I am so happy this is the one I chose. The bike has fantastic brakes and suspension. The gears shift effortlessly. Even the tires that came with were an added bonus. I feel like I have so much control with this bike. Highly recommended!",
                        "to": "en"
                      }
                    ]
                  }
                },
                {
                  "0": "Mountain-100",
                  "1": "5",
                  "2": "I LOVE MOUNTAIN BIKING!",
                  "3": "Prior to purchasing this bike, my son purchased this same bike in a men's extra large, for himself. The women's version of his bike was later purchased for my son's fiancee. She has now become an avid mountain biker! My son and his fiancee went to REI shortly after my son purchased his bike, to get the women's version of his bike for his fiancee. Together with my son, my two daughters, my grandson, and my son-in-law, my son's fiancee has now become an avid mountain biker and loves her bike!",
                  "4": {
                    "document": {
                      "confidenceScores": {
                        "negative": 0,
                        "neutral": 0,
                        "positive": 1
                      },
                      "id": "3",
                      "sentences": [
                        {
                          "confidenceScores": {
                            "negative": 0.01,
                            "neutral": 0.95,
                            "positive": 0.04
                          },
                          "length": 100,
                          "offset": 0,
                          "sentiment": "neutral",
                          "text": "Prior to purchasing this bike, my son purchased this same bike in a men's extra large, for himself. "
                        },
                        {
                          "confidenceScores": {
                            "negative": 0,
                            "neutral": 0.97,
                            "positive": 0.03
                          },
                          "length": 74,
                          "offset": 100,
                          "sentiment": "neutral",
                          "text": "The women's version of his bike was later purchased for my son's fiancee. "
                        },
                        {
                          "confidenceScores": {
                            "negative": 0.01,
                            "neutral": 0.88,
                            "positive": 0.11
                          },
                          "length": 43,
                          "offset": 174,
                          "sentiment": "neutral",
                          "text": "She has now become an avid mountain biker! "
                        },
                        {
                          "confidenceScores": {
                            "negative": 0.01,
                            "neutral": 0.79,
                            "positive": 0.2
                          },
                          "length": 132,
                          "offset": 217,
                          "sentiment": "neutral",
                          "text": "My son and his fiancee went to REI shortly after my son purchased his bike, to get the women's version of his bike for his fiancee. "
                        },
                        {
                          "confidenceScores": {
                            "negative": 0,
                            "neutral": 0,
                            "positive": 1
                          },
                          "length": 146,
                          "offset": 349,
                          "sentiment": "positive",
                          "text": "Together with my son, my two daughters, my grandson, and my son-in-law, my son's fiancee has now become an avid mountain biker and loves her bike!"
                        }
                      ],
                      "sentiment": "positive",
                      "warnings": []
                    },
                    "modelVersion": "2022-11-01"
                  },
                  "5": {
                    "detectedLanguage": {
                      "language": "en",
                      "score": 1
                    },
                    "translations": [
                      {
                        "text": "Prior to purchasing this bike, my son purchased this same bike in a men's extra large, for himself. The women's version of his bike was later purchased for my son's fiancee. She has now become an avid mountain biker! My son and his fiancee went to REI shortly after my son purchased his bike, to get the women's version of his bike for his fiancee. Together with my son, my two daughters, my grandson, and my son-in-law, my son's fiancee has now become an avid mountain biker and loves her bike!",
                        "to": "en"
                      }
                    ]
                  }
                },
                {
                  "0": "Mountain-100",
                  "1": "5",
                  "2": "Mountain Bike",
                  "3": "This bike is very fun to ride. Shifts and brakes very smoothly. Wide range of gears made for almost effortless peddling. Trying to get my spouse to buy one. No issues with this purchase. Thank you.",
                  "4": {
                    "document": {
                      "confidenceScores": {
                        "negative": 0.09,
                        "neutral": 0.11,
                        "positive": 0.8
                      },
                      "id": "4",
                      "sentences": [
                        {
                          "confidenceScores": {
                            "negative": 0,
                            "neutral": 0,
                            "positive": 1
                          },
                          "length": 31,
                          "offset": 0,
                          "sentiment": "positive",
                          "text": "This bike is very fun to ride. "
                        },
                        {
                          "confidenceScores": {
                            "negative": 0,
                            "neutral": 0.08,
                            "positive": 0.91
                          },
                          "length": 33,
                          "offset": 31,
                          "sentiment": "positive",
                          "text": "Shifts and brakes very smoothly. "
                        },
                        {
                          "confidenceScores": {
                            "negative": 0.01,
                            "neutral": 0.29,
                            "positive": 0.71
                          },
                          "length": 57,
                          "offset": 64,
                          "sentiment": "positive",
                          "text": "Wide range of gears made for almost effortless peddling. "
                        },
                        {
                          "confidenceScores": {
                            "negative": 0.01,
                            "neutral": 0.97,
                            "positive": 0.03
                          },
                          "length": 36,
                          "offset": 121,
                          "sentiment": "neutral",
                          "text": "Trying to get my spouse to buy one. "
                        },
                        {
                          "confidenceScores": {
                            "negative": 0.45,
                            "neutral": 0.12,
                            "positive": 0.43
                          },
                          "length": 30,
                          "offset": 157,
                          "sentiment": "negative",
                          "text": "No issues with this purchase. "
                        },
                        {
                          "confidenceScores": {
                            "negative": 0,
                            "neutral": 0.03,
                            "positive": 0.97
                          },
                          "length": 10,
                          "offset": 187,
                          "sentiment": "positive",
                          "text": "Thank you."
                        }
                      ],
                      "sentiment": "mixed",
                      "warnings": []
                    },
                    "modelVersion": "2022-11-01"
                  },
                  "5": {
                    "detectedLanguage": {
                      "language": "en",
                      "score": 1
                    },
                    "translations": [
                      {
                        "text": "This bike is very fun to ride. Shifts and brakes very smoothly. Wide range of gears made for almost effortless peddling. Trying to get my spouse to buy one. No issues with this purchase. Thank you.",
                        "to": "en"
                      }
                    ]
                  }
                },
                {
                  "0": "Mountain-100",
                  "1": "5",
                  "2": "Makes riding easier.",
                  "3": "My wife and I both purchased this bike and so far, less than a month, we have been very happy with these bikes.",
                  "4": {
                    "document": {
                      "confidenceScores": {
                        "negative": 0,
                        "neutral": 0,
                        "positive": 1
                      },
                      "id": "5",
                      "sentences": [
                        {
                          "confidenceScores": {
                            "negative": 0,
                            "neutral": 0,
                            "positive": 1
                          },
                          "length": 111,
                          "offset": 0,
                          "sentiment": "positive",
                          "text": "My wife and I both purchased this bike and so far, less than a month, we have been very happy with these bikes."
                        }
                      ],
                      "sentiment": "positive",
                      "warnings": []
                    },
                    "modelVersion": "2022-11-01"
                  },
                  "5": {
                    "detectedLanguage": {
                      "language": "en",
                      "score": 1
                    },
                    "translations": [
                      {
                        "text": "My wife and I both purchased this bike and so far, less than a month, we have been very happy with these bikes.",
                        "to": "en"
                      }
                    ]
                  }
                },
                {
                  "0": "Mountain-200",
                  "1": "5",
                  "2": "Rides great! Love the Geometry and fat tires.",
                  "3": "REI seemed to crank another more than decent MTB under the new co-op brand. The geometry follows today’s trends and just riding the around, it pretty solid. I couldn’t find any info on these WTB RSi40 rims, but I’m kinda liking the 2.8 wheels on a 27.5. I also got the wheels converted to tubeless for free in the store (although I did have to buy valve stems and sealant). I don’t have a lot of ride time yet but thought I’d write something since I can’t find any reviews of this bike online.",
                  "4": {
                    "document": {
                      "confidenceScores": {
                        "negative": 0.16,
                        "neutral": 0.13,
                        "positive": 0.7
                      },
                      "id": "6",
                      "sentences": [
                        {
                          "confidenceScores": {
                            "negative": 0.05,
                            "neutral": 0.05,
                            "positive": 0.9
                          },
                          "length": 76,
                          "offset": 0,
                          "sentiment": "positive",
                          "text": "REI seemed to crank another more than decent MTB under the new co-op brand. "
                        },
                        {
                          "confidenceScores": {
                            "negative": 0,
                            "neutral": 0.05,
                            "positive": 0.94
                          },
                          "length": 81,
                          "offset": 76,
                          "sentiment": "positive",
                          "text": "The geometry follows today’s trends and just riding the around, it pretty solid. "
                        },
                        {
                          "confidenceScores": {
                            "negative": 0,
                            "neutral": 0.04,
                            "positive": 0.96
                          },
                          "length": 97,
                          "offset": 157,
                          "sentiment": "positive",
                          "text": "I couldn’t find any info on these WTB RSi40 rims, but I’m kinda liking the 2.8 wheels on a 27.5. "
                        },
                        {
                          "confidenceScores": {
                            "negative": 0,
                            "neutral": 0.99,
                            "positive": 0
                          },
                          "length": 120,
                          "offset": 254,
                          "sentiment": "neutral",
                          "text": "I also got the wheels converted to tubeless for free in the store (although I did have to buy valve stems and sealant). "
                        },
                        {
                          "confidenceScores": {
                            "negative": 0.6,
                            "neutral": 0.39,
                            "positive": 0.01
                          },
                          "length": 119,
                          "offset": 374,
                          "sentiment": "negative",
                          "text": "I don’t have a lot of ride time yet but thought I’d write something since I can’t find any reviews of this bike online."
                        }
                      ],
                      "sentiment": "mixed",
                      "warnings": []
                    },
                    "modelVersion": "2022-11-01"
                  },
                  "5": {
                    "detectedLanguage": {
                      "language": "en",
                      "score": 1
                    },
                    "translations": [
                      {
                        "text": "REI seemed to crank another more than decent MTB under the new co-op brand. The geometry follows today’s trends and just riding the around, it pretty solid. I couldn’t find any info on these WTB RSi40 rims, but I’m kinda liking the 2.8 wheels on a 27.5. I also got the wheels converted to tubeless for free in the store (although I did have to buy valve stems and sealant). I don’t have a lot of ride time yet but thought I’d write something since I can’t find any reviews of this bike online.",
                        "to": "en"
                      }
                    ]
                  }
                },
                {
                  "0": "Mountain-200",
                  "1": "4",
                  "2": "Great bike to upgrade",
                  "3": "I've ridden bikes for years, however not so much Full Suspension trail bikes. I liked this bike simply because of the frame and color. It comes equipped with everything you need to hit the trails. I recently took out the stock tires and added Maxxis DHR II and DHF (Tubeless) just by doing that the bike traction has been great. I've had the bike for over a month and absolutely love it. With that said I would give it a 3.5/5 just because it's more of a bike to upgrade with rather than sticking with the stocked parts. My chain got stiff links just within a couple weeks. Front and rear shocks are just fine.",
                  "4": {
                    "document": {
                      "confidenceScores": {
                        "negative": 0,
                        "neutral": 0.02,
                        "positive": 0.97
                      },
                      "id": "7",
                      "sentences": [
                        {
                          "confidenceScores": {
                            "negative": 0.01,
                            "neutral": 0.99,
                            "positive": 0.01
                          },
                          "length": 78,
                          "offset": 0,
                          "sentiment": "neutral",
                          "text": "I've ridden bikes for years, however not so much Full Suspension trail bikes. "
                        },
                        {
                          "confidenceScores": {
                            "negative": 0,
                            "neutral": 0,
                            "positive": 1
                          },
                          "length": 57,
                          "offset": 78,
                          "sentiment": "positive",
                          "text": "I liked this bike simply because of the frame and color. "
                        },
                        {
                          "confidenceScores": {
                            "negative": 0,
                            "neutral": 0.97,
                            "positive": 0.03
                          },
                          "length": 62,
                          "offset": 135,
                          "sentiment": "neutral",
                          "text": "It comes equipped with everything you need to hit the trails. "
                        },
                        {
                          "confidenceScores": {
                            "negative": 0,
                            "neutral": 0.01,
                            "positive": 0.99
                          },
                          "length": 132,
                          "offset": 197,
                          "sentiment": "positive",
                          "text": "I recently took out the stock tires and added Maxxis DHR II and DHF (Tubeless) just by doing that the bike traction has been great. "
                        },
                        {
                          "confidenceScores": {
                            "negative": 0,
                            "neutral": 0,
                            "positive": 1
                          },
                          "length": 59,
                          "offset": 329,
                          "sentiment": "positive",
                          "text": "I've had the bike for over a month and absolutely love it. "
                        },
                        {
                          "confidenceScores": {
                            "negative": 0.01,
                            "neutral": 0.97,
                            "positive": 0.02
                          },
                          "length": 133,
                          "offset": 388,
                          "sentiment": "neutral",
                          "text": "With that said I would give it a 3.5/5 just because it's more of a bike to upgrade with rather than sticking with the stocked parts. "
                        },
                        {
                          "confidenceScores": {
                            "negative": 0,
                            "neutral": 1,
                            "positive": 0
                          },
                          "length": 53,
                          "offset": 521,
                          "sentiment": "neutral",
                          "text": "My chain got stiff links just within a couple weeks. "
                        },
                        {
                          "confidenceScores": {
                            "negative": 0.01,
                            "neutral": 0.08,
                            "positive": 0.9
                          },
                          "length": 36,
                          "offset": 574,
                          "sentiment": "positive",
                          "text": "Front and rear shocks are just fine."
                        }
                      ],
                      "sentiment": "positive",
                      "warnings": []
                    },
                    "modelVersion": "2022-11-01"
                  },
                  "5": {
                    "detectedLanguage": {
                      "language": "en",
                      "score": 1
                    },
                    "translations": [
                      {
                        "text": "I've ridden bikes for years, however not so much Full Suspension trail bikes. I liked this bike simply because of the frame and color. It comes equipped with everything you need to hit the trails. I recently took out the stock tires and added Maxxis DHR II and DHF (Tubeless) just by doing that the bike traction has been great. I've had the bike for over a month and absolutely love it. With that said I would give it a 3.5/5 just because it's more of a bike to upgrade with rather than sticking with the stocked parts. My chain got stiff links just within a couple weeks. Front and rear shocks are just fine.",
                        "to": "en"
                      }
                    ]
                  }
                },
                {
                  "0": "Mountain-200",
                  "1": "5",
                  "2": "Solid Bike for the Price",
                  "3": "Extremely smooth and solid bike, other users complaining about shock noise have the rebound adjust on (turtle) which is obviously slow which causes the air to move slower through the internal valve of the shock causing noise. When set on (rabbit) the shocks are quiet and smooth. Frame is very comfortable with a drastic rake aft. With the clutch engaged the drivetrain is quiet over obstacles. Overall it is a great bike for the price. This is my second REI Co-Op bike, always love there sophisticated color schemes --- Thanks for making good looking Bikes REI!",
                  "4": {
                    "document": {
                      "confidenceScores": {
                        "negative": 0.25,
                        "neutral": 0,
                        "positive": 0.75
                      },
                      "id": "8",
                      "sentences": [
                        {
                          "confidenceScores": {
                            "negative": 0.98,
                            "neutral": 0,
                            "positive": 0.01
                          },
                          "length": 226,
                          "offset": 0,
                          "sentiment": "negative",
                          "text": "Extremely smooth and solid bike, other users complaining about shock noise have the rebound adjust on (turtle) which is obviously slow which causes the air to move slower through the internal valve of the shock causing noise. "
                        },
                        {
                          "confidenceScores": {
                            "negative": 0,
                            "neutral": 0.85,
                            "positive": 0.14
                          },
                          "length": 54,
                          "offset": 226,
                          "sentiment": "neutral",
                          "text": "When set on (rabbit) the shocks are quiet and smooth. "
                        },
                        {
                          "confidenceScores": {
                            "negative": 0,
                            "neutral": 0,
                            "positive": 1
                          },
                          "length": 51,
                          "offset": 280,
                          "sentiment": "positive",
                          "text": "Frame is very comfortable with a drastic rake aft. "
                        },
                        {
                          "confidenceScores": {
                            "negative": 0.22,
                            "neutral": 0.71,
                            "positive": 0.06
                          },
                          "length": 64,
                          "offset": 331,
                          "sentiment": "neutral",
                          "text": "With the clutch engaged the drivetrain is quiet over obstacles. "
                        },
                        {
                          "confidenceScores": {
                            "negative": 0,
                            "neutral": 0,
                            "positive": 1
                          },
                          "length": 42,
                          "offset": 395,
                          "sentiment": "positive",
                          "text": "Overall it is a great bike for the price. "
                        },
                        {
                          "confidenceScores": {
                            "negative": 0,
                            "neutral": 0,
                            "positive": 1
                          },
                          "length": 125,
                          "offset": 437,
                          "sentiment": "positive",
                          "text": "This is my second REI Co-Op bike, always love there sophisticated color schemes --- Thanks for making good looking Bikes REI!"
                        }
                      ],
                      "sentiment": "mixed",
                      "warnings": []
                    },
                    "modelVersion": "2022-11-01"
                  },
                  "5": {
                    "detectedLanguage": {
                      "language": "en",
                      "score": 1
                    },
                    "translations": [
                      {
                        "text": "Extremely smooth and solid bike, other users complaining about shock noise have the rebound adjust on (turtle) which is obviously slow which causes the air to move slower through the internal valve of the shock causing noise. When set on (rabbit) the shocks are quiet and smooth. Frame is very comfortable with a drastic rake aft. With the clutch engaged the drivetrain is quiet over obstacles. Overall it is a great bike for the price. This is my second REI Co-Op bike, always love there sophisticated color schemes --- Thanks for making good looking Bikes REI!",
                        "to": "en"
                      }
                    ]
                  }
                },
                {
                  "0": "Mountain-200",
                  "1": "1",
                  "2": "Poor assembly; poor customer service",
                  "3": "I was excited to pick this up, drive from over 3 hours away as there are no reputable bike shops near me. When they wheeled it out I was thrilled. After advising I should purchase a pump for the air suspension, I had a simple question for the person at the bike shop desk. “I don’t know. I’m not a mountain biker.” Was how it was answered, with no follow up. Not exactly what I expected from an REI employee. Fast forward a month and about 8 hours of trail later, the bike is almost unusable. What may be a problem with the chain is causing slippage and near constant missed shifts. Brake caliper bolts were found to be loose, judging by loctite on the threads, it seems they were never torqued or even tightened. There is creaking coming from what may be the bottom bracket and excessive side to side play in the rear wheel. I still hope to get this bike dialed in and am disappointed I need to set aside a day to bring it back and get the chain issue taken care of, just to be able to get enough time on it to make a review of the actual product, as I suspect properly assembled it would rate a 4/5.",
                  "4": {
                    "document": {
                      "confidenceScores": {
                        "negative": 0.72,
                        "neutral": 0.07,
                        "positive": 0.21
                      },
                      "id": "9",
                      "sentences": [
                        {
                          "confidenceScores": {
                            "negative": 0.01,
                            "neutral": 0,
                            "positive": 0.99
                          },
                          "length": 106,
                          "offset": 0,
                          "sentiment": "positive",
                          "text": "I was excited to pick this up, drive from over 3 hours away as there are no reputable bike shops near me. "
                        },
                        {
                          "confidenceScores": {
                            "negative": 0.02,
                            "neutral": 0.11,
                            "positive": 0.87
                          },
                          "length": 41,
                          "offset": 106,
                          "sentiment": "positive",
                          "text": "When they wheeled it out I was thrilled. "
                        },
                        {
                          "confidenceScores": {
                            "negative": 0,
                            "neutral": 0.97,
                            "positive": 0.03
                          },
                          "length": 126,
                          "offset": 147,
                          "sentiment": "neutral",
                          "text": "After advising I should purchase a pump for the air suspension, I had a simple question for the person at the bike shop desk. "
                        },
                        {
                          "confidenceScores": {
                            "negative": 0.03,
                            "neutral": 0.97,
                            "positive": 0
                          },
                          "length": 15,
                          "offset": 273,
                          "sentiment": "neutral",
                          "text": "“I don’t know. "
                        },
                        {
                          "confidenceScores": {
                            "negative": 0.06,
                            "neutral": 0.94,
                            "positive": 0.01
                          },
                          "length": 27,
                          "offset": 288,
                          "sentiment": "neutral",
                          "text": "I’m not a mountain biker.” "
                        },
                        {
                          "confidenceScores": {
                            "negative": 0.57,
                            "neutral": 0.42,
                            "positive": 0
                          },
                          "length": 44,
                          "offset": 315,
                          "sentiment": "negative",
                          "text": "Was how it was answered, with no follow up. "
                        },
                        {
                          "confidenceScores": {
                            "negative": 0.88,
                            "neutral": 0.11,
                            "positive": 0.01
                          },
                          "length": 50,
                          "offset": 359,
                          "sentiment": "negative",
                          "text": "Not exactly what I expected from an REI employee. "
                        },
                        {
                          "confidenceScores": {
                            "negative": 0.98,
                            "neutral": 0.02,
                            "positive": 0
                          },
                          "length": 84,
                          "offset": 409,
                          "sentiment": "negative",
                          "text": "Fast forward a month and about 8 hours of trail later, the bike is almost unusable. "
                        },
                        {
                          "confidenceScores": {
                            "negative": 1,
                            "neutral": 0,
                            "positive": 0
                          },
                          "length": 90,
                          "offset": 493,
                          "sentiment": "negative",
                          "text": "What may be a problem with the chain is causing slippage and near constant missed shifts. "
                        },
                        {
                          "confidenceScores": {
                            "negative": 1,
                            "neutral": 0,
                            "positive": 0
                          },
                          "length": 131,
                          "offset": 583,
                          "sentiment": "negative",
                          "text": "Brake caliper bolts were found to be loose, judging by loctite on the threads, it seems they were never torqued or even tightened. "
                        },
                        {
                          "confidenceScores": {
                            "negative": 1,
                            "neutral": 0,
                            "positive": 0
                          },
                          "length": 112,
                          "offset": 714,
                          "sentiment": "negative",
                          "text": "There is creaking coming from what may be the bottom bracket and excessive side to side play in the rear wheel. "
                        },
                        {
                          "confidenceScores": {
                            "negative": 0.99,
                            "neutral": 0,
                            "positive": 0.01
                          },
                          "length": 275,
                          "offset": 826,
                          "sentiment": "negative",
                          "text": "I still hope to get this bike dialed in and am disappointed I need to set aside a day to bring it back and get the chain issue taken care of, just to be able to get enough time on it to make a review of the actual product, as I suspect properly assembled it would rate a 4/5."
                        }
                      ],
                      "sentiment": "mixed",
                      "warnings": []
                    },
                    "modelVersion": "2022-11-01"
                  },
                  "5": {
                    "detectedLanguage": {
                      "language": "en",
                      "score": 1
                    },
                    "translations": [
                      {
                        "text": "I was excited to pick this up, drive from over 3 hours away as there are no reputable bike shops near me. When they wheeled it out I was thrilled. After advising I should purchase a pump for the air suspension, I had a simple question for the person at the bike shop desk. “I don’t know. I’m not a mountain biker.” Was how it was answered, with no follow up. Not exactly what I expected from an REI employee. Fast forward a month and about 8 hours of trail later, the bike is almost unusable. What may be a problem with the chain is causing slippage and near constant missed shifts. Brake caliper bolts were found to be loose, judging by loctite on the threads, it seems they were never torqued or even tightened. There is creaking coming from what may be the bottom bracket and excessive side to side play in the rear wheel. I still hope to get this bike dialed in and am disappointed I need to set aside a day to bring it back and get the chain issue taken care of, just to be able to get enough time on it to make a review of the actual product, as I suspect properly assembled it would rate a 4/5.",
                        "to": "en"
                      }
                    ]
                  }
                },
                {
                  "0": "Mountain-200",
                  "1": "3",
                  "2": "Enjoyed but returned...",
                  "3": "Really fun bike, unfortunately the front shock has an extremely loud decompression noise. (Long unsquishing sound) This sound is non-stop thru roots. Friendly REI bike shop tried to remedy, elevated to the senior tech who finally decided it was a 'Normal' shock noise. Just too loud, well the shock and your buddies laughing at you! With the rest of the bike was really great, sad to return.",
                  "4": {
                    "document": {
                      "confidenceScores": {
                        "negative": 0.95,
                        "neutral": 0,
                        "positive": 0.05
                      },
                      "id": "0",
                      "sentences": [
                        {
                          "confidenceScores": {
                            "negative": 0.95,
                            "neutral": 0,
                            "positive": 0.05
                          },
                          "length": 90,
                          "offset": 0,
                          "sentiment": "negative",
                          "text": "Really fun bike, unfortunately the front shock has an extremely loud decompression noise. "
                        },
                        {
                          "confidenceScores": {
                            "negative": 0.35,
                            "neutral": 0.58,
                            "positive": 0.07
                          },
                          "length": 25,
                          "offset": 90,
                          "sentiment": "neutral",
                          "text": "(Long unsquishing sound) "
                        },
                        {
                          "confidenceScores": {
                            "negative": 0.02,
                            "neutral": 0.97,
                            "positive": 0.01
                          },
                          "length": 35,
                          "offset": 115,
                          "sentiment": "neutral",
                          "text": "This sound is non-stop thru roots. "
                        },
                        {
                          "confidenceScores": {
                            "negative": 0.87,
                            "neutral": 0,
                            "positive": 0.12
                          },
                          "length": 119,
                          "offset": 150,
                          "sentiment": "negative",
                          "text": "Friendly REI bike shop tried to remedy, elevated to the senior tech who finally decided it was a 'Normal' shock noise. "
                        },
                        {
                          "confidenceScores": {
                            "negative": 0.99,
                            "neutral": 0,
                            "positive": 0.01
                          },
                          "length": 64,
                          "offset": 269,
                          "sentiment": "negative",
                          "text": "Just too loud, well the shock and your buddies laughing at you! "
                        },
                        {
                          "confidenceScores": {
                            "negative": 0.99,
                            "neutral": 0,
                            "positive": 0.01
                          },
                          "length": 58,
                          "offset": 333,
                          "sentiment": "negative",
                          "text": "With the rest of the bike was really great, sad to return."
                        }
                      ],
                      "sentiment": "negative",
                      "warnings": []
                    },
                    "modelVersion": "2022-11-01"
                  },
                  "5": {
                    "detectedLanguage": {
                      "language": "en",
                      "score": 1
                    },
                    "translations": [
                      {
                        "text": "Really fun bike, unfortunately the front shock has an extremely loud decompression noise. (Long unsquishing sound) This sound is non-stop thru roots. Friendly REI bike shop tried to remedy, elevated to the senior tech who finally decided it was a 'Normal' shock noise. Just too loud, well the shock and your buddies laughing at you! With the rest of the bike was really great, sad to return.",
                        "to": "en"
                      }
                    ]
                  }
                },
                {
                  "0": "Mountain-200",
                  "1": "3",
                  "2": "Good base for upgrades",
                  "3": "Overall handling is very good and especially shines when going downhill. Lots of climbing traction but a bit on the heavy side. Handlebar is narrower (740) than I'm used to (780) which in theory should make riding through tight trees.easier, but in practice the longer bar is easier to control anyway so it's easier to lean the bike to fit through. The gear range is quite limited with only 28 front and 11-42 in the back. The brakes would probably be the first to get upgraded. Nowhere near the 1-finger ease and strong bite of the XT brakes I have on my older bike. The rear shock's metal valve sticks out just enough where you can hit your knee or thigh on it on dismounts. I have already scratched my thigh on it on the first ride. The metal is pretty sharp and is also a problem on the 3.2 bike which is basically the same frame. My son has also cut his knee on the shock valve of his 3.2. The front fork makes a loud squishing sound on quick decompression which you will hear when lifting up the front wheel to ride over logs for example. Not really that bothersome amidst all the sounds of riding on the trail. At least the tires roll relatively quietly. The cable routing with the big hanging loop under the bottom bracket looks like it could snag on rocks or logs. Haven't been a problem so far but the cables do catch a lot of mud and dirt. This is the same frame (and tires and rear shock and seatpost and seat and handlebars) as the 3.2 bike. It has modern frame geometry that would be a good base for upgrades. If you're thinking of upgrading to better than the 3.2 spec or you just like the grey/black color better, this would be the better option. If you don't have upgrade plans, the 3.2 bike would be the better choice. I think the price difference easily justifies the much better fork, and the better gearing and brakes.",
                  "4": {
                    "document": {
                      "confidenceScores": {
                        "negative": 0.3,
                        "neutral": 0.04,
                        "positive": 0.66
                      },
                      "id": "1",
                      "sentences": [
                        {
                          "confidenceScores": {
                            "negative": 0,
                            "neutral": 0,
                            "positive": 1
                          },
                          "length": 73,
                          "offset": 0,
                          "sentiment": "positive",
                          "text": "Overall handling is very good and especially shines when going downhill. "
                        },
                        {
                          "confidenceScores": {
                            "negative": 0.36,
                            "neutral": 0.63,
                            "positive": 0.01
                          },
                          "length": 55,
                          "offset": 73,
                          "sentiment": "neutral",
                          "text": "Lots of climbing traction but a bit on the heavy side. "
                        },
                        {
                          "confidenceScores": {
                            "negative": 0,
                            "neutral": 0,
                            "positive": 1
                          },
                          "length": 221,
                          "offset": 128,
                          "sentiment": "positive",
                          "text": "Handlebar is narrower (740) than I'm used to (780) which in theory should make riding through tight trees.easier, but in practice the longer bar is easier to control anyway so it's easier to lean the bike to fit through. "
                        },
                        {
                          "confidenceScores": {
                            "negative": 0.05,
                            "neutral": 0.94,
                            "positive": 0
                          },
                          "length": 74,
                          "offset": 349,
                          "sentiment": "neutral",
                          "text": "The gear range is quite limited with only 28 front and 11-42 in the back. "
                        },
                        {
                          "confidenceScores": {
                            "negative": 0.01,
                            "neutral": 0.96,
                            "positive": 0.03
                          },
                          "length": 56,
                          "offset": 423,
                          "sentiment": "neutral",
                          "text": "The brakes would probably be the first to get upgraded. "
                        },
                        {
                          "confidenceScores": {
                            "negative": 0.02,
                            "neutral": 0.05,
                            "positive": 0.93
                          },
                          "length": 89,
                          "offset": 479,
                          "sentiment": "positive",
                          "text": "Nowhere near the 1-finger ease and strong bite of the XT brakes I have on my older bike. "
                        },
                        {
                          "confidenceScores": {
                            "negative": 0.23,
                            "neutral": 0.75,
                            "positive": 0.02
                          },
                          "length": 109,
                          "offset": 568,
                          "sentiment": "neutral",
                          "text": "The rear shock's metal valve sticks out just enough where you can hit your knee or thigh on it on dismounts. "
                        },
                        {
                          "confidenceScores": {
                            "negative": 0.03,
                            "neutral": 0.97,
                            "positive": 0
                          },
                          "length": 59,
                          "offset": 677,
                          "sentiment": "neutral",
                          "text": "I have already scratched my thigh on it on the first ride. "
                        },
                        {
                          "confidenceScores": {
                            "negative": 1,
                            "neutral": 0,
                            "positive": 0
                          },
                          "length": 99,
                          "offset": 736,
                          "sentiment": "negative",
                          "text": "The metal is pretty sharp and is also a problem on the 3.2 bike which is basically the same frame. "
                        },
                        {
                          "confidenceScores": {
                            "negative": 0.2,
                            "neutral": 0.8,
                            "positive": 0
                          },
                          "length": 60,
                          "offset": 835,
                          "sentiment": "neutral",
                          "text": "My son has also cut his knee on the shock valve of his 3.2. "
                        },
                        {
                          "confidenceScores": {
                            "negative": 0.77,
                            "neutral": 0.1,
                            "positive": 0.13
                          },
                          "length": 150,
                          "offset": 895,
                          "sentiment": "negative",
                          "text": "The front fork makes a loud squishing sound on quick decompression which you will hear when lifting up the front wheel to ride over logs for example. "
                        },
                        {
                          "confidenceScores": {
                            "negative": 0.8,
                            "neutral": 0.05,
                            "positive": 0.15
                          },
                          "length": 73,
                          "offset": 1045,
                          "sentiment": "negative",
                          "text": "Not really that bothersome amidst all the sounds of riding on the trail. "
                        },
                        {
                          "confidenceScores": {
                            "negative": 0,
                            "neutral": 0.99,
                            "positive": 0
                          },
                          "length": 44,
                          "offset": 1118,
                          "sentiment": "neutral",
                          "text": "At least the tires roll relatively quietly. "
                        },
                        {
                          "confidenceScores": {
                            "negative": 0.2,
                            "neutral": 0.79,
                            "positive": 0.01
                          },
                          "length": 112,
                          "offset": 1162,
                          "sentiment": "neutral",
                          "text": "The cable routing with the big hanging loop under the bottom bracket looks like it could snag on rocks or logs. "
                        },
                        {
                          "confidenceScores": {
                            "negative": 0.69,
                            "neutral": 0.12,
                            "positive": 0.18
                          },
                          "length": 77,
                          "offset": 1274,
                          "sentiment": "negative",
                          "text": "Haven't been a problem so far but the cables do catch a lot of mud and dirt. "
                        },
                        {
                          "confidenceScores": {
                            "negative": 0.31,
                            "neutral": 0.69,
                            "positive": 0
                          },
                          "length": 104,
                          "offset": 1351,
                          "sentiment": "neutral",
                          "text": "This is the same frame (and tires and rear shock and seatpost and seat and handlebars) as the 3.2 bike. "
                        },
                        {
                          "confidenceScores": {
                            "negative": 0,
                            "neutral": 0.01,
                            "positive": 0.99
                          },
                          "length": 69,
                          "offset": 1455,
                          "sentiment": "positive",
                          "text": "It has modern frame geometry that would be a good base for upgrades. "
                        },
                        {
                          "confidenceScores": {
                            "negative": 0,
                            "neutral": 0,
                            "positive": 0.99
                          },
                          "length": 139,
                          "offset": 1524,
                          "sentiment": "positive",
                          "text": "If you're thinking of upgrading to better than the 3.2 spec or you just like the grey/black color better, this would be the better option. "
                        },
                        {
                          "confidenceScores": {
                            "negative": 0.03,
                            "neutral": 0.03,
                            "positive": 0.93
                          },
                          "length": 74,
                          "offset": 1663,
                          "sentiment": "positive",
                          "text": "If you don't have upgrade plans, the 3.2 bike would be the better choice. "
                        },
                        {
                          "confidenceScores": {
                            "negative": 0,
                            "neutral": 0,
                            "positive": 1
                          },
                          "length": 102,
                          "offset": 1737,
                          "sentiment": "positive",
                          "text": "I think the price difference easily justifies the much better fork, and the better gearing and brakes."
                        }
                      ],
                      "sentiment": "mixed",
                      "warnings": []
                    },
                    "modelVersion": "2022-11-01"
                  },
                  "5": {
                    "detectedLanguage": {
                      "language": "en",
                      "score": 1
                    },
                    "translations": [
                      {
                        "text": "Overall handling is very good and especially shines when going downhill. Lots of climbing traction but a bit on the heavy side. Handlebar is narrower (740) than I'm used to (780) which in theory should make riding through tight trees.easier, but in practice the longer bar is easier to control anyway so it's easier to lean the bike to fit through. The gear range is quite limited with only 28 front and 11-42 in the back. The brakes would probably be the first to get upgraded. Nowhere near the 1-finger ease and strong bite of the XT brakes I have on my older bike. The rear shock's metal valve sticks out just enough where you can hit your knee or thigh on it on dismounts. I have already scratched my thigh on it on the first ride. The metal is pretty sharp and is also a problem on the 3.2 bike which is basically the same frame. My son has also cut his knee on the shock valve of his 3.2. The front fork makes a loud squishing sound on quick decompression which you will hear when lifting up the front wheel to ride over logs for example. Not really that bothersome amidst all the sounds of riding on the trail. At least the tires roll relatively quietly. The cable routing with the big hanging loop under the bottom bracket looks like it could snag on rocks or logs. Haven't been a problem so far but the cables do catch a lot of mud and dirt. This is the same frame (and tires and rear shock and seatpost and seat and handlebars) as the 3.2 bike. It has modern frame geometry that would be a good base for upgrades. If you're thinking of upgrading to better than the 3.2 spec or you just like the grey/black color better, this would be the better option. If you don't have upgrade plans, the 3.2 bike would be the better choice. I think the price difference easily justifies the much better fork, and the better gearing and brakes.",
                        "to": "en"
                      }
                    ]
                  }
                },
                {
                  "0": "Mountain-200",
                  "1": "4",
                  "2": "Good Bike BUT had to swap it",
                  "3": "\"First, the bike is great. But the first one I bought started making a creaking/squeaking sound within the first 20 minutes on the very first ride (I bought it and then immediately went riding). I brought it to the store and the bike shop mechanics were awesome and completely went through the bike and tried different remedies to fix the annoying creaking sound. After another ride and still having to listen to the creaking I had to swap that particular bike for another one of the same model. After 30+ miles on the new bike, no creaking. After reading some of the other reviews, it \"\"sounds\"\" like this model has a noise issue. So be warned/prepared. The bike has been the best bike I have ever owned and the riding has been the best ever with this bike. I can blast up and down hills that I couldn't with my hardtail. I love the gearing and the shifters are great. It gets 4/5 due to the fact that the bike had some small issues that couldn't get worked out combined with the fact that others are having similar issues.\"",
                  "4": {
                    "document": {
                      "confidenceScores": {
                        "negative": 0.55,
                        "neutral": 0.11,
                        "positive": 0.33
                      },
                      "id": "2",
                      "sentences": [
                        {
                          "confidenceScores": {
                            "negative": 0,
                            "neutral": 0.01,
                            "positive": 0.99
                          },
                          "length": 27,
                          "offset": 0,
                          "sentiment": "positive",
                          "text": "\"First, the bike is great. "
                        },
                        {
                          "confidenceScores": {
                            "negative": 0.87,
                            "neutral": 0.13,
                            "positive": 0
                          },
                          "length": 168,
                          "offset": 27,
                          "sentiment": "negative",
                          "text": "But the first one I bought started making a creaking/squeaking sound within the first 20 minutes on the very first ride (I bought it and then immediately went riding). "
                        },
                        {
                          "confidenceScores": {
                            "negative": 0.99,
                            "neutral": 0,
                            "positive": 0.01
                          },
                          "length": 169,
                          "offset": 195,
                          "sentiment": "negative",
                          "text": "I brought it to the store and the bike shop mechanics were awesome and completely went through the bike and tried different remedies to fix the annoying creaking sound. "
                        },
                        {
                          "confidenceScores": {
                            "negative": 0.57,
                            "neutral": 0.42,
                            "positive": 0
                          },
                          "length": 132,
                          "offset": 364,
                          "sentiment": "negative",
                          "text": "After another ride and still having to listen to the creaking I had to swap that particular bike for another one of the same model. "
                        },
                        {
                          "confidenceScores": {
                            "negative": 0.03,
                            "neutral": 0.85,
                            "positive": 0.12
                          },
                          "length": 46,
                          "offset": 496,
                          "sentiment": "neutral",
                          "text": "After 30+ miles on the new bike, no creaking. "
                        },
                        {
                          "confidenceScores": {
                            "negative": 1,
                            "neutral": 0,
                            "positive": 0
                          },
                          "length": 90,
                          "offset": 542,
                          "sentiment": "negative",
                          "text": "After reading some of the other reviews, it \"\"sounds\"\" like this model has a noise issue. "
                        },
                        {
                          "confidenceScores": {
                            "negative": 0.63,
                            "neutral": 0.37,
                            "positive": 0
                          },
                          "length": 23,
                          "offset": 632,
                          "sentiment": "negative",
                          "text": "So be warned/prepared. "
                        },
                        {
                          "confidenceScores": {
                            "negative": 0,
                            "neutral": 0,
                            "positive": 1
                          },
                          "length": 104,
                          "offset": 655,
                          "sentiment": "positive",
                          "text": "The bike has been the best bike I have ever owned and the riding has been the best ever with this bike. "
                        },
                        {
                          "confidenceScores": {
                            "negative": 0.14,
                            "neutral": 0.86,
                            "positive": 0
                          },
                          "length": 64,
                          "offset": 759,
                          "sentiment": "neutral",
                          "text": "I can blast up and down hills that I couldn't with my hardtail. "
                        },
                        {
                          "confidenceScores": {
                            "negative": 0,
                            "neutral": 0,
                            "positive": 1
                          },
                          "length": 47,
                          "offset": 823,
                          "sentiment": "positive",
                          "text": "I love the gearing and the shifters are great. "
                        },
                        {
                          "confidenceScores": {
                            "negative": 0.9,
                            "neutral": 0.1,
                            "positive": 0
                          },
                          "length": 155,
                          "offset": 870,
                          "sentiment": "negative",
                          "text": "It gets 4/5 due to the fact that the bike had some small issues that couldn't get worked out combined with the fact that others are having similar issues.\""
                        }
                      ],
                      "sentiment": "mixed",
                      "warnings": []
                    },
                    "modelVersion": "2022-11-01"
                  },
                  "5": {
                    "detectedLanguage": {
                      "language": "en",
                      "score": 1
                    },
                    "translations": [
                      {
                        "text": "\"First, the bike is great. But the first one I bought started making a creaking/squeaking sound within the first 20 minutes on the very first ride (I bought it and then immediately went riding). I brought it to the store and the bike shop mechanics were awesome and completely went through the bike and tried different remedies to fix the annoying creaking sound. After another ride and still having to listen to the creaking I had to swap that particular bike for another one of the same model. After 30+ miles on the new bike, no creaking. After reading some of the other reviews, it \"\"sounds\"\" like this model has a noise issue. So be warned/prepared. The bike has been the best bike I have ever owned and the riding has been the best ever with this bike. I can blast up and down hills that I couldn't with my hardtail. I love the gearing and the shifters are great. It gets 4/5 due to the fact that the bike had some small issues that couldn't get worked out combined with the fact that others are having similar issues.\"",
                        "to": "en"
                      }
                    ]
                  }
                },
                {
                  "0": "Mountain-400-W",
                  "1": "3",
                  "2": "correction on specs",
                  "3": "\"Cannondale website says the shifters are 3x7 \"\"Shimano Rapidfire Plus",
                  "4": {
                    "document": {
                      "confidenceScores": {
                        "negative": 0,
                        "neutral": 0.99,
                        "positive": 0
                      },
                      "id": "3",
                      "sentences": [
                        {
                          "confidenceScores": {
                            "negative": 0,
                            "neutral": 0.99,
                            "positive": 0
                          },
                          "length": 70,
                          "offset": 0,
                          "sentiment": "neutral",
                          "text": "\"Cannondale website says the shifters are 3x7 \"\"Shimano Rapidfire Plus"
                        }
                      ],
                      "sentiment": "neutral",
                      "warnings": []
                    },
                    "modelVersion": "2022-11-01"
                  },
                  "5": {
                    "detectedLanguage": {
                      "language": "en",
                      "score": 1
                    },
                    "translations": [
                      {
                        "text": "\"Cannondale website says the shifters are 3x7 \"\"Shimano Rapidfire Plus",
                        "to": "en"
                      }
                    ]
                  }
                },
                {
                  "0": "Mountain-400-W",
                  "1": "4",
                  "2": "Great bike!",
                  "3": "This bike is amazing, it's a smoth ride and ready for adventure!",
                  "4": {
                    "document": {
                      "confidenceScores": {
                        "negative": 0,
                        "neutral": 0,
                        "positive": 1
                      },
                      "id": "4",
                      "sentences": [
                        {
                          "confidenceScores": {
                            "negative": 0,
                            "neutral": 0,
                            "positive": 1
                          },
                          "length": 64,
                          "offset": 0,
                          "sentiment": "positive",
                          "text": "This bike is amazing, it's a smoth ride and ready for adventure!"
                        }
                      ],
                      "sentiment": "positive",
                      "warnings": []
                    },
                    "modelVersion": "2022-11-01"
                  },
                  "5": {
                    "detectedLanguage": {
                      "language": "en",
                      "score": 1
                    },
                    "translations": [
                      {
                        "text": "This bike is amazing, it's a smoth ride and ready for adventure!",
                        "to": "en"
                      }
                    ]
                  }
                },
                {
                  "0": "Mountain-500",
                  "1": "4",
                  "2": "Hidden gem",
                  "3": "Nice bike just needs a few little tweeks to be really nice",
                  "4": {
                    "document": {
                      "confidenceScores": {
                        "negative": 0,
                        "neutral": 0,
                        "positive": 1
                      },
                      "id": "5",
                      "sentences": [
                        {
                          "confidenceScores": {
                            "negative": 0,
                            "neutral": 0,
                            "positive": 1
                          },
                          "length": 58,
                          "offset": 0,
                          "sentiment": "positive",
                          "text": "Nice bike just needs a few little tweeks to be really nice"
                        }
                      ],
                      "sentiment": "positive",
                      "warnings": []
                    },
                    "modelVersion": "2022-11-01"
                  },
                  "5": {
                    "detectedLanguage": {
                      "language": "en",
                      "score": 1
                    },
                    "translations": [
                      {
                        "text": "Nice bike just needs a few little tweeks to be really nice",
                        "to": "en"
                      }
                    ]
                  }
                },
                {
                  "0": "Mountain-500",
                  "1": "5",
                  "2": "The start of a long and beautiful friendship . . .",
                  "3": "Love this bike. I had originally planned to get the version down, and ultimately at the last minute decided to get the Eagle. No regrets - have already used that gear multiple times doing some of the gnarly climbs in the Santa Monica mountains. Great bike! Have done 3,000 foot climbs followed by technical downhills. Easy to use, lots of fun. So far I'm loving it! Lots of adventures to come.",
                  "4": {
                    "document": {
                      "confidenceScores": {
                        "negative": 0.02,
                        "neutral": 0.01,
                        "positive": 0.97
                      },
                      "id": "6",
                      "sentences": [
                        {
                          "confidenceScores": {
                            "negative": 0,
                            "neutral": 0,
                            "positive": 1
                          },
                          "length": 16,
                          "offset": 0,
                          "sentiment": "positive",
                          "text": "Love this bike. "
                        },
                        {
                          "confidenceScores": {
                            "negative": 0.02,
                            "neutral": 0.98,
                            "positive": 0.01
                          },
                          "length": 110,
                          "offset": 16,
                          "sentiment": "neutral",
                          "text": "I had originally planned to get the version down, and ultimately at the last minute decided to get the Eagle. "
                        },
                        {
                          "confidenceScores": {
                            "negative": 0.1,
                            "neutral": 0.01,
                            "positive": 0.89
                          },
                          "length": 119,
                          "offset": 126,
                          "sentiment": "positive",
                          "text": "No regrets - have already used that gear multiple times doing some of the gnarly climbs in the Santa Monica mountains. "
                        },
                        {
                          "confidenceScores": {
                            "negative": 0,
                            "neutral": 0,
                            "positive": 1
                          },
                          "length": 12,
                          "offset": 245,
                          "sentiment": "positive",
                          "text": "Great bike! "
                        },
                        {
                          "confidenceScores": {
                            "negative": 0,
                            "neutral": 1,
                            "positive": 0
                          },
                          "length": 61,
                          "offset": 257,
                          "sentiment": "neutral",
                          "text": "Have done 3,000 foot climbs followed by technical downhills. "
                        },
                        {
                          "confidenceScores": {
                            "negative": 0,
                            "neutral": 0,
                            "positive": 1
                          },
                          "length": 26,
                          "offset": 318,
                          "sentiment": "positive",
                          "text": "Easy to use, lots of fun. "
                        },
                        {
                          "confidenceScores": {
                            "negative": 0,
                            "neutral": 0,
                            "positive": 1
                          },
                          "length": 22,
                          "offset": 344,
                          "sentiment": "positive",
                          "text": "So far I'm loving it! "
                        },
                        {
                          "confidenceScores": {
                            "negative": 0.01,
                            "neutral": 0.04,
                            "positive": 0.96
                          },
                          "length": 27,
                          "offset": 366,
                          "sentiment": "positive",
                          "text": "Lots of adventures to come."
                        }
                      ],
                      "sentiment": "positive",
                      "warnings": []
                    },
                    "modelVersion": "2022-11-01"
                  },
                  "5": {
                    "detectedLanguage": {
                      "language": "en",
                      "score": 1
                    },
                    "translations": [
                      {
                        "text": "Love this bike. I had originally planned to get the version down, and ultimately at the last minute decided to get the Eagle. No regrets - have already used that gear multiple times doing some of the gnarly climbs in the Santa Monica mountains. Great bike! Have done 3,000 foot climbs followed by technical downhills. Easy to use, lots of fun. So far I'm loving it! Lots of adventures to come.",
                        "to": "en"
                      }
                    ]
                  }
                },
                {
                  "0": "Mountain-500",
                  "1": "5",
                  "2": "Great trail bike",
                  "3": "Shaved minutes off usual loops, sold 29er and other bikes. Climbs like a scalded monkey and descends unbelievabley! No disappointments!",
                  "4": {
                    "document": {
                      "confidenceScores": {
                        "negative": 0.08,
                        "neutral": 0.05,
                        "positive": 0.87
                      },
                      "id": "7",
                      "sentences": [
                        {
                          "confidenceScores": {
                            "negative": 0.05,
                            "neutral": 0.91,
                            "positive": 0.04
                          },
                          "length": 59,
                          "offset": 0,
                          "sentiment": "neutral",
                          "text": "Shaved minutes off usual loops, sold 29er and other bikes. "
                        },
                        {
                          "confidenceScores": {
                            "negative": 0.03,
                            "neutral": 0.07,
                            "positive": 0.9
                          },
                          "length": 57,
                          "offset": 59,
                          "sentiment": "positive",
                          "text": "Climbs like a scalded monkey and descends unbelievabley! "
                        },
                        {
                          "confidenceScores": {
                            "negative": 0.14,
                            "neutral": 0.02,
                            "positive": 0.84
                          },
                          "length": 19,
                          "offset": 116,
                          "sentiment": "positive",
                          "text": "No disappointments!"
                        }
                      ],
                      "sentiment": "positive",
                      "warnings": []
                    },
                    "modelVersion": "2022-11-01"
                  },
                  "5": {
                    "detectedLanguage": {
                      "language": "en",
                      "score": 1
                    },
                    "translations": [
                      {
                        "text": "Shaved minutes off usual loops, sold 29er and other bikes. Climbs like a scalded monkey and descends unbelievabley! No disappointments!",
                        "to": "en"
                      }
                    ]
                  }
                },
                {
                  "0": "Mountain-500",
                  "1": "4",
                  "2": "Great bike, but check for damage when you pick up",
                  "3": "Treated myself to NX Eagle better spec version and love it. 1x is a revelation. Plenty of range allowing you to climb the side of a house if you want! The bike really rolls and the plus tires are confidence building. I foolishly didn’t properly check the bike when I picked it up so didn’t notice the chipped frame down by the rear dropout. Once I took it home there’s no way I could prove it wasn’t me (it wasn’t). Sure, the bike will (hopefully) get scratched and dinged on all the adventures I’ll have, but it’s good to start with a clean slate, especially when you’re dropping $2k on a ride. Anyway, as Salsa don’t sell touch up paints (why not?) I went to Michael’s and bought a basic enamel paint set. Mixed up the color to match and boom. All fixed! So, don’t be a giddy noob; ALWAYS check your bike purchases!",
                  "4": {
                    "document": {
                      "confidenceScores": {
                        "negative": 0.46,
                        "neutral": 0.13,
                        "positive": 0.4
                      },
                      "id": "8",
                      "sentences": [
                        {
                          "confidenceScores": {
                            "negative": 0,
                            "neutral": 0,
                            "positive": 1
                          },
                          "length": 60,
                          "offset": 0,
                          "sentiment": "positive",
                          "text": "Treated myself to NX Eagle better spec version and love it. "
                        },
                        {
                          "confidenceScores": {
                            "negative": 0,
                            "neutral": 0.75,
                            "positive": 0.25
                          },
                          "length": 20,
                          "offset": 60,
                          "sentiment": "neutral",
                          "text": "1x is a revelation. "
                        },
                        {
                          "confidenceScores": {
                            "negative": 0,
                            "neutral": 0.89,
                            "positive": 0.1
                          },
                          "length": 71,
                          "offset": 80,
                          "sentiment": "neutral",
                          "text": "Plenty of range allowing you to climb the side of a house if you want! "
                        },
                        {
                          "confidenceScores": {
                            "negative": 0,
                            "neutral": 0.44,
                            "positive": 0.55
                          },
                          "length": 66,
                          "offset": 151,
                          "sentiment": "positive",
                          "text": "The bike really rolls and the plus tires are confidence building. "
                        },
                        {
                          "confidenceScores": {
                            "negative": 1,
                            "neutral": 0,
                            "positive": 0
                          },
                          "length": 124,
                          "offset": 217,
                          "sentiment": "negative",
                          "text": "I foolishly didn’t properly check the bike when I picked it up so didn’t notice the chipped frame down by the rear dropout. "
                        },
                        {
                          "confidenceScores": {
                            "negative": 0.98,
                            "neutral": 0.02,
                            "positive": 0
                          },
                          "length": 75,
                          "offset": 341,
                          "sentiment": "negative",
                          "text": "Once I took it home there’s no way I could prove it wasn’t me (it wasn’t). "
                        },
                        {
                          "confidenceScores": {
                            "negative": 0.19,
                            "neutral": 0.01,
                            "positive": 0.8
                          },
                          "length": 180,
                          "offset": 416,
                          "sentiment": "positive",
                          "text": "Sure, the bike will (hopefully) get scratched and dinged on all the adventures I’ll have, but it’s good to start with a clean slate, especially when you’re dropping $2k on a ride. "
                        },
                        {
                          "confidenceScores": {
                            "negative": 0.65,
                            "neutral": 0.34,
                            "positive": 0.01
                          },
                          "length": 55,
                          "offset": 596,
                          "sentiment": "negative",
                          "text": "Anyway, as Salsa don’t sell touch up paints (why not?) "
                        },
                        {
                          "confidenceScores": {
                            "negative": 0,
                            "neutral": 0.99,
                            "positive": 0
                          },
                          "length": 57,
                          "offset": 651,
                          "sentiment": "neutral",
                          "text": "I went to Michael’s and bought a basic enamel paint set. "
                        },
                        {
                          "confidenceScores": {
                            "negative": 0.01,
                            "neutral": 0.82,
                            "positive": 0.16
                          },
                          "length": 38,
                          "offset": 708,
                          "sentiment": "neutral",
                          "text": "Mixed up the color to match and boom. "
                        },
                        {
                          "confidenceScores": {
                            "negative": 0.03,
                            "neutral": 0.14,
                            "positive": 0.84
                          },
                          "length": 11,
                          "offset": 746,
                          "sentiment": "positive",
                          "text": "All fixed! "
                        },
                        {
                          "confidenceScores": {
                            "negative": 0.84,
                            "neutral": 0.13,
                            "positive": 0.04
                          },
                          "length": 27,
                          "offset": 757,
                          "sentiment": "negative",
                          "text": "So, don’t be a giddy noob; "
                        },
                        {
                          "confidenceScores": {
                            "negative": 0,
                            "neutral": 0.99,
                            "positive": 0.01
                          },
                          "length": 33,
                          "offset": 784,
                          "sentiment": "neutral",
                          "text": "ALWAYS check your bike purchases!"
                        }
                      ],
                      "sentiment": "mixed",
                      "warnings": []
                    },
                    "modelVersion": "2022-11-01"
                  },
                  "5": {
                    "detectedLanguage": {
                      "language": "en",
                      "score": 1
                    },
                    "translations": [
                      {
                        "text": "Treated myself to NX Eagle better spec version and love it. 1x is a revelation. Plenty of range allowing you to climb the side of a house if you want! The bike really rolls and the plus tires are confidence building. I foolishly didn’t properly check the bike when I picked it up so didn’t notice the chipped frame down by the rear dropout. Once I took it home there’s no way I could prove it wasn’t me (it wasn’t). Sure, the bike will (hopefully) get scratched and dinged on all the adventures I’ll have, but it’s good to start with a clean slate, especially when you’re dropping $2k on a ride. Anyway, as Salsa don’t sell touch up paints (why not?) I went to Michael’s and bought a basic enamel paint set. Mixed up the color to match and boom. All fixed! So, don’t be a giddy noob; ALWAYS check your bike purchases!",
                        "to": "en"
                      }
                    ]
                  }
                },
                {
                  "0": "Mountain-500",
                  "1": "4",
                  "2": "Nice bike ... not a fan of SRAM eagle",
                  "3": "First off, I got this bike and found the derailleur wasn't adjusted. Gosh REI. Seriously? So, I adjusted limits and tension but still get that occasional bang and gear hunt you read about online. I have the SRAM eagle tool coming and will redo all adjustment once I get it. If I had it to do over I would definitely buy this bike without the SRAM eagle components. Its a great bike but would easily be 5 stars with good Shimano gear.",
                  "4": {
                    "document": {
                      "confidenceScores": {
                        "negative": 0.24,
                        "neutral": 0.17,
                        "positive": 0.59
                      },
                      "id": "9",
                      "sentences": [
                        {
                          "confidenceScores": {
                            "negative": 0.68,
                            "neutral": 0.32,
                            "positive": 0
                          },
                          "length": 69,
                          "offset": 0,
                          "sentiment": "negative",
                          "text": "First off, I got this bike and found the derailleur wasn't adjusted. "
                        },
                        {
                          "confidenceScores": {
                            "negative": 0.03,
                            "neutral": 0.2,
                            "positive": 0.76
                          },
                          "length": 10,
                          "offset": 69,
                          "sentiment": "positive",
                          "text": "Gosh REI. "
                        },
                        {
                          "confidenceScores": {
                            "negative": 0.01,
                            "neutral": 0.97,
                            "positive": 0.02
                          },
                          "length": 11,
                          "offset": 79,
                          "sentiment": "neutral",
                          "text": "Seriously? "
                        },
                        {
                          "confidenceScores": {
                            "negative": 0.1,
                            "neutral": 0.89,
                            "positive": 0
                          },
                          "length": 106,
                          "offset": 90,
                          "sentiment": "neutral",
                          "text": "So, I adjusted limits and tension but still get that occasional bang and gear hunt you read about online. "
                        },
                        {
                          "confidenceScores": {
                            "negative": 0,
                            "neutral": 0.99,
                            "positive": 0.01
                          },
                          "length": 78,
                          "offset": 196,
                          "sentiment": "neutral",
                          "text": "I have the SRAM eagle tool coming and will redo all adjustment once I get it. "
                        },
                        {
                          "confidenceScores": {
                            "negative": 0.01,
                            "neutral": 0.96,
                            "positive": 0.03
                          },
                          "length": 91,
                          "offset": 274,
                          "sentiment": "neutral",
                          "text": "If I had it to do over I would definitely buy this bike without the SRAM eagle components. "
                        },
                        {
                          "confidenceScores": {
                            "negative": 0,
                            "neutral": 0,
                            "positive": 1
                          },
                          "length": 68,
                          "offset": 365,
                          "sentiment": "positive",
                          "text": "Its a great bike but would easily be 5 stars with good Shimano gear."
                        }
                      ],
                      "sentiment": "mixed",
                      "warnings": []
                    },
                    "modelVersion": "2022-11-01"
                  },
                  "5": {
                    "detectedLanguage": {
                      "language": "en",
                      "score": 1
                    },
                    "translations": [
                      {
                        "text": "First off, I got this bike and found the derailleur wasn't adjusted. Gosh REI. Seriously? So, I adjusted limits and tension but still get that occasional bang and gear hunt you read about online. I have the SRAM eagle tool coming and will redo all adjustment once I get it. If I had it to do over I would definitely buy this bike without the SRAM eagle components. Its a great bike but would easily be 5 stars with good Shimano gear.",
                        "to": "en"
                      }
                    ]
                  }
                },
                {
                  "0": "Mountain-500",
                  "1": "5",
                  "2": "Stout and well considered kit.",
                  "3": "This has been a confidence inspiring bike so far, I feel like I'm the weak link most of the time not the bike. One gripe is I wish it had one more tooth on the crank - I find myself running out of top speed a lot more than I run out of diesel. That's fixable :)",
                  "4": {
                    "document": {
                      "confidenceScores": {
                        "negative": 0.98,
                        "neutral": 0,
                        "positive": 0.02
                      },
                      "id": "0",
                      "sentences": [
                        {
                          "confidenceScores": {
                            "negative": 0.96,
                            "neutral": 0,
                            "positive": 0.04
                          },
                          "length": 111,
                          "offset": 0,
                          "sentiment": "negative",
                          "text": "This has been a confidence inspiring bike so far, I feel like I'm the weak link most of the time not the bike. "
                        },
                        {
                          "confidenceScores": {
                            "negative": 0.99,
                            "neutral": 0.01,
                            "positive": 0
                          },
                          "length": 133,
                          "offset": 111,
                          "sentiment": "negative",
                          "text": "One gripe is I wish it had one more tooth on the crank - I find myself running out of top speed a lot more than I run out of diesel. "
                        }
                      ],
                      "sentiment": "negative",
                      "warnings": []
                    },
                    "modelVersion": "2022-11-01"
                  },
                  "5": {
                    "detectedLanguage": {
                      "language": "en",
                      "score": 1
                    },
                    "translations": [
                      {
                        "text": "This has been a confidence inspiring bike so far, I feel like I'm the weak link most of the time not the bike. One gripe is I wish it had one more tooth on the crank - I find myself running out of top speed a lot more than I run out of diesel. That's fixable :)",
                        "to": "en"
                      }
                    ]
                  }
                },
                {
                  "0": "Mountain-100",
                  "1": "5",
                  "2": "Fantástica bicicleta",
                  "3": "\"Esta bicicleta es simplemente impresionante. Nunca había tenido uno así. No soy un motociclista muy experimentado y primero estaba un poco nervioso acerca de cómo y cuándo cambiar de marcha. En la tienda me dijeron que con esta moto sería realmente \"\"muy intuitiva\"\" y fácil de averiguar. ¡Lo confirmo! ¡Lo estoy pasando muy bien y me encanta mi nueva bicicleta!\"",
                  "4": {
                    "document": {
                      "confidenceScores": {
                        "negative": 0.25,
                        "neutral": 0.04,
                        "positive": 0.71
                      },
                      "id": "1",
                      "sentences": [
                        {
                          "confidenceScores": {
                            "negative": 0,
                            "neutral": 0.12,
                            "positive": 0.87
                          },
                          "length": 46,
                          "offset": 0,
                          "sentiment": "positive",
                          "text": "\"Esta bicicleta es simplemente impresionante. "
                        },
                        {
                          "confidenceScores": {
                            "negative": 0.02,
                            "neutral": 0.98,
                            "positive": 0.01
                          },
                          "length": 28,
                          "offset": 46,
                          "sentiment": "neutral",
                          "text": "Nunca había tenido uno así. "
                        },
                        {
                          "confidenceScores": {
                            "negative": 0.99,
                            "neutral": 0.01,
                            "positive": 0
                          },
                          "length": 118,
                          "offset": 74,
                          "sentiment": "negative",
                          "text": "No soy un motociclista muy experimentado y primero estaba un poco nervioso acerca de cómo y cuándo cambiar de marcha. "
                        },
                        {
                          "confidenceScores": {
                            "negative": 0,
                            "neutral": 0.03,
                            "positive": 0.96
                          },
                          "length": 98,
                          "offset": 192,
                          "sentiment": "positive",
                          "text": "En la tienda me dijeron que con esta moto sería realmente \"\"muy intuitiva\"\" y fácil de averiguar. "
                        },
                        {
                          "confidenceScores": {
                            "negative": 0,
                            "neutral": 0.93,
                            "positive": 0.07
                          },
                          "length": 14,
                          "offset": 290,
                          "sentiment": "neutral",
                          "text": "¡Lo confirmo! "
                        },
                        {
                          "confidenceScores": {
                            "negative": 0,
                            "neutral": 0,
                            "positive": 1
                          },
                          "length": 60,
                          "offset": 304,
                          "sentiment": "positive",
                          "text": "¡Lo estoy pasando muy bien y me encanta mi nueva bicicleta!\""
                        }
                      ],
                      "sentiment": "mixed",
                      "warnings": []
                    },
                    "modelVersion": "2022-11-01"
                  },
                  "5": {
                    "detectedLanguage": {
                      "language": "es",
                      "score": 1
                    },
                    "translations": [
                      {
                        "text": "\"This bike is just stunning. I've never had one like this. I'm not a very experienced motorcyclist and first I was a little nervous about how and when to shift gears. In the shop I was told that with this bike it would be really \"very intuitive\" and easy to find out. I confirm it! I'm having a great time and I love my new bike!\"",
                        "to": "en"
                      }
                    ]
                  }
                },
                {
                  "0": "Mountain-100",
                  "1": "5",
                  "2": "Gran bicicleta, precio perfecto.",
                  "3": "Compró esta bicicleta para mi esposa hace un par de semanas, y le encanta. Esta es su primera bicicleta en un tiempo y le encantan todas las características que esta bicicleta Cooperativa tiene para ofrecer. REI fue muy amable en ayudarnos a encontrar el tamaño adecuado para ella y explicar todos los detalles. Todos los componentes son marcas de calidad y funcionan perfecto. Queríamos meterla en algo más versátil para que pudiera montar conmigo en cualquier terreno. Esta moto definitivamente será suficiente para sus necesidades. Sin duda recomendaría esto a los amigos.",
                  "4": {
                    "document": {
                      "confidenceScores": {
                        "negative": 0,
                        "neutral": 0.02,
                        "positive": 0.98
                      },
                      "id": "2",
                      "sentences": [
                        {
                          "confidenceScores": {
                            "negative": 0,
                            "neutral": 0.04,
                            "positive": 0.95
                          },
                          "length": 75,
                          "offset": 0,
                          "sentiment": "positive",
                          "text": "Compró esta bicicleta para mi esposa hace un par de semanas, y le encanta. "
                        },
                        {
                          "confidenceScores": {
                            "negative": 0,
                            "neutral": 0.04,
                            "positive": 0.95
                          },
                          "length": 133,
                          "offset": 75,
                          "sentiment": "positive",
                          "text": "Esta es su primera bicicleta en un tiempo y le encantan todas las características que esta bicicleta Cooperativa tiene para ofrecer. "
                        },
                        {
                          "confidenceScores": {
                            "negative": 0,
                            "neutral": 0,
                            "positive": 1
                          },
                          "length": 104,
                          "offset": 208,
                          "sentiment": "positive",
                          "text": "REI fue muy amable en ayudarnos a encontrar el tamaño adecuado para ella y explicar todos los detalles. "
                        },
                        {
                          "confidenceScores": {
                            "negative": 0,
                            "neutral": 0,
                            "positive": 1
                          },
                          "length": 66,
                          "offset": 312,
                          "sentiment": "positive",
                          "text": "Todos los componentes son marcas de calidad y funcionan perfecto. "
                        },
                        {
                          "confidenceScores": {
                            "negative": 0,
                            "neutral": 0.99,
                            "positive": 0.01
                          },
                          "length": 93,
                          "offset": 378,
                          "sentiment": "neutral",
                          "text": "Queríamos meterla en algo más versátil para que pudiera montar conmigo en cualquier terreno. "
                        },
                        {
                          "confidenceScores": {
                            "negative": 0,
                            "neutral": 0.91,
                            "positive": 0.09
                          },
                          "length": 64,
                          "offset": 471,
                          "sentiment": "neutral",
                          "text": "Esta moto definitivamente será suficiente para sus necesidades. "
                        },
                        {
                          "confidenceScores": {
                            "negative": 0.01,
                            "neutral": 0.01,
                            "positive": 0.98
                          },
                          "length": 40,
                          "offset": 535,
                          "sentiment": "positive",
                          "text": "Sin duda recomendaría esto a los amigos."
                        }
                      ],
                      "sentiment": "positive",
                      "warnings": []
                    },
                    "modelVersion": "2022-11-01"
                  },
                  "5": {
                    "detectedLanguage": {
                      "language": "es",
                      "score": 1
                    },
                    "translations": [
                      {
                        "text": "He bought this bike for my wife a couple of weeks ago, and he loves it. This is his first bike in a while and he loves all the features this Co-op bike has to offer. REI was very kind in helping us find the right size for her and explain all the details. All components are quality marks and work perfectly. We wanted to put her in something more versatile so she could ride with me on any terrain. This bike will definitely be enough for your needs. I would definitely recommend this to friends.",
                        "to": "en"
                      }
                    ]
                  }
                },
                {
                  "0": "Mountain-100",
                  "1": "3",
                  "2": "Buena bicicleta, pero sólo para principiantes",
                  "3": "\"Calificé esto como \"\"promedio\"\"-- y eso es exactamente lo que es. He tenido esta bicicleta desde 2017",
                  "4": {
                    "document": {
                      "confidenceScores": {
                        "negative": 0,
                        "neutral": 0.99,
                        "positive": 0.01
                      },
                      "id": "3",
                      "sentences": [
                        {
                          "confidenceScores": {
                            "negative": 0,
                            "neutral": 0.99,
                            "positive": 0.01
                          },
                          "length": 67,
                          "offset": 0,
                          "sentiment": "neutral",
                          "text": "\"Calificé esto como \"\"promedio\"\"-- y eso es exactamente lo que es. "
                        },
                        {
                          "confidenceScores": {
                            "negative": 0,
                            "neutral": 0.99,
                            "positive": 0.01
                          },
                          "length": 35,
                          "offset": 67,
                          "sentiment": "neutral",
                          "text": "He tenido esta bicicleta desde 2017"
                        }
                      ],
                      "sentiment": "neutral",
                      "warnings": []
                    },
                    "modelVersion": "2022-11-01"
                  },
                  "5": {
                    "detectedLanguage": {
                      "language": "es",
                      "score": 1
                    },
                    "translations": [
                      {
                        "text": "\"I called this 'average' -- and that's exactly what it is. I've had this bike since 2017",
                        "to": "en"
                      }
                    ]
                  }
                },
                {
                  "0": "Mountain-200",
                  "1": "4",
                  "2": "Bonita bicicleta de nivel de entrada",
                  "3": "Esta bicicleta fue comprada para mi adolescente que es alrededor de 5 '+-. Es una bicicleta perfecta para este jinete de tamaño, algo en lo que mi adolescente será capaz de crecer en los próximos años. Parece ser un producto de buena calidad.",
                  "4": {
                    "document": {
                      "confidenceScores": {
                        "negative": 0,
                        "neutral": 0.01,
                        "positive": 0.99
                      },
                      "id": "4",
                      "sentences": [
                        {
                          "confidenceScores": {
                            "negative": 0,
                            "neutral": 0.9,
                            "positive": 0.09
                          },
                          "length": 75,
                          "offset": 0,
                          "sentiment": "neutral",
                          "text": "Esta bicicleta fue comprada para mi adolescente que es alrededor de 5 '+-. "
                        },
                        {
                          "confidenceScores": {
                            "negative": 0,
                            "neutral": 0,
                            "positive": 1
                          },
                          "length": 127,
                          "offset": 75,
                          "sentiment": "positive",
                          "text": "Es una bicicleta perfecta para este jinete de tamaño, algo en lo que mi adolescente será capaz de crecer en los próximos años. "
                        },
                        {
                          "confidenceScores": {
                            "negative": 0,
                            "neutral": 0.02,
                            "positive": 0.98
                          },
                          "length": 40,
                          "offset": 202,
                          "sentiment": "positive",
                          "text": "Parece ser un producto de buena calidad."
                        }
                      ],
                      "sentiment": "positive",
                      "warnings": []
                    },
                    "modelVersion": "2022-11-01"
                  },
                  "5": {
                    "detectedLanguage": {
                      "language": "es",
                      "score": 1
                    },
                    "translations": [
                      {
                        "text": "This bike was bought for my teenager which is around 5'+-. It's a perfect bike for this sized rider, something my teenager will be able to grow into for years to come. It seems to be a good quality product.",
                        "to": "en"
                      }
                    ]
                  }
                },
                {
                  "0": "Road-150",
                  "1": "4",
                  "2": "Stabile, cómodo, de gran valor",
                  "3": "Compró esta moto hace 2 semanas y han puesto 340 millas (suciedad, pista única no técnica) en ella. Muy cómodo y estable, tanto escalando como descendiendo. Lo tomaré en bicicleta pronto. Tener 6,600 millas en el CO-OP ARD 1.4 (suciedad y asfalto) y muy contento con él. Aunque es 6 libras más pesado que el ARD no se siente mucho más lento.",
                  "4": {
                    "document": {
                      "confidenceScores": {
                        "negative": 0.19,
                        "neutral": 0.15,
                        "positive": 0.67
                      },
                      "id": "5",
                      "sentences": [
                        {
                          "confidenceScores": {
                            "negative": 0.02,
                            "neutral": 0.72,
                            "positive": 0.25
                          },
                          "length": 100,
                          "offset": 0,
                          "sentiment": "neutral",
                          "text": "Compró esta moto hace 2 semanas y han puesto 340 millas (suciedad, pista única no técnica) en ella. "
                        },
                        {
                          "confidenceScores": {
                            "negative": 0,
                            "neutral": 0,
                            "positive": 1
                          },
                          "length": 57,
                          "offset": 100,
                          "sentiment": "positive",
                          "text": "Muy cómodo y estable, tanto escalando como descendiendo. "
                        },
                        {
                          "confidenceScores": {
                            "negative": 0,
                            "neutral": 0.99,
                            "positive": 0.01
                          },
                          "length": 31,
                          "offset": 157,
                          "sentiment": "neutral",
                          "text": "Lo tomaré en bicicleta pronto. "
                        },
                        {
                          "confidenceScores": {
                            "negative": 0,
                            "neutral": 0,
                            "positive": 1
                          },
                          "length": 83,
                          "offset": 188,
                          "sentiment": "positive",
                          "text": "Tener 6,600 millas en el CO-OP ARD 1.4 (suciedad y asfalto) y muy contento con él. "
                        },
                        {
                          "confidenceScores": {
                            "negative": 0.56,
                            "neutral": 0.43,
                            "positive": 0.01
                          },
                          "length": 70,
                          "offset": 271,
                          "sentiment": "negative",
                          "text": "Aunque es 6 libras más pesado que el ARD no se siente mucho más lento."
                        }
                      ],
                      "sentiment": "mixed",
                      "warnings": []
                    },
                    "modelVersion": "2022-11-01"
                  },
                  "5": {
                    "detectedLanguage": {
                      "language": "es",
                      "score": 1
                    },
                    "translations": [
                      {
                        "text": "He bought this bike 2 weeks ago and they have put 340 miles (dirt, single non-technical track) on it. Very comfortable and stable, both climbing and descending. I'll take it by bike soon. Having 6,600 miles on the CO-OP ARD 1.4 (dirt and asphalt) and very happy with it. Although it's 6 pounds heavier than the ARD it doesn't feel much slower.",
                        "to": "en"
                      }
                    ]
                  }
                },
                {
                  "0": "Road-250",
                  "1": "4",
                  "2": "Eccellente costruito, ma...",
                  "3": "Mi è piaciuto tutto della moto tranne i cambi di marcia. Andare in giro per la città, speciale a New York, è stato un incidente in attesa di accadere. Sempre raggiungere il basso per cambiare marcia e non avere le mani sulla pausa mi ha fatto ripensare la moto. Quei turni sono OK, se sei cresciuto usandoli, ma io no, non il mio tipo.",
                  "4": {
                    "document": {
                      "confidenceScores": {
                        "negative": 0.43,
                        "neutral": 0.07,
                        "positive": 0.5
                      },
                      "id": "6",
                      "sentences": [
                        {
                          "confidenceScores": {
                            "negative": 0,
                            "neutral": 0,
                            "positive": 1
                          },
                          "length": 57,
                          "offset": 0,
                          "sentiment": "positive",
                          "text": "Mi è piaciuto tutto della moto tranne i cambi di marcia. "
                        },
                        {
                          "confidenceScores": {
                            "negative": 0.85,
                            "neutral": 0.14,
                            "positive": 0.01
                          },
                          "length": 94,
                          "offset": 57,
                          "sentiment": "negative",
                          "text": "Andare in giro per la città, speciale a New York, è stato un incidente in attesa di accadere. "
                        },
                        {
                          "confidenceScores": {
                            "negative": 0.11,
                            "neutral": 0.89,
                            "positive": 0
                          },
                          "length": 111,
                          "offset": 151,
                          "sentiment": "neutral",
                          "text": "Sempre raggiungere il basso per cambiare marcia e non avere le mani sulla pausa mi ha fatto ripensare la moto. "
                        },
                        {
                          "confidenceScores": {
                            "negative": 0.01,
                            "neutral": 0.99,
                            "positive": 0
                          },
                          "length": 73,
                          "offset": 262,
                          "sentiment": "neutral",
                          "text": "Quei turni sono OK, se sei cresciuto usandoli, ma io no, non il mio tipo."
                        }
                      ],
                      "sentiment": "mixed",
                      "warnings": []
                    },
                    "modelVersion": "2022-11-01"
                  },
                  "5": {
                    "detectedLanguage": {
                      "language": "it",
                      "score": 0.95
                    },
                    "translations": [
                      {
                        "text": "I liked everything about the bike except the gear changes. Going around the city, especially in New York, was an accident waiting to happen. Always reaching the bottom to change gears and not having my hands on the break made me rethink the bike. Those shifts are OK, if you grew up using them, but I don't, not my type.",
                        "to": "en"
                      }
                    ]
                  }
                },
                {
                  "0": "Touring-1000",
                  "1": "4",
                  "2": "È una bici da avventura itinerante",
                  "3": "I cambi e il treno in auto è un vero e proprio set up touring, è allo stesso livello di yoga, scontroso, salsa e molte altre marche nella categoria touring",
                  "4": {
                    "document": {
                      "confidenceScores": {
                        "negative": 0.05,
                        "neutral": 0.86,
                        "positive": 0.09
                      },
                      "id": "7",
                      "sentences": [
                        {
                          "confidenceScores": {
                            "negative": 0.05,
                            "neutral": 0.86,
                            "positive": 0.09
                          },
                          "length": 155,
                          "offset": 0,
                          "sentiment": "neutral",
                          "text": "I cambi e il treno in auto è un vero e proprio set up touring, è allo stesso livello di yoga, scontroso, salsa e molte altre marche nella categoria touring"
                        }
                      ],
                      "sentiment": "neutral",
                      "warnings": []
                    },
                    "modelVersion": "2022-11-01"
                  },
                  "5": {
                    "detectedLanguage": {
                      "language": "it",
                      "score": 0.97
                    },
                    "translations": [
                      {
                        "text": "The changes and the train by car is a real set up touring, it is on the same level as yoga, grumpy, salsa and many other brands in the touring category",
                        "to": "en"
                      }
                    ]
                  }
                },
                {
                  "0": "Touring-2000",
                  "1": "4",
                  "2": "Corsa personalizzata",
                  "3": "Volevo una buona, robusta moto da turismo come il 4.2, ma con fuori le gomme grasse dato che giro solo sulla strada e percorsi multi uso. Ho comprato questo e fatto qualche personalizzazione. Sono troppo vecchio per chinarmi e non mi piacciono i fine turner del bar, quindi ho avuto un Jones SG 2.5 bar messo su di esso, insieme a parafanghi. ",
                  "4": {
                    "document": {
                      "confidenceScores": {
                        "negative": 0.48,
                        "neutral": 0.05,
                        "positive": 0.46
                      },
                      "id": "8",
                      "sentences": [
                        {
                          "confidenceScores": {
                            "negative": 0.07,
                            "neutral": 0.01,
                            "positive": 0.93
                          },
                          "length": 138,
                          "offset": 0,
                          "sentiment": "positive",
                          "text": "Volevo una buona, robusta moto da turismo come il 4.2, ma con fuori le gomme grasse dato che giro solo sulla strada e percorsi multi uso. "
                        },
                        {
                          "confidenceScores": {
                            "negative": 0.01,
                            "neutral": 0.98,
                            "positive": 0.02
                          },
                          "length": 54,
                          "offset": 138,
                          "sentiment": "neutral",
                          "text": "Ho comprato questo e fatto qualche personalizzazione. "
                        },
                        {
                          "confidenceScores": {
                            "negative": 0.89,
                            "neutral": 0.1,
                            "positive": 0
                          },
                          "length": 151,
                          "offset": 192,
                          "sentiment": "negative",
                          "text": "Sono troppo vecchio per chinarmi e non mi piacciono i fine turner del bar, quindi ho avuto un Jones SG 2.5 bar messo su di esso, insieme a parafanghi. "
                        }
                      ],
                      "sentiment": "mixed",
                      "warnings": []
                    },
                    "modelVersion": "2022-11-01"
                  },
                  "5": {
                    "detectedLanguage": {
                      "language": "it",
                      "score": 0.98
                    },
                    "translations": [
                      {
                        "text": "I wanted a good, sturdy touring bike like the 4.2, but with fat tyres out as I only ride on the road and multi-use routes. I bought this and made some customization. I'm too old to bend over and don't like bar end turners, so I had a Jones SG 2.5 bar put on it, along with fenders. ",
                        "to": "en"
                      }
                    ]
                  }
                },
                {
                  "0": "Touring-2000",
                  "1": "5",
                  "2": "Ottima bici per lunghe distanze",
                  "3": "Ho comprato la versione degli ultimi anni di questa moto (colore ed era grigio e non è venuto con rack anteriore) per un viaggio di ciclismo a lunga distanza attraverso l'Africa. Ho guidato questa moto dal Cairo a Città del Capo percorrendo quasi 12.000 km in quattro mesi in un viaggio in bicicletta supportato. Oltre a fare qualche manutenzione di routine c'era molto poco ho dovuto affrontare durante il mio viaggio, è stata una grande moto!",
                  "4": {
                    "document": {
                      "confidenceScores": {
                        "negative": 0.01,
                        "neutral": 0.05,
                        "positive": 0.94
                      },
                      "id": "9",
                      "sentences": [
                        {
                          "confidenceScores": {
                            "negative": 0.01,
                            "neutral": 0.97,
                            "positive": 0.03
                          },
                          "length": 179,
                          "offset": 0,
                          "sentiment": "neutral",
                          "text": "Ho comprato la versione degli ultimi anni di questa moto (colore ed era grigio e non è venuto con rack anteriore) per un viaggio di ciclismo a lunga distanza attraverso l'Africa. "
                        },
                        {
                          "confidenceScores": {
                            "negative": 0,
                            "neutral": 0.92,
                            "positive": 0.08
                          },
                          "length": 134,
                          "offset": 179,
                          "sentiment": "neutral",
                          "text": "Ho guidato questa moto dal Cairo a Città del Capo percorrendo quasi 12.000 km in quattro mesi in un viaggio in bicicletta supportato. "
                        },
                        {
                          "confidenceScores": {
                            "negative": 0.01,
                            "neutral": 0.05,
                            "positive": 0.94
                          },
                          "length": 131,
                          "offset": 313,
                          "sentiment": "positive",
                          "text": "Oltre a fare qualche manutenzione di routine c'era molto poco ho dovuto affrontare durante il mio viaggio, è stata una grande moto!"
                        }
                      ],
                      "sentiment": "positive",
                      "warnings": []
                    },
                    "modelVersion": "2022-11-01"
                  },
                  "5": {
                    "detectedLanguage": {
                      "language": "it",
                      "score": 0.97
                    },
                    "translations": [
                      {
                        "text": "I bought the last few years version of this bike (color and it was gray and did not come with front rack) for a long distance cycling trip through Africa. I rode this bike from Cairo to Cape Town covering almost 12,000km in four months on a supported bike trip. Besides doing some routine maintenance there was very little I had to deal with during my trip, it was a great bike!",
                        "to": "en"
                      }
                    ]
                  }
                },
                {
                  "0": "Touring-1000",
                  "1": "3",
                  "2": "Observation de 500 milles",
                  "3": "J’ai acheté ce vélo pour une balade en cross-country. La conception est verticale et est confortable sur la distance. Les quarts de travail de fin de barre fonctionnent bien. La brochette arrière s’est cassée dans les 200 milles, le magasin a cassé la vis de poteau de siège sur l’accord. C’est un peu inquiétant étant donné que j’ai l’intention de prendre le vélo à travers le pays. Où d’autre ont-ils lésiné sur des pièces de qualité?",
                  "4": {
                    "document": {
                      "confidenceScores": {
                        "negative": 0.41,
                        "neutral": 0.09,
                        "positive": 0.5
                      },
                      "id": "0",
                      "sentences": [
                        {
                          "confidenceScores": {
                            "negative": 0.01,
                            "neutral": 0.28,
                            "positive": 0.7
                          },
                          "length": 54,
                          "offset": 0,
                          "sentiment": "positive",
                          "text": "J’ai acheté ce vélo pour une balade en cross-country. "
                        },
                        {
                          "confidenceScores": {
                            "negative": 0,
                            "neutral": 0.01,
                            "positive": 0.99
                          },
                          "length": 64,
                          "offset": 54,
                          "sentiment": "positive",
                          "text": "La conception est verticale et est confortable sur la distance. "
                        },
                        {
                          "confidenceScores": {
                            "negative": 0,
                            "neutral": 0.01,
                            "positive": 0.99
                          },
                          "length": 57,
                          "offset": 118,
                          "sentiment": "positive",
                          "text": "Les quarts de travail de fin de barre fonctionnent bien. "
                        },
                        {
                          "confidenceScores": {
                            "negative": 0.97,
                            "neutral": 0.02,
                            "positive": 0
                          },
                          "length": 114,
                          "offset": 175,
                          "sentiment": "negative",
                          "text": "La brochette arrière s’est cassée dans les 200 milles, le magasin a cassé la vis de poteau de siège sur l’accord. "
                        },
                        {
                          "confidenceScores": {
                            "negative": 0.99,
                            "neutral": 0.01,
                            "positive": 0
                          },
                          "length": 95,
                          "offset": 289,
                          "sentiment": "negative",
                          "text": "C’est un peu inquiétant étant donné que j’ai l’intention de prendre le vélo à travers le pays. "
                        },
                        {
                          "confidenceScores": {
                            "negative": 0.47,
                            "neutral": 0.19,
                            "positive": 0.33
                          },
                          "length": 52,
                          "offset": 384,
                          "sentiment": "negative",
                          "text": "Où d’autre ont-ils lésiné sur des pièces de qualité?"
                        }
                      ],
                      "sentiment": "mixed",
                      "warnings": []
                    },
                    "modelVersion": "2022-11-01"
                  },
                  "5": {
                    "detectedLanguage": {
                      "language": "fr",
                      "score": 1
                    },
                    "translations": [
                      {
                        "text": "I bought this bike for a cross-country ride. The design is vertical and is comfortable over the distance. End of bar shifts work well. The rear skewer broke within 200 miles, the store broke the seat post screw on the chord. This is a bit worrying considering that I intend to cycle across the country. Where else did they skimp on quality pieces?",
                        "to": "en"
                      }
                    ]
                  }
                },
                {
                  "0": "Touring-2000",
                  "1": "5",
                  "2": "Beaucoup de grandes fonctionnalités",
                  "3": "Dans l’ensemble, je donne à ce vélo 4,5 étoiles, mais comme je ne peux pas désigner une demi-étoile, j’ai dû arrondir jusqu’à 5. Il ya beaucoup de grandes fonctionnalités sur ce vélo et seulement quelques inconvénients qui descendent probablement à la préférence personnelle. La vitesse basse est étonnamment faible (un peu plus de 15 centimètres), et c’est une très bonne chose pour les routes de terre escarpées de l’arrière-pays, les vieilles routes minières, et les routes de feu. Une telle faible, faible vitesse est peut-être cette meilleure caractéristique des vélos.",
                  "4": {
                    "document": {
                      "confidenceScores": {
                        "negative": 0.82,
                        "neutral": 0.03,
                        "positive": 0.14
                      },
                      "id": "1",
                      "sentences": [
                        {
                          "confidenceScores": {
                            "negative": 0.98,
                            "neutral": 0.02,
                            "positive": 0
                          },
                          "length": 129,
                          "offset": 0,
                          "sentiment": "negative",
                          "text": "Dans l’ensemble, je donne à ce vélo 4,5 étoiles, mais comme je ne peux pas désigner une demi-étoile, j’ai dû arrondir jusqu’à 5. "
                        },
                        {
                          "confidenceScores": {
                            "negative": 0.96,
                            "neutral": 0.03,
                            "positive": 0.01
                          },
                          "length": 147,
                          "offset": 129,
                          "sentiment": "negative",
                          "text": "Il ya beaucoup de grandes fonctionnalités sur ce vélo et seulement quelques inconvénients qui descendent probablement à la préférence personnelle. "
                        },
                        {
                          "confidenceScores": {
                            "negative": 0.67,
                            "neutral": 0.02,
                            "positive": 0.31
                          },
                          "length": 209,
                          "offset": 276,
                          "sentiment": "negative",
                          "text": "La vitesse basse est étonnamment faible (un peu plus de 15 centimètres), et c’est une très bonne chose pour les routes de terre escarpées de l’arrière-pays, les vieilles routes minières, et les routes de feu. "
                        },
                        {
                          "confidenceScores": {
                            "negative": 0.69,
                            "neutral": 0.07,
                            "positive": 0.24
                          },
                          "length": 89,
                          "offset": 485,
                          "sentiment": "negative",
                          "text": "Une telle faible, faible vitesse est peut-être cette meilleure caractéristique des vélos."
                        }
                      ],
                      "sentiment": "negative",
                      "warnings": []
                    },
                    "modelVersion": "2022-11-01"
                  },
                  "5": {
                    "detectedLanguage": {
                      "language": "fr",
                      "score": 1
                    },
                    "translations": [
                      {
                        "text": "Overall, I give this bike 4.5 stars, but since I can't name half a star, I had to round up to 5. There are a lot of great features on this bike and only a few drawbacks that probably go down to personal preference. The low speed is surprisingly low (just over 15 centimeters), and that's a very good thing for steep hinterland dirt roads, old mining roads, and fire roads. Such a low, low speed is perhaps this best feature of bicycles.",
                        "to": "en"
                      }
                    ]
                  }
                },
                {
                  "0": "Road-250",
                  "1": "5",
                  "2": "Génial!",
                  "3": "J’adore ce vélo. J’ai monté des vélos pour les 3 dernières années, mais j’ai utilisé un Ebike pour le dernier petit moment. J’en avais marre d’être attaché à une batterie lourde, mais j’avais peur de rater la vitesse pour revenir à un vélo ordinaire. Cette Salsa ne laisse rien à désirer. Il est rapide, lisse, agile, et semble pare-balles. J’ai pris sur un tour de 25 micro la première nuit et est tombé en amour. Un accident de rivière sans rapport m’a laissé avec un ACL déchiré, donc j’ai été hors service après la chirurgie pour la dernière semaine ou deux. Mais une fois que je serai de nouveau en bonne santé, je monterai ma salsa. Ma femme et moi prévoyons un voyage d’emballage de vélo pour une fois que je suis à 100%. Ce vélo sera parfait pour elle.",
                  "4": {
                    "document": {
                      "confidenceScores": {
                        "negative": 0.33,
                        "neutral": 0.09,
                        "positive": 0.58
                      },
                      "id": "2",
                      "sentences": [
                        {
                          "confidenceScores": {
                            "negative": 0,
                            "neutral": 0,
                            "positive": 1
                          },
                          "length": 17,
                          "offset": 0,
                          "sentiment": "positive",
                          "text": "J’adore ce vélo. "
                        },
                        {
                          "confidenceScores": {
                            "negative": 0,
                            "neutral": 0.99,
                            "positive": 0
                          },
                          "length": 107,
                          "offset": 17,
                          "sentiment": "neutral",
                          "text": "J’ai monté des vélos pour les 3 dernières années, mais j’ai utilisé un Ebike pour le dernier petit moment. "
                        },
                        {
                          "confidenceScores": {
                            "negative": 1,
                            "neutral": 0,
                            "positive": 0
                          },
                          "length": 127,
                          "offset": 124,
                          "sentiment": "negative",
                          "text": "J’en avais marre d’être attaché à une batterie lourde, mais j’avais peur de rater la vitesse pour revenir à un vélo ordinaire. "
                        },
                        {
                          "confidenceScores": {
                            "negative": 0.53,
                            "neutral": 0.36,
                            "positive": 0.12
                          },
                          "length": 38,
                          "offset": 251,
                          "sentiment": "negative",
                          "text": "Cette Salsa ne laisse rien à désirer. "
                        },
                        {
                          "confidenceScores": {
                            "negative": 0.01,
                            "neutral": 0.11,
                            "positive": 0.88
                          },
                          "length": 52,
                          "offset": 289,
                          "sentiment": "positive",
                          "text": "Il est rapide, lisse, agile, et semble pare-balles. "
                        },
                        {
                          "confidenceScores": {
                            "negative": 0.01,
                            "neutral": 0.01,
                            "positive": 0.99
                          },
                          "length": 74,
                          "offset": 341,
                          "sentiment": "positive",
                          "text": "J’ai pris sur un tour de 25 micro la première nuit et est tombé en amour. "
                        },
                        {
                          "confidenceScores": {
                            "negative": 1,
                            "neutral": 0,
                            "positive": 0
                          },
                          "length": 148,
                          "offset": 415,
                          "sentiment": "negative",
                          "text": "Un accident de rivière sans rapport m’a laissé avec un ACL déchiré, donc j’ai été hors service après la chirurgie pour la dernière semaine ou deux. "
                        },
                        {
                          "confidenceScores": {
                            "negative": 0.06,
                            "neutral": 0.26,
                            "positive": 0.67
                          },
                          "length": 76,
                          "offset": 563,
                          "sentiment": "positive",
                          "text": "Mais une fois que je serai de nouveau en bonne santé, je monterai ma salsa. "
                        },
                        {
                          "confidenceScores": {
                            "negative": 0,
                            "neutral": 0.92,
                            "positive": 0.08
                          },
                          "length": 90,
                          "offset": 639,
                          "sentiment": "neutral",
                          "text": "Ma femme et moi prévoyons un voyage d’emballage de vélo pour une fois que je suis à 100%. "
                        },
                        {
                          "confidenceScores": {
                            "negative": 0,
                            "neutral": 0,
                            "positive": 1
                          },
                          "length": 31,
                          "offset": 729,
                          "sentiment": "positive",
                          "text": "Ce vélo sera parfait pour elle."
                        }
                      ],
                      "sentiment": "mixed",
                      "warnings": []
                    },
                    "modelVersion": "2022-11-01"
                  },
                  "5": {
                    "detectedLanguage": {
                      "language": "fr",
                      "score": 0.99
                    },
                    "translations": [
                      {
                        "text": "I love this bike. I have ridden bikes for the last 3 years, but I used an Ebike for the last little while. I was tired of being attached to a heavy battery, but I was afraid of missing the speed to return to a regular bike. This Salsa leaves nothing to be desired. It is fast, smooth, agile, and seems bulletproof. I took on a 25 mic spin the first night and fell in love. An unrelated river accident left me with a torn ACL, so I was out of service after surgery for the last week or two. But once I'm healthy again, I'll put on my salsa. My wife and I are planning a bike packing trip for once I'm 100%. This bike will be perfect for her.",
                        "to": "en"
                      }
                    ]
                  }
                }
              ],
              "schema": [
                {
                  "key": "0",
                  "name": "Model",
                  "type": "string"
                },
                {
                  "key": "1",
                  "name": "Stars",
                  "type": "string"
                },
                {
                  "key": "2",
                  "name": "Title",
                  "type": "string"
                },
                {
                  "key": "3",
                  "name": "Review",
                  "type": "string"
                },
                {
                  "key": "4",
                  "name": "sentimentResult",
                  "type": "StructType(StructField(statistics,StructType(StructField(documentsCount,IntegerType,false),StructField(validDocumentsCount,IntegerType,false),StructField(erroneousDocumentsCount,IntegerType,false),StructField(transactionsCount,IntegerType,false)),true),StructField(document,StructType(StructField(id,StringType,true),StructField(sentiment,StringType,true),StructField(statistics,StructType(StructField(charactersCount,IntegerType,false),StructField(transactionsCount,IntegerType,false)),true),StructField(confidenceScores,StructType(StructField(positive,DoubleType,false),StructField(neutral,DoubleType,false),StructField(negative,DoubleType,false)),true),StructField(sentences,ArrayType(StructType(StructField(text,StringType,true),StructField(sentiment,StringType,true),StructField(confidenceScores,StructType(StructField(positive,DoubleType,false),StructField(neutral,DoubleType,false),StructField(negative,DoubleType,false)),true),StructField(targets,ArrayType(StructType(StructField(confidenceScores,StructType(StructField(positive,DoubleType,false),StructField(negative,DoubleType,false)),true),StructField(length,IntegerType,false),StructField(offset,IntegerType,false),StructField(text,StringType,true),StructField(sentiment,StringType,true),StructField(relations,ArrayType(StructType(StructField(ref,StringType,true),StructField(relationType,StringType,true)),true),true)),true),true),StructField(assessments,ArrayType(StructType(StructField(confidenceScores,StructType(StructField(positive,DoubleType,false),StructField(negative,DoubleType,false)),true),StructField(length,IntegerType,false),StructField(offset,IntegerType,false),StructField(text,StringType,true),StructField(sentiment,StringType,true),StructField(isNegated,BooleanType,false)),true),true),StructField(offset,IntegerType,false),StructField(length,IntegerType,false)),true),true),StructField(warnings,ArrayType(StructType(StructField(code,StringType,true),StructField(message,StringType,true),StructField(targetRef,StringType,true)),true),true)),true),StructField(error,StructType(StructField(id,StringType,true),StructField(error,StringType,true)),true),StructField(modelVersion,StringType,true))"
                },
                {
                  "key": "5",
                  "name": "translation",
                  "type": "StructType(StructField(detectedLanguage,StructType(StructField(language,StringType,true),StructField(score,DoubleType,true)),true),StructField(translations,ArrayType(StructType(StructField(to,StringType,true),StructField(text,StringType,true),StructField(transliteration,StructType(StructField(script,StringType,true),StructField(text,StringType,true)),true),StructField(alignment,StructType(StructField(proj,StringType,true)),true),StructField(sentLen,StructType(StructField(srcSentLen,ArrayType(IntegerType,true),true),StructField(transSentLen,ArrayType(IntegerType,true),true)),true)),true),true),StructField(sourceText,StructType(StructField(text,StringType,true)),true))"
                }
              ],
              "truncated": false
            }
          },
          "type": "Synapse.DataFrame"
        },
        "f1641d3e-1bdf-4022-b0f0-5cc878c58bd4": {
          "persist_state": {
            "view": {
              "chartOptions": {
                "aggregationType": "sum",
                "categoryFieldKeys": [
                  "0"
                ],
                "chartType": "bar",
                "isStacked": false,
                "seriesFieldKeys": [
                  "7"
                ]
              },
              "tableOptions": {},
              "type": "details"
            }
          },
          "sync_state": {
            "isSummary": false,
            "language": "scala",
            "table": {
              "rows": [
                {
                  "0": "Road-150",
                  "1": "5",
                  "2": "Great bike",
                  "3": "On the flats I avg 14.5 to 16mph, small uphill intervals I push up to 20mph. I don't need to go 35mph down hill anymore so I don't need big front chain rings. My Knee's need that 36 rear cog, would love it even more if it were 40-24 or even 40-22 front chain rings, Or put on an 11spd 11-40 rear cassette. May have bought the option if available in 700c x 35 to 40mm tire. I feel more comfortable hitting speed bumps at 20+mph downhill with 650b x 50mm. Would have loved 10spd brake/shifter, but after 400 mi I am comfortable with the bar end shifters. I love this bike!!!",
                  "4": {
                    "document": {
                      "confidenceScores": {
                        "negative": 0,
                        "neutral": 0.01,
                        "positive": 0.99
                      },
                      "id": "0",
                      "sentences": [
                        {
                          "confidenceScores": {
                            "negative": 0,
                            "neutral": 1,
                            "positive": 0
                          },
                          "length": 77,
                          "offset": 0,
                          "sentiment": "neutral",
                          "text": "On the flats I avg 14.5 to 16mph, small uphill intervals I push up to 20mph. "
                        },
                        {
                          "confidenceScores": {
                            "negative": 0,
                            "neutral": 1,
                            "positive": 0
                          },
                          "length": 82,
                          "offset": 77,
                          "sentiment": "neutral",
                          "text": "I don't need to go 35mph down hill anymore so I don't need big front chain rings. "
                        },
                        {
                          "confidenceScores": {
                            "negative": 0,
                            "neutral": 0,
                            "positive": 1
                          },
                          "length": 147,
                          "offset": 159,
                          "sentiment": "positive",
                          "text": "My Knee's need that 36 rear cog, would love it even more if it were 40-24 or even 40-22 front chain rings, Or put on an 11spd 11-40 rear cassette. "
                        },
                        {
                          "confidenceScores": {
                            "negative": 0,
                            "neutral": 1,
                            "positive": 0
                          },
                          "length": 67,
                          "offset": 306,
                          "sentiment": "neutral",
                          "text": "May have bought the option if available in 700c x 35 to 40mm tire. "
                        },
                        {
                          "confidenceScores": {
                            "negative": 0,
                            "neutral": 0.05,
                            "positive": 0.95
                          },
                          "length": 81,
                          "offset": 373,
                          "sentiment": "positive",
                          "text": "I feel more comfortable hitting speed bumps at 20+mph downhill with 650b x 50mm. "
                        },
                        {
                          "confidenceScores": {
                            "negative": 0,
                            "neutral": 0,
                            "positive": 1
                          },
                          "length": 99,
                          "offset": 454,
                          "sentiment": "positive",
                          "text": "Would have loved 10spd brake/shifter, but after 400 mi I am comfortable with the bar end shifters. "
                        },
                        {
                          "confidenceScores": {
                            "negative": 0,
                            "neutral": 0,
                            "positive": 1
                          },
                          "length": 19,
                          "offset": 553,
                          "sentiment": "positive",
                          "text": "I love this bike!!!"
                        }
                      ],
                      "sentiment": "positive",
                      "warnings": []
                    },
                    "modelVersion": "2022-11-01"
                  },
                  "5": {
                    "detectedLanguage": {
                      "language": "en",
                      "score": 1
                    },
                    "translations": [
                      {
                        "text": "On the flats I avg 14.5 to 16mph, small uphill intervals I push up to 20mph. I don't need to go 35mph down hill anymore so I don't need big front chain rings. My Knee's need that 36 rear cog, would love it even more if it were 40-24 or even 40-22 front chain rings, Or put on an 11spd 11-40 rear cassette. May have bought the option if available in 700c x 35 to 40mm tire. I feel more comfortable hitting speed bumps at 20+mph downhill with 650b x 50mm. Would have loved 10spd brake/shifter, but after 400 mi I am comfortable with the bar end shifters. I love this bike!!!",
                        "to": "en"
                      }
                    ]
                  },
                  "6": "positive",
                  "7": "0.99",
                  "8": "0.01",
                  "9": "0.0"
                },
                {
                  "0": "Road-150",
                  "1": "5",
                  "2": "Perfect blend of high quality build and value",
                  "3": "I picked up this bicycle after my bike packing trip this fall through WV. I rode my rigid carbon hardtail for the trip and it was great but the lack of mounts left me looking for a secondary bicycle. The sale price Of this bicycle Made this purchase a no brainer. The mix of components, precision of the bar end shifters and the weight make is fun on the road, loaded up with Relevate Bags or riding single track. I picked a large frame as I’m 5’10” with a 32in inseam and it was a bit more upright and tight when in a saddle for my preference. Putting a Thompson setback seatpost fixed that minor issue. It’s perfect now. I was looking to buy a Kona Sutra LTD or Specialized gravel bike but for the money the ADV 3.2 was the way to go.",
                  "4": {
                    "document": {
                      "confidenceScores": {
                        "negative": 0.37,
                        "neutral": 0.06,
                        "positive": 0.57
                      },
                      "id": "1",
                      "sentences": [
                        {
                          "confidenceScores": {
                            "negative": 0.01,
                            "neutral": 0.86,
                            "positive": 0.13
                          },
                          "length": 74,
                          "offset": 0,
                          "sentiment": "neutral",
                          "text": "I picked up this bicycle after my bike packing trip this fall through WV. "
                        },
                        {
                          "confidenceScores": {
                            "negative": 0.41,
                            "neutral": 0,
                            "positive": 0.58
                          },
                          "length": 126,
                          "offset": 74,
                          "sentiment": "positive",
                          "text": "I rode my rigid carbon hardtail for the trip and it was great but the lack of mounts left me looking for a secondary bicycle. "
                        },
                        {
                          "confidenceScores": {
                            "negative": 0.56,
                            "neutral": 0.15,
                            "positive": 0.29
                          },
                          "length": 64,
                          "offset": 200,
                          "sentiment": "negative",
                          "text": "The sale price Of this bicycle Made this purchase a no brainer. "
                        },
                        {
                          "confidenceScores": {
                            "negative": 0,
                            "neutral": 0.03,
                            "positive": 0.97
                          },
                          "length": 150,
                          "offset": 264,
                          "sentiment": "positive",
                          "text": "The mix of components, precision of the bar end shifters and the weight make is fun on the road, loaded up with Relevate Bags or riding single track. "
                        },
                        {
                          "confidenceScores": {
                            "negative": 0.01,
                            "neutral": 0.93,
                            "positive": 0.07
                          },
                          "length": 131,
                          "offset": 414,
                          "sentiment": "neutral",
                          "text": "I picked a large frame as I’m 5’10” with a 32in inseam and it was a bit more upright and tight when in a saddle for my preference. "
                        },
                        {
                          "confidenceScores": {
                            "negative": 0.86,
                            "neutral": 0.11,
                            "positive": 0.03
                          },
                          "length": 60,
                          "offset": 545,
                          "sentiment": "negative",
                          "text": "Putting a Thompson setback seatpost fixed that minor issue. "
                        },
                        {
                          "confidenceScores": {
                            "negative": 0,
                            "neutral": 0,
                            "positive": 1
                          },
                          "length": 18,
                          "offset": 605,
                          "sentiment": "positive",
                          "text": "It’s perfect now. "
                        },
                        {
                          "confidenceScores": {
                            "negative": 0.01,
                            "neutral": 0.96,
                            "positive": 0.03
                          },
                          "length": 113,
                          "offset": 623,
                          "sentiment": "neutral",
                          "text": "I was looking to buy a Kona Sutra LTD or Specialized gravel bike but for the money the ADV 3.2 was the way to go."
                        }
                      ],
                      "sentiment": "mixed",
                      "warnings": []
                    },
                    "modelVersion": "2022-11-01"
                  },
                  "5": {
                    "detectedLanguage": {
                      "language": "en",
                      "score": 0.99
                    },
                    "translations": [
                      {
                        "text": "I picked up this bicycle after my bike packing trip this fall through WV. I rode my rigid carbon hardtail for the trip and it was great but the lack of mounts left me looking for a secondary bicycle. The sale price Of this bicycle Made this purchase a no brainer. The mix of components, precision of the bar end shifters and the weight make is fun on the road, loaded up with Relevate Bags or riding single track. I picked a large frame as I’m 5’10” with a 32in inseam and it was a bit more upright and tight when in a saddle for my preference. Putting a Thompson setback seatpost fixed that minor issue. It’s perfect now. I was looking to buy a Kona Sutra LTD or Specialized gravel bike but for the money the ADV 3.2 was the way to go.",
                        "to": "en"
                      }
                    ]
                  },
                  "6": "mixed",
                  "7": "0.57",
                  "8": "0.06",
                  "9": "0.37"
                },
                {
                  "0": "Road-150",
                  "1": "5",
                  "2": "Great value for adventure touring bike",
                  "3": "I toured with this bike using full packs in the Kootenai Lake region of British Columbia, and have ridden it extensively for bike commuting purposes. For the price point, I think it's a great value. It has taken quite a pounding over gravel road tours, and no mechanical issues. The steel frame handles weight well, and offers shock absorbency on long rides. I did swap out the tires for Schwalbe Marathons, which are heavier - but I've never had a flat on them and they hold pressure extremely well.",
                  "4": {
                    "document": {
                      "confidenceScores": {
                        "negative": 0,
                        "neutral": 0.01,
                        "positive": 0.99
                      },
                      "id": "2",
                      "sentences": [
                        {
                          "confidenceScores": {
                            "negative": 0.01,
                            "neutral": 0.91,
                            "positive": 0.09
                          },
                          "length": 150,
                          "offset": 0,
                          "sentiment": "neutral",
                          "text": "I toured with this bike using full packs in the Kootenai Lake region of British Columbia, and have ridden it extensively for bike commuting purposes. "
                        },
                        {
                          "confidenceScores": {
                            "negative": 0,
                            "neutral": 0.01,
                            "positive": 0.99
                          },
                          "length": 49,
                          "offset": 150,
                          "sentiment": "positive",
                          "text": "For the price point, I think it's a great value. "
                        },
                        {
                          "confidenceScores": {
                            "negative": 0.18,
                            "neutral": 0.75,
                            "positive": 0.07
                          },
                          "length": 80,
                          "offset": 199,
                          "sentiment": "neutral",
                          "text": "It has taken quite a pounding over gravel road tours, and no mechanical issues. "
                        },
                        {
                          "confidenceScores": {
                            "negative": 0.01,
                            "neutral": 0.68,
                            "positive": 0.31
                          },
                          "length": 80,
                          "offset": 279,
                          "sentiment": "neutral",
                          "text": "The steel frame handles weight well, and offers shock absorbency on long rides. "
                        },
                        {
                          "confidenceScores": {
                            "negative": 0.01,
                            "neutral": 0.87,
                            "positive": 0.13
                          },
                          "length": 141,
                          "offset": 359,
                          "sentiment": "neutral",
                          "text": "I did swap out the tires for Schwalbe Marathons, which are heavier - but I've never had a flat on them and they hold pressure extremely well."
                        }
                      ],
                      "sentiment": "positive",
                      "warnings": []
                    },
                    "modelVersion": "2022-11-01"
                  },
                  "5": {
                    "detectedLanguage": {
                      "language": "en",
                      "score": 1
                    },
                    "translations": [
                      {
                        "text": "I toured with this bike using full packs in the Kootenai Lake region of British Columbia, and have ridden it extensively for bike commuting purposes. For the price point, I think it's a great value. It has taken quite a pounding over gravel road tours, and no mechanical issues. The steel frame handles weight well, and offers shock absorbency on long rides. I did swap out the tires for Schwalbe Marathons, which are heavier - but I've never had a flat on them and they hold pressure extremely well.",
                        "to": "en"
                      }
                    ]
                  },
                  "6": "positive",
                  "7": "0.99",
                  "8": "0.01",
                  "9": "0.0"
                },
                {
                  "0": "Road-150",
                  "1": "5",
                  "2": "Disclaimer: I've owned this bike less than a week",
                  "3": "I've owned this bike less than a week. I was searching for a decent gravel bike and had narrowed my choices to this bike and a Surly Midnight Special. I took this bike for a test ride at the Denver Flagship store and didn't bother to test ride the Surly (which REI doesn't carry). This bike was $500 cheaper and had default gearing more suited to my 62 year old knees. I'm planning to climb some hills (I'm working up to climbing Lookout Mountain west of Denver) and so far have had no issues with the bike. It rides as smoothly as my previous ride, a Jamis Coda Comp with 700c x 28mm tires. This bike with it's 650b x 50mm tires absorbs the bumps of pavement and gravel and dare I say, seems to ride just as smoothly on pavement as my old Jamis. Well done, REI designers!",
                  "4": {
                    "document": {
                      "confidenceScores": {
                        "negative": 0.01,
                        "neutral": 0.1,
                        "positive": 0.89
                      },
                      "id": "3",
                      "sentences": [
                        {
                          "confidenceScores": {
                            "negative": 0,
                            "neutral": 0.99,
                            "positive": 0
                          },
                          "length": 39,
                          "offset": 0,
                          "sentiment": "neutral",
                          "text": "I've owned this bike less than a week. "
                        },
                        {
                          "confidenceScores": {
                            "negative": 0.02,
                            "neutral": 0.09,
                            "positive": 0.9
                          },
                          "length": 112,
                          "offset": 39,
                          "sentiment": "positive",
                          "text": "I was searching for a decent gravel bike and had narrowed my choices to this bike and a Surly Midnight Special. "
                        },
                        {
                          "confidenceScores": {
                            "negative": 0.09,
                            "neutral": 0.62,
                            "positive": 0.29
                          },
                          "length": 130,
                          "offset": 151,
                          "sentiment": "neutral",
                          "text": "I took this bike for a test ride at the Denver Flagship store and didn't bother to test ride the Surly (which REI doesn't carry). "
                        },
                        {
                          "confidenceScores": {
                            "negative": 0.02,
                            "neutral": 0.22,
                            "positive": 0.76
                          },
                          "length": 88,
                          "offset": 281,
                          "sentiment": "positive",
                          "text": "This bike was $500 cheaper and had default gearing more suited to my 62 year old knees. "
                        },
                        {
                          "confidenceScores": {
                            "negative": 0.01,
                            "neutral": 0.92,
                            "positive": 0.06
                          },
                          "length": 139,
                          "offset": 369,
                          "sentiment": "neutral",
                          "text": "I'm planning to climb some hills (I'm working up to climbing Lookout Mountain west of Denver) and so far have had no issues with the bike. "
                        },
                        {
                          "confidenceScores": {
                            "negative": 0,
                            "neutral": 0.85,
                            "positive": 0.14
                          },
                          "length": 84,
                          "offset": 508,
                          "sentiment": "neutral",
                          "text": "It rides as smoothly as my previous ride, a Jamis Coda Comp with 700c x 28mm tires. "
                        },
                        {
                          "confidenceScores": {
                            "negative": 0.01,
                            "neutral": 0.68,
                            "positive": 0.32
                          },
                          "length": 155,
                          "offset": 592,
                          "sentiment": "neutral",
                          "text": "This bike with it's 650b x 50mm tires absorbs the bumps of pavement and gravel and dare I say, seems to ride just as smoothly on pavement as my old Jamis. "
                        },
                        {
                          "confidenceScores": {
                            "negative": 0,
                            "neutral": 0,
                            "positive": 1
                          },
                          "length": 25,
                          "offset": 747,
                          "sentiment": "positive",
                          "text": "Well done, REI designers!"
                        }
                      ],
                      "sentiment": "positive",
                      "warnings": []
                    },
                    "modelVersion": "2022-11-01"
                  },
                  "5": {
                    "detectedLanguage": {
                      "language": "en",
                      "score": 0.99
                    },
                    "translations": [
                      {
                        "text": "I've owned this bike less than a week. I was searching for a decent gravel bike and had narrowed my choices to this bike and a Surly Midnight Special. I took this bike for a test ride at the Denver Flagship store and didn't bother to test ride the Surly (which REI doesn't carry). This bike was $500 cheaper and had default gearing more suited to my 62 year old knees. I'm planning to climb some hills (I'm working up to climbing Lookout Mountain west of Denver) and so far have had no issues with the bike. It rides as smoothly as my previous ride, a Jamis Coda Comp with 700c x 28mm tires. This bike with it's 650b x 50mm tires absorbs the bumps of pavement and gravel and dare I say, seems to ride just as smoothly on pavement as my old Jamis. Well done, REI designers!",
                        "to": "en"
                      }
                    ]
                  },
                  "6": "positive",
                  "7": "0.89",
                  "8": "0.1",
                  "9": "0.01"
                },
                {
                  "0": "Road-250",
                  "1": "5",
                  "2": "Great bike, great value",
                  "3": "Everything you could want in a do-it-all bike. Shifters were easy to get used to. Switched to WTB Horizon tires since I'm on the road more often than I'm not.",
                  "4": {
                    "document": {
                      "confidenceScores": {
                        "negative": 0,
                        "neutral": 0.03,
                        "positive": 0.96
                      },
                      "id": "4",
                      "sentences": [
                        {
                          "confidenceScores": {
                            "negative": 0,
                            "neutral": 0.07,
                            "positive": 0.93
                          },
                          "length": 47,
                          "offset": 0,
                          "sentiment": "positive",
                          "text": "Everything you could want in a do-it-all bike. "
                        },
                        {
                          "confidenceScores": {
                            "negative": 0,
                            "neutral": 0,
                            "positive": 1
                          },
                          "length": 35,
                          "offset": 47,
                          "sentiment": "positive",
                          "text": "Shifters were easy to get used to. "
                        },
                        {
                          "confidenceScores": {
                            "negative": 0,
                            "neutral": 0.99,
                            "positive": 0
                          },
                          "length": 76,
                          "offset": 82,
                          "sentiment": "neutral",
                          "text": "Switched to WTB Horizon tires since I'm on the road more often than I'm not."
                        }
                      ],
                      "sentiment": "positive",
                      "warnings": []
                    },
                    "modelVersion": "2022-11-01"
                  },
                  "5": {
                    "detectedLanguage": {
                      "language": "en",
                      "score": 1
                    },
                    "translations": [
                      {
                        "text": "Everything you could want in a do-it-all bike. Shifters were easy to get used to. Switched to WTB Horizon tires since I'm on the road more often than I'm not.",
                        "to": "en"
                      }
                    ]
                  },
                  "6": "positive",
                  "7": "0.96",
                  "8": "0.03",
                  "9": "0.0"
                },
                {
                  "0": "Road-250",
                  "1": "4",
                  "2": "It's a touring adventure bike",
                  "3": "The shifters and drive train is a real touring set up, it's at the same level of yoga, surly, salsa and many other brands in the touring category",
                  "4": {
                    "document": {
                      "confidenceScores": {
                        "negative": 0,
                        "neutral": 0.99,
                        "positive": 0.01
                      },
                      "id": "5",
                      "sentences": [
                        {
                          "confidenceScores": {
                            "negative": 0,
                            "neutral": 0.99,
                            "positive": 0.01
                          },
                          "length": 145,
                          "offset": 0,
                          "sentiment": "neutral",
                          "text": "The shifters and drive train is a real touring set up, it's at the same level of yoga, surly, salsa and many other brands in the touring category"
                        }
                      ],
                      "sentiment": "neutral",
                      "warnings": []
                    },
                    "modelVersion": "2022-11-01"
                  },
                  "5": {
                    "detectedLanguage": {
                      "language": "en",
                      "score": 1
                    },
                    "translations": [
                      {
                        "text": "The shifters and drive train is a real touring set up, it's at the same level of yoga, surly, salsa and many other brands in the touring category",
                        "to": "en"
                      }
                    ]
                  },
                  "6": "neutral",
                  "7": "0.01",
                  "8": "0.99",
                  "9": "0.0"
                },
                {
                  "0": "Road-250",
                  "1": "4",
                  "2": "Stabile, comfortable, great value",
                  "3": "Bought this bike 2 weeks ago and have put 340 miles (dirt, non-technical single track) on it. Very comfortable and stabile, both climbing and descending. Will be taking it bikepacking soon. Have 6,600 miles on the CO-OP ARD 1.4 (dirt and asphalt) and very happy with it. Although it's 6 lbs heavier than the ARD it doesn't feel much more sluggish.",
                  "4": {
                    "document": {
                      "confidenceScores": {
                        "negative": 0,
                        "neutral": 0,
                        "positive": 1
                      },
                      "id": "6",
                      "sentences": [
                        {
                          "confidenceScores": {
                            "negative": 0.17,
                            "neutral": 0.79,
                            "positive": 0.03
                          },
                          "length": 94,
                          "offset": 0,
                          "sentiment": "neutral",
                          "text": "Bought this bike 2 weeks ago and have put 340 miles (dirt, non-technical single track) on it. "
                        },
                        {
                          "confidenceScores": {
                            "negative": 0,
                            "neutral": 0,
                            "positive": 1
                          },
                          "length": 60,
                          "offset": 94,
                          "sentiment": "positive",
                          "text": "Very comfortable and stabile, both climbing and descending. "
                        },
                        {
                          "confidenceScores": {
                            "negative": 0.01,
                            "neutral": 0.72,
                            "positive": 0.27
                          },
                          "length": 36,
                          "offset": 154,
                          "sentiment": "neutral",
                          "text": "Will be taking it bikepacking soon. "
                        },
                        {
                          "confidenceScores": {
                            "negative": 0,
                            "neutral": 0,
                            "positive": 1
                          },
                          "length": 81,
                          "offset": 190,
                          "sentiment": "positive",
                          "text": "Have 6,600 miles on the CO-OP ARD 1.4 (dirt and asphalt) and very happy with it. "
                        },
                        {
                          "confidenceScores": {
                            "negative": 0.21,
                            "neutral": 0.78,
                            "positive": 0.01
                          },
                          "length": 76,
                          "offset": 271,
                          "sentiment": "neutral",
                          "text": "Although it's 6 lbs heavier than the ARD it doesn't feel much more sluggish."
                        }
                      ],
                      "sentiment": "positive",
                      "warnings": []
                    },
                    "modelVersion": "2022-11-01"
                  },
                  "5": {
                    "detectedLanguage": {
                      "language": "en",
                      "score": 1
                    },
                    "translations": [
                      {
                        "text": "Bought this bike 2 weeks ago and have put 340 miles (dirt, non-technical single track) on it. Very comfortable and stabile, both climbing and descending. Will be taking it bikepacking soon. Have 6,600 miles on the CO-OP ARD 1.4 (dirt and asphalt) and very happy with it. Although it's 6 lbs heavier than the ARD it doesn't feel much more sluggish.",
                        "to": "en"
                      }
                    ]
                  },
                  "6": "positive",
                  "7": "1.0",
                  "8": "0.0",
                  "9": "0.0"
                },
                {
                  "0": "Road-250",
                  "1": "4",
                  "2": "Excellent built, but...",
                  "3": "I loved everything about the bike except the gear shifters. Riding around town, especial in NYC, was a accident waiting to happen. Always reaching down to change gears and not having your hands on the break made me rethink the bike. Those shifts are OK, if you grew up using them, but me no, not my type.",
                  "4": {
                    "document": {
                      "confidenceScores": {
                        "negative": 0.5,
                        "neutral": 0,
                        "positive": 0.5
                      },
                      "id": "7",
                      "sentences": [
                        {
                          "confidenceScores": {
                            "negative": 0,
                            "neutral": 0,
                            "positive": 1
                          },
                          "length": 60,
                          "offset": 0,
                          "sentiment": "positive",
                          "text": "I loved everything about the bike except the gear shifters. "
                        },
                        {
                          "confidenceScores": {
                            "negative": 1,
                            "neutral": 0,
                            "positive": 0
                          },
                          "length": 71,
                          "offset": 60,
                          "sentiment": "negative",
                          "text": "Riding around town, especial in NYC, was a accident waiting to happen. "
                        },
                        {
                          "confidenceScores": {
                            "negative": 0.13,
                            "neutral": 0.83,
                            "positive": 0.04
                          },
                          "length": 102,
                          "offset": 131,
                          "sentiment": "neutral",
                          "text": "Always reaching down to change gears and not having your hands on the break made me rethink the bike. "
                        },
                        {
                          "confidenceScores": {
                            "negative": 0.03,
                            "neutral": 0.96,
                            "positive": 0.01
                          },
                          "length": 71,
                          "offset": 233,
                          "sentiment": "neutral",
                          "text": "Those shifts are OK, if you grew up using them, but me no, not my type."
                        }
                      ],
                      "sentiment": "mixed",
                      "warnings": []
                    },
                    "modelVersion": "2022-11-01"
                  },
                  "5": {
                    "detectedLanguage": {
                      "language": "en",
                      "score": 1
                    },
                    "translations": [
                      {
                        "text": "I loved everything about the bike except the gear shifters. Riding around town, especial in NYC, was a accident waiting to happen. Always reaching down to change gears and not having your hands on the break made me rethink the bike. Those shifts are OK, if you grew up using them, but me no, not my type.",
                        "to": "en"
                      }
                    ]
                  },
                  "6": "mixed",
                  "7": "0.5",
                  "8": "0.0",
                  "9": "0.5"
                },
                {
                  "0": "Road-450",
                  "1": "5",
                  "2": "Fast Bike",
                  "3": "I had tried Quick 7 ,Quick 5 and now the Quick 3 . This bike is the best among all three. Light ,good stopping power and fast on speed. Near perfect to me .",
                  "4": {
                    "document": {
                      "confidenceScores": {
                        "negative": 0,
                        "neutral": 0,
                        "positive": 1
                      },
                      "id": "8",
                      "sentences": [
                        {
                          "confidenceScores": {
                            "negative": 0.02,
                            "neutral": 0.89,
                            "positive": 0.1
                          },
                          "length": 51,
                          "offset": 0,
                          "sentiment": "neutral",
                          "text": "I had tried Quick 7 ,Quick 5 and now the Quick 3 . "
                        },
                        {
                          "confidenceScores": {
                            "negative": 0,
                            "neutral": 0,
                            "positive": 0.99
                          },
                          "length": 39,
                          "offset": 51,
                          "sentiment": "positive",
                          "text": "This bike is the best among all three. "
                        },
                        {
                          "confidenceScores": {
                            "negative": 0,
                            "neutral": 0,
                            "positive": 1
                          },
                          "length": 46,
                          "offset": 90,
                          "sentiment": "positive",
                          "text": "Light ,good stopping power and fast on speed. "
                        },
                        {
                          "confidenceScores": {
                            "negative": 0,
                            "neutral": 0,
                            "positive": 1
                          },
                          "length": 20,
                          "offset": 136,
                          "sentiment": "positive",
                          "text": "Near perfect to me ."
                        }
                      ],
                      "sentiment": "positive",
                      "warnings": []
                    },
                    "modelVersion": "2022-11-01"
                  },
                  "5": {
                    "detectedLanguage": {
                      "language": "en",
                      "score": 1
                    },
                    "translations": [
                      {
                        "text": "I had tried Quick 7 ,Quick 5 and now the Quick 3 . This bike is the best among all three. Light ,good stopping power and fast on speed. Near perfect to me .",
                        "to": "en"
                      }
                    ]
                  },
                  "6": "positive",
                  "7": "1.0",
                  "8": "0.0",
                  "9": "0.0"
                },
                {
                  "0": "Road-450",
                  "1": "5",
                  "2": "lightweight, great design",
                  "3": "Love my Cannondale Women's Synapse AL Disc Tiagra bike! Makes me want to ride even in the hot temperatures here. Get compliments on it from different people nearly every time.",
                  "4": {
                    "document": {
                      "confidenceScores": {
                        "negative": 0,
                        "neutral": 0.07,
                        "positive": 0.93
                      },
                      "id": "9",
                      "sentences": [
                        {
                          "confidenceScores": {
                            "negative": 0,
                            "neutral": 0.01,
                            "positive": 0.99
                          },
                          "length": 56,
                          "offset": 0,
                          "sentiment": "positive",
                          "text": "Love my Cannondale Women's Synapse AL Disc Tiagra bike! "
                        },
                        {
                          "confidenceScores": {
                            "negative": 0,
                            "neutral": 0.9,
                            "positive": 0.09
                          },
                          "length": 57,
                          "offset": 56,
                          "sentiment": "neutral",
                          "text": "Makes me want to ride even in the hot temperatures here. "
                        },
                        {
                          "confidenceScores": {
                            "negative": 0.01,
                            "neutral": 0.13,
                            "positive": 0.86
                          },
                          "length": 62,
                          "offset": 113,
                          "sentiment": "positive",
                          "text": "Get compliments on it from different people nearly every time."
                        }
                      ],
                      "sentiment": "positive",
                      "warnings": []
                    },
                    "modelVersion": "2022-11-01"
                  },
                  "5": {
                    "detectedLanguage": {
                      "language": "en",
                      "score": 0.97
                    },
                    "translations": [
                      {
                        "text": "Love my Cannondale Women's Synapse AL Disc Tiagra bike! Makes me want to ride even in the hot temperatures here. Get compliments on it from different people nearly every time.",
                        "to": "en"
                      }
                    ]
                  },
                  "6": "positive",
                  "7": "0.93",
                  "8": "0.07",
                  "9": "0.0"
                },
                {
                  "0": "Road-550-W",
                  "1": "5",
                  "2": "Great Bike!",
                  "3": "Completed 60 mils on this bike, great bike. Gear shifting is smooth and good pace.",
                  "4": {
                    "document": {
                      "confidenceScores": {
                        "negative": 0,
                        "neutral": 0.01,
                        "positive": 0.99
                      },
                      "id": "0",
                      "sentences": [
                        {
                          "confidenceScores": {
                            "negative": 0,
                            "neutral": 0,
                            "positive": 1
                          },
                          "length": 44,
                          "offset": 0,
                          "sentiment": "positive",
                          "text": "Completed 60 mils on this bike, great bike. "
                        },
                        {
                          "confidenceScores": {
                            "negative": 0,
                            "neutral": 0.01,
                            "positive": 0.99
                          },
                          "length": 38,
                          "offset": 44,
                          "sentiment": "positive",
                          "text": "Gear shifting is smooth and good pace."
                        }
                      ],
                      "sentiment": "positive",
                      "warnings": []
                    },
                    "modelVersion": "2022-11-01"
                  },
                  "5": {
                    "detectedLanguage": {
                      "language": "en",
                      "score": 1
                    },
                    "translations": [
                      {
                        "text": "Completed 60 mils on this bike, great bike. Gear shifting is smooth and good pace.",
                        "to": "en"
                      }
                    ]
                  },
                  "6": "positive",
                  "7": "0.99",
                  "8": "0.01",
                  "9": "0.0"
                },
                {
                  "0": "Road-650",
                  "1": "5",
                  "2": "Great ride!",
                  "3": "Just bought this bike. Tested it out for and hour before purchase and then a short 16 mile ride once home. Handled excellent!! Smooth ride and quick. A good distance ride planned for tomorrow. Totally recommended!!",
                  "4": {
                    "document": {
                      "confidenceScores": {
                        "negative": 0,
                        "neutral": 0,
                        "positive": 1
                      },
                      "id": "1",
                      "sentences": [
                        {
                          "confidenceScores": {
                            "negative": 0.01,
                            "neutral": 0.88,
                            "positive": 0.11
                          },
                          "length": 23,
                          "offset": 0,
                          "sentiment": "neutral",
                          "text": "Just bought this bike. "
                        },
                        {
                          "confidenceScores": {
                            "negative": 0.01,
                            "neutral": 0.98,
                            "positive": 0.01
                          },
                          "length": 84,
                          "offset": 23,
                          "sentiment": "neutral",
                          "text": "Tested it out for and hour before purchase and then a short 16 mile ride once home. "
                        },
                        {
                          "confidenceScores": {
                            "negative": 0,
                            "neutral": 0,
                            "positive": 1
                          },
                          "length": 20,
                          "offset": 107,
                          "sentiment": "positive",
                          "text": "Handled excellent!! "
                        },
                        {
                          "confidenceScores": {
                            "negative": 0,
                            "neutral": 0,
                            "positive": 1
                          },
                          "length": 23,
                          "offset": 127,
                          "sentiment": "positive",
                          "text": "Smooth ride and quick. "
                        },
                        {
                          "confidenceScores": {
                            "negative": 0,
                            "neutral": 0.01,
                            "positive": 0.99
                          },
                          "length": 43,
                          "offset": 150,
                          "sentiment": "positive",
                          "text": "A good distance ride planned for tomorrow. "
                        },
                        {
                          "confidenceScores": {
                            "negative": 0,
                            "neutral": 0,
                            "positive": 1
                          },
                          "length": 21,
                          "offset": 193,
                          "sentiment": "positive",
                          "text": "Totally recommended!!"
                        }
                      ],
                      "sentiment": "positive",
                      "warnings": []
                    },
                    "modelVersion": "2022-11-01"
                  },
                  "5": {
                    "detectedLanguage": {
                      "language": "en",
                      "score": 1
                    },
                    "translations": [
                      {
                        "text": "Just bought this bike. Tested it out for and hour before purchase and then a short 16 mile ride once home. Handled excellent!! Smooth ride and quick. A good distance ride planned for tomorrow. Totally recommended!!",
                        "to": "en"
                      }
                    ]
                  },
                  "6": "positive",
                  "7": "1.0",
                  "8": "0.0",
                  "9": "0.0"
                },
                {
                  "0": "Road-650",
                  "1": "5",
                  "2": "Best light weight commuter road bike under 21 lbs",
                  "3": "I searched for a while for a road bike that was around 20 lbs, with rack and fender mounts, disc brakes, Shimano 105s, 30cm or wider road tires, under $1,500. This is it! Great ride, reputable Cannondale name & build, fantastic ~$1,100 November prior-season price tag, and free rack and fender install with the purchase. This bike is the perfect commuter bike for someone who pushes it *** long commutes in varying weather and bags full of clothing and laptop.",
                  "4": {
                    "document": {
                      "confidenceScores": {
                        "negative": 0,
                        "neutral": 0,
                        "positive": 1
                      },
                      "id": "2",
                      "sentences": [
                        {
                          "confidenceScores": {
                            "negative": 0,
                            "neutral": 1,
                            "positive": 0
                          },
                          "length": 159,
                          "offset": 0,
                          "sentiment": "neutral",
                          "text": "I searched for a while for a road bike that was around 20 lbs, with rack and fender mounts, disc brakes, Shimano 105s, 30cm or wider road tires, under $1,500. "
                        },
                        {
                          "confidenceScores": {
                            "negative": 0.02,
                            "neutral": 0.74,
                            "positive": 0.24
                          },
                          "length": 12,
                          "offset": 159,
                          "sentiment": "neutral",
                          "text": "This is it! "
                        },
                        {
                          "confidenceScores": {
                            "negative": 0,
                            "neutral": 0,
                            "positive": 1
                          },
                          "length": 150,
                          "offset": 171,
                          "sentiment": "positive",
                          "text": "Great ride, reputable Cannondale name & build, fantastic ~$1,100 November prior-season price tag, and free rack and fender install with the purchase. "
                        },
                        {
                          "confidenceScores": {
                            "negative": 0,
                            "neutral": 0,
                            "positive": 1
                          },
                          "length": 143,
                          "offset": 321,
                          "sentiment": "positive",
                          "text": "This bike is the perfect commuter bike for someone who pushes it hard on long commutes in varying weather and bags full of clothing and laptop."
                        }
                      ],
                      "sentiment": "positive",
                      "warnings": []
                    },
                    "modelVersion": "2022-11-01"
                  },
                  "5": {
                    "detectedLanguage": {
                      "language": "en",
                      "score": 1
                    },
                    "translations": [
                      {
                        "text": "I searched for a while for a road bike that was around 20 lbs, with rack and fender mounts, disc brakes, Shimano 105s, 30cm or wider road tires, under $1,500. This is it! Great ride, reputable Cannondale name & build, fantastic ~$1,100 November prior-season price tag, and free rack and fender install with the purchase. This bike is the perfect commuter bike for someone who pushes it *** long commutes in varying weather and bags full of clothing and laptop.",
                        "to": "en"
                      }
                    ]
                  },
                  "6": "positive",
                  "7": "1.0",
                  "8": "0.0",
                  "9": "0.0"
                },
                {
                  "0": "Road-650",
                  "1": "5",
                  "2": "great bike for the city and more",
                  "3": "This is my first route bike so it may not be the best review. All I can say is that it’s a very comfortable bike for the city and other roads. The shifts and breaks are awesome and overall feeling is quite good. I would definitely recommend it!",
                  "4": {
                    "document": {
                      "confidenceScores": {
                        "negative": 0.25,
                        "neutral": 0,
                        "positive": 0.74
                      },
                      "id": "3",
                      "sentences": [
                        {
                          "confidenceScores": {
                            "negative": 1,
                            "neutral": 0,
                            "positive": 0
                          },
                          "length": 62,
                          "offset": 0,
                          "sentiment": "negative",
                          "text": "This is my first route bike so it may not be the best review. "
                        },
                        {
                          "confidenceScores": {
                            "negative": 0,
                            "neutral": 0.01,
                            "positive": 0.99
                          },
                          "length": 81,
                          "offset": 62,
                          "sentiment": "positive",
                          "text": "All I can say is that it’s a very comfortable bike for the city and other roads. "
                        },
                        {
                          "confidenceScores": {
                            "negative": 0,
                            "neutral": 0,
                            "positive": 1
                          },
                          "length": 69,
                          "offset": 143,
                          "sentiment": "positive",
                          "text": "The shifts and breaks are awesome and overall feeling is quite good. "
                        },
                        {
                          "confidenceScores": {
                            "negative": 0,
                            "neutral": 0.01,
                            "positive": 0.99
                          },
                          "length": 32,
                          "offset": 212,
                          "sentiment": "positive",
                          "text": "I would definitely recommend it!"
                        }
                      ],
                      "sentiment": "mixed",
                      "warnings": []
                    },
                    "modelVersion": "2022-11-01"
                  },
                  "5": {
                    "detectedLanguage": {
                      "language": "en",
                      "score": 1
                    },
                    "translations": [
                      {
                        "text": "This is my first route bike so it may not be the best review. All I can say is that it’s a very comfortable bike for the city and other roads. The shifts and breaks are awesome and overall feeling is quite good. I would definitely recommend it!",
                        "to": "en"
                      }
                    ]
                  },
                  "6": "mixed",
                  "7": "0.74",
                  "8": "0.0",
                  "9": "0.25"
                },
                {
                  "0": "Touring-1000",
                  "1": "1",
                  "2": "Poor Component Spec",
                  "3": "I've been riding this bike for about a year. The issues I've experienced so far: * Multiple spokes broken on the rear wheel, which was warranty replaced but with a larger rim size, so they're mismatched and few tire widths will fit both rims. Both brake calipers have now failed, and the flat mount spec limits replacement options (post mount adapter does not fit in rear triangle) Front derailleur mounts in between seat tube water bottle bosses, rendering the bottle mount useless. The bike overall handles and rides fine, but I wish I would've spent a bit more up front because I'm paying for it now!",
                  "4": {
                    "document": {
                      "confidenceScores": {
                        "negative": 0.68,
                        "neutral": 0.02,
                        "positive": 0.3
                      },
                      "id": "4",
                      "sentences": [
                        {
                          "confidenceScores": {
                            "negative": 0,
                            "neutral": 0.99,
                            "positive": 0.01
                          },
                          "length": 45,
                          "offset": 0,
                          "sentiment": "neutral",
                          "text": "I've been riding this bike for about a year. "
                        },
                        {
                          "confidenceScores": {
                            "negative": 1,
                            "neutral": 0,
                            "positive": 0
                          },
                          "length": 198,
                          "offset": 45,
                          "sentiment": "negative",
                          "text": "The issues I've experienced so far: * Multiple spokes broken on the rear wheel, which was warranty replaced but with a larger rim size, so they're mismatched and few tire widths will fit both rims. "
                        },
                        {
                          "confidenceScores": {
                            "negative": 1,
                            "neutral": 0,
                            "positive": 0
                          },
                          "length": 241,
                          "offset": 243,
                          "sentiment": "negative",
                          "text": "Both brake calipers have now failed, and the flat mount spec limits replacement options (post mount adapter does not fit in rear triangle) Front derailleur mounts in between seat tube water bottle bosses, rendering the bottle mount useless. "
                        },
                        {
                          "confidenceScores": {
                            "negative": 0.03,
                            "neutral": 0.07,
                            "positive": 0.9
                          },
                          "length": 119,
                          "offset": 484,
                          "sentiment": "positive",
                          "text": "The bike overall handles and rides fine, but I wish I would've spent a bit more up front because I'm paying for it now!"
                        }
                      ],
                      "sentiment": "mixed",
                      "warnings": []
                    },
                    "modelVersion": "2022-11-01"
                  },
                  "5": {
                    "detectedLanguage": {
                      "language": "en",
                      "score": 1
                    },
                    "translations": [
                      {
                        "text": "I've been riding this bike for about a year. The issues I've experienced so far: * Multiple spokes broken on the rear wheel, which was warranty replaced but with a larger rim size, so they're mismatched and few tire widths will fit both rims. Both brake calipers have now failed, and the flat mount spec limits replacement options (post mount adapter does not fit in rear triangle) Front derailleur mounts in between seat tube water bottle bosses, rendering the bottle mount useless. The bike overall handles and rides fine, but I wish I would've spent a bit more up front because I'm paying for it now!",
                        "to": "en"
                      }
                    ]
                  },
                  "6": "mixed",
                  "7": "0.3",
                  "8": "0.02",
                  "9": "0.68"
                },
                {
                  "0": "Touring-1000",
                  "1": "5",
                  "2": "LOVE this bike!",
                  "3": "I bought this bike back in September of 2018 with the intent of my first big ride on it being the length of the VA Creeper Trail (other bike is strictly a road bike). This bike has excelled on paved greenway paths, gravel paths, and somewhat rocky terrain. We went full speed down the mountain and it handled it like a champ. Only one flat tire and no actual issues with the bike itself. The only upgrades I’ve done so far is pedals and a Brooks saddle. I added a rack to the back for a bag and it didn’t throw off the balance too much. No complaints at all!!",
                  "4": {
                    "document": {
                      "confidenceScores": {
                        "negative": 0.26,
                        "neutral": 0.22,
                        "positive": 0.52
                      },
                      "id": "5",
                      "sentences": [
                        {
                          "confidenceScores": {
                            "negative": 0.01,
                            "neutral": 0.82,
                            "positive": 0.17
                          },
                          "length": 167,
                          "offset": 0,
                          "sentiment": "neutral",
                          "text": "I bought this bike back in September of 2018 with the intent of my first big ride on it being the length of the VA Creeper Trail (other bike is strictly a road bike). "
                        },
                        {
                          "confidenceScores": {
                            "negative": 0.04,
                            "neutral": 0.12,
                            "positive": 0.84
                          },
                          "length": 90,
                          "offset": 167,
                          "sentiment": "positive",
                          "text": "This bike has excelled on paved greenway paths, gravel paths, and somewhat rocky terrain. "
                        },
                        {
                          "confidenceScores": {
                            "negative": 0.01,
                            "neutral": 0.28,
                            "positive": 0.7
                          },
                          "length": 69,
                          "offset": 257,
                          "sentiment": "positive",
                          "text": "We went full speed down the mountain and it handled it like a champ. "
                        },
                        {
                          "confidenceScores": {
                            "negative": 0.71,
                            "neutral": 0.28,
                            "positive": 0
                          },
                          "length": 62,
                          "offset": 326,
                          "sentiment": "negative",
                          "text": "Only one flat tire and no actual issues with the bike itself. "
                        },
                        {
                          "confidenceScores": {
                            "negative": 0.03,
                            "neutral": 0.96,
                            "positive": 0.01
                          },
                          "length": 66,
                          "offset": 388,
                          "sentiment": "neutral",
                          "text": "The only upgrades I’ve done so far is pedals and a Brooks saddle. "
                        },
                        {
                          "confidenceScores": {
                            "negative": 0.53,
                            "neutral": 0.4,
                            "positive": 0.07
                          },
                          "length": 83,
                          "offset": 454,
                          "sentiment": "negative",
                          "text": "I added a rack to the back for a bag and it didn’t throw off the balance too much. "
                        },
                        {
                          "confidenceScores": {
                            "negative": 0.02,
                            "neutral": 0.01,
                            "positive": 0.96
                          },
                          "length": 22,
                          "offset": 537,
                          "sentiment": "positive",
                          "text": "No complaints at all!!"
                        }
                      ],
                      "sentiment": "mixed",
                      "warnings": []
                    },
                    "modelVersion": "2022-11-01"
                  },
                  "5": {
                    "detectedLanguage": {
                      "language": "en",
                      "score": 1
                    },
                    "translations": [
                      {
                        "text": "I bought this bike back in September of 2018 with the intent of my first big ride on it being the length of the VA Creeper Trail (other bike is strictly a road bike). This bike has excelled on paved greenway paths, gravel paths, and somewhat rocky terrain. We went full speed down the mountain and it handled it like a champ. Only one flat tire and no actual issues with the bike itself. The only upgrades I’ve done so far is pedals and a Brooks saddle. I added a rack to the back for a bag and it didn’t throw off the balance too much. No complaints at all!!",
                        "to": "en"
                      }
                    ]
                  },
                  "6": "mixed",
                  "7": "0.52",
                  "8": "0.22",
                  "9": "0.26"
                },
                {
                  "0": "Touring-1000",
                  "1": "5",
                  "2": "Best bike ever?",
                  "3": "Super fast on road. Aggressive off road. Plenty of gears in just the wright places. Descends like a god. Rides the flat like a beast. Climbs like a goat. Carries anything you ask it to. 1,000 miles on every terrain type with all kinds of loads in 2 months since purchase no problems.",
                  "4": {
                    "document": {
                      "confidenceScores": {
                        "negative": 0.25,
                        "neutral": 0.11,
                        "positive": 0.63
                      },
                      "id": "6",
                      "sentences": [
                        {
                          "confidenceScores": {
                            "negative": 0,
                            "neutral": 0,
                            "positive": 1
                          },
                          "length": 20,
                          "offset": 0,
                          "sentiment": "positive",
                          "text": "Super fast on road. "
                        },
                        {
                          "confidenceScores": {
                            "negative": 0.99,
                            "neutral": 0.01,
                            "positive": 0
                          },
                          "length": 21,
                          "offset": 20,
                          "sentiment": "negative",
                          "text": "Aggressive off road. "
                        },
                        {
                          "confidenceScores": {
                            "negative": 0.01,
                            "neutral": 0.93,
                            "positive": 0.06
                          },
                          "length": 43,
                          "offset": 41,
                          "sentiment": "neutral",
                          "text": "Plenty of gears in just the wright places. "
                        },
                        {
                          "confidenceScores": {
                            "negative": 0.01,
                            "neutral": 0.43,
                            "positive": 0.56
                          },
                          "length": 21,
                          "offset": 84,
                          "sentiment": "positive",
                          "text": "Descends like a god. "
                        },
                        {
                          "confidenceScores": {
                            "negative": 0.03,
                            "neutral": 0.86,
                            "positive": 0.11
                          },
                          "length": 29,
                          "offset": 105,
                          "sentiment": "neutral",
                          "text": "Rides the flat like a beast. "
                        },
                        {
                          "confidenceScores": {
                            "negative": 0.01,
                            "neutral": 0.91,
                            "positive": 0.08
                          },
                          "length": 20,
                          "offset": 134,
                          "sentiment": "neutral",
                          "text": "Climbs like a goat. "
                        },
                        {
                          "confidenceScores": {
                            "negative": 0.01,
                            "neutral": 0.75,
                            "positive": 0.24
                          },
                          "length": 32,
                          "offset": 154,
                          "sentiment": "neutral",
                          "text": "Carries anything you ask it to. "
                        },
                        {
                          "confidenceScores": {
                            "negative": 0,
                            "neutral": 0.02,
                            "positive": 0.98
                          },
                          "length": 97,
                          "offset": 186,
                          "sentiment": "positive",
                          "text": "1,000 miles on every terrain type with all kinds of loads in 2 months since purchase no problems."
                        }
                      ],
                      "sentiment": "mixed",
                      "warnings": []
                    },
                    "modelVersion": "2022-11-01"
                  },
                  "5": {
                    "detectedLanguage": {
                      "language": "en",
                      "score": 1
                    },
                    "translations": [
                      {
                        "text": "Super fast on road. Aggressive off road. Plenty of gears in just the wright places. Descends like a god. Rides the flat like a beast. Climbs like a goat. Carries anything you ask it to. 1,000 miles on every terrain type with all kinds of loads in 2 months since purchase no problems.",
                        "to": "en"
                      }
                    ]
                  },
                  "6": "mixed",
                  "7": "0.63",
                  "8": "0.11",
                  "9": "0.25"
                },
                {
                  "0": "Touring-1000",
                  "1": "1",
                  "2": "Not usable for touring due to wheels.",
                  "3": "I bought the bike about a month ago for my 6000 mile long bike trip from Colombia to Argentina. I rode for 3 weeks so far, about 1200 miles. During that time I had 7 broken spokes in the back and 2 in the front. I eventually decided to replace all spokes. So far no more broken spokes. My load is considerably small compared to other people I've met on the road. Without food and water about 30-35 pounds. Also it's the second bike I got from REI, since one of the threads to attach the bike rack in the back broke right at the beginning. They aren't welded in, just riveted. So the thread just started to turn in its own spot. REI told me to bring the bike in, but since I'm actually using it for bike touring and I'm in South America, that's impossible. So I can just hope it won't make any more problems on the way.",
                  "4": {
                    "document": {
                      "confidenceScores": {
                        "negative": 0.95,
                        "neutral": 0.02,
                        "positive": 0.04
                      },
                      "id": "7",
                      "sentences": [
                        {
                          "confidenceScores": {
                            "negative": 0,
                            "neutral": 0.99,
                            "positive": 0.01
                          },
                          "length": 96,
                          "offset": 0,
                          "sentiment": "neutral",
                          "text": "I bought the bike about a month ago for my 6000 mile long bike trip from Colombia to Argentina. "
                        },
                        {
                          "confidenceScores": {
                            "negative": 0,
                            "neutral": 1,
                            "positive": 0
                          },
                          "length": 45,
                          "offset": 96,
                          "sentiment": "neutral",
                          "text": "I rode for 3 weeks so far, about 1200 miles. "
                        },
                        {
                          "confidenceScores": {
                            "negative": 0.99,
                            "neutral": 0.01,
                            "positive": 0
                          },
                          "length": 71,
                          "offset": 141,
                          "sentiment": "negative",
                          "text": "During that time I had 7 broken spokes in the back and 2 in the front. "
                        },
                        {
                          "confidenceScores": {
                            "negative": 0,
                            "neutral": 1,
                            "positive": 0
                          },
                          "length": 44,
                          "offset": 212,
                          "sentiment": "neutral",
                          "text": "I eventually decided to replace all spokes. "
                        },
                        {
                          "confidenceScores": {
                            "negative": 0.98,
                            "neutral": 0.02,
                            "positive": 0.01
                          },
                          "length": 30,
                          "offset": 256,
                          "sentiment": "negative",
                          "text": "So far no more broken spokes. "
                        },
                        {
                          "confidenceScores": {
                            "negative": 0,
                            "neutral": 1,
                            "positive": 0
                          },
                          "length": 77,
                          "offset": 286,
                          "sentiment": "neutral",
                          "text": "My load is considerably small compared to other people I've met on the road. "
                        },
                        {
                          "confidenceScores": {
                            "negative": 0.02,
                            "neutral": 0.98,
                            "positive": 0
                          },
                          "length": 43,
                          "offset": 363,
                          "sentiment": "neutral",
                          "text": "Without food and water about 30-35 pounds. "
                        },
                        {
                          "confidenceScores": {
                            "negative": 1,
                            "neutral": 0,
                            "positive": 0
                          },
                          "length": 133,
                          "offset": 406,
                          "sentiment": "negative",
                          "text": "Also it's the second bike I got from REI, since one of the threads to attach the bike rack in the back broke right at the beginning. "
                        },
                        {
                          "confidenceScores": {
                            "negative": 0.01,
                            "neutral": 0.99,
                            "positive": 0.01
                          },
                          "length": 37,
                          "offset": 539,
                          "sentiment": "neutral",
                          "text": "They aren't welded in, just riveted. "
                        },
                        {
                          "confidenceScores": {
                            "negative": 0,
                            "neutral": 1,
                            "positive": 0
                          },
                          "length": 52,
                          "offset": 576,
                          "sentiment": "neutral",
                          "text": "So the thread just started to turn in its own spot. "
                        },
                        {
                          "confidenceScores": {
                            "negative": 0.97,
                            "neutral": 0.03,
                            "positive": 0
                          },
                          "length": 128,
                          "offset": 628,
                          "sentiment": "negative",
                          "text": "REI told me to bring the bike in, but since I'm actually using it for bike touring and I'm in South America, that's impossible. "
                        },
                        {
                          "confidenceScores": {
                            "negative": 0.81,
                            "neutral": 0.02,
                            "positive": 0.17
                          },
                          "length": 62,
                          "offset": 756,
                          "sentiment": "negative",
                          "text": "So I can just hope it won't make any more problems on the way."
                        }
                      ],
                      "sentiment": "negative",
                      "warnings": []
                    },
                    "modelVersion": "2022-11-01"
                  },
                  "5": {
                    "detectedLanguage": {
                      "language": "en",
                      "score": 1
                    },
                    "translations": [
                      {
                        "text": "I bought the bike about a month ago for my 6000 mile long bike trip from Colombia to Argentina. I rode for 3 weeks so far, about 1200 miles. During that time I had 7 broken spokes in the back and 2 in the front. I eventually decided to replace all spokes. So far no more broken spokes. My load is considerably small compared to other people I've met on the road. Without food and water about 30-35 pounds. Also it's the second bike I got from REI, since one of the threads to attach the bike rack in the back broke right at the beginning. They aren't welded in, just riveted. So the thread just started to turn in its own spot. REI told me to bring the bike in, but since I'm actually using it for bike touring and I'm in South America, that's impossible. So I can just hope it won't make any more problems on the way.",
                        "to": "en"
                      }
                    ]
                  },
                  "6": "negative",
                  "7": "0.04",
                  "8": "0.02",
                  "9": "0.95"
                },
                {
                  "0": "Touring-1000",
                  "1": "1",
                  "2": "Spend more money on a better bike",
                  "3": "Do not buy this bike... I use it as a commuter and have had multiple broken spokes. I ride 95% on the rode and very tame dirt trail for a 1/4 of a mile. I now have to buy a new wheel 250.00 dollars later. Also broke derail. All this with 3 months of use. Tried e-mail and calling company no response. Bummed out I bought this bike",
                  "4": {
                    "document": {
                      "confidenceScores": {
                        "negative": 0.96,
                        "neutral": 0.03,
                        "positive": 0.01
                      },
                      "id": "8",
                      "sentences": [
                        {
                          "confidenceScores": {
                            "negative": 0.99,
                            "neutral": 0.01,
                            "positive": 0
                          },
                          "length": 24,
                          "offset": 0,
                          "sentiment": "negative",
                          "text": "Do not buy this bike... "
                        },
                        {
                          "confidenceScores": {
                            "negative": 0.97,
                            "neutral": 0.03,
                            "positive": 0
                          },
                          "length": 60,
                          "offset": 24,
                          "sentiment": "negative",
                          "text": "I use it as a commuter and have had multiple broken spokes. "
                        },
                        {
                          "confidenceScores": {
                            "negative": 0.03,
                            "neutral": 0.95,
                            "positive": 0.02
                          },
                          "length": 69,
                          "offset": 84,
                          "sentiment": "neutral",
                          "text": "I ride 95% on the rode and very tame dirt trail for a 1/4 of a mile. "
                        },
                        {
                          "confidenceScores": {
                            "negative": 0,
                            "neutral": 1,
                            "positive": 0
                          },
                          "length": 52,
                          "offset": 153,
                          "sentiment": "neutral",
                          "text": "I now have to buy a new wheel 250.00 dollars later. "
                        },
                        {
                          "confidenceScores": {
                            "negative": 1,
                            "neutral": 0,
                            "positive": 0
                          },
                          "length": 19,
                          "offset": 205,
                          "sentiment": "negative",
                          "text": "Also broke derail. "
                        },
                        {
                          "confidenceScores": {
                            "negative": 0,
                            "neutral": 0.99,
                            "positive": 0.01
                          },
                          "length": 31,
                          "offset": 224,
                          "sentiment": "neutral",
                          "text": "All this with 3 months of use. "
                        },
                        {
                          "confidenceScores": {
                            "negative": 0.92,
                            "neutral": 0.08,
                            "positive": 0
                          },
                          "length": 46,
                          "offset": 255,
                          "sentiment": "negative",
                          "text": "Tried e-mail and calling company no response. "
                        },
                        {
                          "confidenceScores": {
                            "negative": 0.93,
                            "neutral": 0.01,
                            "positive": 0.06
                          },
                          "length": 29,
                          "offset": 301,
                          "sentiment": "negative",
                          "text": "Bummed out I bought this bike"
                        }
                      ],
                      "sentiment": "negative",
                      "warnings": []
                    },
                    "modelVersion": "2022-11-01"
                  },
                  "5": {
                    "detectedLanguage": {
                      "language": "en",
                      "score": 1
                    },
                    "translations": [
                      {
                        "text": "Do not buy this bike... I use it as a commuter and have had multiple broken spokes. I ride 95% on the rode and very tame dirt trail for a 1/4 of a mile. I now have to buy a new wheel 250.00 dollars later. Also broke derail. All this with 3 months of use. Tried e-mail and calling company no response. Bummed out I bought this bike",
                        "to": "en"
                      }
                    ]
                  },
                  "6": "negative",
                  "7": "0.01",
                  "8": "0.03",
                  "9": "0.96"
                },
                {
                  "0": "Touring-1000",
                  "1": "3",
                  "2": "Too slow for the road",
                  "3": "I really wanted to like this bike, but I just couldn't get there. I've been cycling both as a means of commuting and recreation/fitness for many years and while the majority of my miles were done on a downtube-shifter road bike from the 80s and a couple mountain bike frames with slick tires, I've also spent several hundred miles on my dad's Cannondale CAAD8, which is a more modern aluminum road bike. I bought this Journeyman as a commuter / possible touring bike and to replace my current day-to-day bike, a cheap Giant Defy 3 hybrid frame (with 700c tires) -- but unfortunately the Journeyman was much heavier and considerably slower. My daily commutes (about 18 miles each way on very flat Orange County bike paths) averaged several minutes slower each way on this bike than my Giant (which I picked up used for only $150) and there really was no contest when compared to my friend's budget ~$500 Fuji road bike. This was quite a disappointment given that as a gravel bike the Journeyman is touted as being equally-capable on the road. It's possible that swapping the tires for something slicker / less knobby would improve it's speed, but obviously this takes away from its off-road capabilities (unless you own a second wheelset for quick changes) and I didn't really see this as any guarantee that the bike would improve to meet my needs, as the frame itself is rather heavy. I ended up returning the bike after a few weeks (thanks to REI's generous return policy) -- it was hard to justify keeping it when it didn't perform as well as what I already had. Instead of a nice 'all-in-one' bike I think I may pick up a dedicated road bike for commuting and fitness rides and a cheaper mountain bike for playing around on the trails on the weekends.",
                  "4": {
                    "document": {
                      "confidenceScores": {
                        "negative": 0.66,
                        "neutral": 0.06,
                        "positive": 0.28
                      },
                      "id": "9",
                      "sentences": [
                        {
                          "confidenceScores": {
                            "negative": 0.58,
                            "neutral": 0.13,
                            "positive": 0.29
                          },
                          "length": 66,
                          "offset": 0,
                          "sentiment": "negative",
                          "text": "I really wanted to like this bike, but I just couldn't get there. "
                        },
                        {
                          "confidenceScores": {
                            "negative": 0.01,
                            "neutral": 0.64,
                            "positive": 0.35
                          },
                          "length": 338,
                          "offset": 66,
                          "sentiment": "neutral",
                          "text": "I've been cycling both as a means of commuting and recreation/fitness for many years and while the majority of my miles were done on a downtube-shifter road bike from the 80s and a couple mountain bike frames with slick tires, I've also spent several hundred miles on my dad's Cannondale CAAD8, which is a more modern aluminum road bike. "
                        },
                        {
                          "confidenceScores": {
                            "negative": 0.99,
                            "neutral": 0,
                            "positive": 0
                          },
                          "length": 236,
                          "offset": 404,
                          "sentiment": "negative",
                          "text": "I bought this Journeyman as a commuter / possible touring bike and to replace my current day-to-day bike, a cheap Giant Defy 3 hybrid frame (with 700c tires) -- but unfortunately the Journeyman was much heavier and considerably slower. "
                        },
                        {
                          "confidenceScores": {
                            "negative": 0.43,
                            "neutral": 0.17,
                            "positive": 0.4
                          },
                          "length": 279,
                          "offset": 640,
                          "sentiment": "negative",
                          "text": "My daily commutes (about 18 miles each way on very flat Orange County bike paths) averaged several minutes slower each way on this bike than my Giant (which I picked up used for only $150) and there really was no contest when compared to my friend's budget ~$500 Fuji road bike. "
                        },
                        {
                          "confidenceScores": {
                            "negative": 1,
                            "neutral": 0,
                            "positive": 0
                          },
                          "length": 123,
                          "offset": 919,
                          "sentiment": "negative",
                          "text": "This was quite a disappointment given that as a gravel bike the Journeyman is touted as being equally-capable on the road. "
                        },
                        {
                          "confidenceScores": {
                            "negative": 0.59,
                            "neutral": 0.04,
                            "positive": 0.37
                          },
                          "length": 343,
                          "offset": 1042,
                          "sentiment": "negative",
                          "text": "It's possible that swapping the tires for something slicker / less knobby would improve it's speed, but obviously this takes away from its off-road capabilities (unless you own a second wheelset for quick changes) and I didn't really see this as any guarantee that the bike would improve to meet my needs, as the frame itself is rather heavy. "
                        },
                        {
                          "confidenceScores": {
                            "negative": 1,
                            "neutral": 0,
                            "positive": 0
                          },
                          "length": 180,
                          "offset": 1385,
                          "sentiment": "negative",
                          "text": "I ended up returning the bike after a few weeks (thanks to REI's generous return policy) -- it was hard to justify keeping it when it didn't perform as well as what I already had. "
                        },
                        {
                          "confidenceScores": {
                            "negative": 0.02,
                            "neutral": 0.11,
                            "positive": 0.87
                          },
                          "length": 189,
                          "offset": 1565,
                          "sentiment": "positive",
                          "text": "Instead of a nice 'all-in-one' bike I think I may pick up a dedicated road bike for commuting and fitness rides and a cheaper mountain bike for playing around on the trails on the weekends."
                        }
                      ],
                      "sentiment": "mixed",
                      "warnings": []
                    },
                    "modelVersion": "2022-11-01"
                  },
                  "5": {
                    "detectedLanguage": {
                      "language": "en",
                      "score": 1
                    },
                    "translations": [
                      {
                        "text": "I really wanted to like this bike, but I just couldn't get there. I've been cycling both as a means of commuting and recreation/fitness for many years and while the majority of my miles were done on a downtube-shifter road bike from the 80s and a couple mountain bike frames with slick tires, I've also spent several hundred miles on my dad's Cannondale CAAD8, which is a more modern aluminum road bike. I bought this Journeyman as a commuter / possible touring bike and to replace my current day-to-day bike, a cheap Giant Defy 3 hybrid frame (with 700c tires) -- but unfortunately the Journeyman was much heavier and considerably slower. My daily commutes (about 18 miles each way on very flat Orange County bike paths) averaged several minutes slower each way on this bike than my Giant (which I picked up used for only $150) and there really was no contest when compared to my friend's budget ~$500 Fuji road bike. This was quite a disappointment given that as a gravel bike the Journeyman is touted as being equally-capable on the road. It's possible that swapping the tires for something slicker / less knobby would improve it's speed, but obviously this takes away from its off-road capabilities (unless you own a second wheelset for quick changes) and I didn't really see this as any guarantee that the bike would improve to meet my needs, as the frame itself is rather heavy. I ended up returning the bike after a few weeks (thanks to REI's generous return policy) -- it was hard to justify keeping it when it didn't perform as well as what I already had. Instead of a nice 'all-in-one' bike I think I may pick up a dedicated road bike for commuting and fitness rides and a cheaper mountain bike for playing around on the trails on the weekends.",
                        "to": "en"
                      }
                    ]
                  },
                  "6": "mixed",
                  "7": "0.28",
                  "8": "0.06",
                  "9": "0.66"
                },
                {
                  "0": "Touring-1000",
                  "1": "5",
                  "2": "Lovely bike",
                  "3": "Madly in love with this bike, using for commute, so good",
                  "4": {
                    "document": {
                      "confidenceScores": {
                        "negative": 0,
                        "neutral": 0,
                        "positive": 1
                      },
                      "id": "0",
                      "sentences": [
                        {
                          "confidenceScores": {
                            "negative": 0,
                            "neutral": 0,
                            "positive": 1
                          },
                          "length": 56,
                          "offset": 0,
                          "sentiment": "positive",
                          "text": "Madly in love with this bike, using for commute, so good"
                        }
                      ],
                      "sentiment": "positive",
                      "warnings": []
                    },
                    "modelVersion": "2022-11-01"
                  },
                  "5": {
                    "detectedLanguage": {
                      "language": "en",
                      "score": 1
                    },
                    "translations": [
                      {
                        "text": "Madly in love with this bike, using for commute, so good",
                        "to": "en"
                      }
                    ]
                  },
                  "6": "positive",
                  "7": "1.0",
                  "8": "0.0",
                  "9": "0.0"
                },
                {
                  "0": "Touring-2000",
                  "1": "5",
                  "2": "Perfect for Varied Surfaces",
                  "3": "\"After a lot of research and test rides, I settled on the Salsa Journeyman 650B. I have ridden light trails, Forbidden Drive (gravel) and road surfaces thus far and love it. The geometry of the frame (52CM) with the 650B wheels is perfect for my size (5'5\"\" with long legs and short waist). The bike is responsive",
                  "4": {
                    "document": {
                      "confidenceScores": {
                        "negative": 0,
                        "neutral": 0,
                        "positive": 1
                      },
                      "id": "1",
                      "sentences": [
                        {
                          "confidenceScores": {
                            "negative": 0,
                            "neutral": 0.98,
                            "positive": 0.01
                          },
                          "length": 81,
                          "offset": 0,
                          "sentiment": "neutral",
                          "text": "\"After a lot of research and test rides, I settled on the Salsa Journeyman 650B. "
                        },
                        {
                          "confidenceScores": {
                            "negative": 0,
                            "neutral": 0,
                            "positive": 1
                          },
                          "length": 93,
                          "offset": 81,
                          "sentiment": "positive",
                          "text": "I have ridden light trails, Forbidden Drive (gravel) and road surfaces thus far and love it. "
                        },
                        {
                          "confidenceScores": {
                            "negative": 0,
                            "neutral": 0,
                            "positive": 1
                          },
                          "length": 117,
                          "offset": 174,
                          "sentiment": "positive",
                          "text": "The geometry of the frame (52CM) with the 650B wheels is perfect for my size (5'5\"\" with long legs and short waist). "
                        },
                        {
                          "confidenceScores": {
                            "negative": 0,
                            "neutral": 0.98,
                            "positive": 0.02
                          },
                          "length": 22,
                          "offset": 291,
                          "sentiment": "neutral",
                          "text": "The bike is responsive"
                        }
                      ],
                      "sentiment": "positive",
                      "warnings": []
                    },
                    "modelVersion": "2022-11-01"
                  },
                  "5": {
                    "detectedLanguage": {
                      "language": "en",
                      "score": 1
                    },
                    "translations": [
                      {
                        "text": "\"After a lot of research and test rides, I settled on the Salsa Journeyman 650B. I have ridden light trails, Forbidden Drive (gravel) and road surfaces thus far and love it. The geometry of the frame (52CM) with the 650B wheels is perfect for my size (5'5\"\" with long legs and short waist). The bike is responsive",
                        "to": "en"
                      }
                    ]
                  },
                  "6": "positive",
                  "7": "1.0",
                  "8": "0.0",
                  "9": "0.0"
                },
                {
                  "0": "Touring-2000",
                  "1": "5",
                  "2": "good all around bike",
                  "3": "Super fun bike that handles great on the road and off. Tons of frame mounts to attach racks, fenders, bottle cages, or whatever you feel like bolting to your bike. Comfortable geometry for long rides, and a carbon fork to absorb the shock and reduce fatigue. I love this bike!",
                  "4": {
                    "document": {
                      "confidenceScores": {
                        "negative": 0.01,
                        "neutral": 0,
                        "positive": 0.99
                      },
                      "id": "2",
                      "sentences": [
                        {
                          "confidenceScores": {
                            "negative": 0,
                            "neutral": 0,
                            "positive": 1
                          },
                          "length": 55,
                          "offset": 0,
                          "sentiment": "positive",
                          "text": "Super fun bike that handles great on the road and off. "
                        },
                        {
                          "confidenceScores": {
                            "negative": 0,
                            "neutral": 0.98,
                            "positive": 0.02
                          },
                          "length": 109,
                          "offset": 55,
                          "sentiment": "neutral",
                          "text": "Tons of frame mounts to attach racks, fenders, bottle cages, or whatever you feel like bolting to your bike. "
                        },
                        {
                          "confidenceScores": {
                            "negative": 0.02,
                            "neutral": 0,
                            "positive": 0.98
                          },
                          "length": 95,
                          "offset": 164,
                          "sentiment": "positive",
                          "text": "Comfortable geometry for long rides, and a carbon fork to absorb the shock and reduce fatigue. "
                        },
                        {
                          "confidenceScores": {
                            "negative": 0,
                            "neutral": 0,
                            "positive": 1
                          },
                          "length": 17,
                          "offset": 259,
                          "sentiment": "positive",
                          "text": "I love this bike!"
                        }
                      ],
                      "sentiment": "positive",
                      "warnings": []
                    },
                    "modelVersion": "2022-11-01"
                  },
                  "5": {
                    "detectedLanguage": {
                      "language": "en",
                      "score": 1
                    },
                    "translations": [
                      {
                        "text": "Super fun bike that handles great on the road and off. Tons of frame mounts to attach racks, fenders, bottle cages, or whatever you feel like bolting to your bike. Comfortable geometry for long rides, and a carbon fork to absorb the shock and reduce fatigue. I love this bike!",
                        "to": "en"
                      }
                    ]
                  },
                  "6": "positive",
                  "7": "0.99",
                  "8": "0.0",
                  "9": "0.01"
                },
                {
                  "0": "Touring-2000",
                  "1": "4",
                  "2": "best bang for the price!",
                  "3": "Bought this on back order in October. Took forever to get shipped but finally picked it up last week! My wife loves the versatility. Both a great gravel and commuter bike! Just don’t prefer the quick release wheels. Totally worth the price though! Olympic National Park here we come!",
                  "4": {
                    "document": {
                      "confidenceScores": {
                        "negative": 0.19,
                        "neutral": 0.16,
                        "positive": 0.65
                      },
                      "id": "3",
                      "sentences": [
                        {
                          "confidenceScores": {
                            "negative": 0,
                            "neutral": 0.92,
                            "positive": 0.07
                          },
                          "length": 38,
                          "offset": 0,
                          "sentiment": "neutral",
                          "text": "Bought this on back order in October. "
                        },
                        {
                          "confidenceScores": {
                            "negative": 0.05,
                            "neutral": 0.35,
                            "positive": 0.6
                          },
                          "length": 64,
                          "offset": 38,
                          "sentiment": "positive",
                          "text": "Took forever to get shipped but finally picked it up last week! "
                        },
                        {
                          "confidenceScores": {
                            "negative": 0,
                            "neutral": 0,
                            "positive": 1
                          },
                          "length": 31,
                          "offset": 102,
                          "sentiment": "positive",
                          "text": "My wife loves the versatility. "
                        },
                        {
                          "confidenceScores": {
                            "negative": 0,
                            "neutral": 0,
                            "positive": 1
                          },
                          "length": 39,
                          "offset": 133,
                          "sentiment": "positive",
                          "text": "Both a great gravel and commuter bike! "
                        },
                        {
                          "confidenceScores": {
                            "negative": 0.85,
                            "neutral": 0.05,
                            "positive": 0.1
                          },
                          "length": 44,
                          "offset": 172,
                          "sentiment": "negative",
                          "text": "Just don’t prefer the quick release wheels. "
                        },
                        {
                          "confidenceScores": {
                            "negative": 0.04,
                            "neutral": 0.4,
                            "positive": 0.56
                          },
                          "length": 32,
                          "offset": 216,
                          "sentiment": "positive",
                          "text": "Totally worth the price though! "
                        },
                        {
                          "confidenceScores": {
                            "negative": 0,
                            "neutral": 0.87,
                            "positive": 0.12
                          },
                          "length": 35,
                          "offset": 248,
                          "sentiment": "neutral",
                          "text": "Olympic National Park here we come!"
                        }
                      ],
                      "sentiment": "mixed",
                      "warnings": []
                    },
                    "modelVersion": "2022-11-01"
                  },
                  "5": {
                    "detectedLanguage": {
                      "language": "en",
                      "score": 1
                    },
                    "translations": [
                      {
                        "text": "Bought this on back order in October. Took forever to get shipped but finally picked it up last week! My wife loves the versatility. Both a great gravel and commuter bike! Just don’t prefer the quick release wheels. Totally worth the price though! Olympic National Park here we come!",
                        "to": "en"
                      }
                    ]
                  },
                  "6": "mixed",
                  "7": "0.65",
                  "8": "0.16",
                  "9": "0.19"
                },
                {
                  "0": "Touring-2000",
                  "1": "5",
                  "2": "this is the right bike for me",
                  "3": "I’ve had this bike for about a week and I love it. I’m a large guy for cycling/riding bikes 6’5,280lbs but on this bike I have been able to ride on the road and gravel section in Sacramento, Ca without any issues. Best road/Gravel/Adventure bike I’ve owned.",
                  "4": {
                    "document": {
                      "confidenceScores": {
                        "negative": 0,
                        "neutral": 0.12,
                        "positive": 0.87
                      },
                      "id": "4",
                      "sentences": [
                        {
                          "confidenceScores": {
                            "negative": 0,
                            "neutral": 0,
                            "positive": 1
                          },
                          "length": 51,
                          "offset": 0,
                          "sentiment": "positive",
                          "text": "I’ve had this bike for about a week and I love it. "
                        },
                        {
                          "confidenceScores": {
                            "negative": 0,
                            "neutral": 0.37,
                            "positive": 0.62
                          },
                          "length": 163,
                          "offset": 51,
                          "sentiment": "positive",
                          "text": "I’m a large guy for cycling/riding bikes 6’5,280lbs but on this bike I have been able to ride on the road and gravel section in Sacramento, Ca without any issues. "
                        },
                        {
                          "confidenceScores": {
                            "negative": 0,
                            "neutral": 0,
                            "positive": 1
                          },
                          "length": 43,
                          "offset": 214,
                          "sentiment": "positive",
                          "text": "Best road/Gravel/Adventure bike I’ve owned."
                        }
                      ],
                      "sentiment": "positive",
                      "warnings": []
                    },
                    "modelVersion": "2022-11-01"
                  },
                  "5": {
                    "detectedLanguage": {
                      "language": "en",
                      "score": 1
                    },
                    "translations": [
                      {
                        "text": "I’ve had this bike for about a week and I love it. I’m a large guy for cycling/riding bikes 6’5,280lbs but on this bike I have been able to ride on the road and gravel section in Sacramento, Ca without any issues. Best road/Gravel/Adventure bike I’ve owned.",
                        "to": "en"
                      }
                    ]
                  },
                  "6": "positive",
                  "7": "0.87",
                  "8": "0.12",
                  "9": "0.0"
                },
                {
                  "0": "Touring-2000",
                  "1": "4",
                  "2": "A Nice Ride",
                  "3": "This will just be my initial impression of the bike because I've only put about 28 miles on the bike so far. This has to be the most comfortable Road Bike that I've ridden by far. I'm still not accustomed to riding Road Bikes but the Journeyman does allow me to go the distance without experience too much lower back pain. I didn't used to be a fan of riding in the drops - mainly because of lower back pain - but on this bike, I did not feel any discomfort riding in the drops and it certainly makes riding into the wind much less taxing. It is not the fastest bike in my stable. The wider tires certainly creates more rolling resistance, however riding over the rough road surfaces of the Greater Cleveland Area with these wider tires creates an almost plush ride. I will gladly take the tradeoff in speed for the added comfort. I purchased this bike to use a winter commuter. It has all the braze-ons you could ever need for mounting accessories. I specifically like the braze-ons on the top tube. I mounted an anything carrier to the top tube to carry my JBL Charge 3 speaker. Perhaps my favorite thing about this bike will be the 650b tires. Because of my long legs I tend to put the seat up fairly high to allow me more power when I peddle. The smaller wheel diameter means I can comfortably pant my foot on the ground when I'm stopped at lights and not feel like I'm going to tip over.",
                  "4": {
                    "document": {
                      "confidenceScores": {
                        "negative": 0.47,
                        "neutral": 0.1,
                        "positive": 0.43
                      },
                      "id": "5",
                      "sentences": [
                        {
                          "confidenceScores": {
                            "negative": 0,
                            "neutral": 1,
                            "positive": 0
                          },
                          "length": 109,
                          "offset": 0,
                          "sentiment": "neutral",
                          "text": "This will just be my initial impression of the bike because I've only put about 28 miles on the bike so far. "
                        },
                        {
                          "confidenceScores": {
                            "negative": 0,
                            "neutral": 0.05,
                            "positive": 0.95
                          },
                          "length": 71,
                          "offset": 109,
                          "sentiment": "positive",
                          "text": "This has to be the most comfortable Road Bike that I've ridden by far. "
                        },
                        {
                          "confidenceScores": {
                            "negative": 0.94,
                            "neutral": 0.06,
                            "positive": 0
                          },
                          "length": 143,
                          "offset": 180,
                          "sentiment": "negative",
                          "text": "I'm still not accustomed to riding Road Bikes but the Journeyman does allow me to go the distance without experience too much lower back pain. "
                        },
                        {
                          "confidenceScores": {
                            "negative": 0.99,
                            "neutral": 0.01,
                            "positive": 0.01
                          },
                          "length": 217,
                          "offset": 323,
                          "sentiment": "negative",
                          "text": "I didn't used to be a fan of riding in the drops - mainly because of lower back pain - but on this bike, I did not feel any discomfort riding in the drops and it certainly makes riding into the wind much less taxing. "
                        },
                        {
                          "confidenceScores": {
                            "negative": 0.97,
                            "neutral": 0.03,
                            "positive": 0
                          },
                          "length": 41,
                          "offset": 540,
                          "sentiment": "negative",
                          "text": "It is not the fastest bike in my stable. "
                        },
                        {
                          "confidenceScores": {
                            "negative": 0.82,
                            "neutral": 0.17,
                            "positive": 0.01
                          },
                          "length": 186,
                          "offset": 581,
                          "sentiment": "negative",
                          "text": "The wider tires certainly creates more rolling resistance, however riding over the rough road surfaces of the Greater Cleveland Area with these wider tires creates an almost plush ride. "
                        },
                        {
                          "confidenceScores": {
                            "negative": 0,
                            "neutral": 0,
                            "positive": 0.99
                          },
                          "length": 64,
                          "offset": 767,
                          "sentiment": "positive",
                          "text": "I will gladly take the tradeoff in speed for the added comfort. "
                        },
                        {
                          "confidenceScores": {
                            "negative": 0.01,
                            "neutral": 0.89,
                            "positive": 0.1
                          },
                          "length": 48,
                          "offset": 831,
                          "sentiment": "neutral",
                          "text": "I purchased this bike to use a winter commuter. "
                        },
                        {
                          "confidenceScores": {
                            "negative": 0,
                            "neutral": 0.94,
                            "positive": 0.06
                          },
                          "length": 71,
                          "offset": 879,
                          "sentiment": "neutral",
                          "text": "It has all the braze-ons you could ever need for mounting accessories. "
                        },
                        {
                          "confidenceScores": {
                            "negative": 0,
                            "neutral": 0.98,
                            "positive": 0.02
                          },
                          "length": 51,
                          "offset": 950,
                          "sentiment": "neutral",
                          "text": "I specifically like the braze-ons on the top tube. "
                        },
                        {
                          "confidenceScores": {
                            "negative": 0,
                            "neutral": 1,
                            "positive": 0
                          },
                          "length": 80,
                          "offset": 1001,
                          "sentiment": "neutral",
                          "text": "I mounted an anything carrier to the top tube to carry my JBL Charge 3 speaker. "
                        },
                        {
                          "confidenceScores": {
                            "negative": 0,
                            "neutral": 0.02,
                            "positive": 0.98
                          },
                          "length": 66,
                          "offset": 1081,
                          "sentiment": "positive",
                          "text": "Perhaps my favorite thing about this bike will be the 650b tires. "
                        },
                        {
                          "confidenceScores": {
                            "negative": 0,
                            "neutral": 0.99,
                            "positive": 0.01
                          },
                          "length": 100,
                          "offset": 1147,
                          "sentiment": "neutral",
                          "text": "Because of my long legs I tend to put the seat up fairly high to allow me more power when I peddle. "
                        },
                        {
                          "confidenceScores": {
                            "negative": 0.01,
                            "neutral": 0.47,
                            "positive": 0.52
                          },
                          "length": 145,
                          "offset": 1247,
                          "sentiment": "positive",
                          "text": "The smaller wheel diameter means I can comfortably pant my foot on the ground when I'm stopped at lights and not feel like I'm going to tip over."
                        }
                      ],
                      "sentiment": "mixed",
                      "warnings": []
                    },
                    "modelVersion": "2022-11-01"
                  },
                  "5": {
                    "detectedLanguage": {
                      "language": "en",
                      "score": 1
                    },
                    "translations": [
                      {
                        "text": "This will just be my initial impression of the bike because I've only put about 28 miles on the bike so far. This has to be the most comfortable Road Bike that I've ridden by far. I'm still not accustomed to riding Road Bikes but the Journeyman does allow me to go the distance without experience too much lower back pain. I didn't used to be a fan of riding in the drops - mainly because of lower back pain - but on this bike, I did not feel any discomfort riding in the drops and it certainly makes riding into the wind much less taxing. It is not the fastest bike in my stable. The wider tires certainly creates more rolling resistance, however riding over the rough road surfaces of the Greater Cleveland Area with these wider tires creates an almost plush ride. I will gladly take the tradeoff in speed for the added comfort. I purchased this bike to use a winter commuter. It has all the braze-ons you could ever need for mounting accessories. I specifically like the braze-ons on the top tube. I mounted an anything carrier to the top tube to carry my JBL Charge 3 speaker. Perhaps my favorite thing about this bike will be the 650b tires. Because of my long legs I tend to put the seat up fairly high to allow me more power when I peddle. The smaller wheel diameter means I can comfortably pant my foot on the ground when I'm stopped at lights and not feel like I'm going to tip over.",
                        "to": "en"
                      }
                    ]
                  },
                  "6": "mixed",
                  "7": "0.43",
                  "8": "0.1",
                  "9": "0.47"
                },
                {
                  "0": "Touring-2000",
                  "1": "4",
                  "2": "Smooth ride",
                  "3": "\"1 week in and I'm so far liking this bike very much. I've been riding an early 70s Panasonic road/racing bike for the last 15 years and was ready to add a less \"\"aggressive\"\" postured gravel/road bike. I commute daily and put about 10-15 miles a day on it. The ride is super smooth and the Apex shifters/derailleurs are great! I don't feel like I've lost that much speed with only having a single chainring. Very solid",
                  "4": {
                    "document": {
                      "confidenceScores": {
                        "negative": 0.21,
                        "neutral": 0.04,
                        "positive": 0.75
                      },
                      "id": "6",
                      "sentences": [
                        {
                          "confidenceScores": {
                            "negative": 0,
                            "neutral": 0.01,
                            "positive": 0.99
                          },
                          "length": 54,
                          "offset": 0,
                          "sentiment": "positive",
                          "text": "\"1 week in and I'm so far liking this bike very much. "
                        },
                        {
                          "confidenceScores": {
                            "negative": 0.01,
                            "neutral": 0.99,
                            "positive": 0.01
                          },
                          "length": 149,
                          "offset": 54,
                          "sentiment": "neutral",
                          "text": "I've been riding an early 70s Panasonic road/racing bike for the last 15 years and was ready to add a less \"\"aggressive\"\" postured gravel/road bike. "
                        },
                        {
                          "confidenceScores": {
                            "negative": 0,
                            "neutral": 1,
                            "positive": 0
                          },
                          "length": 55,
                          "offset": 203,
                          "sentiment": "neutral",
                          "text": "I commute daily and put about 10-15 miles a day on it. "
                        },
                        {
                          "confidenceScores": {
                            "negative": 0,
                            "neutral": 0,
                            "positive": 1
                          },
                          "length": 70,
                          "offset": 258,
                          "sentiment": "positive",
                          "text": "The ride is super smooth and the Apex shifters/derailleurs are great! "
                        },
                        {
                          "confidenceScores": {
                            "negative": 0.84,
                            "neutral": 0.15,
                            "positive": 0.01
                          },
                          "length": 81,
                          "offset": 328,
                          "sentiment": "negative",
                          "text": "I don't feel like I've lost that much speed with only having a single chainring. "
                        },
                        {
                          "confidenceScores": {
                            "negative": 0,
                            "neutral": 0.01,
                            "positive": 0.99
                          },
                          "length": 10,
                          "offset": 409,
                          "sentiment": "positive",
                          "text": "Very solid"
                        }
                      ],
                      "sentiment": "mixed",
                      "warnings": []
                    },
                    "modelVersion": "2022-11-01"
                  },
                  "5": {
                    "detectedLanguage": {
                      "language": "en",
                      "score": 1
                    },
                    "translations": [
                      {
                        "text": "\"1 week in and I'm so far liking this bike very much. I've been riding an early 70s Panasonic road/racing bike for the last 15 years and was ready to add a less \"\"aggressive\"\" postured gravel/road bike. I commute daily and put about 10-15 miles a day on it. The ride is super smooth and the Apex shifters/derailleurs are great! I don't feel like I've lost that much speed with only having a single chainring. Very solid",
                        "to": "en"
                      }
                    ]
                  },
                  "6": "mixed",
                  "7": "0.75",
                  "8": "0.04",
                  "9": "0.21"
                },
                {
                  "0": "Touring-2000",
                  "1": "3",
                  "2": "Initial thoughts",
                  "3": "I picked the bike up last night and noticed a difference from the specs: the front fork uses a thru axle, while the back is QR. I was planning on running my favorite set of wheels on this (both QR), but now can only use one. This was the reason I chose this bike because I'm a big guy and had stronger wheels built. I guess I will be pricing out at least one more wheel. I'll will update this after I've ridden it a while, but beware.",
                  "4": {
                    "document": {
                      "confidenceScores": {
                        "negative": 0.01,
                        "neutral": 0.05,
                        "positive": 0.95
                      },
                      "id": "7",
                      "sentences": [
                        {
                          "confidenceScores": {
                            "negative": 0,
                            "neutral": 1,
                            "positive": 0
                          },
                          "length": 128,
                          "offset": 0,
                          "sentiment": "neutral",
                          "text": "I picked the bike up last night and noticed a difference from the specs: the front fork uses a thru axle, while the back is QR. "
                        },
                        {
                          "confidenceScores": {
                            "negative": 0.01,
                            "neutral": 0.05,
                            "positive": 0.95
                          },
                          "length": 97,
                          "offset": 128,
                          "sentiment": "positive",
                          "text": "I was planning on running my favorite set of wheels on this (both QR), but now can only use one. "
                        },
                        {
                          "confidenceScores": {
                            "negative": 0.01,
                            "neutral": 0.76,
                            "positive": 0.23
                          },
                          "length": 91,
                          "offset": 225,
                          "sentiment": "neutral",
                          "text": "This was the reason I chose this bike because I'm a big guy and had stronger wheels built. "
                        },
                        {
                          "confidenceScores": {
                            "negative": 0,
                            "neutral": 1,
                            "positive": 0
                          },
                          "length": 55,
                          "offset": 316,
                          "sentiment": "neutral",
                          "text": "I guess I will be pricing out at least one more wheel. "
                        },
                        {
                          "confidenceScores": {
                            "negative": 0.07,
                            "neutral": 0.93,
                            "positive": 0.01
                          },
                          "length": 63,
                          "offset": 371,
                          "sentiment": "neutral",
                          "text": "I'll will update this after I've ridden it a while, but beware."
                        }
                      ],
                      "sentiment": "positive",
                      "warnings": []
                    },
                    "modelVersion": "2022-11-01"
                  },
                  "5": {
                    "detectedLanguage": {
                      "language": "en",
                      "score": 1
                    },
                    "translations": [
                      {
                        "text": "I picked the bike up last night and noticed a difference from the specs: the front fork uses a thru axle, while the back is QR. I was planning on running my favorite set of wheels on this (both QR), but now can only use one. This was the reason I chose this bike because I'm a big guy and had stronger wheels built. I guess I will be pricing out at least one more wheel. I'll will update this after I've ridden it a while, but beware.",
                        "to": "en"
                      }
                    ]
                  },
                  "6": "positive",
                  "7": "0.95",
                  "8": "0.05",
                  "9": "0.01"
                },
                {
                  "0": "Touring-3000",
                  "1": "5",
                  "2": "Tough touring bike",
                  "3": "Took this little number on it's first ride down the Central Coast of California. I picked it up a few weeks before riding 300 plus miles and took it on single track, road and various dirt terrain. The way it handles with and without bags is amazing. Even without suspension and flat bars, I was able to rock and roll up and down some nasty gravel and dirt. The 650b set up is super soft and cruises well on all surfaces. I was curious if I would lag behind the pack on a long tour (mostly on pavement) but no complaints. The tires and drop bars make for a great ride with little to no drag.",
                  "4": {
                    "document": {
                      "confidenceScores": {
                        "negative": 0.26,
                        "neutral": 0.01,
                        "positive": 0.73
                      },
                      "id": "8",
                      "sentences": [
                        {
                          "confidenceScores": {
                            "negative": 0.14,
                            "neutral": 0.79,
                            "positive": 0.07
                          },
                          "length": 81,
                          "offset": 0,
                          "sentiment": "neutral",
                          "text": "Took this little number on it's first ride down the Central Coast of California. "
                        },
                        {
                          "confidenceScores": {
                            "negative": 0,
                            "neutral": 0.99,
                            "positive": 0
                          },
                          "length": 116,
                          "offset": 81,
                          "sentiment": "neutral",
                          "text": "I picked it up a few weeks before riding 300 plus miles and took it on single track, road and various dirt terrain. "
                        },
                        {
                          "confidenceScores": {
                            "negative": 0,
                            "neutral": 0.01,
                            "positive": 0.99
                          },
                          "length": 53,
                          "offset": 197,
                          "sentiment": "positive",
                          "text": "The way it handles with and without bags is amazing. "
                        },
                        {
                          "confidenceScores": {
                            "negative": 1,
                            "neutral": 0,
                            "positive": 0
                          },
                          "length": 107,
                          "offset": 250,
                          "sentiment": "negative",
                          "text": "Even without suspension and flat bars, I was able to rock and roll up and down some nasty gravel and dirt. "
                        },
                        {
                          "confidenceScores": {
                            "negative": 0,
                            "neutral": 0.63,
                            "positive": 0.37
                          },
                          "length": 64,
                          "offset": 357,
                          "sentiment": "neutral",
                          "text": "The 650b set up is super soft and cruises well on all surfaces. "
                        },
                        {
                          "confidenceScores": {
                            "negative": 0.05,
                            "neutral": 0.03,
                            "positive": 0.92
                          },
                          "length": 100,
                          "offset": 421,
                          "sentiment": "positive",
                          "text": "I was curious if I would lag behind the pack on a long tour (mostly on pavement) but no complaints. "
                        },
                        {
                          "confidenceScores": {
                            "negative": 0,
                            "neutral": 0,
                            "positive": 1
                          },
                          "length": 69,
                          "offset": 521,
                          "sentiment": "positive",
                          "text": "The tires and drop bars make for a great ride with little to no drag."
                        }
                      ],
                      "sentiment": "mixed",
                      "warnings": []
                    },
                    "modelVersion": "2022-11-01"
                  },
                  "5": {
                    "detectedLanguage": {
                      "language": "en",
                      "score": 1
                    },
                    "translations": [
                      {
                        "text": "Took this little number on it's first ride down the Central Coast of California. I picked it up a few weeks before riding 300 plus miles and took it on single track, road and various dirt terrain. The way it handles with and without bags is amazing. Even without suspension and flat bars, I was able to rock and roll up and down some nasty gravel and dirt. The 650b set up is super soft and cruises well on all surfaces. I was curious if I would lag behind the pack on a long tour (mostly on pavement) but no complaints. The tires and drop bars make for a great ride with little to no drag.",
                        "to": "en"
                      }
                    ]
                  },
                  "6": "mixed",
                  "7": "0.73",
                  "8": "0.01",
                  "9": "0.26"
                },
                {
                  "0": "Touring-3000",
                  "1": "1",
                  "2": "Bottom bracket broke",
                  "3": "Bought this bike for a pacific coast bike tour. Shipped to Seattle, seatpost binder bolt snapped at the airport. Jerry rigged a fix to get to a bike shop. Got a replacement bolt, mechanic suspended the bolt wasn’t made from hardened steel. 1200+ miles later in Gorda, Ca I discover the bottom bracket has come loose and I limp along to Cambria to stay the night. Pretty disappointing. I can’t finish my trip to LA. I haven’t ridden this bike more than 2500 total. Difficult to get tires off rim for flat repair. I can’t say this is an REI problem, but more a tubeless rim/tire combo. I tried three types before I could find a combo that worked.",
                  "4": {
                    "document": {
                      "confidenceScores": {
                        "negative": 0.98,
                        "neutral": 0.02,
                        "positive": 0.01
                      },
                      "id": "9",
                      "sentences": [
                        {
                          "confidenceScores": {
                            "negative": 0.02,
                            "neutral": 0.5,
                            "positive": 0.48
                          },
                          "length": 48,
                          "offset": 0,
                          "sentiment": "neutral",
                          "text": "Bought this bike for a pacific coast bike tour. "
                        },
                        {
                          "confidenceScores": {
                            "negative": 0.96,
                            "neutral": 0.03,
                            "positive": 0.01
                          },
                          "length": 65,
                          "offset": 48,
                          "sentiment": "negative",
                          "text": "Shipped to Seattle, seatpost binder bolt snapped at the airport. "
                        },
                        {
                          "confidenceScores": {
                            "negative": 0.19,
                            "neutral": 0.71,
                            "positive": 0.09
                          },
                          "length": 42,
                          "offset": 113,
                          "sentiment": "neutral",
                          "text": "Jerry rigged a fix to get to a bike shop. "
                        },
                        {
                          "confidenceScores": {
                            "negative": 0.97,
                            "neutral": 0.02,
                            "positive": 0.01
                          },
                          "length": 85,
                          "offset": 155,
                          "sentiment": "negative",
                          "text": "Got a replacement bolt, mechanic suspended the bolt wasn’t made from hardened steel. "
                        },
                        {
                          "confidenceScores": {
                            "negative": 0.99,
                            "neutral": 0.01,
                            "positive": 0
                          },
                          "length": 123,
                          "offset": 240,
                          "sentiment": "negative",
                          "text": "1200+ miles later in Gorda, Ca I discover the bottom bracket has come loose and I limp along to Cambria to stay the night. "
                        },
                        {
                          "confidenceScores": {
                            "negative": 1,
                            "neutral": 0,
                            "positive": 0
                          },
                          "length": 22,
                          "offset": 363,
                          "sentiment": "negative",
                          "text": "Pretty disappointing. "
                        },
                        {
                          "confidenceScores": {
                            "negative": 0.94,
                            "neutral": 0.05,
                            "positive": 0.01
                          },
                          "length": 30,
                          "offset": 385,
                          "sentiment": "negative",
                          "text": "I can’t finish my trip to LA. "
                        },
                        {
                          "confidenceScores": {
                            "negative": 0.18,
                            "neutral": 0.81,
                            "positive": 0
                          },
                          "length": 49,
                          "offset": 415,
                          "sentiment": "neutral",
                          "text": "I haven’t ridden this bike more than 2500 total. "
                        },
                        {
                          "confidenceScores": {
                            "negative": 0.99,
                            "neutral": 0.01,
                            "positive": 0
                          },
                          "length": 48,
                          "offset": 464,
                          "sentiment": "negative",
                          "text": "Difficult to get tires off rim for flat repair. "
                        },
                        {
                          "confidenceScores": {
                            "negative": 0.99,
                            "neutral": 0.01,
                            "positive": 0
                          },
                          "length": 72,
                          "offset": 512,
                          "sentiment": "negative",
                          "text": "I can’t say this is an REI problem, but more a tubeless rim/tire combo. "
                        },
                        {
                          "confidenceScores": {
                            "negative": 0,
                            "neutral": 0.99,
                            "positive": 0.01
                          },
                          "length": 60,
                          "offset": 584,
                          "sentiment": "neutral",
                          "text": "I tried three types before I could find a combo that worked."
                        }
                      ],
                      "sentiment": "negative",
                      "warnings": []
                    },
                    "modelVersion": "2022-11-01"
                  },
                  "5": {
                    "detectedLanguage": {
                      "language": "en",
                      "score": 1
                    },
                    "translations": [
                      {
                        "text": "Bought this bike for a pacific coast bike tour. Shipped to Seattle, seatpost binder bolt snapped at the airport. Jerry rigged a fix to get to a bike shop. Got a replacement bolt, mechanic suspended the bolt wasn’t made from hardened steel. 1200+ miles later in Gorda, Ca I discover the bottom bracket has come loose and I limp along to Cambria to stay the night. Pretty disappointing. I can’t finish my trip to LA. I haven’t ridden this bike more than 2500 total. Difficult to get tires off rim for flat repair. I can’t say this is an REI problem, but more a tubeless rim/tire combo. I tried three types before I could find a combo that worked.",
                        "to": "en"
                      }
                    ]
                  },
                  "6": "negative",
                  "7": "0.01",
                  "8": "0.02",
                  "9": "0.98"
                },
                {
                  "0": "Touring-3000",
                  "1": "2",
                  "2": "No hydraulics brakes and more",
                  "3": "No hydraulics brakes. a little under equipped for backpacking. hydraulics brakes is a must. plus its a little pricey for what you are getting. nice handle bar. not to flared out which makes it a all around bike. nice zero offset seat post. no need to buy a zero offset deore is ok. not xt but ok for the purpose. cassette does not have good gearing. the cranks are a bit small. it would be good if they had a 40/30 with higher cassette. The prices a a little high for what you are getting.",
                  "4": {
                    "document": {
                      "confidenceScores": {
                        "negative": 0.42,
                        "neutral": 0.1,
                        "positive": 0.48
                      },
                      "id": "0",
                      "sentences": [
                        {
                          "confidenceScores": {
                            "negative": 0.52,
                            "neutral": 0.48,
                            "positive": 0
                          },
                          "length": 22,
                          "offset": 0,
                          "sentiment": "negative",
                          "text": "No hydraulics brakes. "
                        },
                        {
                          "confidenceScores": {
                            "negative": 0.04,
                            "neutral": 0.91,
                            "positive": 0.05
                          },
                          "length": 41,
                          "offset": 22,
                          "sentiment": "neutral",
                          "text": "a little under equipped for backpacking. "
                        },
                        {
                          "confidenceScores": {
                            "negative": 0,
                            "neutral": 0.78,
                            "positive": 0.21
                          },
                          "length": 29,
                          "offset": 63,
                          "sentiment": "neutral",
                          "text": "hydraulics brakes is a must. "
                        },
                        {
                          "confidenceScores": {
                            "negative": 0.96,
                            "neutral": 0.04,
                            "positive": 0
                          },
                          "length": 51,
                          "offset": 92,
                          "sentiment": "negative",
                          "text": "plus its a little pricey for what you are getting. "
                        },
                        {
                          "confidenceScores": {
                            "negative": 0,
                            "neutral": 0,
                            "positive": 1
                          },
                          "length": 17,
                          "offset": 143,
                          "sentiment": "positive",
                          "text": "nice handle bar. "
                        },
                        {
                          "confidenceScores": {
                            "negative": 0,
                            "neutral": 1,
                            "positive": 0
                          },
                          "length": 52,
                          "offset": 160,
                          "sentiment": "neutral",
                          "text": "not to flared out which makes it a all around bike. "
                        },
                        {
                          "confidenceScores": {
                            "negative": 0.01,
                            "neutral": 0.01,
                            "positive": 0.98
                          },
                          "length": 70,
                          "offset": 212,
                          "sentiment": "positive",
                          "text": "nice zero offset seat post. no need to buy a zero offset deore is ok. "
                        },
                        {
                          "confidenceScores": {
                            "negative": 0.03,
                            "neutral": 0.93,
                            "positive": 0.04
                          },
                          "length": 31,
                          "offset": 282,
                          "sentiment": "neutral",
                          "text": "not xt but ok for the purpose. "
                        },
                        {
                          "confidenceScores": {
                            "negative": 1,
                            "neutral": 0,
                            "positive": 0
                          },
                          "length": 37,
                          "offset": 313,
                          "sentiment": "negative",
                          "text": "cassette does not have good gearing. "
                        },
                        {
                          "confidenceScores": {
                            "negative": 0.15,
                            "neutral": 0.85,
                            "positive": 0
                          },
                          "length": 28,
                          "offset": 350,
                          "sentiment": "neutral",
                          "text": "the cranks are a bit small. "
                        },
                        {
                          "confidenceScores": {
                            "negative": 0.01,
                            "neutral": 0.09,
                            "positive": 0.9
                          },
                          "length": 59,
                          "offset": 378,
                          "sentiment": "positive",
                          "text": "it would be good if they had a 40/30 with higher cassette. "
                        },
                        {
                          "confidenceScores": {
                            "negative": 0.1,
                            "neutral": 0.89,
                            "positive": 0.01
                          },
                          "length": 52,
                          "offset": 437,
                          "sentiment": "neutral",
                          "text": "The prices a a little high for what you are getting."
                        }
                      ],
                      "sentiment": "mixed",
                      "warnings": []
                    },
                    "modelVersion": "2022-11-01"
                  },
                  "5": {
                    "detectedLanguage": {
                      "language": "en",
                      "score": 0.99
                    },
                    "translations": [
                      {
                        "text": "No hydraulics brakes. a little under equipped for backpacking. hydraulics brakes is a must. plus its a little pricey for what you are getting. nice handle bar. not to flared out which makes it a all around bike. nice zero offset seat post. no need to buy a zero offset deore is ok. not xt but ok for the purpose. cassette does not have good gearing. the cranks are a bit small. it would be good if they had a 40/30 with higher cassette. The prices a a little high for what you are getting.",
                        "to": "en"
                      }
                    ]
                  },
                  "6": "mixed",
                  "7": "0.48",
                  "8": "0.1",
                  "9": "0.42"
                },
                {
                  "0": "Mountain-100",
                  "1": "3",
                  "2": "Nice bike but...",
                  "3": "Just purchased this bike. It’s my first full suspension. Feels very comfortable, it’s fun, and definitely increased my confidence. For the price it has more than a lot of other FS out there. However, I have only gone on two rides with this bike and I experienced the same issue. The SRAM Eagle SX derailleur keeps failing. I think they could have provided an upgraded component. Maybe a GX? I noticed that the 2019 game with a Shimano derailleur, and everyone seems to like that bike. Anyways, I took the bike back to my local REI and they fixed it the first time, tightened everything up, but still failed the next day in the middle of the trail. The guys at my local REI are awesome and are replacing it with a SRAM NX. Hopefully this works better. Kinda bummed I have to wait about a week for the part to arrive, so I haven’t got much time to enjoy the bike.",
                  "4": {
                    "document": {
                      "confidenceScores": {
                        "negative": 0.44,
                        "neutral": 0.08,
                        "positive": 0.48
                      },
                      "id": "1",
                      "sentences": [
                        {
                          "confidenceScores": {
                            "negative": 0.01,
                            "neutral": 0.82,
                            "positive": 0.17
                          },
                          "length": 26,
                          "offset": 0,
                          "sentiment": "neutral",
                          "text": "Just purchased this bike. "
                        },
                        {
                          "confidenceScores": {
                            "negative": 0.02,
                            "neutral": 0.64,
                            "positive": 0.34
                          },
                          "length": 31,
                          "offset": 26,
                          "sentiment": "neutral",
                          "text": "It’s my first full suspension. "
                        },
                        {
                          "confidenceScores": {
                            "negative": 0,
                            "neutral": 0,
                            "positive": 1
                          },
                          "length": 74,
                          "offset": 57,
                          "sentiment": "positive",
                          "text": "Feels very comfortable, it’s fun, and definitely increased my confidence. "
                        },
                        {
                          "confidenceScores": {
                            "negative": 0,
                            "neutral": 1,
                            "positive": 0
                          },
                          "length": 60,
                          "offset": 131,
                          "sentiment": "neutral",
                          "text": "For the price it has more than a lot of other FS out there. "
                        },
                        {
                          "confidenceScores": {
                            "negative": 0.56,
                            "neutral": 0.44,
                            "positive": 0
                          },
                          "length": 88,
                          "offset": 191,
                          "sentiment": "negative",
                          "text": "However, I have only gone on two rides with this bike and I experienced the same issue. "
                        },
                        {
                          "confidenceScores": {
                            "negative": 0.99,
                            "neutral": 0.01,
                            "positive": 0
                          },
                          "length": 44,
                          "offset": 279,
                          "sentiment": "negative",
                          "text": "The SRAM Eagle SX derailleur keeps failing. "
                        },
                        {
                          "confidenceScores": {
                            "negative": 0,
                            "neutral": 0.99,
                            "positive": 0.01
                          },
                          "length": 56,
                          "offset": 323,
                          "sentiment": "neutral",
                          "text": "I think they could have provided an upgraded component. "
                        },
                        {
                          "confidenceScores": {
                            "negative": 0,
                            "neutral": 0.99,
                            "positive": 0
                          },
                          "length": 12,
                          "offset": 379,
                          "sentiment": "neutral",
                          "text": "Maybe a GX? "
                        },
                        {
                          "confidenceScores": {
                            "negative": 0.01,
                            "neutral": 0.15,
                            "positive": 0.84
                          },
                          "length": 94,
                          "offset": 391,
                          "sentiment": "positive",
                          "text": "I noticed that the 2019 game with a Shimano derailleur, and everyone seems to like that bike. "
                        },
                        {
                          "confidenceScores": {
                            "negative": 1,
                            "neutral": 0,
                            "positive": 0
                          },
                          "length": 163,
                          "offset": 485,
                          "sentiment": "negative",
                          "text": "Anyways, I took the bike back to my local REI and they fixed it the first time, tightened everything up, but still failed the next day in the middle of the trail. "
                        },
                        {
                          "confidenceScores": {
                            "negative": 0,
                            "neutral": 0,
                            "positive": 0.99
                          },
                          "length": 74,
                          "offset": 648,
                          "sentiment": "positive",
                          "text": "The guys at my local REI are awesome and are replacing it with a SRAM NX. "
                        },
                        {
                          "confidenceScores": {
                            "negative": 0,
                            "neutral": 0,
                            "positive": 0.99
                          },
                          "length": 29,
                          "offset": 722,
                          "sentiment": "positive",
                          "text": "Hopefully this works better. "
                        },
                        {
                          "confidenceScores": {
                            "negative": 1,
                            "neutral": 0,
                            "positive": 0
                          },
                          "length": 110,
                          "offset": 751,
                          "sentiment": "negative",
                          "text": "Kinda bummed I have to wait about a week for the part to arrive, so I haven’t got much time to enjoy the bike."
                        }
                      ],
                      "sentiment": "mixed",
                      "warnings": []
                    },
                    "modelVersion": "2022-11-01"
                  },
                  "5": {
                    "detectedLanguage": {
                      "language": "en",
                      "score": 1
                    },
                    "translations": [
                      {
                        "text": "Just purchased this bike. It’s my first full suspension. Feels very comfortable, it’s fun, and definitely increased my confidence. For the price it has more than a lot of other FS out there. However, I have only gone on two rides with this bike and I experienced the same issue. The SRAM Eagle SX derailleur keeps failing. I think they could have provided an upgraded component. Maybe a GX? I noticed that the 2019 game with a Shimano derailleur, and everyone seems to like that bike. Anyways, I took the bike back to my local REI and they fixed it the first time, tightened everything up, but still failed the next day in the middle of the trail. The guys at my local REI are awesome and are replacing it with a SRAM NX. Hopefully this works better. Kinda bummed I have to wait about a week for the part to arrive, so I haven’t got much time to enjoy the bike.",
                        "to": "en"
                      }
                    ]
                  },
                  "6": "mixed",
                  "7": "0.48",
                  "8": "0.08",
                  "9": "0.44"
                },
                {
                  "0": "Mountain-100",
                  "1": "5",
                  "2": "Perfect for beginners!",
                  "3": "I bought this bike as I was just getting into single track trail riding this summer for the first time and I am so happy this is the one I chose. The bike has fantastic brakes and suspension. The gears shift effortlessly. Even the tires that came with were an added bonus. I feel like I have so much control with this bike. Highly recommended!",
                  "4": {
                    "document": {
                      "confidenceScores": {
                        "negative": 0,
                        "neutral": 0,
                        "positive": 1
                      },
                      "id": "2",
                      "sentences": [
                        {
                          "confidenceScores": {
                            "negative": 0,
                            "neutral": 0,
                            "positive": 1
                          },
                          "length": 146,
                          "offset": 0,
                          "sentiment": "positive",
                          "text": "I bought this bike as I was just getting into single track trail riding this summer for the first time and I am so happy this is the one I chose. "
                        },
                        {
                          "confidenceScores": {
                            "negative": 0,
                            "neutral": 0,
                            "positive": 1
                          },
                          "length": 46,
                          "offset": 146,
                          "sentiment": "positive",
                          "text": "The bike has fantastic brakes and suspension. "
                        },
                        {
                          "confidenceScores": {
                            "negative": 0.01,
                            "neutral": 0.82,
                            "positive": 0.17
                          },
                          "length": 30,
                          "offset": 192,
                          "sentiment": "neutral",
                          "text": "The gears shift effortlessly. "
                        },
                        {
                          "confidenceScores": {
                            "negative": 0.01,
                            "neutral": 0.58,
                            "positive": 0.4
                          },
                          "length": 51,
                          "offset": 222,
                          "sentiment": "neutral",
                          "text": "Even the tires that came with were an added bonus. "
                        },
                        {
                          "confidenceScores": {
                            "negative": 0,
                            "neutral": 0.97,
                            "positive": 0.03
                          },
                          "length": 51,
                          "offset": 273,
                          "sentiment": "neutral",
                          "text": "I feel like I have so much control with this bike. "
                        },
                        {
                          "confidenceScores": {
                            "negative": 0,
                            "neutral": 0,
                            "positive": 1
                          },
                          "length": 19,
                          "offset": 324,
                          "sentiment": "positive",
                          "text": "Highly recommended!"
                        }
                      ],
                      "sentiment": "positive",
                      "warnings": []
                    },
                    "modelVersion": "2022-11-01"
                  },
                  "5": {
                    "detectedLanguage": {
                      "language": "en",
                      "score": 1
                    },
                    "translations": [
                      {
                        "text": "I bought this bike as I was just getting into single track trail riding this summer for the first time and I am so happy this is the one I chose. The bike has fantastic brakes and suspension. The gears shift effortlessly. Even the tires that came with were an added bonus. I feel like I have so much control with this bike. Highly recommended!",
                        "to": "en"
                      }
                    ]
                  },
                  "6": "positive",
                  "7": "1.0",
                  "8": "0.0",
                  "9": "0.0"
                },
                {
                  "0": "Mountain-100",
                  "1": "5",
                  "2": "I LOVE MOUNTAIN BIKING!",
                  "3": "Prior to purchasing this bike, my son purchased this same bike in a men's extra large, for himself. The women's version of his bike was later purchased for my son's fiancee. She has now become an avid mountain biker! My son and his fiancee went to REI shortly after my son purchased his bike, to get the women's version of his bike for his fiancee. Together with my son, my two daughters, my grandson, and my son-in-law, my son's fiancee has now become an avid mountain biker and loves her bike!",
                  "4": {
                    "document": {
                      "confidenceScores": {
                        "negative": 0,
                        "neutral": 0,
                        "positive": 1
                      },
                      "id": "3",
                      "sentences": [
                        {
                          "confidenceScores": {
                            "negative": 0.01,
                            "neutral": 0.95,
                            "positive": 0.04
                          },
                          "length": 100,
                          "offset": 0,
                          "sentiment": "neutral",
                          "text": "Prior to purchasing this bike, my son purchased this same bike in a men's extra large, for himself. "
                        },
                        {
                          "confidenceScores": {
                            "negative": 0,
                            "neutral": 0.97,
                            "positive": 0.03
                          },
                          "length": 74,
                          "offset": 100,
                          "sentiment": "neutral",
                          "text": "The women's version of his bike was later purchased for my son's fiancee. "
                        },
                        {
                          "confidenceScores": {
                            "negative": 0.01,
                            "neutral": 0.88,
                            "positive": 0.11
                          },
                          "length": 43,
                          "offset": 174,
                          "sentiment": "neutral",
                          "text": "She has now become an avid mountain biker! "
                        },
                        {
                          "confidenceScores": {
                            "negative": 0.01,
                            "neutral": 0.79,
                            "positive": 0.2
                          },
                          "length": 132,
                          "offset": 217,
                          "sentiment": "neutral",
                          "text": "My son and his fiancee went to REI shortly after my son purchased his bike, to get the women's version of his bike for his fiancee. "
                        },
                        {
                          "confidenceScores": {
                            "negative": 0,
                            "neutral": 0,
                            "positive": 1
                          },
                          "length": 146,
                          "offset": 349,
                          "sentiment": "positive",
                          "text": "Together with my son, my two daughters, my grandson, and my son-in-law, my son's fiancee has now become an avid mountain biker and loves her bike!"
                        }
                      ],
                      "sentiment": "positive",
                      "warnings": []
                    },
                    "modelVersion": "2022-11-01"
                  },
                  "5": {
                    "detectedLanguage": {
                      "language": "en",
                      "score": 1
                    },
                    "translations": [
                      {
                        "text": "Prior to purchasing this bike, my son purchased this same bike in a men's extra large, for himself. The women's version of his bike was later purchased for my son's fiancee. She has now become an avid mountain biker! My son and his fiancee went to REI shortly after my son purchased his bike, to get the women's version of his bike for his fiancee. Together with my son, my two daughters, my grandson, and my son-in-law, my son's fiancee has now become an avid mountain biker and loves her bike!",
                        "to": "en"
                      }
                    ]
                  },
                  "6": "positive",
                  "7": "1.0",
                  "8": "0.0",
                  "9": "0.0"
                },
                {
                  "0": "Mountain-100",
                  "1": "5",
                  "2": "Mountain Bike",
                  "3": "This bike is very fun to ride. Shifts and brakes very smoothly. Wide range of gears made for almost effortless peddling. Trying to get my spouse to buy one. No issues with this purchase. Thank you.",
                  "4": {
                    "document": {
                      "confidenceScores": {
                        "negative": 0.09,
                        "neutral": 0.11,
                        "positive": 0.8
                      },
                      "id": "4",
                      "sentences": [
                        {
                          "confidenceScores": {
                            "negative": 0,
                            "neutral": 0,
                            "positive": 1
                          },
                          "length": 31,
                          "offset": 0,
                          "sentiment": "positive",
                          "text": "This bike is very fun to ride. "
                        },
                        {
                          "confidenceScores": {
                            "negative": 0,
                            "neutral": 0.08,
                            "positive": 0.91
                          },
                          "length": 33,
                          "offset": 31,
                          "sentiment": "positive",
                          "text": "Shifts and brakes very smoothly. "
                        },
                        {
                          "confidenceScores": {
                            "negative": 0.01,
                            "neutral": 0.29,
                            "positive": 0.71
                          },
                          "length": 57,
                          "offset": 64,
                          "sentiment": "positive",
                          "text": "Wide range of gears made for almost effortless peddling. "
                        },
                        {
                          "confidenceScores": {
                            "negative": 0.01,
                            "neutral": 0.97,
                            "positive": 0.03
                          },
                          "length": 36,
                          "offset": 121,
                          "sentiment": "neutral",
                          "text": "Trying to get my spouse to buy one. "
                        },
                        {
                          "confidenceScores": {
                            "negative": 0.45,
                            "neutral": 0.12,
                            "positive": 0.43
                          },
                          "length": 30,
                          "offset": 157,
                          "sentiment": "negative",
                          "text": "No issues with this purchase. "
                        },
                        {
                          "confidenceScores": {
                            "negative": 0,
                            "neutral": 0.03,
                            "positive": 0.97
                          },
                          "length": 10,
                          "offset": 187,
                          "sentiment": "positive",
                          "text": "Thank you."
                        }
                      ],
                      "sentiment": "mixed",
                      "warnings": []
                    },
                    "modelVersion": "2022-11-01"
                  },
                  "5": {
                    "detectedLanguage": {
                      "language": "en",
                      "score": 1
                    },
                    "translations": [
                      {
                        "text": "This bike is very fun to ride. Shifts and brakes very smoothly. Wide range of gears made for almost effortless peddling. Trying to get my spouse to buy one. No issues with this purchase. Thank you.",
                        "to": "en"
                      }
                    ]
                  },
                  "6": "mixed",
                  "7": "0.8",
                  "8": "0.11",
                  "9": "0.09"
                },
                {
                  "0": "Mountain-100",
                  "1": "5",
                  "2": "Makes riding easier.",
                  "3": "My wife and I both purchased this bike and so far, less than a month, we have been very happy with these bikes.",
                  "4": {
                    "document": {
                      "confidenceScores": {
                        "negative": 0,
                        "neutral": 0,
                        "positive": 1
                      },
                      "id": "5",
                      "sentences": [
                        {
                          "confidenceScores": {
                            "negative": 0,
                            "neutral": 0,
                            "positive": 1
                          },
                          "length": 111,
                          "offset": 0,
                          "sentiment": "positive",
                          "text": "My wife and I both purchased this bike and so far, less than a month, we have been very happy with these bikes."
                        }
                      ],
                      "sentiment": "positive",
                      "warnings": []
                    },
                    "modelVersion": "2022-11-01"
                  },
                  "5": {
                    "detectedLanguage": {
                      "language": "en",
                      "score": 1
                    },
                    "translations": [
                      {
                        "text": "My wife and I both purchased this bike and so far, less than a month, we have been very happy with these bikes.",
                        "to": "en"
                      }
                    ]
                  },
                  "6": "positive",
                  "7": "1.0",
                  "8": "0.0",
                  "9": "0.0"
                },
                {
                  "0": "Mountain-200",
                  "1": "5",
                  "2": "Rides great! Love the Geometry and fat tires.",
                  "3": "REI seemed to crank another more than decent MTB under the new co-op brand. The geometry follows today’s trends and just riding the around, it pretty solid. I couldn’t find any info on these WTB RSi40 rims, but I’m kinda liking the 2.8 wheels on a 27.5. I also got the wheels converted to tubeless for free in the store (although I did have to buy valve stems and sealant). I don’t have a lot of ride time yet but thought I’d write something since I can’t find any reviews of this bike online.",
                  "4": {
                    "document": {
                      "confidenceScores": {
                        "negative": 0.16,
                        "neutral": 0.13,
                        "positive": 0.7
                      },
                      "id": "6",
                      "sentences": [
                        {
                          "confidenceScores": {
                            "negative": 0.05,
                            "neutral": 0.05,
                            "positive": 0.9
                          },
                          "length": 76,
                          "offset": 0,
                          "sentiment": "positive",
                          "text": "REI seemed to crank another more than decent MTB under the new co-op brand. "
                        },
                        {
                          "confidenceScores": {
                            "negative": 0,
                            "neutral": 0.05,
                            "positive": 0.94
                          },
                          "length": 81,
                          "offset": 76,
                          "sentiment": "positive",
                          "text": "The geometry follows today’s trends and just riding the around, it pretty solid. "
                        },
                        {
                          "confidenceScores": {
                            "negative": 0,
                            "neutral": 0.04,
                            "positive": 0.96
                          },
                          "length": 97,
                          "offset": 157,
                          "sentiment": "positive",
                          "text": "I couldn’t find any info on these WTB RSi40 rims, but I’m kinda liking the 2.8 wheels on a 27.5. "
                        },
                        {
                          "confidenceScores": {
                            "negative": 0,
                            "neutral": 0.99,
                            "positive": 0
                          },
                          "length": 120,
                          "offset": 254,
                          "sentiment": "neutral",
                          "text": "I also got the wheels converted to tubeless for free in the store (although I did have to buy valve stems and sealant). "
                        },
                        {
                          "confidenceScores": {
                            "negative": 0.6,
                            "neutral": 0.39,
                            "positive": 0.01
                          },
                          "length": 119,
                          "offset": 374,
                          "sentiment": "negative",
                          "text": "I don’t have a lot of ride time yet but thought I’d write something since I can’t find any reviews of this bike online."
                        }
                      ],
                      "sentiment": "mixed",
                      "warnings": []
                    },
                    "modelVersion": "2022-11-01"
                  },
                  "5": {
                    "detectedLanguage": {
                      "language": "en",
                      "score": 1
                    },
                    "translations": [
                      {
                        "text": "REI seemed to crank another more than decent MTB under the new co-op brand. The geometry follows today’s trends and just riding the around, it pretty solid. I couldn’t find any info on these WTB RSi40 rims, but I’m kinda liking the 2.8 wheels on a 27.5. I also got the wheels converted to tubeless for free in the store (although I did have to buy valve stems and sealant). I don’t have a lot of ride time yet but thought I’d write something since I can’t find any reviews of this bike online.",
                        "to": "en"
                      }
                    ]
                  },
                  "6": "mixed",
                  "7": "0.7",
                  "8": "0.13",
                  "9": "0.16"
                },
                {
                  "0": "Mountain-200",
                  "1": "4",
                  "2": "Great bike to upgrade",
                  "3": "I've ridden bikes for years, however not so much Full Suspension trail bikes. I liked this bike simply because of the frame and color. It comes equipped with everything you need to hit the trails. I recently took out the stock tires and added Maxxis DHR II and DHF (Tubeless) just by doing that the bike traction has been great. I've had the bike for over a month and absolutely love it. With that said I would give it a 3.5/5 just because it's more of a bike to upgrade with rather than sticking with the stocked parts. My chain got stiff links just within a couple weeks. Front and rear shocks are just fine.",
                  "4": {
                    "document": {
                      "confidenceScores": {
                        "negative": 0,
                        "neutral": 0.02,
                        "positive": 0.97
                      },
                      "id": "7",
                      "sentences": [
                        {
                          "confidenceScores": {
                            "negative": 0.01,
                            "neutral": 0.99,
                            "positive": 0.01
                          },
                          "length": 78,
                          "offset": 0,
                          "sentiment": "neutral",
                          "text": "I've ridden bikes for years, however not so much Full Suspension trail bikes. "
                        },
                        {
                          "confidenceScores": {
                            "negative": 0,
                            "neutral": 0,
                            "positive": 1
                          },
                          "length": 57,
                          "offset": 78,
                          "sentiment": "positive",
                          "text": "I liked this bike simply because of the frame and color. "
                        },
                        {
                          "confidenceScores": {
                            "negative": 0,
                            "neutral": 0.97,
                            "positive": 0.03
                          },
                          "length": 62,
                          "offset": 135,
                          "sentiment": "neutral",
                          "text": "It comes equipped with everything you need to hit the trails. "
                        },
                        {
                          "confidenceScores": {
                            "negative": 0,
                            "neutral": 0.01,
                            "positive": 0.99
                          },
                          "length": 132,
                          "offset": 197,
                          "sentiment": "positive",
                          "text": "I recently took out the stock tires and added Maxxis DHR II and DHF (Tubeless) just by doing that the bike traction has been great. "
                        },
                        {
                          "confidenceScores": {
                            "negative": 0,
                            "neutral": 0,
                            "positive": 1
                          },
                          "length": 59,
                          "offset": 329,
                          "sentiment": "positive",
                          "text": "I've had the bike for over a month and absolutely love it. "
                        },
                        {
                          "confidenceScores": {
                            "negative": 0.01,
                            "neutral": 0.97,
                            "positive": 0.02
                          },
                          "length": 133,
                          "offset": 388,
                          "sentiment": "neutral",
                          "text": "With that said I would give it a 3.5/5 just because it's more of a bike to upgrade with rather than sticking with the stocked parts. "
                        },
                        {
                          "confidenceScores": {
                            "negative": 0,
                            "neutral": 1,
                            "positive": 0
                          },
                          "length": 53,
                          "offset": 521,
                          "sentiment": "neutral",
                          "text": "My chain got stiff links just within a couple weeks. "
                        },
                        {
                          "confidenceScores": {
                            "negative": 0.01,
                            "neutral": 0.08,
                            "positive": 0.9
                          },
                          "length": 36,
                          "offset": 574,
                          "sentiment": "positive",
                          "text": "Front and rear shocks are just fine."
                        }
                      ],
                      "sentiment": "positive",
                      "warnings": []
                    },
                    "modelVersion": "2022-11-01"
                  },
                  "5": {
                    "detectedLanguage": {
                      "language": "en",
                      "score": 1
                    },
                    "translations": [
                      {
                        "text": "I've ridden bikes for years, however not so much Full Suspension trail bikes. I liked this bike simply because of the frame and color. It comes equipped with everything you need to hit the trails. I recently took out the stock tires and added Maxxis DHR II and DHF (Tubeless) just by doing that the bike traction has been great. I've had the bike for over a month and absolutely love it. With that said I would give it a 3.5/5 just because it's more of a bike to upgrade with rather than sticking with the stocked parts. My chain got stiff links just within a couple weeks. Front and rear shocks are just fine.",
                        "to": "en"
                      }
                    ]
                  },
                  "6": "positive",
                  "7": "0.97",
                  "8": "0.02",
                  "9": "0.0"
                },
                {
                  "0": "Mountain-200",
                  "1": "5",
                  "2": "Solid Bike for the Price",
                  "3": "Extremely smooth and solid bike, other users complaining about shock noise have the rebound adjust on (turtle) which is obviously slow which causes the air to move slower through the internal valve of the shock causing noise. When set on (rabbit) the shocks are quiet and smooth. Frame is very comfortable with a drastic rake aft. With the clutch engaged the drivetrain is quiet over obstacles. Overall it is a great bike for the price. This is my second REI Co-Op bike, always love there sophisticated color schemes --- Thanks for making good looking Bikes REI!",
                  "4": {
                    "document": {
                      "confidenceScores": {
                        "negative": 0.25,
                        "neutral": 0,
                        "positive": 0.75
                      },
                      "id": "8",
                      "sentences": [
                        {
                          "confidenceScores": {
                            "negative": 0.98,
                            "neutral": 0,
                            "positive": 0.01
                          },
                          "length": 226,
                          "offset": 0,
                          "sentiment": "negative",
                          "text": "Extremely smooth and solid bike, other users complaining about shock noise have the rebound adjust on (turtle) which is obviously slow which causes the air to move slower through the internal valve of the shock causing noise. "
                        },
                        {
                          "confidenceScores": {
                            "negative": 0,
                            "neutral": 0.85,
                            "positive": 0.14
                          },
                          "length": 54,
                          "offset": 226,
                          "sentiment": "neutral",
                          "text": "When set on (rabbit) the shocks are quiet and smooth. "
                        },
                        {
                          "confidenceScores": {
                            "negative": 0,
                            "neutral": 0,
                            "positive": 1
                          },
                          "length": 51,
                          "offset": 280,
                          "sentiment": "positive",
                          "text": "Frame is very comfortable with a drastic rake aft. "
                        },
                        {
                          "confidenceScores": {
                            "negative": 0.22,
                            "neutral": 0.71,
                            "positive": 0.06
                          },
                          "length": 64,
                          "offset": 331,
                          "sentiment": "neutral",
                          "text": "With the clutch engaged the drivetrain is quiet over obstacles. "
                        },
                        {
                          "confidenceScores": {
                            "negative": 0,
                            "neutral": 0,
                            "positive": 1
                          },
                          "length": 42,
                          "offset": 395,
                          "sentiment": "positive",
                          "text": "Overall it is a great bike for the price. "
                        },
                        {
                          "confidenceScores": {
                            "negative": 0,
                            "neutral": 0,
                            "positive": 1
                          },
                          "length": 125,
                          "offset": 437,
                          "sentiment": "positive",
                          "text": "This is my second REI Co-Op bike, always love there sophisticated color schemes --- Thanks for making good looking Bikes REI!"
                        }
                      ],
                      "sentiment": "mixed",
                      "warnings": []
                    },
                    "modelVersion": "2022-11-01"
                  },
                  "5": {
                    "detectedLanguage": {
                      "language": "en",
                      "score": 1
                    },
                    "translations": [
                      {
                        "text": "Extremely smooth and solid bike, other users complaining about shock noise have the rebound adjust on (turtle) which is obviously slow which causes the air to move slower through the internal valve of the shock causing noise. When set on (rabbit) the shocks are quiet and smooth. Frame is very comfortable with a drastic rake aft. With the clutch engaged the drivetrain is quiet over obstacles. Overall it is a great bike for the price. This is my second REI Co-Op bike, always love there sophisticated color schemes --- Thanks for making good looking Bikes REI!",
                        "to": "en"
                      }
                    ]
                  },
                  "6": "mixed",
                  "7": "0.75",
                  "8": "0.0",
                  "9": "0.25"
                },
                {
                  "0": "Mountain-200",
                  "1": "1",
                  "2": "Poor assembly; poor customer service",
                  "3": "I was excited to pick this up, drive from over 3 hours away as there are no reputable bike shops near me. When they wheeled it out I was thrilled. After advising I should purchase a pump for the air suspension, I had a simple question for the person at the bike shop desk. “I don’t know. I’m not a mountain biker.” Was how it was answered, with no follow up. Not exactly what I expected from an REI employee. Fast forward a month and about 8 hours of trail later, the bike is almost unusable. What may be a problem with the chain is causing slippage and near constant missed shifts. Brake caliper bolts were found to be loose, judging by loctite on the threads, it seems they were never torqued or even tightened. There is creaking coming from what may be the bottom bracket and excessive side to side play in the rear wheel. I still hope to get this bike dialed in and am disappointed I need to set aside a day to bring it back and get the chain issue taken care of, just to be able to get enough time on it to make a review of the actual product, as I suspect properly assembled it would rate a 4/5.",
                  "4": {
                    "document": {
                      "confidenceScores": {
                        "negative": 0.72,
                        "neutral": 0.07,
                        "positive": 0.21
                      },
                      "id": "9",
                      "sentences": [
                        {
                          "confidenceScores": {
                            "negative": 0.01,
                            "neutral": 0,
                            "positive": 0.99
                          },
                          "length": 106,
                          "offset": 0,
                          "sentiment": "positive",
                          "text": "I was excited to pick this up, drive from over 3 hours away as there are no reputable bike shops near me. "
                        },
                        {
                          "confidenceScores": {
                            "negative": 0.02,
                            "neutral": 0.11,
                            "positive": 0.87
                          },
                          "length": 41,
                          "offset": 106,
                          "sentiment": "positive",
                          "text": "When they wheeled it out I was thrilled. "
                        },
                        {
                          "confidenceScores": {
                            "negative": 0,
                            "neutral": 0.97,
                            "positive": 0.03
                          },
                          "length": 126,
                          "offset": 147,
                          "sentiment": "neutral",
                          "text": "After advising I should purchase a pump for the air suspension, I had a simple question for the person at the bike shop desk. "
                        },
                        {
                          "confidenceScores": {
                            "negative": 0.03,
                            "neutral": 0.97,
                            "positive": 0
                          },
                          "length": 15,
                          "offset": 273,
                          "sentiment": "neutral",
                          "text": "“I don’t know. "
                        },
                        {
                          "confidenceScores": {
                            "negative": 0.06,
                            "neutral": 0.94,
                            "positive": 0.01
                          },
                          "length": 27,
                          "offset": 288,
                          "sentiment": "neutral",
                          "text": "I’m not a mountain biker.” "
                        },
                        {
                          "confidenceScores": {
                            "negative": 0.57,
                            "neutral": 0.42,
                            "positive": 0
                          },
                          "length": 44,
                          "offset": 315,
                          "sentiment": "negative",
                          "text": "Was how it was answered, with no follow up. "
                        },
                        {
                          "confidenceScores": {
                            "negative": 0.88,
                            "neutral": 0.11,
                            "positive": 0.01
                          },
                          "length": 50,
                          "offset": 359,
                          "sentiment": "negative",
                          "text": "Not exactly what I expected from an REI employee. "
                        },
                        {
                          "confidenceScores": {
                            "negative": 0.98,
                            "neutral": 0.02,
                            "positive": 0
                          },
                          "length": 84,
                          "offset": 409,
                          "sentiment": "negative",
                          "text": "Fast forward a month and about 8 hours of trail later, the bike is almost unusable. "
                        },
                        {
                          "confidenceScores": {
                            "negative": 1,
                            "neutral": 0,
                            "positive": 0
                          },
                          "length": 90,
                          "offset": 493,
                          "sentiment": "negative",
                          "text": "What may be a problem with the chain is causing slippage and near constant missed shifts. "
                        },
                        {
                          "confidenceScores": {
                            "negative": 1,
                            "neutral": 0,
                            "positive": 0
                          },
                          "length": 131,
                          "offset": 583,
                          "sentiment": "negative",
                          "text": "Brake caliper bolts were found to be loose, judging by loctite on the threads, it seems they were never torqued or even tightened. "
                        },
                        {
                          "confidenceScores": {
                            "negative": 1,
                            "neutral": 0,
                            "positive": 0
                          },
                          "length": 112,
                          "offset": 714,
                          "sentiment": "negative",
                          "text": "There is creaking coming from what may be the bottom bracket and excessive side to side play in the rear wheel. "
                        },
                        {
                          "confidenceScores": {
                            "negative": 0.99,
                            "neutral": 0,
                            "positive": 0.01
                          },
                          "length": 275,
                          "offset": 826,
                          "sentiment": "negative",
                          "text": "I still hope to get this bike dialed in and am disappointed I need to set aside a day to bring it back and get the chain issue taken care of, just to be able to get enough time on it to make a review of the actual product, as I suspect properly assembled it would rate a 4/5."
                        }
                      ],
                      "sentiment": "mixed",
                      "warnings": []
                    },
                    "modelVersion": "2022-11-01"
                  },
                  "5": {
                    "detectedLanguage": {
                      "language": "en",
                      "score": 1
                    },
                    "translations": [
                      {
                        "text": "I was excited to pick this up, drive from over 3 hours away as there are no reputable bike shops near me. When they wheeled it out I was thrilled. After advising I should purchase a pump for the air suspension, I had a simple question for the person at the bike shop desk. “I don’t know. I’m not a mountain biker.” Was how it was answered, with no follow up. Not exactly what I expected from an REI employee. Fast forward a month and about 8 hours of trail later, the bike is almost unusable. What may be a problem with the chain is causing slippage and near constant missed shifts. Brake caliper bolts were found to be loose, judging by loctite on the threads, it seems they were never torqued or even tightened. There is creaking coming from what may be the bottom bracket and excessive side to side play in the rear wheel. I still hope to get this bike dialed in and am disappointed I need to set aside a day to bring it back and get the chain issue taken care of, just to be able to get enough time on it to make a review of the actual product, as I suspect properly assembled it would rate a 4/5.",
                        "to": "en"
                      }
                    ]
                  },
                  "6": "mixed",
                  "7": "0.21",
                  "8": "0.07",
                  "9": "0.72"
                },
                {
                  "0": "Mountain-200",
                  "1": "3",
                  "2": "Enjoyed but returned...",
                  "3": "Really fun bike, unfortunately the front shock has an extremely loud decompression noise. (Long unsquishing sound) This sound is non-stop thru roots. Friendly REI bike shop tried to remedy, elevated to the senior tech who finally decided it was a 'Normal' shock noise. Just too loud, well the shock and your buddies laughing at you! With the rest of the bike was really great, sad to return.",
                  "4": {
                    "document": {
                      "confidenceScores": {
                        "negative": 0.95,
                        "neutral": 0,
                        "positive": 0.05
                      },
                      "id": "0",
                      "sentences": [
                        {
                          "confidenceScores": {
                            "negative": 0.95,
                            "neutral": 0,
                            "positive": 0.05
                          },
                          "length": 90,
                          "offset": 0,
                          "sentiment": "negative",
                          "text": "Really fun bike, unfortunately the front shock has an extremely loud decompression noise. "
                        },
                        {
                          "confidenceScores": {
                            "negative": 0.35,
                            "neutral": 0.58,
                            "positive": 0.07
                          },
                          "length": 25,
                          "offset": 90,
                          "sentiment": "neutral",
                          "text": "(Long unsquishing sound) "
                        },
                        {
                          "confidenceScores": {
                            "negative": 0.02,
                            "neutral": 0.97,
                            "positive": 0.01
                          },
                          "length": 35,
                          "offset": 115,
                          "sentiment": "neutral",
                          "text": "This sound is non-stop thru roots. "
                        },
                        {
                          "confidenceScores": {
                            "negative": 0.87,
                            "neutral": 0,
                            "positive": 0.12
                          },
                          "length": 119,
                          "offset": 150,
                          "sentiment": "negative",
                          "text": "Friendly REI bike shop tried to remedy, elevated to the senior tech who finally decided it was a 'Normal' shock noise. "
                        },
                        {
                          "confidenceScores": {
                            "negative": 0.99,
                            "neutral": 0,
                            "positive": 0.01
                          },
                          "length": 64,
                          "offset": 269,
                          "sentiment": "negative",
                          "text": "Just too loud, well the shock and your buddies laughing at you! "
                        },
                        {
                          "confidenceScores": {
                            "negative": 0.99,
                            "neutral": 0,
                            "positive": 0.01
                          },
                          "length": 58,
                          "offset": 333,
                          "sentiment": "negative",
                          "text": "With the rest of the bike was really great, sad to return."
                        }
                      ],
                      "sentiment": "negative",
                      "warnings": []
                    },
                    "modelVersion": "2022-11-01"
                  },
                  "5": {
                    "detectedLanguage": {
                      "language": "en",
                      "score": 1
                    },
                    "translations": [
                      {
                        "text": "Really fun bike, unfortunately the front shock has an extremely loud decompression noise. (Long unsquishing sound) This sound is non-stop thru roots. Friendly REI bike shop tried to remedy, elevated to the senior tech who finally decided it was a 'Normal' shock noise. Just too loud, well the shock and your buddies laughing at you! With the rest of the bike was really great, sad to return.",
                        "to": "en"
                      }
                    ]
                  },
                  "6": "negative",
                  "7": "0.05",
                  "8": "0.0",
                  "9": "0.95"
                },
                {
                  "0": "Mountain-200",
                  "1": "3",
                  "2": "Good base for upgrades",
                  "3": "Overall handling is very good and especially shines when going downhill. Lots of climbing traction but a bit on the heavy side. Handlebar is narrower (740) than I'm used to (780) which in theory should make riding through tight trees.easier, but in practice the longer bar is easier to control anyway so it's easier to lean the bike to fit through. The gear range is quite limited with only 28 front and 11-42 in the back. The brakes would probably be the first to get upgraded. Nowhere near the 1-finger ease and strong bite of the XT brakes I have on my older bike. The rear shock's metal valve sticks out just enough where you can hit your knee or thigh on it on dismounts. I have already scratched my thigh on it on the first ride. The metal is pretty sharp and is also a problem on the 3.2 bike which is basically the same frame. My son has also cut his knee on the shock valve of his 3.2. The front fork makes a loud squishing sound on quick decompression which you will hear when lifting up the front wheel to ride over logs for example. Not really that bothersome amidst all the sounds of riding on the trail. At least the tires roll relatively quietly. The cable routing with the big hanging loop under the bottom bracket looks like it could snag on rocks or logs. Haven't been a problem so far but the cables do catch a lot of mud and dirt. This is the same frame (and tires and rear shock and seatpost and seat and handlebars) as the 3.2 bike. It has modern frame geometry that would be a good base for upgrades. If you're thinking of upgrading to better than the 3.2 spec or you just like the grey/black color better, this would be the better option. If you don't have upgrade plans, the 3.2 bike would be the better choice. I think the price difference easily justifies the much better fork, and the better gearing and brakes.",
                  "4": {
                    "document": {
                      "confidenceScores": {
                        "negative": 0.3,
                        "neutral": 0.04,
                        "positive": 0.66
                      },
                      "id": "1",
                      "sentences": [
                        {
                          "confidenceScores": {
                            "negative": 0,
                            "neutral": 0,
                            "positive": 1
                          },
                          "length": 73,
                          "offset": 0,
                          "sentiment": "positive",
                          "text": "Overall handling is very good and especially shines when going downhill. "
                        },
                        {
                          "confidenceScores": {
                            "negative": 0.36,
                            "neutral": 0.63,
                            "positive": 0.01
                          },
                          "length": 55,
                          "offset": 73,
                          "sentiment": "neutral",
                          "text": "Lots of climbing traction but a bit on the heavy side. "
                        },
                        {
                          "confidenceScores": {
                            "negative": 0,
                            "neutral": 0,
                            "positive": 1
                          },
                          "length": 221,
                          "offset": 128,
                          "sentiment": "positive",
                          "text": "Handlebar is narrower (740) than I'm used to (780) which in theory should make riding through tight trees.easier, but in practice the longer bar is easier to control anyway so it's easier to lean the bike to fit through. "
                        },
                        {
                          "confidenceScores": {
                            "negative": 0.05,
                            "neutral": 0.94,
                            "positive": 0
                          },
                          "length": 74,
                          "offset": 349,
                          "sentiment": "neutral",
                          "text": "The gear range is quite limited with only 28 front and 11-42 in the back. "
                        },
                        {
                          "confidenceScores": {
                            "negative": 0.01,
                            "neutral": 0.96,
                            "positive": 0.03
                          },
                          "length": 56,
                          "offset": 423,
                          "sentiment": "neutral",
                          "text": "The brakes would probably be the first to get upgraded. "
                        },
                        {
                          "confidenceScores": {
                            "negative": 0.02,
                            "neutral": 0.05,
                            "positive": 0.93
                          },
                          "length": 89,
                          "offset": 479,
                          "sentiment": "positive",
                          "text": "Nowhere near the 1-finger ease and strong bite of the XT brakes I have on my older bike. "
                        },
                        {
                          "confidenceScores": {
                            "negative": 0.23,
                            "neutral": 0.75,
                            "positive": 0.02
                          },
                          "length": 109,
                          "offset": 568,
                          "sentiment": "neutral",
                          "text": "The rear shock's metal valve sticks out just enough where you can hit your knee or thigh on it on dismounts. "
                        },
                        {
                          "confidenceScores": {
                            "negative": 0.03,
                            "neutral": 0.97,
                            "positive": 0
                          },
                          "length": 59,
                          "offset": 677,
                          "sentiment": "neutral",
                          "text": "I have already scratched my thigh on it on the first ride. "
                        },
                        {
                          "confidenceScores": {
                            "negative": 1,
                            "neutral": 0,
                            "positive": 0
                          },
                          "length": 99,
                          "offset": 736,
                          "sentiment": "negative",
                          "text": "The metal is pretty sharp and is also a problem on the 3.2 bike which is basically the same frame. "
                        },
                        {
                          "confidenceScores": {
                            "negative": 0.2,
                            "neutral": 0.8,
                            "positive": 0
                          },
                          "length": 60,
                          "offset": 835,
                          "sentiment": "neutral",
                          "text": "My son has also cut his knee on the shock valve of his 3.2. "
                        },
                        {
                          "confidenceScores": {
                            "negative": 0.77,
                            "neutral": 0.1,
                            "positive": 0.13
                          },
                          "length": 150,
                          "offset": 895,
                          "sentiment": "negative",
                          "text": "The front fork makes a loud squishing sound on quick decompression which you will hear when lifting up the front wheel to ride over logs for example. "
                        },
                        {
                          "confidenceScores": {
                            "negative": 0.8,
                            "neutral": 0.05,
                            "positive": 0.15
                          },
                          "length": 73,
                          "offset": 1045,
                          "sentiment": "negative",
                          "text": "Not really that bothersome amidst all the sounds of riding on the trail. "
                        },
                        {
                          "confidenceScores": {
                            "negative": 0,
                            "neutral": 0.99,
                            "positive": 0
                          },
                          "length": 44,
                          "offset": 1118,
                          "sentiment": "neutral",
                          "text": "At least the tires roll relatively quietly. "
                        },
                        {
                          "confidenceScores": {
                            "negative": 0.2,
                            "neutral": 0.79,
                            "positive": 0.01
                          },
                          "length": 112,
                          "offset": 1162,
                          "sentiment": "neutral",
                          "text": "The cable routing with the big hanging loop under the bottom bracket looks like it could snag on rocks or logs. "
                        },
                        {
                          "confidenceScores": {
                            "negative": 0.69,
                            "neutral": 0.12,
                            "positive": 0.18
                          },
                          "length": 77,
                          "offset": 1274,
                          "sentiment": "negative",
                          "text": "Haven't been a problem so far but the cables do catch a lot of mud and dirt. "
                        },
                        {
                          "confidenceScores": {
                            "negative": 0.31,
                            "neutral": 0.69,
                            "positive": 0
                          },
                          "length": 104,
                          "offset": 1351,
                          "sentiment": "neutral",
                          "text": "This is the same frame (and tires and rear shock and seatpost and seat and handlebars) as the 3.2 bike. "
                        },
                        {
                          "confidenceScores": {
                            "negative": 0,
                            "neutral": 0.01,
                            "positive": 0.99
                          },
                          "length": 69,
                          "offset": 1455,
                          "sentiment": "positive",
                          "text": "It has modern frame geometry that would be a good base for upgrades. "
                        },
                        {
                          "confidenceScores": {
                            "negative": 0,
                            "neutral": 0,
                            "positive": 0.99
                          },
                          "length": 139,
                          "offset": 1524,
                          "sentiment": "positive",
                          "text": "If you're thinking of upgrading to better than the 3.2 spec or you just like the grey/black color better, this would be the better option. "
                        },
                        {
                          "confidenceScores": {
                            "negative": 0.03,
                            "neutral": 0.03,
                            "positive": 0.93
                          },
                          "length": 74,
                          "offset": 1663,
                          "sentiment": "positive",
                          "text": "If you don't have upgrade plans, the 3.2 bike would be the better choice. "
                        },
                        {
                          "confidenceScores": {
                            "negative": 0,
                            "neutral": 0,
                            "positive": 1
                          },
                          "length": 102,
                          "offset": 1737,
                          "sentiment": "positive",
                          "text": "I think the price difference easily justifies the much better fork, and the better gearing and brakes."
                        }
                      ],
                      "sentiment": "mixed",
                      "warnings": []
                    },
                    "modelVersion": "2022-11-01"
                  },
                  "5": {
                    "detectedLanguage": {
                      "language": "en",
                      "score": 1
                    },
                    "translations": [
                      {
                        "text": "Overall handling is very good and especially shines when going downhill. Lots of climbing traction but a bit on the heavy side. Handlebar is narrower (740) than I'm used to (780) which in theory should make riding through tight trees.easier, but in practice the longer bar is easier to control anyway so it's easier to lean the bike to fit through. The gear range is quite limited with only 28 front and 11-42 in the back. The brakes would probably be the first to get upgraded. Nowhere near the 1-finger ease and strong bite of the XT brakes I have on my older bike. The rear shock's metal valve sticks out just enough where you can hit your knee or thigh on it on dismounts. I have already scratched my thigh on it on the first ride. The metal is pretty sharp and is also a problem on the 3.2 bike which is basically the same frame. My son has also cut his knee on the shock valve of his 3.2. The front fork makes a loud squishing sound on quick decompression which you will hear when lifting up the front wheel to ride over logs for example. Not really that bothersome amidst all the sounds of riding on the trail. At least the tires roll relatively quietly. The cable routing with the big hanging loop under the bottom bracket looks like it could snag on rocks or logs. Haven't been a problem so far but the cables do catch a lot of mud and dirt. This is the same frame (and tires and rear shock and seatpost and seat and handlebars) as the 3.2 bike. It has modern frame geometry that would be a good base for upgrades. If you're thinking of upgrading to better than the 3.2 spec or you just like the grey/black color better, this would be the better option. If you don't have upgrade plans, the 3.2 bike would be the better choice. I think the price difference easily justifies the much better fork, and the better gearing and brakes.",
                        "to": "en"
                      }
                    ]
                  },
                  "6": "mixed",
                  "7": "0.66",
                  "8": "0.04",
                  "9": "0.3"
                },
                {
                  "0": "Mountain-200",
                  "1": "4",
                  "2": "Good Bike BUT had to swap it",
                  "3": "\"First, the bike is great. But the first one I bought started making a creaking/squeaking sound within the first 20 minutes on the very first ride (I bought it and then immediately went riding). I brought it to the store and the bike shop mechanics were awesome and completely went through the bike and tried different remedies to fix the annoying creaking sound. After another ride and still having to listen to the creaking I had to swap that particular bike for another one of the same model. After 30+ miles on the new bike, no creaking. After reading some of the other reviews, it \"\"sounds\"\" like this model has a noise issue. So be warned/prepared. The bike has been the best bike I have ever owned and the riding has been the best ever with this bike. I can blast up and down hills that I couldn't with my hardtail. I love the gearing and the shifters are great. It gets 4/5 due to the fact that the bike had some small issues that couldn't get worked out combined with the fact that others are having similar issues.\"",
                  "4": {
                    "document": {
                      "confidenceScores": {
                        "negative": 0.55,
                        "neutral": 0.11,
                        "positive": 0.33
                      },
                      "id": "2",
                      "sentences": [
                        {
                          "confidenceScores": {
                            "negative": 0,
                            "neutral": 0.01,
                            "positive": 0.99
                          },
                          "length": 27,
                          "offset": 0,
                          "sentiment": "positive",
                          "text": "\"First, the bike is great. "
                        },
                        {
                          "confidenceScores": {
                            "negative": 0.87,
                            "neutral": 0.13,
                            "positive": 0
                          },
                          "length": 168,
                          "offset": 27,
                          "sentiment": "negative",
                          "text": "But the first one I bought started making a creaking/squeaking sound within the first 20 minutes on the very first ride (I bought it and then immediately went riding). "
                        },
                        {
                          "confidenceScores": {
                            "negative": 0.99,
                            "neutral": 0,
                            "positive": 0.01
                          },
                          "length": 169,
                          "offset": 195,
                          "sentiment": "negative",
                          "text": "I brought it to the store and the bike shop mechanics were awesome and completely went through the bike and tried different remedies to fix the annoying creaking sound. "
                        },
                        {
                          "confidenceScores": {
                            "negative": 0.57,
                            "neutral": 0.42,
                            "positive": 0
                          },
                          "length": 132,
                          "offset": 364,
                          "sentiment": "negative",
                          "text": "After another ride and still having to listen to the creaking I had to swap that particular bike for another one of the same model. "
                        },
                        {
                          "confidenceScores": {
                            "negative": 0.03,
                            "neutral": 0.85,
                            "positive": 0.12
                          },
                          "length": 46,
                          "offset": 496,
                          "sentiment": "neutral",
                          "text": "After 30+ miles on the new bike, no creaking. "
                        },
                        {
                          "confidenceScores": {
                            "negative": 1,
                            "neutral": 0,
                            "positive": 0
                          },
                          "length": 90,
                          "offset": 542,
                          "sentiment": "negative",
                          "text": "After reading some of the other reviews, it \"\"sounds\"\" like this model has a noise issue. "
                        },
                        {
                          "confidenceScores": {
                            "negative": 0.63,
                            "neutral": 0.37,
                            "positive": 0
                          },
                          "length": 23,
                          "offset": 632,
                          "sentiment": "negative",
                          "text": "So be warned/prepared. "
                        },
                        {
                          "confidenceScores": {
                            "negative": 0,
                            "neutral": 0,
                            "positive": 1
                          },
                          "length": 104,
                          "offset": 655,
                          "sentiment": "positive",
                          "text": "The bike has been the best bike I have ever owned and the riding has been the best ever with this bike. "
                        },
                        {
                          "confidenceScores": {
                            "negative": 0.14,
                            "neutral": 0.86,
                            "positive": 0
                          },
                          "length": 64,
                          "offset": 759,
                          "sentiment": "neutral",
                          "text": "I can blast up and down hills that I couldn't with my hardtail. "
                        },
                        {
                          "confidenceScores": {
                            "negative": 0,
                            "neutral": 0,
                            "positive": 1
                          },
                          "length": 47,
                          "offset": 823,
                          "sentiment": "positive",
                          "text": "I love the gearing and the shifters are great. "
                        },
                        {
                          "confidenceScores": {
                            "negative": 0.9,
                            "neutral": 0.1,
                            "positive": 0
                          },
                          "length": 155,
                          "offset": 870,
                          "sentiment": "negative",
                          "text": "It gets 4/5 due to the fact that the bike had some small issues that couldn't get worked out combined with the fact that others are having similar issues.\""
                        }
                      ],
                      "sentiment": "mixed",
                      "warnings": []
                    },
                    "modelVersion": "2022-11-01"
                  },
                  "5": {
                    "detectedLanguage": {
                      "language": "en",
                      "score": 1
                    },
                    "translations": [
                      {
                        "text": "\"First, the bike is great. But the first one I bought started making a creaking/squeaking sound within the first 20 minutes on the very first ride (I bought it and then immediately went riding). I brought it to the store and the bike shop mechanics were awesome and completely went through the bike and tried different remedies to fix the annoying creaking sound. After another ride and still having to listen to the creaking I had to swap that particular bike for another one of the same model. After 30+ miles on the new bike, no creaking. After reading some of the other reviews, it \"\"sounds\"\" like this model has a noise issue. So be warned/prepared. The bike has been the best bike I have ever owned and the riding has been the best ever with this bike. I can blast up and down hills that I couldn't with my hardtail. I love the gearing and the shifters are great. It gets 4/5 due to the fact that the bike had some small issues that couldn't get worked out combined with the fact that others are having similar issues.\"",
                        "to": "en"
                      }
                    ]
                  },
                  "6": "mixed",
                  "7": "0.33",
                  "8": "0.11",
                  "9": "0.55"
                },
                {
                  "0": "Mountain-400-W",
                  "1": "3",
                  "2": "correction on specs",
                  "3": "\"Cannondale website says the shifters are 3x7 \"\"Shimano Rapidfire Plus",
                  "4": {
                    "document": {
                      "confidenceScores": {
                        "negative": 0,
                        "neutral": 0.99,
                        "positive": 0
                      },
                      "id": "3",
                      "sentences": [
                        {
                          "confidenceScores": {
                            "negative": 0,
                            "neutral": 0.99,
                            "positive": 0
                          },
                          "length": 70,
                          "offset": 0,
                          "sentiment": "neutral",
                          "text": "\"Cannondale website says the shifters are 3x7 \"\"Shimano Rapidfire Plus"
                        }
                      ],
                      "sentiment": "neutral",
                      "warnings": []
                    },
                    "modelVersion": "2022-11-01"
                  },
                  "5": {
                    "detectedLanguage": {
                      "language": "en",
                      "score": 1
                    },
                    "translations": [
                      {
                        "text": "\"Cannondale website says the shifters are 3x7 \"\"Shimano Rapidfire Plus",
                        "to": "en"
                      }
                    ]
                  },
                  "6": "neutral",
                  "7": "0.0",
                  "8": "0.99",
                  "9": "0.0"
                },
                {
                  "0": "Mountain-400-W",
                  "1": "4",
                  "2": "Great bike!",
                  "3": "This bike is amazing, it's a smoth ride and ready for adventure!",
                  "4": {
                    "document": {
                      "confidenceScores": {
                        "negative": 0,
                        "neutral": 0,
                        "positive": 1
                      },
                      "id": "4",
                      "sentences": [
                        {
                          "confidenceScores": {
                            "negative": 0,
                            "neutral": 0,
                            "positive": 1
                          },
                          "length": 64,
                          "offset": 0,
                          "sentiment": "positive",
                          "text": "This bike is amazing, it's a smoth ride and ready for adventure!"
                        }
                      ],
                      "sentiment": "positive",
                      "warnings": []
                    },
                    "modelVersion": "2022-11-01"
                  },
                  "5": {
                    "detectedLanguage": {
                      "language": "en",
                      "score": 1
                    },
                    "translations": [
                      {
                        "text": "This bike is amazing, it's a smoth ride and ready for adventure!",
                        "to": "en"
                      }
                    ]
                  },
                  "6": "positive",
                  "7": "1.0",
                  "8": "0.0",
                  "9": "0.0"
                },
                {
                  "0": "Mountain-500",
                  "1": "4",
                  "2": "Hidden gem",
                  "3": "Nice bike just needs a few little tweeks to be really nice",
                  "4": {
                    "document": {
                      "confidenceScores": {
                        "negative": 0,
                        "neutral": 0,
                        "positive": 1
                      },
                      "id": "5",
                      "sentences": [
                        {
                          "confidenceScores": {
                            "negative": 0,
                            "neutral": 0,
                            "positive": 1
                          },
                          "length": 58,
                          "offset": 0,
                          "sentiment": "positive",
                          "text": "Nice bike just needs a few little tweeks to be really nice"
                        }
                      ],
                      "sentiment": "positive",
                      "warnings": []
                    },
                    "modelVersion": "2022-11-01"
                  },
                  "5": {
                    "detectedLanguage": {
                      "language": "en",
                      "score": 1
                    },
                    "translations": [
                      {
                        "text": "Nice bike just needs a few little tweeks to be really nice",
                        "to": "en"
                      }
                    ]
                  },
                  "6": "positive",
                  "7": "1.0",
                  "8": "0.0",
                  "9": "0.0"
                },
                {
                  "0": "Mountain-500",
                  "1": "5",
                  "2": "The start of a long and beautiful friendship . . .",
                  "3": "Love this bike. I had originally planned to get the version down, and ultimately at the last minute decided to get the Eagle. No regrets - have already used that gear multiple times doing some of the gnarly climbs in the Santa Monica mountains. Great bike! Have done 3,000 foot climbs followed by technical downhills. Easy to use, lots of fun. So far I'm loving it! Lots of adventures to come.",
                  "4": {
                    "document": {
                      "confidenceScores": {
                        "negative": 0.02,
                        "neutral": 0.01,
                        "positive": 0.97
                      },
                      "id": "6",
                      "sentences": [
                        {
                          "confidenceScores": {
                            "negative": 0,
                            "neutral": 0,
                            "positive": 1
                          },
                          "length": 16,
                          "offset": 0,
                          "sentiment": "positive",
                          "text": "Love this bike. "
                        },
                        {
                          "confidenceScores": {
                            "negative": 0.02,
                            "neutral": 0.98,
                            "positive": 0.01
                          },
                          "length": 110,
                          "offset": 16,
                          "sentiment": "neutral",
                          "text": "I had originally planned to get the version down, and ultimately at the last minute decided to get the Eagle. "
                        },
                        {
                          "confidenceScores": {
                            "negative": 0.1,
                            "neutral": 0.01,
                            "positive": 0.89
                          },
                          "length": 119,
                          "offset": 126,
                          "sentiment": "positive",
                          "text": "No regrets - have already used that gear multiple times doing some of the gnarly climbs in the Santa Monica mountains. "
                        },
                        {
                          "confidenceScores": {
                            "negative": 0,
                            "neutral": 0,
                            "positive": 1
                          },
                          "length": 12,
                          "offset": 245,
                          "sentiment": "positive",
                          "text": "Great bike! "
                        },
                        {
                          "confidenceScores": {
                            "negative": 0,
                            "neutral": 1,
                            "positive": 0
                          },
                          "length": 61,
                          "offset": 257,
                          "sentiment": "neutral",
                          "text": "Have done 3,000 foot climbs followed by technical downhills. "
                        },
                        {
                          "confidenceScores": {
                            "negative": 0,
                            "neutral": 0,
                            "positive": 1
                          },
                          "length": 26,
                          "offset": 318,
                          "sentiment": "positive",
                          "text": "Easy to use, lots of fun. "
                        },
                        {
                          "confidenceScores": {
                            "negative": 0,
                            "neutral": 0,
                            "positive": 1
                          },
                          "length": 22,
                          "offset": 344,
                          "sentiment": "positive",
                          "text": "So far I'm loving it! "
                        },
                        {
                          "confidenceScores": {
                            "negative": 0.01,
                            "neutral": 0.04,
                            "positive": 0.96
                          },
                          "length": 27,
                          "offset": 366,
                          "sentiment": "positive",
                          "text": "Lots of adventures to come."
                        }
                      ],
                      "sentiment": "positive",
                      "warnings": []
                    },
                    "modelVersion": "2022-11-01"
                  },
                  "5": {
                    "detectedLanguage": {
                      "language": "en",
                      "score": 1
                    },
                    "translations": [
                      {
                        "text": "Love this bike. I had originally planned to get the version down, and ultimately at the last minute decided to get the Eagle. No regrets - have already used that gear multiple times doing some of the gnarly climbs in the Santa Monica mountains. Great bike! Have done 3,000 foot climbs followed by technical downhills. Easy to use, lots of fun. So far I'm loving it! Lots of adventures to come.",
                        "to": "en"
                      }
                    ]
                  },
                  "6": "positive",
                  "7": "0.97",
                  "8": "0.01",
                  "9": "0.02"
                },
                {
                  "0": "Mountain-500",
                  "1": "5",
                  "2": "Great trail bike",
                  "3": "Shaved minutes off usual loops, sold 29er and other bikes. Climbs like a scalded monkey and descends unbelievabley! No disappointments!",
                  "4": {
                    "document": {
                      "confidenceScores": {
                        "negative": 0.08,
                        "neutral": 0.05,
                        "positive": 0.87
                      },
                      "id": "7",
                      "sentences": [
                        {
                          "confidenceScores": {
                            "negative": 0.05,
                            "neutral": 0.91,
                            "positive": 0.04
                          },
                          "length": 59,
                          "offset": 0,
                          "sentiment": "neutral",
                          "text": "Shaved minutes off usual loops, sold 29er and other bikes. "
                        },
                        {
                          "confidenceScores": {
                            "negative": 0.03,
                            "neutral": 0.07,
                            "positive": 0.9
                          },
                          "length": 57,
                          "offset": 59,
                          "sentiment": "positive",
                          "text": "Climbs like a scalded monkey and descends unbelievabley! "
                        },
                        {
                          "confidenceScores": {
                            "negative": 0.14,
                            "neutral": 0.02,
                            "positive": 0.84
                          },
                          "length": 19,
                          "offset": 116,
                          "sentiment": "positive",
                          "text": "No disappointments!"
                        }
                      ],
                      "sentiment": "positive",
                      "warnings": []
                    },
                    "modelVersion": "2022-11-01"
                  },
                  "5": {
                    "detectedLanguage": {
                      "language": "en",
                      "score": 1
                    },
                    "translations": [
                      {
                        "text": "Shaved minutes off usual loops, sold 29er and other bikes. Climbs like a scalded monkey and descends unbelievabley! No disappointments!",
                        "to": "en"
                      }
                    ]
                  },
                  "6": "positive",
                  "7": "0.87",
                  "8": "0.05",
                  "9": "0.08"
                },
                {
                  "0": "Mountain-500",
                  "1": "4",
                  "2": "Great bike, but check for damage when you pick up",
                  "3": "Treated myself to NX Eagle better spec version and love it. 1x is a revelation. Plenty of range allowing you to climb the side of a house if you want! The bike really rolls and the plus tires are confidence building. I foolishly didn’t properly check the bike when I picked it up so didn’t notice the chipped frame down by the rear dropout. Once I took it home there’s no way I could prove it wasn’t me (it wasn’t). Sure, the bike will (hopefully) get scratched and dinged on all the adventures I’ll have, but it’s good to start with a clean slate, especially when you’re dropping $2k on a ride. Anyway, as Salsa don’t sell touch up paints (why not?) I went to Michael’s and bought a basic enamel paint set. Mixed up the color to match and boom. All fixed! So, don’t be a giddy noob; ALWAYS check your bike purchases!",
                  "4": {
                    "document": {
                      "confidenceScores": {
                        "negative": 0.46,
                        "neutral": 0.13,
                        "positive": 0.4
                      },
                      "id": "8",
                      "sentences": [
                        {
                          "confidenceScores": {
                            "negative": 0,
                            "neutral": 0,
                            "positive": 1
                          },
                          "length": 60,
                          "offset": 0,
                          "sentiment": "positive",
                          "text": "Treated myself to NX Eagle better spec version and love it. "
                        },
                        {
                          "confidenceScores": {
                            "negative": 0,
                            "neutral": 0.75,
                            "positive": 0.25
                          },
                          "length": 20,
                          "offset": 60,
                          "sentiment": "neutral",
                          "text": "1x is a revelation. "
                        },
                        {
                          "confidenceScores": {
                            "negative": 0,
                            "neutral": 0.89,
                            "positive": 0.1
                          },
                          "length": 71,
                          "offset": 80,
                          "sentiment": "neutral",
                          "text": "Plenty of range allowing you to climb the side of a house if you want! "
                        },
                        {
                          "confidenceScores": {
                            "negative": 0,
                            "neutral": 0.44,
                            "positive": 0.55
                          },
                          "length": 66,
                          "offset": 151,
                          "sentiment": "positive",
                          "text": "The bike really rolls and the plus tires are confidence building. "
                        },
                        {
                          "confidenceScores": {
                            "negative": 1,
                            "neutral": 0,
                            "positive": 0
                          },
                          "length": 124,
                          "offset": 217,
                          "sentiment": "negative",
                          "text": "I foolishly didn’t properly check the bike when I picked it up so didn’t notice the chipped frame down by the rear dropout. "
                        },
                        {
                          "confidenceScores": {
                            "negative": 0.98,
                            "neutral": 0.02,
                            "positive": 0
                          },
                          "length": 75,
                          "offset": 341,
                          "sentiment": "negative",
                          "text": "Once I took it home there’s no way I could prove it wasn’t me (it wasn’t). "
                        },
                        {
                          "confidenceScores": {
                            "negative": 0.19,
                            "neutral": 0.01,
                            "positive": 0.8
                          },
                          "length": 180,
                          "offset": 416,
                          "sentiment": "positive",
                          "text": "Sure, the bike will (hopefully) get scratched and dinged on all the adventures I’ll have, but it’s good to start with a clean slate, especially when you’re dropping $2k on a ride. "
                        },
                        {
                          "confidenceScores": {
                            "negative": 0.65,
                            "neutral": 0.34,
                            "positive": 0.01
                          },
                          "length": 55,
                          "offset": 596,
                          "sentiment": "negative",
                          "text": "Anyway, as Salsa don’t sell touch up paints (why not?) "
                        },
                        {
                          "confidenceScores": {
                            "negative": 0,
                            "neutral": 0.99,
                            "positive": 0
                          },
                          "length": 57,
                          "offset": 651,
                          "sentiment": "neutral",
                          "text": "I went to Michael’s and bought a basic enamel paint set. "
                        },
                        {
                          "confidenceScores": {
                            "negative": 0.01,
                            "neutral": 0.82,
                            "positive": 0.16
                          },
                          "length": 38,
                          "offset": 708,
                          "sentiment": "neutral",
                          "text": "Mixed up the color to match and boom. "
                        },
                        {
                          "confidenceScores": {
                            "negative": 0.03,
                            "neutral": 0.14,
                            "positive": 0.84
                          },
                          "length": 11,
                          "offset": 746,
                          "sentiment": "positive",
                          "text": "All fixed! "
                        },
                        {
                          "confidenceScores": {
                            "negative": 0.84,
                            "neutral": 0.13,
                            "positive": 0.04
                          },
                          "length": 27,
                          "offset": 757,
                          "sentiment": "negative",
                          "text": "So, don’t be a giddy noob; "
                        },
                        {
                          "confidenceScores": {
                            "negative": 0,
                            "neutral": 0.99,
                            "positive": 0.01
                          },
                          "length": 33,
                          "offset": 784,
                          "sentiment": "neutral",
                          "text": "ALWAYS check your bike purchases!"
                        }
                      ],
                      "sentiment": "mixed",
                      "warnings": []
                    },
                    "modelVersion": "2022-11-01"
                  },
                  "5": {
                    "detectedLanguage": {
                      "language": "en",
                      "score": 1
                    },
                    "translations": [
                      {
                        "text": "Treated myself to NX Eagle better spec version and love it. 1x is a revelation. Plenty of range allowing you to climb the side of a house if you want! The bike really rolls and the plus tires are confidence building. I foolishly didn’t properly check the bike when I picked it up so didn’t notice the chipped frame down by the rear dropout. Once I took it home there’s no way I could prove it wasn’t me (it wasn’t). Sure, the bike will (hopefully) get scratched and dinged on all the adventures I’ll have, but it’s good to start with a clean slate, especially when you’re dropping $2k on a ride. Anyway, as Salsa don’t sell touch up paints (why not?) I went to Michael’s and bought a basic enamel paint set. Mixed up the color to match and boom. All fixed! So, don’t be a giddy noob; ALWAYS check your bike purchases!",
                        "to": "en"
                      }
                    ]
                  },
                  "6": "mixed",
                  "7": "0.4",
                  "8": "0.13",
                  "9": "0.46"
                },
                {
                  "0": "Mountain-500",
                  "1": "4",
                  "2": "Nice bike ... not a fan of SRAM eagle",
                  "3": "First off, I got this bike and found the derailleur wasn't adjusted. Gosh REI. Seriously? So, I adjusted limits and tension but still get that occasional bang and gear hunt you read about online. I have the SRAM eagle tool coming and will redo all adjustment once I get it. If I had it to do over I would definitely buy this bike without the SRAM eagle components. Its a great bike but would easily be 5 stars with good Shimano gear.",
                  "4": {
                    "document": {
                      "confidenceScores": {
                        "negative": 0.24,
                        "neutral": 0.17,
                        "positive": 0.59
                      },
                      "id": "9",
                      "sentences": [
                        {
                          "confidenceScores": {
                            "negative": 0.68,
                            "neutral": 0.32,
                            "positive": 0
                          },
                          "length": 69,
                          "offset": 0,
                          "sentiment": "negative",
                          "text": "First off, I got this bike and found the derailleur wasn't adjusted. "
                        },
                        {
                          "confidenceScores": {
                            "negative": 0.03,
                            "neutral": 0.2,
                            "positive": 0.76
                          },
                          "length": 10,
                          "offset": 69,
                          "sentiment": "positive",
                          "text": "Gosh REI. "
                        },
                        {
                          "confidenceScores": {
                            "negative": 0.01,
                            "neutral": 0.97,
                            "positive": 0.02
                          },
                          "length": 11,
                          "offset": 79,
                          "sentiment": "neutral",
                          "text": "Seriously? "
                        },
                        {
                          "confidenceScores": {
                            "negative": 0.1,
                            "neutral": 0.89,
                            "positive": 0
                          },
                          "length": 106,
                          "offset": 90,
                          "sentiment": "neutral",
                          "text": "So, I adjusted limits and tension but still get that occasional bang and gear hunt you read about online. "
                        },
                        {
                          "confidenceScores": {
                            "negative": 0,
                            "neutral": 0.99,
                            "positive": 0.01
                          },
                          "length": 78,
                          "offset": 196,
                          "sentiment": "neutral",
                          "text": "I have the SRAM eagle tool coming and will redo all adjustment once I get it. "
                        },
                        {
                          "confidenceScores": {
                            "negative": 0.01,
                            "neutral": 0.96,
                            "positive": 0.03
                          },
                          "length": 91,
                          "offset": 274,
                          "sentiment": "neutral",
                          "text": "If I had it to do over I would definitely buy this bike without the SRAM eagle components. "
                        },
                        {
                          "confidenceScores": {
                            "negative": 0,
                            "neutral": 0,
                            "positive": 1
                          },
                          "length": 68,
                          "offset": 365,
                          "sentiment": "positive",
                          "text": "Its a great bike but would easily be 5 stars with good Shimano gear."
                        }
                      ],
                      "sentiment": "mixed",
                      "warnings": []
                    },
                    "modelVersion": "2022-11-01"
                  },
                  "5": {
                    "detectedLanguage": {
                      "language": "en",
                      "score": 1
                    },
                    "translations": [
                      {
                        "text": "First off, I got this bike and found the derailleur wasn't adjusted. Gosh REI. Seriously? So, I adjusted limits and tension but still get that occasional bang and gear hunt you read about online. I have the SRAM eagle tool coming and will redo all adjustment once I get it. If I had it to do over I would definitely buy this bike without the SRAM eagle components. Its a great bike but would easily be 5 stars with good Shimano gear.",
                        "to": "en"
                      }
                    ]
                  },
                  "6": "mixed",
                  "7": "0.59",
                  "8": "0.17",
                  "9": "0.24"
                },
                {
                  "0": "Mountain-500",
                  "1": "5",
                  "2": "Stout and well considered kit.",
                  "3": "This has been a confidence inspiring bike so far, I feel like I'm the weak link most of the time not the bike. One gripe is I wish it had one more tooth on the crank - I find myself running out of top speed a lot more than I run out of diesel. That's fixable :)",
                  "4": {
                    "document": {
                      "confidenceScores": {
                        "negative": 0.98,
                        "neutral": 0,
                        "positive": 0.02
                      },
                      "id": "0",
                      "sentences": [
                        {
                          "confidenceScores": {
                            "negative": 0.96,
                            "neutral": 0,
                            "positive": 0.04
                          },
                          "length": 111,
                          "offset": 0,
                          "sentiment": "negative",
                          "text": "This has been a confidence inspiring bike so far, I feel like I'm the weak link most of the time not the bike. "
                        },
                        {
                          "confidenceScores": {
                            "negative": 0.99,
                            "neutral": 0.01,
                            "positive": 0
                          },
                          "length": 133,
                          "offset": 111,
                          "sentiment": "negative",
                          "text": "One gripe is I wish it had one more tooth on the crank - I find myself running out of top speed a lot more than I run out of diesel. "
                        }
                      ],
                      "sentiment": "negative",
                      "warnings": []
                    },
                    "modelVersion": "2022-11-01"
                  },
                  "5": {
                    "detectedLanguage": {
                      "language": "en",
                      "score": 1
                    },
                    "translations": [
                      {
                        "text": "This has been a confidence inspiring bike so far, I feel like I'm the weak link most of the time not the bike. One gripe is I wish it had one more tooth on the crank - I find myself running out of top speed a lot more than I run out of diesel. That's fixable :)",
                        "to": "en"
                      }
                    ]
                  },
                  "6": "negative",
                  "7": "0.02",
                  "8": "0.0",
                  "9": "0.98"
                },
                {
                  "0": "Mountain-100",
                  "1": "5",
                  "2": "Fantástica bicicleta",
                  "3": "\"This bike is just stunning. I've never had one like this. I'm not a very experienced motorcyclist and first I was a little nervous about how and when to shift gears. In the shop I was told that with this bike it would be really \"very intuitive\" and easy to find out. I confirm it! I'm having a great time and I love my new bike!\"",
                  "4": {
                    "document": {
                      "confidenceScores": {
                        "negative": 0.25,
                        "neutral": 0.04,
                        "positive": 0.71
                      },
                      "id": "1",
                      "sentences": [
                        {
                          "confidenceScores": {
                            "negative": 0,
                            "neutral": 0.12,
                            "positive": 0.87
                          },
                          "length": 46,
                          "offset": 0,
                          "sentiment": "positive",
                          "text": "\"Esta bicicleta es simplemente impresionante. "
                        },
                        {
                          "confidenceScores": {
                            "negative": 0.02,
                            "neutral": 0.98,
                            "positive": 0.01
                          },
                          "length": 28,
                          "offset": 46,
                          "sentiment": "neutral",
                          "text": "Nunca había tenido uno así. "
                        },
                        {
                          "confidenceScores": {
                            "negative": 0.99,
                            "neutral": 0.01,
                            "positive": 0
                          },
                          "length": 118,
                          "offset": 74,
                          "sentiment": "negative",
                          "text": "No soy un motociclista muy experimentado y primero estaba un poco nervioso acerca de cómo y cuándo cambiar de marcha. "
                        },
                        {
                          "confidenceScores": {
                            "negative": 0,
                            "neutral": 0.03,
                            "positive": 0.96
                          },
                          "length": 98,
                          "offset": 192,
                          "sentiment": "positive",
                          "text": "En la tienda me dijeron que con esta moto sería realmente \"\"muy intuitiva\"\" y fácil de averiguar. "
                        },
                        {
                          "confidenceScores": {
                            "negative": 0,
                            "neutral": 0.93,
                            "positive": 0.07
                          },
                          "length": 14,
                          "offset": 290,
                          "sentiment": "neutral",
                          "text": "¡Lo confirmo! "
                        },
                        {
                          "confidenceScores": {
                            "negative": 0,
                            "neutral": 0,
                            "positive": 1
                          },
                          "length": 60,
                          "offset": 304,
                          "sentiment": "positive",
                          "text": "¡Lo estoy pasando muy bien y me encanta mi nueva bicicleta!\""
                        }
                      ],
                      "sentiment": "mixed",
                      "warnings": []
                    },
                    "modelVersion": "2022-11-01"
                  },
                  "5": {
                    "detectedLanguage": {
                      "language": "es",
                      "score": 1
                    },
                    "translations": [
                      {
                        "text": "\"This bike is just stunning. I've never had one like this. I'm not a very experienced motorcyclist and first I was a little nervous about how and when to shift gears. In the shop I was told that with this bike it would be really \"very intuitive\" and easy to find out. I confirm it! I'm having a great time and I love my new bike!\"",
                        "to": "en"
                      }
                    ]
                  },
                  "6": "mixed",
                  "7": "0.71",
                  "8": "0.04",
                  "9": "0.25"
                },
                {
                  "0": "Mountain-100",
                  "1": "5",
                  "2": "Gran bicicleta, precio perfecto.",
                  "3": "He bought this bike for my wife a couple of weeks ago, and he loves it. This is his first bike in a while and he loves all the features this Co-op bike has to offer. REI was very kind in helping us find the right size for her and explain all the details. All components are quality marks and work perfectly. We wanted to put her in something more versatile so she could ride with me on any terrain. This bike will definitely be enough for your needs. I would definitely recommend this to friends.",
                  "4": {
                    "document": {
                      "confidenceScores": {
                        "negative": 0,
                        "neutral": 0.02,
                        "positive": 0.98
                      },
                      "id": "2",
                      "sentences": [
                        {
                          "confidenceScores": {
                            "negative": 0,
                            "neutral": 0.04,
                            "positive": 0.95
                          },
                          "length": 75,
                          "offset": 0,
                          "sentiment": "positive",
                          "text": "Compró esta bicicleta para mi esposa hace un par de semanas, y le encanta. "
                        },
                        {
                          "confidenceScores": {
                            "negative": 0,
                            "neutral": 0.04,
                            "positive": 0.95
                          },
                          "length": 133,
                          "offset": 75,
                          "sentiment": "positive",
                          "text": "Esta es su primera bicicleta en un tiempo y le encantan todas las características que esta bicicleta Cooperativa tiene para ofrecer. "
                        },
                        {
                          "confidenceScores": {
                            "negative": 0,
                            "neutral": 0,
                            "positive": 1
                          },
                          "length": 104,
                          "offset": 208,
                          "sentiment": "positive",
                          "text": "REI fue muy amable en ayudarnos a encontrar el tamaño adecuado para ella y explicar todos los detalles. "
                        },
                        {
                          "confidenceScores": {
                            "negative": 0,
                            "neutral": 0,
                            "positive": 1
                          },
                          "length": 66,
                          "offset": 312,
                          "sentiment": "positive",
                          "text": "Todos los componentes son marcas de calidad y funcionan perfecto. "
                        },
                        {
                          "confidenceScores": {
                            "negative": 0,
                            "neutral": 0.99,
                            "positive": 0.01
                          },
                          "length": 93,
                          "offset": 378,
                          "sentiment": "neutral",
                          "text": "Queríamos meterla en algo más versátil para que pudiera montar conmigo en cualquier terreno. "
                        },
                        {
                          "confidenceScores": {
                            "negative": 0,
                            "neutral": 0.91,
                            "positive": 0.09
                          },
                          "length": 64,
                          "offset": 471,
                          "sentiment": "neutral",
                          "text": "Esta moto definitivamente será suficiente para sus necesidades. "
                        },
                        {
                          "confidenceScores": {
                            "negative": 0.01,
                            "neutral": 0.01,
                            "positive": 0.98
                          },
                          "length": 40,
                          "offset": 535,
                          "sentiment": "positive",
                          "text": "Sin duda recomendaría esto a los amigos."
                        }
                      ],
                      "sentiment": "positive",
                      "warnings": []
                    },
                    "modelVersion": "2022-11-01"
                  },
                  "5": {
                    "detectedLanguage": {
                      "language": "es",
                      "score": 1
                    },
                    "translations": [
                      {
                        "text": "He bought this bike for my wife a couple of weeks ago, and he loves it. This is his first bike in a while and he loves all the features this Co-op bike has to offer. REI was very kind in helping us find the right size for her and explain all the details. All components are quality marks and work perfectly. We wanted to put her in something more versatile so she could ride with me on any terrain. This bike will definitely be enough for your needs. I would definitely recommend this to friends.",
                        "to": "en"
                      }
                    ]
                  },
                  "6": "positive",
                  "7": "0.98",
                  "8": "0.02",
                  "9": "0.0"
                },
                {
                  "0": "Mountain-100",
                  "1": "3",
                  "2": "Buena bicicleta, pero sólo para principiantes",
                  "3": "\"I called this 'average' -- and that's exactly what it is. I've had this bike since 2017",
                  "4": {
                    "document": {
                      "confidenceScores": {
                        "negative": 0,
                        "neutral": 0.99,
                        "positive": 0.01
                      },
                      "id": "3",
                      "sentences": [
                        {
                          "confidenceScores": {
                            "negative": 0,
                            "neutral": 0.99,
                            "positive": 0.01
                          },
                          "length": 67,
                          "offset": 0,
                          "sentiment": "neutral",
                          "text": "\"Calificé esto como \"\"promedio\"\"-- y eso es exactamente lo que es. "
                        },
                        {
                          "confidenceScores": {
                            "negative": 0,
                            "neutral": 0.99,
                            "positive": 0.01
                          },
                          "length": 35,
                          "offset": 67,
                          "sentiment": "neutral",
                          "text": "He tenido esta bicicleta desde 2017"
                        }
                      ],
                      "sentiment": "neutral",
                      "warnings": []
                    },
                    "modelVersion": "2022-11-01"
                  },
                  "5": {
                    "detectedLanguage": {
                      "language": "es",
                      "score": 1
                    },
                    "translations": [
                      {
                        "text": "\"I called this 'average' -- and that's exactly what it is. I've had this bike since 2017",
                        "to": "en"
                      }
                    ]
                  },
                  "6": "neutral",
                  "7": "0.01",
                  "8": "0.99",
                  "9": "0.0"
                },
                {
                  "0": "Mountain-200",
                  "1": "4",
                  "2": "Bonita bicicleta de nivel de entrada",
                  "3": "This bike was bought for my teenager which is around 5'+-. It's a perfect bike for this sized rider, something my teenager will be able to grow into for years to come. It seems to be a good quality product.",
                  "4": {
                    "document": {
                      "confidenceScores": {
                        "negative": 0,
                        "neutral": 0.01,
                        "positive": 0.99
                      },
                      "id": "4",
                      "sentences": [
                        {
                          "confidenceScores": {
                            "negative": 0,
                            "neutral": 0.9,
                            "positive": 0.09
                          },
                          "length": 75,
                          "offset": 0,
                          "sentiment": "neutral",
                          "text": "Esta bicicleta fue comprada para mi adolescente que es alrededor de 5 '+-. "
                        },
                        {
                          "confidenceScores": {
                            "negative": 0,
                            "neutral": 0,
                            "positive": 1
                          },
                          "length": 127,
                          "offset": 75,
                          "sentiment": "positive",
                          "text": "Es una bicicleta perfecta para este jinete de tamaño, algo en lo que mi adolescente será capaz de crecer en los próximos años. "
                        },
                        {
                          "confidenceScores": {
                            "negative": 0,
                            "neutral": 0.02,
                            "positive": 0.98
                          },
                          "length": 40,
                          "offset": 202,
                          "sentiment": "positive",
                          "text": "Parece ser un producto de buena calidad."
                        }
                      ],
                      "sentiment": "positive",
                      "warnings": []
                    },
                    "modelVersion": "2022-11-01"
                  },
                  "5": {
                    "detectedLanguage": {
                      "language": "es",
                      "score": 1
                    },
                    "translations": [
                      {
                        "text": "This bike was bought for my teenager which is around 5'+-. It's a perfect bike for this sized rider, something my teenager will be able to grow into for years to come. It seems to be a good quality product.",
                        "to": "en"
                      }
                    ]
                  },
                  "6": "positive",
                  "7": "0.99",
                  "8": "0.01",
                  "9": "0.0"
                },
                {
                  "0": "Road-150",
                  "1": "4",
                  "2": "Stabile, cómodo, de gran valor",
                  "3": "He bought this bike 2 weeks ago and they have put 340 miles (dirt, single non-technical track) on it. Very comfortable and stable, both climbing and descending. I'll take it by bike soon. Having 6,600 miles on the CO-OP ARD 1.4 (dirt and asphalt) and very happy with it. Although it's 6 pounds heavier than the ARD it doesn't feel much slower.",
                  "4": {
                    "document": {
                      "confidenceScores": {
                        "negative": 0.19,
                        "neutral": 0.15,
                        "positive": 0.67
                      },
                      "id": "5",
                      "sentences": [
                        {
                          "confidenceScores": {
                            "negative": 0.02,
                            "neutral": 0.72,
                            "positive": 0.25
                          },
                          "length": 100,
                          "offset": 0,
                          "sentiment": "neutral",
                          "text": "Compró esta moto hace 2 semanas y han puesto 340 millas (suciedad, pista única no técnica) en ella. "
                        },
                        {
                          "confidenceScores": {
                            "negative": 0,
                            "neutral": 0,
                            "positive": 1
                          },
                          "length": 57,
                          "offset": 100,
                          "sentiment": "positive",
                          "text": "Muy cómodo y estable, tanto escalando como descendiendo. "
                        },
                        {
                          "confidenceScores": {
                            "negative": 0,
                            "neutral": 0.99,
                            "positive": 0.01
                          },
                          "length": 31,
                          "offset": 157,
                          "sentiment": "neutral",
                          "text": "Lo tomaré en bicicleta pronto. "
                        },
                        {
                          "confidenceScores": {
                            "negative": 0,
                            "neutral": 0,
                            "positive": 1
                          },
                          "length": 83,
                          "offset": 188,
                          "sentiment": "positive",
                          "text": "Tener 6,600 millas en el CO-OP ARD 1.4 (suciedad y asfalto) y muy contento con él. "
                        },
                        {
                          "confidenceScores": {
                            "negative": 0.56,
                            "neutral": 0.43,
                            "positive": 0.01
                          },
                          "length": 70,
                          "offset": 271,
                          "sentiment": "negative",
                          "text": "Aunque es 6 libras más pesado que el ARD no se siente mucho más lento."
                        }
                      ],
                      "sentiment": "mixed",
                      "warnings": []
                    },
                    "modelVersion": "2022-11-01"
                  },
                  "5": {
                    "detectedLanguage": {
                      "language": "es",
                      "score": 1
                    },
                    "translations": [
                      {
                        "text": "He bought this bike 2 weeks ago and they have put 340 miles (dirt, single non-technical track) on it. Very comfortable and stable, both climbing and descending. I'll take it by bike soon. Having 6,600 miles on the CO-OP ARD 1.4 (dirt and asphalt) and very happy with it. Although it's 6 pounds heavier than the ARD it doesn't feel much slower.",
                        "to": "en"
                      }
                    ]
                  },
                  "6": "mixed",
                  "7": "0.67",
                  "8": "0.15",
                  "9": "0.19"
                },
                {
                  "0": "Road-250",
                  "1": "4",
                  "2": "Eccellente costruito, ma...",
                  "3": "I liked everything about the bike except the gear changes. Going around the city, especially in New York, was an accident waiting to happen. Always reaching the bottom to change gears and not having my hands on the break made me rethink the bike. Those shifts are OK, if you grew up using them, but I don't, not my type.",
                  "4": {
                    "document": {
                      "confidenceScores": {
                        "negative": 0.43,
                        "neutral": 0.07,
                        "positive": 0.5
                      },
                      "id": "6",
                      "sentences": [
                        {
                          "confidenceScores": {
                            "negative": 0,
                            "neutral": 0,
                            "positive": 1
                          },
                          "length": 57,
                          "offset": 0,
                          "sentiment": "positive",
                          "text": "Mi è piaciuto tutto della moto tranne i cambi di marcia. "
                        },
                        {
                          "confidenceScores": {
                            "negative": 0.85,
                            "neutral": 0.14,
                            "positive": 0.01
                          },
                          "length": 94,
                          "offset": 57,
                          "sentiment": "negative",
                          "text": "Andare in giro per la città, speciale a New York, è stato un incidente in attesa di accadere. "
                        },
                        {
                          "confidenceScores": {
                            "negative": 0.11,
                            "neutral": 0.89,
                            "positive": 0
                          },
                          "length": 111,
                          "offset": 151,
                          "sentiment": "neutral",
                          "text": "Sempre raggiungere il basso per cambiare marcia e non avere le mani sulla pausa mi ha fatto ripensare la moto. "
                        },
                        {
                          "confidenceScores": {
                            "negative": 0.01,
                            "neutral": 0.99,
                            "positive": 0
                          },
                          "length": 73,
                          "offset": 262,
                          "sentiment": "neutral",
                          "text": "Quei turni sono OK, se sei cresciuto usandoli, ma io no, non il mio tipo."
                        }
                      ],
                      "sentiment": "mixed",
                      "warnings": []
                    },
                    "modelVersion": "2022-11-01"
                  },
                  "5": {
                    "detectedLanguage": {
                      "language": "it",
                      "score": 0.95
                    },
                    "translations": [
                      {
                        "text": "I liked everything about the bike except the gear changes. Going around the city, especially in New York, was an accident waiting to happen. Always reaching the bottom to change gears and not having my hands on the break made me rethink the bike. Those shifts are OK, if you grew up using them, but I don't, not my type.",
                        "to": "en"
                      }
                    ]
                  },
                  "6": "mixed",
                  "7": "0.5",
                  "8": "0.07",
                  "9": "0.43"
                },
                {
                  "0": "Touring-1000",
                  "1": "4",
                  "2": "È una bici da avventura itinerante",
                  "3": "The changes and the train by car is a real set up touring, it is on the same level as yoga, grumpy, salsa and many other brands in the touring category",
                  "4": {
                    "document": {
                      "confidenceScores": {
                        "negative": 0.05,
                        "neutral": 0.86,
                        "positive": 0.09
                      },
                      "id": "7",
                      "sentences": [
                        {
                          "confidenceScores": {
                            "negative": 0.05,
                            "neutral": 0.86,
                            "positive": 0.09
                          },
                          "length": 155,
                          "offset": 0,
                          "sentiment": "neutral",
                          "text": "I cambi e il treno in auto è un vero e proprio set up touring, è allo stesso livello di yoga, scontroso, salsa e molte altre marche nella categoria touring"
                        }
                      ],
                      "sentiment": "neutral",
                      "warnings": []
                    },
                    "modelVersion": "2022-11-01"
                  },
                  "5": {
                    "detectedLanguage": {
                      "language": "it",
                      "score": 0.97
                    },
                    "translations": [
                      {
                        "text": "The changes and the train by car is a real set up touring, it is on the same level as yoga, grumpy, salsa and many other brands in the touring category",
                        "to": "en"
                      }
                    ]
                  },
                  "6": "neutral",
                  "7": "0.09",
                  "8": "0.86",
                  "9": "0.05"
                },
                {
                  "0": "Touring-2000",
                  "1": "4",
                  "2": "Corsa personalizzata",
                  "3": "I wanted a good, sturdy touring bike like the 4.2, but with fat tyres out as I only ride on the road and multi-use routes. I bought this and made some customization. I'm too old to bend over and don't like bar end turners, so I had a Jones SG 2.5 bar put on it, along with fenders. ",
                  "4": {
                    "document": {
                      "confidenceScores": {
                        "negative": 0.48,
                        "neutral": 0.05,
                        "positive": 0.46
                      },
                      "id": "8",
                      "sentences": [
                        {
                          "confidenceScores": {
                            "negative": 0.07,
                            "neutral": 0.01,
                            "positive": 0.93
                          },
                          "length": 138,
                          "offset": 0,
                          "sentiment": "positive",
                          "text": "Volevo una buona, robusta moto da turismo come il 4.2, ma con fuori le gomme grasse dato che giro solo sulla strada e percorsi multi uso. "
                        },
                        {
                          "confidenceScores": {
                            "negative": 0.01,
                            "neutral": 0.98,
                            "positive": 0.02
                          },
                          "length": 54,
                          "offset": 138,
                          "sentiment": "neutral",
                          "text": "Ho comprato questo e fatto qualche personalizzazione. "
                        },
                        {
                          "confidenceScores": {
                            "negative": 0.89,
                            "neutral": 0.1,
                            "positive": 0
                          },
                          "length": 151,
                          "offset": 192,
                          "sentiment": "negative",
                          "text": "Sono troppo vecchio per chinarmi e non mi piacciono i fine turner del bar, quindi ho avuto un Jones SG 2.5 bar messo su di esso, insieme a parafanghi. "
                        }
                      ],
                      "sentiment": "mixed",
                      "warnings": []
                    },
                    "modelVersion": "2022-11-01"
                  },
                  "5": {
                    "detectedLanguage": {
                      "language": "it",
                      "score": 0.98
                    },
                    "translations": [
                      {
                        "text": "I wanted a good, sturdy touring bike like the 4.2, but with fat tyres out as I only ride on the road and multi-use routes. I bought this and made some customization. I'm too old to bend over and don't like bar end turners, so I had a Jones SG 2.5 bar put on it, along with fenders. ",
                        "to": "en"
                      }
                    ]
                  },
                  "6": "mixed",
                  "7": "0.46",
                  "8": "0.05",
                  "9": "0.48"
                },
                {
                  "0": "Touring-2000",
                  "1": "5",
                  "2": "Ottima bici per lunghe distanze",
                  "3": "I bought the last few years version of this bike (color and it was gray and did not come with front rack) for a long distance cycling trip through Africa. I rode this bike from Cairo to Cape Town covering almost 12,000km in four months on a supported bike trip. Besides doing some routine maintenance there was very little I had to deal with during my trip, it was a great bike!",
                  "4": {
                    "document": {
                      "confidenceScores": {
                        "negative": 0.01,
                        "neutral": 0.05,
                        "positive": 0.94
                      },
                      "id": "9",
                      "sentences": [
                        {
                          "confidenceScores": {
                            "negative": 0.01,
                            "neutral": 0.97,
                            "positive": 0.03
                          },
                          "length": 179,
                          "offset": 0,
                          "sentiment": "neutral",
                          "text": "Ho comprato la versione degli ultimi anni di questa moto (colore ed era grigio e non è venuto con rack anteriore) per un viaggio di ciclismo a lunga distanza attraverso l'Africa. "
                        },
                        {
                          "confidenceScores": {
                            "negative": 0,
                            "neutral": 0.92,
                            "positive": 0.08
                          },
                          "length": 134,
                          "offset": 179,
                          "sentiment": "neutral",
                          "text": "Ho guidato questa moto dal Cairo a Città del Capo percorrendo quasi 12.000 km in quattro mesi in un viaggio in bicicletta supportato. "
                        },
                        {
                          "confidenceScores": {
                            "negative": 0.01,
                            "neutral": 0.05,
                            "positive": 0.94
                          },
                          "length": 131,
                          "offset": 313,
                          "sentiment": "positive",
                          "text": "Oltre a fare qualche manutenzione di routine c'era molto poco ho dovuto affrontare durante il mio viaggio, è stata una grande moto!"
                        }
                      ],
                      "sentiment": "positive",
                      "warnings": []
                    },
                    "modelVersion": "2022-11-01"
                  },
                  "5": {
                    "detectedLanguage": {
                      "language": "it",
                      "score": 0.97
                    },
                    "translations": [
                      {
                        "text": "I bought the last few years version of this bike (color and it was gray and did not come with front rack) for a long distance cycling trip through Africa. I rode this bike from Cairo to Cape Town covering almost 12,000km in four months on a supported bike trip. Besides doing some routine maintenance there was very little I had to deal with during my trip, it was a great bike!",
                        "to": "en"
                      }
                    ]
                  },
                  "6": "positive",
                  "7": "0.94",
                  "8": "0.05",
                  "9": "0.01"
                },
                {
                  "0": "Touring-1000",
                  "1": "3",
                  "2": "Observation de 500 milles",
                  "3": "I bought this bike for a cross-country ride. The design is vertical and is comfortable over the distance. End of bar shifts work well. The rear skewer broke within 200 miles, the store broke the seat post screw on the chord. This is a bit worrying considering that I intend to cycle across the country. Where else did they skimp on quality pieces?",
                  "4": {
                    "document": {
                      "confidenceScores": {
                        "negative": 0.41,
                        "neutral": 0.09,
                        "positive": 0.5
                      },
                      "id": "0",
                      "sentences": [
                        {
                          "confidenceScores": {
                            "negative": 0.01,
                            "neutral": 0.28,
                            "positive": 0.7
                          },
                          "length": 54,
                          "offset": 0,
                          "sentiment": "positive",
                          "text": "J’ai acheté ce vélo pour une balade en cross-country. "
                        },
                        {
                          "confidenceScores": {
                            "negative": 0,
                            "neutral": 0.01,
                            "positive": 0.99
                          },
                          "length": 64,
                          "offset": 54,
                          "sentiment": "positive",
                          "text": "La conception est verticale et est confortable sur la distance. "
                        },
                        {
                          "confidenceScores": {
                            "negative": 0,
                            "neutral": 0.01,
                            "positive": 0.99
                          },
                          "length": 57,
                          "offset": 118,
                          "sentiment": "positive",
                          "text": "Les quarts de travail de fin de barre fonctionnent bien. "
                        },
                        {
                          "confidenceScores": {
                            "negative": 0.97,
                            "neutral": 0.02,
                            "positive": 0
                          },
                          "length": 114,
                          "offset": 175,
                          "sentiment": "negative",
                          "text": "La brochette arrière s’est cassée dans les 200 milles, le magasin a cassé la vis de poteau de siège sur l’accord. "
                        },
                        {
                          "confidenceScores": {
                            "negative": 0.99,
                            "neutral": 0.01,
                            "positive": 0
                          },
                          "length": 95,
                          "offset": 289,
                          "sentiment": "negative",
                          "text": "C’est un peu inquiétant étant donné que j’ai l’intention de prendre le vélo à travers le pays. "
                        },
                        {
                          "confidenceScores": {
                            "negative": 0.47,
                            "neutral": 0.19,
                            "positive": 0.33
                          },
                          "length": 52,
                          "offset": 384,
                          "sentiment": "negative",
                          "text": "Où d’autre ont-ils lésiné sur des pièces de qualité?"
                        }
                      ],
                      "sentiment": "mixed",
                      "warnings": []
                    },
                    "modelVersion": "2022-11-01"
                  },
                  "5": {
                    "detectedLanguage": {
                      "language": "fr",
                      "score": 1
                    },
                    "translations": [
                      {
                        "text": "I bought this bike for a cross-country ride. The design is vertical and is comfortable over the distance. End of bar shifts work well. The rear skewer broke within 200 miles, the store broke the seat post screw on the chord. This is a bit worrying considering that I intend to cycle across the country. Where else did they skimp on quality pieces?",
                        "to": "en"
                      }
                    ]
                  },
                  "6": "mixed",
                  "7": "0.5",
                  "8": "0.09",
                  "9": "0.41"
                },
                {
                  "0": "Touring-2000",
                  "1": "5",
                  "2": "Beaucoup de grandes fonctionnalités",
                  "3": "Overall, I give this bike 4.5 stars, but since I can't name half a star, I had to round up to 5. There are a lot of great features on this bike and only a few drawbacks that probably go down to personal preference. The low speed is surprisingly low (just over 15 centimeters), and that's a very good thing for steep hinterland dirt roads, old mining roads, and fire roads. Such a low, low speed is perhaps this best feature of bicycles.",
                  "4": {
                    "document": {
                      "confidenceScores": {
                        "negative": 0.82,
                        "neutral": 0.03,
                        "positive": 0.14
                      },
                      "id": "1",
                      "sentences": [
                        {
                          "confidenceScores": {
                            "negative": 0.98,
                            "neutral": 0.02,
                            "positive": 0
                          },
                          "length": 129,
                          "offset": 0,
                          "sentiment": "negative",
                          "text": "Dans l’ensemble, je donne à ce vélo 4,5 étoiles, mais comme je ne peux pas désigner une demi-étoile, j’ai dû arrondir jusqu’à 5. "
                        },
                        {
                          "confidenceScores": {
                            "negative": 0.96,
                            "neutral": 0.03,
                            "positive": 0.01
                          },
                          "length": 147,
                          "offset": 129,
                          "sentiment": "negative",
                          "text": "Il ya beaucoup de grandes fonctionnalités sur ce vélo et seulement quelques inconvénients qui descendent probablement à la préférence personnelle. "
                        },
                        {
                          "confidenceScores": {
                            "negative": 0.67,
                            "neutral": 0.02,
                            "positive": 0.31
                          },
                          "length": 209,
                          "offset": 276,
                          "sentiment": "negative",
                          "text": "La vitesse basse est étonnamment faible (un peu plus de 15 centimètres), et c’est une très bonne chose pour les routes de terre escarpées de l’arrière-pays, les vieilles routes minières, et les routes de feu. "
                        },
                        {
                          "confidenceScores": {
                            "negative": 0.69,
                            "neutral": 0.07,
                            "positive": 0.24
                          },
                          "length": 89,
                          "offset": 485,
                          "sentiment": "negative",
                          "text": "Une telle faible, faible vitesse est peut-être cette meilleure caractéristique des vélos."
                        }
                      ],
                      "sentiment": "negative",
                      "warnings": []
                    },
                    "modelVersion": "2022-11-01"
                  },
                  "5": {
                    "detectedLanguage": {
                      "language": "fr",
                      "score": 1
                    },
                    "translations": [
                      {
                        "text": "Overall, I give this bike 4.5 stars, but since I can't name half a star, I had to round up to 5. There are a lot of great features on this bike and only a few drawbacks that probably go down to personal preference. The low speed is surprisingly low (just over 15 centimeters), and that's a very good thing for steep hinterland dirt roads, old mining roads, and fire roads. Such a low, low speed is perhaps this best feature of bicycles.",
                        "to": "en"
                      }
                    ]
                  },
                  "6": "negative",
                  "7": "0.14",
                  "8": "0.03",
                  "9": "0.82"
                },
                {
                  "0": "Road-250",
                  "1": "5",
                  "2": "Génial!",
                  "3": "I love this bike. I have ridden bikes for the last 3 years, but I used an Ebike for the last little while. I was tired of being attached to a heavy battery, but I was afraid of missing the speed to return to a regular bike. This Salsa leaves nothing to be desired. It is fast, smooth, agile, and seems bulletproof. I took on a 25 mic spin the first night and fell in love. An unrelated river accident left me with a torn ACL, so I was out of service after surgery for the last week or two. But once I'm healthy again, I'll put on my salsa. My wife and I are planning a bike packing trip for once I'm 100%. This bike will be perfect for her.",
                  "4": {
                    "document": {
                      "confidenceScores": {
                        "negative": 0.33,
                        "neutral": 0.09,
                        "positive": 0.58
                      },
                      "id": "2",
                      "sentences": [
                        {
                          "confidenceScores": {
                            "negative": 0,
                            "neutral": 0,
                            "positive": 1
                          },
                          "length": 17,
                          "offset": 0,
                          "sentiment": "positive",
                          "text": "J’adore ce vélo. "
                        },
                        {
                          "confidenceScores": {
                            "negative": 0,
                            "neutral": 0.99,
                            "positive": 0
                          },
                          "length": 107,
                          "offset": 17,
                          "sentiment": "neutral",
                          "text": "J’ai monté des vélos pour les 3 dernières années, mais j’ai utilisé un Ebike pour le dernier petit moment. "
                        },
                        {
                          "confidenceScores": {
                            "negative": 1,
                            "neutral": 0,
                            "positive": 0
                          },
                          "length": 127,
                          "offset": 124,
                          "sentiment": "negative",
                          "text": "J’en avais marre d’être attaché à une batterie lourde, mais j’avais peur de rater la vitesse pour revenir à un vélo ordinaire. "
                        },
                        {
                          "confidenceScores": {
                            "negative": 0.53,
                            "neutral": 0.36,
                            "positive": 0.12
                          },
                          "length": 38,
                          "offset": 251,
                          "sentiment": "negative",
                          "text": "Cette Salsa ne laisse rien à désirer. "
                        },
                        {
                          "confidenceScores": {
                            "negative": 0.01,
                            "neutral": 0.11,
                            "positive": 0.88
                          },
                          "length": 52,
                          "offset": 289,
                          "sentiment": "positive",
                          "text": "Il est rapide, lisse, agile, et semble pare-balles. "
                        },
                        {
                          "confidenceScores": {
                            "negative": 0.01,
                            "neutral": 0.01,
                            "positive": 0.99
                          },
                          "length": 74,
                          "offset": 341,
                          "sentiment": "positive",
                          "text": "J’ai pris sur un tour de 25 micro la première nuit et est tombé en amour. "
                        },
                        {
                          "confidenceScores": {
                            "negative": 1,
                            "neutral": 0,
                            "positive": 0
                          },
                          "length": 148,
                          "offset": 415,
                          "sentiment": "negative",
                          "text": "Un accident de rivière sans rapport m’a laissé avec un ACL déchiré, donc j’ai été hors service après la chirurgie pour la dernière semaine ou deux. "
                        },
                        {
                          "confidenceScores": {
                            "negative": 0.06,
                            "neutral": 0.26,
                            "positive": 0.67
                          },
                          "length": 76,
                          "offset": 563,
                          "sentiment": "positive",
                          "text": "Mais une fois que je serai de nouveau en bonne santé, je monterai ma salsa. "
                        },
                        {
                          "confidenceScores": {
                            "negative": 0,
                            "neutral": 0.92,
                            "positive": 0.08
                          },
                          "length": 90,
                          "offset": 639,
                          "sentiment": "neutral",
                          "text": "Ma femme et moi prévoyons un voyage d’emballage de vélo pour une fois que je suis à 100%. "
                        },
                        {
                          "confidenceScores": {
                            "negative": 0,
                            "neutral": 0,
                            "positive": 1
                          },
                          "length": 31,
                          "offset": 729,
                          "sentiment": "positive",
                          "text": "Ce vélo sera parfait pour elle."
                        }
                      ],
                      "sentiment": "mixed",
                      "warnings": []
                    },
                    "modelVersion": "2022-11-01"
                  },
                  "5": {
                    "detectedLanguage": {
                      "language": "fr",
                      "score": 0.99
                    },
                    "translations": [
                      {
                        "text": "I love this bike. I have ridden bikes for the last 3 years, but I used an Ebike for the last little while. I was tired of being attached to a heavy battery, but I was afraid of missing the speed to return to a regular bike. This Salsa leaves nothing to be desired. It is fast, smooth, agile, and seems bulletproof. I took on a 25 mic spin the first night and fell in love. An unrelated river accident left me with a torn ACL, so I was out of service after surgery for the last week or two. But once I'm healthy again, I'll put on my salsa. My wife and I are planning a bike packing trip for once I'm 100%. This bike will be perfect for her.",
                        "to": "en"
                      }
                    ]
                  },
                  "6": "mixed",
                  "7": "0.58",
                  "8": "0.09",
                  "9": "0.33"
                }
              ],
              "schema": [
                {
                  "key": "0",
                  "name": "Model",
                  "type": "string"
                },
                {
                  "key": "1",
                  "name": "Stars",
                  "type": "string"
                },
                {
                  "key": "2",
                  "name": "Title",
                  "type": "string"
                },
                {
                  "key": "3",
                  "name": "Review",
                  "type": "string"
                },
                {
                  "key": "4",
                  "name": "sentimentResult",
                  "type": "StructType(StructField(statistics,StructType(StructField(documentsCount,IntegerType,false),StructField(validDocumentsCount,IntegerType,false),StructField(erroneousDocumentsCount,IntegerType,false),StructField(transactionsCount,IntegerType,false)),true),StructField(document,StructType(StructField(id,StringType,true),StructField(sentiment,StringType,true),StructField(statistics,StructType(StructField(charactersCount,IntegerType,false),StructField(transactionsCount,IntegerType,false)),true),StructField(confidenceScores,StructType(StructField(positive,DoubleType,false),StructField(neutral,DoubleType,false),StructField(negative,DoubleType,false)),true),StructField(sentences,ArrayType(StructType(StructField(text,StringType,true),StructField(sentiment,StringType,true),StructField(confidenceScores,StructType(StructField(positive,DoubleType,false),StructField(neutral,DoubleType,false),StructField(negative,DoubleType,false)),true),StructField(targets,ArrayType(StructType(StructField(confidenceScores,StructType(StructField(positive,DoubleType,false),StructField(negative,DoubleType,false)),true),StructField(length,IntegerType,false),StructField(offset,IntegerType,false),StructField(text,StringType,true),StructField(sentiment,StringType,true),StructField(relations,ArrayType(StructType(StructField(ref,StringType,true),StructField(relationType,StringType,true)),true),true)),true),true),StructField(assessments,ArrayType(StructType(StructField(confidenceScores,StructType(StructField(positive,DoubleType,false),StructField(negative,DoubleType,false)),true),StructField(length,IntegerType,false),StructField(offset,IntegerType,false),StructField(text,StringType,true),StructField(sentiment,StringType,true),StructField(isNegated,BooleanType,false)),true),true),StructField(offset,IntegerType,false),StructField(length,IntegerType,false)),true),true),StructField(warnings,ArrayType(StructType(StructField(code,StringType,true),StructField(message,StringType,true),StructField(targetRef,StringType,true)),true),true)),true),StructField(error,StructType(StructField(id,StringType,true),StructField(error,StringType,true)),true),StructField(modelVersion,StringType,true))"
                },
                {
                  "key": "5",
                  "name": "translation",
                  "type": "StructType(StructField(detectedLanguage,StructType(StructField(language,StringType,true),StructField(score,DoubleType,true)),true),StructField(translations,ArrayType(StructType(StructField(to,StringType,true),StructField(text,StringType,true),StructField(transliteration,StructType(StructField(script,StringType,true),StructField(text,StringType,true)),true),StructField(alignment,StructType(StructField(proj,StringType,true)),true),StructField(sentLen,StructType(StructField(srcSentLen,ArrayType(IntegerType,true),true),StructField(transSentLen,ArrayType(IntegerType,true),true)),true)),true),true),StructField(sourceText,StructType(StructField(text,StringType,true)),true))"
                },
                {
                  "key": "6",
                  "name": "sentiment",
                  "type": "string"
                },
                {
                  "key": "7",
                  "name": "positive",
                  "type": "double"
                },
                {
                  "key": "8",
                  "name": "neutral",
                  "type": "double"
                },
                {
                  "key": "9",
                  "name": "negative",
                  "type": "double"
                }
              ],
              "truncated": false
            }
          },
          "type": "Synapse.DataFrame"
        }
      },
      "version": "0.1"
    }
  },
  "nbformat": 4,
  "nbformat_minor": 2
}
